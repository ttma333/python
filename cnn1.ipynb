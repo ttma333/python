{
 "cells": [
  {
   "cell_type": "code",
   "execution_count": 69,
   "id": "78f35cf0-2f6c-485f-a18c-29997c093606",
   "metadata": {},
   "outputs": [],
   "source": [
    "import tensorflow as tf\n",
    "from tensorflow import keras\n",
    "import keras \n",
    "from keras.callbacks import ModelCheckpoint, EarlyStopping\n",
    "from keras.datasets import mnist\n",
    "from keras.models import Sequential\n",
    "from keras.layers import Dense, Dropout, Flatten, Conv2D, MaxPooling2D\n",
    "from sklearn.model_selection import train_test_split\n",
    "from keraspp import skeras\n",
    "import numpy as np\n",
    "from sklearn.model_selection import train_test_split\n",
    "from keras import layers\n",
    "from tensorflow.keras.utils import to_categorical"
   ]
  },
  {
   "cell_type": "markdown",
   "id": "21c66332-397f-4373-a9f7-7f433f0f8d63",
   "metadata": {},
   "source": [
    "### 데이터 불러오기"
   ]
  },
  {
   "cell_type": "code",
   "execution_count": 86,
   "id": "310a9d60-5027-4b05-b066-0e8be88d6713",
   "metadata": {},
   "outputs": [],
   "source": [
    "mnist = tf.keras.datasets.mnist\n",
    "\n",
    "(X_train,X_label),(y_train,y_label) = mnist.load_data()"
   ]
  },
  {
   "cell_type": "markdown",
   "id": "a2720243-f4ef-44a0-9640-09d90db117af",
   "metadata": {},
   "source": [
    "### 데이터 확인"
   ]
  },
  {
   "cell_type": "code",
   "execution_count": 55,
   "id": "c5387565-1e35-4535-b392-97b432180f9e",
   "metadata": {},
   "outputs": [
    {
     "name": "stdout",
     "output_type": "stream",
     "text": [
      "(60000, 28, 28)\n",
      "(10000, 28, 28)\n",
      "(60000,)\n",
      "(10000,)\n"
     ]
    }
   ],
   "source": [
    "print(X_train.shape)\n",
    "print(y_train.shape)\n",
    "print(X_label.shape)\n",
    "print(y_label.shape)"
   ]
  },
  {
   "cell_type": "markdown",
   "id": "70d89b06-2a8c-4a44-bfa7-0124f95aa9cd",
   "metadata": {},
   "source": [
    "### 0~1 사이로 스케일 조정"
   ]
  },
  {
   "cell_type": "code",
   "execution_count": 87,
   "id": "7892ec17-6dbe-4d8c-81c3-8405e6993198",
   "metadata": {},
   "outputs": [],
   "source": [
    "X_train,X_test = X_train/255.0 , X_test/255.0"
   ]
  },
  {
   "cell_type": "code",
   "execution_count": 107,
   "id": "604ad2a9-a400-461a-83e0-a738936105d5",
   "metadata": {},
   "outputs": [],
   "source": [
    "(x_train, x_label), (y_train, y_label) =mnist.load_data() \n",
    "\n",
    "x_train, y_test = x_train/255.0, y_test/255.0 # 유의점은 실수로 만들어주어야함 0~1사이로 만듬\n",
    "\n",
    "x_train=x_train.reshape(60000,28,28,1)\n",
    "y_train=y_train.reshape(10000,28,28,1)\n",
    "\n",
    "x_train,val_train,x_label,val_label = train_test_split(x_train,x_label,test_size=0.2,random_state=124,shuffle=True)\n",
    "\n",
    "x_label=to_categorical(x_label,10)\n",
    "y_label=to_categorical(y_label,10)\n",
    "val_label=to_categorical(val_label,10)\n",
    "\n",
    "model = Sequential([\n",
    "    keras.layers.Input(shape=(28,28,1)),\n",
    "    keras.layers.Conv2D(filters=32,kernel_size=3,activation='relu'),\n",
    "    keras.layers.MaxPooling2D(pool_size=2),\n",
    "    keras.layers.Conv2D(filters=64,kernel_size=3,activation='relu'),\n",
    "    keras.layers.Conv2D(filters=128,kernel_size=3,activation='relu'),\n",
    "    keras.layers.Conv2D(filters=256,kernel_size=3,activation='relu'),\n",
    "    #keras.layers.MaxPooling2D(pool_size=2),\n",
    "    keras.layers.Flatten(),\n",
    "    #keras.layers.Dropout(0.5),\n",
    "    keras.layers.Dense(10,activation='relu'),\n",
    "    #keras.layers.Dropout(0.5),\n",
    "    keras.layers.Dense(10,activation='softmax')\n",
    "])"
   ]
  },
  {
   "cell_type": "code",
   "execution_count": 108,
   "id": "0f6c60bd-6cf8-40b6-9eb6-ba9086bd4304",
   "metadata": {},
   "outputs": [],
   "source": [
    "model.compile(optimizer=\"adam\", loss=\"categorical_crossentropy\",metrics=['accuracy'])"
   ]
  },
  {
   "cell_type": "code",
   "execution_count": 109,
   "id": "04fe7cf9-5b45-4504-a91f-8694fc2b6bcc",
   "metadata": {},
   "outputs": [
    {
     "name": "stdout",
     "output_type": "stream",
     "text": [
      "Model: \"sequential_19\"\n",
      "_________________________________________________________________\n",
      " Layer (type)                Output Shape              Param #   \n",
      "=================================================================\n",
      " conv2d_60 (Conv2D)          (None, 26, 26, 32)        320       \n",
      "                                                                 \n",
      " max_pooling2d_15 (MaxPoolin  (None, 13, 13, 32)       0         \n",
      " g2D)                                                            \n",
      "                                                                 \n",
      " conv2d_61 (Conv2D)          (None, 11, 11, 64)        18496     \n",
      "                                                                 \n",
      " conv2d_62 (Conv2D)          (None, 9, 9, 128)         73856     \n",
      "                                                                 \n",
      " conv2d_63 (Conv2D)          (None, 7, 7, 256)         295168    \n",
      "                                                                 \n",
      " flatten_15 (Flatten)        (None, 12544)             0         \n",
      "                                                                 \n",
      " dense_42 (Dense)            (None, 10)                125450    \n",
      "                                                                 \n",
      " dense_43 (Dense)            (None, 10)                110       \n",
      "                                                                 \n",
      "=================================================================\n",
      "Total params: 513,400\n",
      "Trainable params: 513,400\n",
      "Non-trainable params: 0\n",
      "_________________________________________________________________\n"
     ]
    }
   ],
   "source": [
    "model.summary()"
   ]
  },
  {
   "cell_type": "code",
   "execution_count": 110,
   "id": "3c3afca9-eb54-4e96-9498-57713420e062",
   "metadata": {},
   "outputs": [
    {
     "name": "stdout",
     "output_type": "stream",
     "text": [
      "Epoch 1/5\n",
      "480/480 [==============================] - 76s 150ms/step - loss: 0.2429 - accuracy: 0.9261 - val_loss: 0.0880 - val_accuracy: 0.9736\n",
      "Epoch 2/5\n",
      "480/480 [==============================] - 72s 150ms/step - loss: 0.0671 - accuracy: 0.9807 - val_loss: 0.0569 - val_accuracy: 0.9832\n",
      "Epoch 3/5\n",
      "480/480 [==============================] - 71s 147ms/step - loss: 0.0427 - accuracy: 0.9874 - val_loss: 0.0494 - val_accuracy: 0.9850\n",
      "Epoch 4/5\n",
      "480/480 [==============================] - 70s 146ms/step - loss: 0.0308 - accuracy: 0.9907 - val_loss: 0.0452 - val_accuracy: 0.9861\n",
      "Epoch 5/5\n",
      "480/480 [==============================] - 70s 146ms/step - loss: 0.0248 - accuracy: 0.9919 - val_loss: 0.0451 - val_accuracy: 0.9866\n"
     ]
    },
    {
     "data": {
      "text/plain": [
       "<keras.callbacks.History at 0x20f8e229f00>"
      ]
     },
     "execution_count": 110,
     "metadata": {},
     "output_type": "execute_result"
    }
   ],
   "source": [
    "model.fit(x_train, x_label, epochs=5, batch_size=100,validation_data=(val_train,val_label))"
   ]
  },
  {
   "cell_type": "code",
   "execution_count": 159,
   "id": "2ec03f9e-bd41-490d-8440-faddb494c3a2",
   "metadata": {},
   "outputs": [
    {
     "name": "stdout",
     "output_type": "stream",
     "text": [
      "313/313 [==============================] - 4s 11ms/step - loss: 6.7084 - accuracy: 0.9892\n"
     ]
    },
    {
     "data": {
      "text/plain": [
       "[6.708427906036377, 0.9891999959945679]"
      ]
     },
     "execution_count": 159,
     "metadata": {},
     "output_type": "execute_result"
    }
   ],
   "source": [
    "model.evaluate(y_train,y_label)"
   ]
  },
  {
   "cell_type": "code",
   "execution_count": 144,
   "id": "102f5b40-60f2-4708-9d1f-bda7c97dcc03",
   "metadata": {},
   "outputs": [],
   "source": [
    "import matplotlib.pyplot as plt"
   ]
  },
  {
   "cell_type": "code",
   "execution_count": 161,
   "id": "02d929b7-ec40-4336-9560-fd34ff95566f",
   "metadata": {},
   "outputs": [
    {
     "name": "stdout",
     "output_type": "stream",
     "text": [
      "313/313 [==============================] - 4s 11ms/step\n"
     ]
    }
   ],
   "source": [
    "result=model.predict(y_train)"
   ]
  },
  {
   "cell_type": "code",
   "execution_count": 162,
   "id": "6d32ac29-ecd7-4a2a-bffa-46f3bc058c70",
   "metadata": {},
   "outputs": [],
   "source": [
    "a_result=np.argmax(result, axis=-1)"
   ]
  },
  {
   "cell_type": "code",
   "execution_count": 168,
   "id": "dd612438-da62-432b-b91f-e06f0108ab1c",
   "metadata": {},
   "outputs": [
    {
     "data": {
      "text/plain": [
       "1"
      ]
     },
     "execution_count": 168,
     "metadata": {},
     "output_type": "execute_result"
    }
   ],
   "source": [
    "a_result[2]"
   ]
  },
  {
   "cell_type": "code",
   "execution_count": 167,
   "id": "50f1c1ac-e35e-4dea-90ee-c6ec4231d501",
   "metadata": {},
   "outputs": [
    {
     "data": {
      "text/plain": [
       "<matplotlib.image.AxesImage at 0x20f92c210c0>"
      ]
     },
     "execution_count": 167,
     "metadata": {},
     "output_type": "execute_result"
    },
    {
     "data": {
      "image/png": "[encoded data removed]",
      "text/plain": [
       "<Figure size 640x480 with 1 Axes>"
      ]
     },
     "metadata": {},
     "output_type": "display_data"
    }
   ],
   "source": [
    "plt.imshow(y_train[2].reshape(28,28))"
   ]
  },
  {
   "cell_type": "code",
   "execution_count": 142,
   "id": "19f93e72-fb0b-4f20-9569-007bd13e9435",
   "metadata": {},
   "outputs": [
    {
     "name": "stdout",
     "output_type": "stream",
     "text": [
      "313/313 [==============================] - 3s 10ms/step\n"
     ]
    }
   ],
   "source": [
    "result=model.predict(y_train)"
   ]
  },
  {
   "cell_type": "code",
   "execution_count": 75,
   "id": "93c95515-3ed9-4ecd-8bd9-37003a0508b4",
   "metadata": {},
   "outputs": [
    {
     "name": "stdout",
     "output_type": "stream",
     "text": [
      "Epoch 1/10\n",
      "375/375 [==============================] - 3s 7ms/step - loss: 0.2851 - acc: 0.9184 - val_loss: 0.1553 - val_acc: 0.9539\n",
      "Epoch 2/10\n",
      "375/375 [==============================] - 3s 7ms/step - loss: 0.1182 - acc: 0.9648 - val_loss: 0.1036 - val_acc: 0.9678\n",
      "Epoch 3/10\n",
      "375/375 [==============================] - 3s 7ms/step - loss: 0.0781 - acc: 0.9772 - val_loss: 0.0953 - val_acc: 0.9718\n",
      "Epoch 4/10\n",
      "375/375 [==============================] - 3s 7ms/step - loss: 0.0555 - acc: 0.9830 - val_loss: 0.0862 - val_acc: 0.9744\n",
      "Epoch 5/10\n",
      "375/375 [==============================] - 3s 7ms/step - loss: 0.0411 - acc: 0.9880 - val_loss: 0.0782 - val_acc: 0.9777\n",
      "Epoch 6/10\n",
      "375/375 [==============================] - 3s 7ms/step - loss: 0.0323 - acc: 0.9902 - val_loss: 0.0755 - val_acc: 0.9792\n",
      "Epoch 7/10\n",
      "375/375 [==============================] - 3s 7ms/step - loss: 0.0247 - acc: 0.9928 - val_loss: 0.0758 - val_acc: 0.9780\n",
      "Epoch 8/10\n",
      "375/375 [==============================] - 3s 7ms/step - loss: 0.0174 - acc: 0.9951 - val_loss: 0.0817 - val_acc: 0.9778\n",
      "Epoch 9/10\n",
      "375/375 [==============================] - 3s 7ms/step - loss: 0.0143 - acc: 0.9959 - val_loss: 0.0789 - val_acc: 0.9796\n",
      "Epoch 10/10\n",
      "375/375 [==============================] - 3s 7ms/step - loss: 0.0104 - acc: 0.9973 - val_loss: 0.0828 - val_acc: 0.9800\n"
     ]
    },
    {
     "data": {
      "text/plain": [
       "<keras.callbacks.History at 0x20f86ec5840>"
      ]
     },
     "execution_count": 75,
     "metadata": {},
     "output_type": "execute_result"
    }
   ],
   "source": [
    "(x_train, x_label), (y_train, y_label) =mnist.load_data() \n",
    "\n",
    "x_train, y_test = x_train/255.0, y_test/255.0 # 유의점은 실수로 만들어주어야함 0~1사이로 만듬\n",
    "\n",
    "x_train = x_train.reshape((60000, 28*28))\n",
    "y_train = y_train.reshape((10000, 28*28))\n",
    "\n",
    "x_train,val_train,x_label,val_label = train_test_split(x_train,x_label,test_size=0.2,random_state=124,shuffle=True)\n",
    "\n",
    "x_label=to_categorical(x_label)\n",
    "y_label=to_categorical(y_label)\n",
    "val_label=to_categorical(val_label)\n",
    "\n",
    "model =Sequential([\n",
    "    layers.Dense(512, activation='relu'), # 512는 아웃풋이다. \n",
    "    layers.Dense(10, activation='softmax')\n",
    "])\n",
    "\n",
    "model.compile(optimizer=\"rmsprop\", loss=\"categorical_crossentropy\", metrics='acc')\n",
    "model.fit(x_train, x_label, epochs=10, batch_size=128,validation_data=(val_train,val_label))\n"
   ]
  },
  {
   "cell_type": "code",
   "execution_count": 76,
   "id": "b094f291-1bf9-4f14-9dcd-caeca4e3c002",
   "metadata": {},
   "outputs": [
    {
     "name": "stdout",
     "output_type": "stream",
     "text": [
      "313/313 [==============================] - 1s 2ms/step - loss: 16.9849 - acc: 0.9793\n"
     ]
    },
    {
     "data": {
      "text/plain": [
       "[16.984865188598633, 0.9793000221252441]"
      ]
     },
     "execution_count": 76,
     "metadata": {},
     "output_type": "execute_result"
    }
   ],
   "source": [
    "model.evaluate(y_train,y_label)"
   ]
  },
  {
   "cell_type": "code",
   "execution_count": null,
   "id": "714aaf60-b54d-4e4d-a4a7-5806999c7a9a",
   "metadata": {},
   "outputs": [],
   "source": []
  }
 ],
 "metadata": {
  "kernelspec": {
   "display_name": "Python 3 (ipykernel)",
   "language": "python",
   "name": "python3"
  },
  "language_info": {
   "codemirror_mode": {
    "name": "ipython",
    "version": 3
   },
   "file_extension": ".py",
   "mimetype": "text/x-python",
   "name": "python",
   "nbconvert_exporter": "python",
   "pygments_lexer": "ipython3",
   "version": "3.10.6"
  }
 },
 "nbformat": 4,
 "nbformat_minor": 5
}
