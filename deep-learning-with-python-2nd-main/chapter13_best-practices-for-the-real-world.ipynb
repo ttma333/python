{
  "cells": [
    {
      "cell_type": "markdown",
      "metadata": {
        "id": "dXC-NAhWrH7H"
      },
      "source": [
        "이 노트북은 [케라스 창시자에게 배우는 딥러닝 2판](https://tensorflow.blog/kerasdl2/)의 예제 코드를 담고 있습니다.\n",
        "\n",
        "<table align=\"left\">\n",
        "    <tr>\n",
        "        <td>\n",
        "            <a href=\"https://colab.research.google.com/github/rickiepark/deep-learning-with-python-2nd/blob/main/chapter13_best-practices-for-the-real-world.ipynb\" target=\"_parent\"><img src=\"https://colab.research.google.com/assets/colab-badge.svg\" alt=\"Open In Colab\"/></a>\n",
        "        </td>\n",
        "    </tr>\n",
        "</table>"
      ]
    },
    {
      "cell_type": "markdown",
      "metadata": {
        "id": "48rlVGf1rH7J"
      },
      "source": [
        "# 실전 문제 해결을 위한 모범 사례"
      ]
    },
    {
      "cell_type": "markdown",
      "metadata": {
        "id": "AVUS_pV3rH7K"
      },
      "source": [
        "## 모델의 최대 성능을 끌어 내기"
      ]
    },
    {
      "cell_type": "markdown",
      "metadata": {
        "id": "WI5xmwxVrH7K"
      },
      "source": [
        "### 하이퍼파라미터 최적화"
      ]
    },
    {
      "cell_type": "markdown",
      "metadata": {
        "id": "bQo7Jfe3rH7K"
      },
      "source": [
        "#### KerasTuner 사용하기"
      ]
    },
    {
      "cell_type": "code",
      "execution_count": 1,
      "metadata": {
        "id": "kdcoHqN8rH7K",
        "outputId": "a976da8e-6021-401c-ce7f-3f9d98a0932d",
        "colab": {
          "base_uri": "https://localhost:8080/"
        }
      },
      "outputs": [
        {
          "output_type": "stream",
          "name": "stdout",
          "text": [
            "\u001b[K     |████████████████████████████████| 135 kB 18.1 MB/s \n",
            "\u001b[K     |████████████████████████████████| 1.6 MB 59.1 MB/s \n",
            "\u001b[?25h"
          ]
        }
      ],
      "source": [
        "!pip install keras-tuner -q"
      ]
    },
    {
      "cell_type": "markdown",
      "metadata": {
        "id": "0tMJEdJ8rH7L"
      },
      "source": [
        "**KerasTuner 모델 구축 함수**"
      ]
    },
    {
      "cell_type": "code",
      "execution_count": 2,
      "metadata": {
        "id": "hQmZbvskrH7M"
      },
      "outputs": [],
      "source": [
        "from tensorflow import keras\n",
        "from tensorflow.keras import layers\n",
        "\n",
        "def build_model(hp):\n",
        "    units = hp.Int(name=\"units\", min_value=16, max_value=64, step=16)\n",
        "    model = keras.Sequential([\n",
        "        layers.Dense(units, activation=\"relu\"),\n",
        "        layers.Dense(10, activation=\"softmax\")\n",
        "    ])\n",
        "    optimizer = hp.Choice(name=\"optimizer\", values=[\"rmsprop\", \"adam\"])\n",
        "    model.compile(\n",
        "        optimizer=optimizer,\n",
        "        loss=\"sparse_categorical_crossentropy\",\n",
        "        metrics=[\"accuracy\"])\n",
        "    return model"
      ]
    },
    {
      "cell_type": "markdown",
      "metadata": {
        "id": "qIVWG7jnrH7M"
      },
      "source": [
        "**KerasTuner의 `HyperModel`**"
      ]
    },
    {
      "cell_type": "code",
      "execution_count": 3,
      "metadata": {
        "id": "pC1gmBOzrH7N",
        "outputId": "f25af521-4a17-42de-8501-9c8ff7f01cf5",
        "colab": {
          "base_uri": "https://localhost:8080/"
        }
      },
      "outputs": [
        {
          "output_type": "stream",
          "name": "stderr",
          "text": [
            "<ipython-input-3-643dcc05e516>:1: DeprecationWarning: `import kerastuner` is deprecated, please use `import keras_tuner`.\n",
            "  import kerastuner as kt\n"
          ]
        }
      ],
      "source": [
        "import kerastuner as kt\n",
        "\n",
        "class SimpleMLP(kt.HyperModel):\n",
        "    def __init__(self, num_classes):\n",
        "        self.num_classes = num_classes\n",
        "\n",
        "    def build(self, hp):\n",
        "        units = hp.Int(name=\"units\", min_value=16, max_value=64, step=16)\n",
        "        model = keras.Sequential([\n",
        "            layers.Dense(units, activation=\"relu\"),\n",
        "            layers.Dense(self.num_classes, activation=\"softmax\")\n",
        "        ])\n",
        "        optimizer = hp.Choice(name=\"optimizer\", values=[\"rmsprop\", \"adam\"])\n",
        "        model.compile(\n",
        "            optimizer=optimizer,\n",
        "            loss=\"sparse_categorical_crossentropy\",\n",
        "            metrics=[\"accuracy\"])\n",
        "        return model\n",
        "\n",
        "hypermodel = SimpleMLP(num_classes=10)"
      ]
    },
    {
      "cell_type": "code",
      "execution_count": 4,
      "metadata": {
        "id": "79npb8nzrH7O"
      },
      "outputs": [],
      "source": [
        "tuner = kt.BayesianOptimization(\n",
        "    build_model,\n",
        "    objective=\"val_accuracy\",\n",
        "    max_trials=100,\n",
        "    executions_per_trial=2,\n",
        "    directory=\"mnist_kt_test\",\n",
        "    overwrite=True,\n",
        ")"
      ]
    },
    {
      "cell_type": "code",
      "execution_count": 5,
      "metadata": {
        "id": "mmeQ4XirrH7O",
        "outputId": "65fb592b-482d-4cb1-fa67-c8a09947417d",
        "colab": {
          "base_uri": "https://localhost:8080/"
        }
      },
      "outputs": [
        {
          "output_type": "stream",
          "name": "stdout",
          "text": [
            "Search space summary\n",
            "Default search space size: 2\n",
            "units (Int)\n",
            "{'default': None, 'conditions': [], 'min_value': 16, 'max_value': 64, 'step': 16, 'sampling': None}\n",
            "optimizer (Choice)\n",
            "{'default': 'rmsprop', 'conditions': [], 'values': ['rmsprop', 'adam'], 'ordered': False}\n"
          ]
        }
      ],
      "source": [
        "tuner.search_space_summary()"
      ]
    },
    {
      "cell_type": "code",
      "execution_count": 6,
      "metadata": {
        "id": "bO3eDmIrrH7O",
        "outputId": "6168ae52-ef2c-4a45-dc61-77e0c5daacdf",
        "colab": {
          "base_uri": "https://localhost:8080/"
        }
      },
      "outputs": [
        {
          "output_type": "stream",
          "name": "stdout",
          "text": [
            "Trial 100 Complete [00h 00m 48s]\n",
            "val_accuracy: 0.9738999903202057\n",
            "\n",
            "Best val_accuracy So Far: 0.9763999879360199\n",
            "Total elapsed time: 01h 37m 15s\n"
          ]
        }
      ],
      "source": [
        "(x_train, y_train), (x_test, y_test) = keras.datasets.mnist.load_data()\n",
        "x_train = x_train.reshape((-1, 28 * 28)).astype(\"float32\") / 255\n",
        "x_test = x_test.reshape((-1, 28 * 28)).astype(\"float32\") / 255\n",
        "x_train_full = x_train[:]\n",
        "y_train_full = y_train[:]\n",
        "num_val_samples = 10000\n",
        "x_train, x_val = x_train[:-num_val_samples], x_train[-num_val_samples:]\n",
        "y_train, y_val = y_train[:-num_val_samples], y_train[-num_val_samples:]\n",
        "callbacks = [\n",
        "    keras.callbacks.EarlyStopping(monitor=\"val_loss\", patience=5),\n",
        "]\n",
        "tuner.search(\n",
        "    x_train, y_train,\n",
        "    batch_size=128,\n",
        "    epochs=100,\n",
        "    validation_data=(x_val, y_val),\n",
        "    callbacks=callbacks,\n",
        "    verbose=2,\n",
        ")"
      ]
    },
    {
      "cell_type": "markdown",
      "metadata": {
        "id": "svpbAxvfrH7P"
      },
      "source": [
        "**최상의 하이퍼파라미터 설정 확인하기**"
      ]
    },
    {
      "cell_type": "code",
      "execution_count": 7,
      "metadata": {
        "id": "13or5ZBvrH7P"
      },
      "outputs": [],
      "source": [
        "top_n = 4\n",
        "best_hps = tuner.get_best_hyperparameters(top_n)"
      ]
    },
    {
      "cell_type": "code",
      "execution_count": 8,
      "metadata": {
        "id": "LW8KNOSDrH7P"
      },
      "outputs": [],
      "source": [
        "def get_best_epoch(hp):\n",
        "    model = build_model(hp)\n",
        "    callbacks=[\n",
        "        keras.callbacks.EarlyStopping(\n",
        "            monitor=\"val_loss\", mode=\"min\", patience=10)\n",
        "    ]\n",
        "    history = model.fit(\n",
        "        x_train, y_train,\n",
        "        validation_data=(x_val, y_val),\n",
        "        epochs=100,\n",
        "        batch_size=128,\n",
        "        callbacks=callbacks)\n",
        "    val_loss_per_epoch = history.history[\"val_loss\"]\n",
        "    best_epoch = val_loss_per_epoch.index(min(val_loss_per_epoch)) + 1\n",
        "    print(f\"Best epoch: {best_epoch}\")\n",
        "    return best_epoch"
      ]
    },
    {
      "cell_type": "code",
      "execution_count": 9,
      "metadata": {
        "id": "atgJLN2_rH7P",
        "outputId": "ae27a7f8-6173-4652-d630-f6969f412dc3",
        "colab": {
          "base_uri": "https://localhost:8080/"
        }
      },
      "outputs": [
        {
          "output_type": "execute_result",
          "data": {
            "text/plain": [
              "[<keras_tuner.engine.hyperparameters.HyperParameters at 0x7fceca5d4040>,\n",
              " <keras_tuner.engine.hyperparameters.HyperParameters at 0x7fcee21ec4c0>,\n",
              " <keras_tuner.engine.hyperparameters.HyperParameters at 0x7fcf300298b0>,\n",
              " <keras_tuner.engine.hyperparameters.HyperParameters at 0x7fceca7090a0>]"
            ]
          },
          "metadata": {},
          "execution_count": 9
        }
      ],
      "source": [
        "best_hps"
      ]
    },
    {
      "cell_type": "code",
      "execution_count": 10,
      "metadata": {
        "id": "9Wbd5MN1rH7Q",
        "outputId": "752c0f60-667d-499b-bdf2-a98c8fa3f1fd",
        "colab": {
          "base_uri": "https://localhost:8080/",
          "height": 36
        }
      },
      "outputs": [
        {
          "output_type": "execute_result",
          "data": {
            "text/plain": [
              "'rmsprop'"
            ],
            "application/vnd.google.colaboratory.intrinsic+json": {
              "type": "string"
            }
          },
          "metadata": {},
          "execution_count": 10
        }
      ],
      "source": [
        "best_hps[0].Choice(name=\"optimizer\", values=[\"rmsprop\", \"adam\"])"
      ]
    },
    {
      "cell_type": "code",
      "execution_count": 11,
      "metadata": {
        "id": "fMd-PWX2rH7Q"
      },
      "outputs": [],
      "source": [
        "model = build_model(best_hps[0])"
      ]
    },
    {
      "cell_type": "code",
      "execution_count": 12,
      "metadata": {
        "id": "zTTXtVo6rH7Q"
      },
      "outputs": [],
      "source": [
        "from keras_tuner.engine.hyperparameters import Int"
      ]
    },
    {
      "cell_type": "code",
      "execution_count": 13,
      "metadata": {
        "id": "BD4-yhoorH7Q",
        "outputId": "90d5d596-1143-47bb-bccf-c8937642f10c",
        "colab": {
          "base_uri": "https://localhost:8080/"
        }
      },
      "outputs": [
        {
          "output_type": "execute_result",
          "data": {
            "text/plain": [
              "True"
            ]
          },
          "metadata": {},
          "execution_count": 13
        }
      ],
      "source": [
        "best_hps[0]._conditions_are_active(Int(name=\"units\", min_value=0, max_value=1).conditions)"
      ]
    },
    {
      "cell_type": "code",
      "execution_count": 14,
      "metadata": {
        "id": "WGHlc393rH7Q",
        "outputId": "517eba38-673c-49f8-db58-3152002325d1",
        "colab": {
          "base_uri": "https://localhost:8080/"
        }
      },
      "outputs": [
        {
          "output_type": "execute_result",
          "data": {
            "text/plain": [
              "defaultdict(list,\n",
              "            {'units': [Int(name: \"units\", min_value: 16, max_value: 64, step: 16, sampling: None, default: 16)],\n",
              "             'optimizer': [Choice(name: \"optimizer\", values: ['rmsprop', 'adam'], ordered: False, default: rmsprop)]})"
            ]
          },
          "metadata": {},
          "execution_count": 14
        }
      ],
      "source": [
        "best_hps[0]._hps"
      ]
    },
    {
      "cell_type": "code",
      "execution_count": 15,
      "metadata": {
        "id": "8ceR3te6rH7R",
        "outputId": "ad49b038-34e2-4592-85fc-3569d0197e9d",
        "colab": {
          "base_uri": "https://localhost:8080/"
        }
      },
      "outputs": [
        {
          "output_type": "execute_result",
          "data": {
            "text/plain": [
              "True"
            ]
          },
          "metadata": {},
          "execution_count": 15
        }
      ],
      "source": [
        "best_hps[0]._exists('units', [])"
      ]
    },
    {
      "cell_type": "code",
      "execution_count": 16,
      "metadata": {
        "id": "7nmuiOVJrH7R",
        "outputId": "90845616-9308-4351-f678-f7c601629dc0",
        "colab": {
          "base_uri": "https://localhost:8080/"
        }
      },
      "outputs": [
        {
          "output_type": "execute_result",
          "data": {
            "text/plain": [
              "{'units': 64, 'optimizer': 'rmsprop'}"
            ]
          },
          "metadata": {},
          "execution_count": 16
        }
      ],
      "source": [
        "best_hps[0].values"
      ]
    },
    {
      "cell_type": "code",
      "execution_count": 17,
      "metadata": {
        "id": "NoVQocz9rH7R",
        "outputId": "99c37b8f-6e42-4d73-f597-0798d584d528",
        "colab": {
          "base_uri": "https://localhost:8080/"
        }
      },
      "outputs": [
        {
          "output_type": "execute_result",
          "data": {
            "text/plain": [
              "64"
            ]
          },
          "metadata": {},
          "execution_count": 17
        }
      ],
      "source": [
        "best_hps[0].Int(name=\"units\", min_value=0, max_value=1)"
      ]
    },
    {
      "cell_type": "code",
      "execution_count": 18,
      "metadata": {
        "id": "qYPQfGVrrH7R",
        "outputId": "bf1acc69-a28e-4b4f-b5b8-5a313df9936c",
        "colab": {
          "base_uri": "https://localhost:8080/"
        }
      },
      "outputs": [
        {
          "output_type": "execute_result",
          "data": {
            "text/plain": [
              "{'name': 'sequential_1',\n",
              " 'layers': [{'class_name': 'Dense',\n",
              "   'config': {'name': 'dense_2',\n",
              "    'trainable': True,\n",
              "    'dtype': 'float32',\n",
              "    'units': 64,\n",
              "    'activation': 'relu',\n",
              "    'use_bias': True,\n",
              "    'kernel_initializer': {'class_name': 'GlorotUniform',\n",
              "     'config': {'seed': None}},\n",
              "    'bias_initializer': {'class_name': 'Zeros', 'config': {}},\n",
              "    'kernel_regularizer': None,\n",
              "    'bias_regularizer': None,\n",
              "    'activity_regularizer': None,\n",
              "    'kernel_constraint': None,\n",
              "    'bias_constraint': None}},\n",
              "  {'class_name': 'Dense',\n",
              "   'config': {'name': 'dense_3',\n",
              "    'trainable': True,\n",
              "    'dtype': 'float32',\n",
              "    'units': 10,\n",
              "    'activation': 'softmax',\n",
              "    'use_bias': True,\n",
              "    'kernel_initializer': {'class_name': 'GlorotUniform',\n",
              "     'config': {'seed': None}},\n",
              "    'bias_initializer': {'class_name': 'Zeros', 'config': {}},\n",
              "    'kernel_regularizer': None,\n",
              "    'bias_regularizer': None,\n",
              "    'activity_regularizer': None,\n",
              "    'kernel_constraint': None,\n",
              "    'bias_constraint': None}}]}"
            ]
          },
          "metadata": {},
          "execution_count": 18
        }
      ],
      "source": [
        "model.get_config()"
      ]
    },
    {
      "cell_type": "code",
      "execution_count": 19,
      "metadata": {
        "id": "haIQjmkirH7R",
        "outputId": "c5bb73dc-8b78-4f01-9e79-10db670e6872",
        "colab": {
          "base_uri": "https://localhost:8080/"
        }
      },
      "outputs": [
        {
          "output_type": "stream",
          "name": "stdout",
          "text": [
            "Epoch 1/100\n",
            "391/391 [==============================] - 2s 3ms/step - loss: 0.4242 - accuracy: 0.8846 - val_loss: 0.2364 - val_accuracy: 0.9348\n",
            "Epoch 2/100\n",
            "391/391 [==============================] - 1s 3ms/step - loss: 0.2211 - accuracy: 0.9365 - val_loss: 0.1840 - val_accuracy: 0.9491\n",
            "Epoch 3/100\n",
            "391/391 [==============================] - 1s 3ms/step - loss: 0.1721 - accuracy: 0.9504 - val_loss: 0.1604 - val_accuracy: 0.9545\n",
            "Epoch 4/100\n",
            "391/391 [==============================] - 1s 4ms/step - loss: 0.1410 - accuracy: 0.9594 - val_loss: 0.1342 - val_accuracy: 0.9619\n",
            "Epoch 5/100\n",
            "391/391 [==============================] - 1s 3ms/step - loss: 0.1187 - accuracy: 0.9659 - val_loss: 0.1368 - val_accuracy: 0.9623\n",
            "Epoch 6/100\n",
            "391/391 [==============================] - 1s 3ms/step - loss: 0.1027 - accuracy: 0.9703 - val_loss: 0.1181 - val_accuracy: 0.9673\n",
            "Epoch 7/100\n",
            "391/391 [==============================] - 1s 3ms/step - loss: 0.0899 - accuracy: 0.9737 - val_loss: 0.1110 - val_accuracy: 0.9688\n",
            "Epoch 8/100\n",
            "391/391 [==============================] - 1s 3ms/step - loss: 0.0804 - accuracy: 0.9767 - val_loss: 0.1028 - val_accuracy: 0.9708\n",
            "Epoch 9/100\n",
            "391/391 [==============================] - 1s 4ms/step - loss: 0.0726 - accuracy: 0.9786 - val_loss: 0.1013 - val_accuracy: 0.9729\n",
            "Epoch 10/100\n",
            "391/391 [==============================] - 1s 3ms/step - loss: 0.0657 - accuracy: 0.9809 - val_loss: 0.1041 - val_accuracy: 0.9708\n",
            "Epoch 11/100\n",
            "391/391 [==============================] - 1s 3ms/step - loss: 0.0596 - accuracy: 0.9836 - val_loss: 0.1034 - val_accuracy: 0.9718\n",
            "Epoch 12/100\n",
            "391/391 [==============================] - 1s 3ms/step - loss: 0.0545 - accuracy: 0.9845 - val_loss: 0.0978 - val_accuracy: 0.9736\n",
            "Epoch 13/100\n",
            "391/391 [==============================] - 1s 3ms/step - loss: 0.0494 - accuracy: 0.9866 - val_loss: 0.0951 - val_accuracy: 0.9738\n",
            "Epoch 14/100\n",
            "391/391 [==============================] - 1s 3ms/step - loss: 0.0456 - accuracy: 0.9873 - val_loss: 0.0966 - val_accuracy: 0.9743\n",
            "Epoch 15/100\n",
            "391/391 [==============================] - 1s 3ms/step - loss: 0.0419 - accuracy: 0.9887 - val_loss: 0.0920 - val_accuracy: 0.9748\n",
            "Epoch 16/100\n",
            "391/391 [==============================] - 1s 3ms/step - loss: 0.0383 - accuracy: 0.9890 - val_loss: 0.0929 - val_accuracy: 0.9756\n",
            "Epoch 17/100\n",
            "391/391 [==============================] - 1s 3ms/step - loss: 0.0356 - accuracy: 0.9902 - val_loss: 0.0960 - val_accuracy: 0.9755\n",
            "Epoch 18/100\n",
            "391/391 [==============================] - 1s 3ms/step - loss: 0.0328 - accuracy: 0.9907 - val_loss: 0.0967 - val_accuracy: 0.9752\n",
            "Epoch 19/100\n",
            "391/391 [==============================] - 1s 4ms/step - loss: 0.0302 - accuracy: 0.9917 - val_loss: 0.0948 - val_accuracy: 0.9760\n",
            "Epoch 20/100\n",
            "391/391 [==============================] - 1s 3ms/step - loss: 0.0277 - accuracy: 0.9924 - val_loss: 0.0951 - val_accuracy: 0.9758\n",
            "Epoch 21/100\n",
            "391/391 [==============================] - 1s 3ms/step - loss: 0.0257 - accuracy: 0.9931 - val_loss: 0.0954 - val_accuracy: 0.9757\n",
            "Epoch 22/100\n",
            "391/391 [==============================] - 1s 3ms/step - loss: 0.0236 - accuracy: 0.9937 - val_loss: 0.0997 - val_accuracy: 0.9749\n",
            "Epoch 23/100\n",
            "391/391 [==============================] - 1s 3ms/step - loss: 0.0215 - accuracy: 0.9946 - val_loss: 0.0989 - val_accuracy: 0.9761\n",
            "Epoch 24/100\n",
            "391/391 [==============================] - 1s 4ms/step - loss: 0.0203 - accuracy: 0.9948 - val_loss: 0.1129 - val_accuracy: 0.9743\n",
            "Epoch 25/100\n",
            "391/391 [==============================] - 1s 3ms/step - loss: 0.0185 - accuracy: 0.9954 - val_loss: 0.1023 - val_accuracy: 0.9765\n",
            "Best epoch: 15\n",
            "Epoch 1/18\n",
            "469/469 [==============================] - 2s 3ms/step - loss: 0.3889 - accuracy: 0.8955\n",
            "Epoch 2/18\n",
            "469/469 [==============================] - 1s 3ms/step - loss: 0.2031 - accuracy: 0.9421\n",
            "Epoch 3/18\n",
            "469/469 [==============================] - 1s 3ms/step - loss: 0.1573 - accuracy: 0.9546\n",
            "Epoch 4/18\n",
            "469/469 [==============================] - 1s 3ms/step - loss: 0.1283 - accuracy: 0.9632\n",
            "Epoch 5/18\n",
            "469/469 [==============================] - 1s 3ms/step - loss: 0.1079 - accuracy: 0.9683\n",
            "Epoch 6/18\n",
            "469/469 [==============================] - 1s 3ms/step - loss: 0.0939 - accuracy: 0.9730\n",
            "Epoch 7/18\n",
            "469/469 [==============================] - 1s 3ms/step - loss: 0.0827 - accuracy: 0.9762\n",
            "Epoch 8/18\n",
            "469/469 [==============================] - 1s 3ms/step - loss: 0.0743 - accuracy: 0.9786\n",
            "Epoch 9/18\n",
            "469/469 [==============================] - 1s 3ms/step - loss: 0.0672 - accuracy: 0.9801\n",
            "Epoch 10/18\n",
            "469/469 [==============================] - 1s 3ms/step - loss: 0.0608 - accuracy: 0.9826\n",
            "Epoch 11/18\n",
            "469/469 [==============================] - 1s 3ms/step - loss: 0.0559 - accuracy: 0.9836\n",
            "Epoch 12/18\n",
            "469/469 [==============================] - 1s 3ms/step - loss: 0.0515 - accuracy: 0.9853\n",
            "Epoch 13/18\n",
            "469/469 [==============================] - 1s 3ms/step - loss: 0.0476 - accuracy: 0.9866\n",
            "Epoch 14/18\n",
            "469/469 [==============================] - 1s 3ms/step - loss: 0.0436 - accuracy: 0.9876\n",
            "Epoch 15/18\n",
            "469/469 [==============================] - 1s 3ms/step - loss: 0.0411 - accuracy: 0.9881\n",
            "Epoch 16/18\n",
            "469/469 [==============================] - 1s 3ms/step - loss: 0.0377 - accuracy: 0.9896\n",
            "Epoch 17/18\n",
            "469/469 [==============================] - 1s 3ms/step - loss: 0.0353 - accuracy: 0.9899\n",
            "Epoch 18/18\n",
            "469/469 [==============================] - 1s 3ms/step - loss: 0.0323 - accuracy: 0.9905\n",
            "313/313 [==============================] - 1s 2ms/step - loss: 0.0866 - accuracy: 0.9752\n",
            "Epoch 1/100\n",
            "391/391 [==============================] - 2s 4ms/step - loss: 0.4205 - accuracy: 0.8861 - val_loss: 0.2355 - val_accuracy: 0.9333\n",
            "Epoch 2/100\n",
            "391/391 [==============================] - 1s 3ms/step - loss: 0.2185 - accuracy: 0.9371 - val_loss: 0.1788 - val_accuracy: 0.9502\n",
            "Epoch 3/100\n",
            "391/391 [==============================] - 1s 3ms/step - loss: 0.1688 - accuracy: 0.9511 - val_loss: 0.1547 - val_accuracy: 0.9561\n",
            "Epoch 4/100\n",
            "391/391 [==============================] - 1s 3ms/step - loss: 0.1372 - accuracy: 0.9605 - val_loss: 0.1378 - val_accuracy: 0.9608\n",
            "Epoch 5/100\n",
            "391/391 [==============================] - 1s 3ms/step - loss: 0.1153 - accuracy: 0.9661 - val_loss: 0.1201 - val_accuracy: 0.9657\n",
            "Epoch 6/100\n",
            "391/391 [==============================] - 1s 3ms/step - loss: 0.0990 - accuracy: 0.9715 - val_loss: 0.1095 - val_accuracy: 0.9665\n",
            "Epoch 7/100\n",
            "391/391 [==============================] - 1s 3ms/step - loss: 0.0875 - accuracy: 0.9744 - val_loss: 0.1018 - val_accuracy: 0.9692\n",
            "Epoch 8/100\n",
            "391/391 [==============================] - 1s 3ms/step - loss: 0.0778 - accuracy: 0.9772 - val_loss: 0.1019 - val_accuracy: 0.9691\n",
            "Epoch 9/100\n",
            "391/391 [==============================] - 1s 3ms/step - loss: 0.0696 - accuracy: 0.9798 - val_loss: 0.0953 - val_accuracy: 0.9708\n",
            "Epoch 10/100\n",
            "391/391 [==============================] - 1s 3ms/step - loss: 0.0635 - accuracy: 0.9816 - val_loss: 0.0929 - val_accuracy: 0.9735\n",
            "Epoch 11/100\n",
            "391/391 [==============================] - 1s 3ms/step - loss: 0.0572 - accuracy: 0.9829 - val_loss: 0.0927 - val_accuracy: 0.9742\n",
            "Epoch 12/100\n",
            "391/391 [==============================] - 1s 3ms/step - loss: 0.0525 - accuracy: 0.9850 - val_loss: 0.0966 - val_accuracy: 0.9730\n",
            "Epoch 13/100\n",
            "391/391 [==============================] - 1s 3ms/step - loss: 0.0483 - accuracy: 0.9863 - val_loss: 0.0937 - val_accuracy: 0.9725\n",
            "Epoch 14/100\n",
            "391/391 [==============================] - 1s 3ms/step - loss: 0.0437 - accuracy: 0.9875 - val_loss: 0.0982 - val_accuracy: 0.9725\n",
            "Epoch 15/100\n",
            "391/391 [==============================] - 1s 3ms/step - loss: 0.0407 - accuracy: 0.9886 - val_loss: 0.0976 - val_accuracy: 0.9733\n",
            "Epoch 16/100\n",
            "391/391 [==============================] - 1s 3ms/step - loss: 0.0374 - accuracy: 0.9900 - val_loss: 0.0908 - val_accuracy: 0.9742\n",
            "Epoch 17/100\n",
            "391/391 [==============================] - 1s 3ms/step - loss: 0.0339 - accuracy: 0.9907 - val_loss: 0.0929 - val_accuracy: 0.9741\n",
            "Epoch 18/100\n",
            "391/391 [==============================] - 1s 3ms/step - loss: 0.0317 - accuracy: 0.9916 - val_loss: 0.0965 - val_accuracy: 0.9736\n",
            "Epoch 19/100\n",
            "391/391 [==============================] - 1s 3ms/step - loss: 0.0291 - accuracy: 0.9925 - val_loss: 0.0966 - val_accuracy: 0.9745\n",
            "Epoch 20/100\n",
            "391/391 [==============================] - 1s 3ms/step - loss: 0.0268 - accuracy: 0.9929 - val_loss: 0.0976 - val_accuracy: 0.9747\n",
            "Epoch 21/100\n",
            "391/391 [==============================] - 1s 3ms/step - loss: 0.0246 - accuracy: 0.9935 - val_loss: 0.0987 - val_accuracy: 0.9743\n",
            "Epoch 22/100\n",
            "391/391 [==============================] - 1s 3ms/step - loss: 0.0226 - accuracy: 0.9943 - val_loss: 0.0970 - val_accuracy: 0.9741\n",
            "Epoch 23/100\n",
            "391/391 [==============================] - 1s 3ms/step - loss: 0.0211 - accuracy: 0.9947 - val_loss: 0.1006 - val_accuracy: 0.9743\n",
            "Epoch 24/100\n",
            "391/391 [==============================] - 1s 3ms/step - loss: 0.0197 - accuracy: 0.9952 - val_loss: 0.1072 - val_accuracy: 0.9740\n",
            "Epoch 25/100\n",
            "391/391 [==============================] - 1s 3ms/step - loss: 0.0183 - accuracy: 0.9953 - val_loss: 0.1037 - val_accuracy: 0.9756\n",
            "Epoch 26/100\n",
            "391/391 [==============================] - 1s 3ms/step - loss: 0.0166 - accuracy: 0.9958 - val_loss: 0.1037 - val_accuracy: 0.9760\n",
            "Best epoch: 16\n",
            "Epoch 1/19\n",
            "469/469 [==============================] - 1s 3ms/step - loss: 0.0301 - accuracy: 0.9913\n",
            "Epoch 2/19\n",
            "469/469 [==============================] - 1s 3ms/step - loss: 0.0283 - accuracy: 0.9926\n",
            "Epoch 3/19\n",
            "469/469 [==============================] - 1s 3ms/step - loss: 0.0261 - accuracy: 0.9928\n",
            "Epoch 4/19\n",
            "469/469 [==============================] - 1s 3ms/step - loss: 0.0248 - accuracy: 0.9933\n",
            "Epoch 5/19\n",
            "469/469 [==============================] - 1s 3ms/step - loss: 0.0225 - accuracy: 0.9942\n",
            "Epoch 6/19\n",
            "469/469 [==============================] - 1s 3ms/step - loss: 0.0213 - accuracy: 0.9946\n",
            "Epoch 7/19\n",
            "469/469 [==============================] - 1s 3ms/step - loss: 0.0193 - accuracy: 0.9949\n",
            "Epoch 8/19\n",
            "469/469 [==============================] - 1s 3ms/step - loss: 0.0183 - accuracy: 0.9952\n",
            "Epoch 9/19\n",
            "469/469 [==============================] - 1s 3ms/step - loss: 0.0175 - accuracy: 0.9955\n",
            "Epoch 10/19\n",
            "469/469 [==============================] - 1s 3ms/step - loss: 0.0158 - accuracy: 0.9963\n",
            "Epoch 11/19\n",
            "469/469 [==============================] - 1s 3ms/step - loss: 0.0150 - accuracy: 0.9962\n",
            "Epoch 12/19\n",
            "469/469 [==============================] - 1s 3ms/step - loss: 0.0136 - accuracy: 0.9969\n",
            "Epoch 13/19\n",
            "469/469 [==============================] - 1s 3ms/step - loss: 0.0127 - accuracy: 0.9971\n",
            "Epoch 14/19\n",
            "469/469 [==============================] - 1s 3ms/step - loss: 0.0119 - accuracy: 0.9973\n",
            "Epoch 15/19\n",
            "469/469 [==============================] - 1s 3ms/step - loss: 0.0110 - accuracy: 0.9974\n",
            "Epoch 16/19\n",
            "469/469 [==============================] - 1s 3ms/step - loss: 0.0098 - accuracy: 0.9978\n",
            "Epoch 17/19\n",
            "469/469 [==============================] - 1s 3ms/step - loss: 0.0097 - accuracy: 0.9979\n",
            "Epoch 18/19\n",
            "469/469 [==============================] - 1s 3ms/step - loss: 0.0087 - accuracy: 0.9982\n",
            "Epoch 19/19\n",
            "469/469 [==============================] - 1s 3ms/step - loss: 0.0083 - accuracy: 0.9982\n",
            "313/313 [==============================] - 1s 2ms/step - loss: 0.1136 - accuracy: 0.9748\n",
            "Epoch 1/100\n",
            "391/391 [==============================] - 2s 4ms/step - loss: 0.4253 - accuracy: 0.8870 - val_loss: 0.2340 - val_accuracy: 0.9369\n",
            "Epoch 2/100\n",
            "391/391 [==============================] - 1s 3ms/step - loss: 0.2153 - accuracy: 0.9389 - val_loss: 0.1842 - val_accuracy: 0.9499\n",
            "Epoch 3/100\n",
            "391/391 [==============================] - 1s 3ms/step - loss: 0.1681 - accuracy: 0.9513 - val_loss: 0.1522 - val_accuracy: 0.9581\n",
            "Epoch 4/100\n",
            "391/391 [==============================] - 1s 3ms/step - loss: 0.1390 - accuracy: 0.9604 - val_loss: 0.1354 - val_accuracy: 0.9624\n",
            "Epoch 5/100\n",
            "391/391 [==============================] - 1s 3ms/step - loss: 0.1185 - accuracy: 0.9655 - val_loss: 0.1214 - val_accuracy: 0.9659\n",
            "Epoch 6/100\n",
            "391/391 [==============================] - 1s 3ms/step - loss: 0.1031 - accuracy: 0.9707 - val_loss: 0.1125 - val_accuracy: 0.9695\n",
            "Epoch 7/100\n",
            "391/391 [==============================] - 1s 3ms/step - loss: 0.0912 - accuracy: 0.9740 - val_loss: 0.1083 - val_accuracy: 0.9705\n",
            "Epoch 8/100\n",
            "391/391 [==============================] - 1s 3ms/step - loss: 0.0816 - accuracy: 0.9774 - val_loss: 0.1077 - val_accuracy: 0.9693\n",
            "Epoch 9/100\n",
            "391/391 [==============================] - 1s 3ms/step - loss: 0.0735 - accuracy: 0.9789 - val_loss: 0.1018 - val_accuracy: 0.9725\n",
            "Epoch 10/100\n",
            "391/391 [==============================] - 1s 4ms/step - loss: 0.0663 - accuracy: 0.9811 - val_loss: 0.1001 - val_accuracy: 0.9716\n",
            "Epoch 11/100\n",
            "391/391 [==============================] - 1s 3ms/step - loss: 0.0597 - accuracy: 0.9831 - val_loss: 0.1023 - val_accuracy: 0.9709\n",
            "Epoch 12/100\n",
            "391/391 [==============================] - 1s 3ms/step - loss: 0.0550 - accuracy: 0.9847 - val_loss: 0.0924 - val_accuracy: 0.9741\n",
            "Epoch 13/100\n",
            "391/391 [==============================] - 1s 3ms/step - loss: 0.0504 - accuracy: 0.9859 - val_loss: 0.0922 - val_accuracy: 0.9757\n",
            "Epoch 14/100\n",
            "391/391 [==============================] - 1s 3ms/step - loss: 0.0466 - accuracy: 0.9871 - val_loss: 0.0924 - val_accuracy: 0.9741\n",
            "Epoch 15/100\n",
            "391/391 [==============================] - 1s 3ms/step - loss: 0.0424 - accuracy: 0.9883 - val_loss: 0.0971 - val_accuracy: 0.9742\n",
            "Epoch 16/100\n",
            "391/391 [==============================] - 1s 3ms/step - loss: 0.0394 - accuracy: 0.9894 - val_loss: 0.0966 - val_accuracy: 0.9738\n",
            "Epoch 17/100\n",
            "391/391 [==============================] - 1s 3ms/step - loss: 0.0365 - accuracy: 0.9901 - val_loss: 0.0944 - val_accuracy: 0.9746\n",
            "Epoch 18/100\n",
            "391/391 [==============================] - 1s 4ms/step - loss: 0.0341 - accuracy: 0.9909 - val_loss: 0.0941 - val_accuracy: 0.9753\n",
            "Epoch 19/100\n",
            "391/391 [==============================] - 1s 3ms/step - loss: 0.0311 - accuracy: 0.9916 - val_loss: 0.1004 - val_accuracy: 0.9744\n",
            "Epoch 20/100\n",
            "391/391 [==============================] - 1s 4ms/step - loss: 0.0288 - accuracy: 0.9927 - val_loss: 0.0973 - val_accuracy: 0.9743\n",
            "Epoch 21/100\n",
            "391/391 [==============================] - 1s 3ms/step - loss: 0.0265 - accuracy: 0.9929 - val_loss: 0.0918 - val_accuracy: 0.9762\n",
            "Epoch 22/100\n",
            "391/391 [==============================] - 1s 3ms/step - loss: 0.0246 - accuracy: 0.9935 - val_loss: 0.0936 - val_accuracy: 0.9758\n",
            "Epoch 23/100\n",
            "391/391 [==============================] - 1s 3ms/step - loss: 0.0229 - accuracy: 0.9943 - val_loss: 0.0952 - val_accuracy: 0.9764\n",
            "Epoch 24/100\n",
            "391/391 [==============================] - 1s 3ms/step - loss: 0.0209 - accuracy: 0.9948 - val_loss: 0.0993 - val_accuracy: 0.9768\n",
            "Epoch 25/100\n",
            "391/391 [==============================] - 1s 3ms/step - loss: 0.0195 - accuracy: 0.9952 - val_loss: 0.1008 - val_accuracy: 0.9743\n",
            "Epoch 26/100\n",
            "391/391 [==============================] - 1s 3ms/step - loss: 0.0177 - accuracy: 0.9957 - val_loss: 0.1001 - val_accuracy: 0.9761\n",
            "Epoch 27/100\n",
            "391/391 [==============================] - 1s 3ms/step - loss: 0.0167 - accuracy: 0.9958 - val_loss: 0.0995 - val_accuracy: 0.9756\n",
            "Epoch 28/100\n",
            "391/391 [==============================] - 1s 3ms/step - loss: 0.0151 - accuracy: 0.9964 - val_loss: 0.1058 - val_accuracy: 0.9755\n",
            "Epoch 29/100\n",
            "391/391 [==============================] - 1s 3ms/step - loss: 0.0140 - accuracy: 0.9969 - val_loss: 0.1078 - val_accuracy: 0.9743\n",
            "Epoch 30/100\n",
            "391/391 [==============================] - 1s 3ms/step - loss: 0.0130 - accuracy: 0.9971 - val_loss: 0.1106 - val_accuracy: 0.9752\n",
            "Epoch 31/100\n",
            "391/391 [==============================] - 1s 4ms/step - loss: 0.0119 - accuracy: 0.9974 - val_loss: 0.1081 - val_accuracy: 0.9755\n",
            "Best epoch: 21\n",
            "Epoch 1/25\n",
            "469/469 [==============================] - 1s 3ms/step - loss: 0.0074 - accuracy: 0.9985\n",
            "Epoch 2/25\n",
            "469/469 [==============================] - 1s 3ms/step - loss: 0.0070 - accuracy: 0.9987\n",
            "Epoch 3/25\n",
            "469/469 [==============================] - 1s 3ms/step - loss: 0.0066 - accuracy: 0.9986\n",
            "Epoch 4/25\n",
            "469/469 [==============================] - 2s 4ms/step - loss: 0.0061 - accuracy: 0.9985\n",
            "Epoch 5/25\n",
            "469/469 [==============================] - 2s 3ms/step - loss: 0.0058 - accuracy: 0.9987\n",
            "Epoch 6/25\n",
            "469/469 [==============================] - 1s 3ms/step - loss: 0.0050 - accuracy: 0.9990\n",
            "Epoch 7/25\n",
            "469/469 [==============================] - 1s 3ms/step - loss: 0.0049 - accuracy: 0.9989\n",
            "Epoch 8/25\n",
            "469/469 [==============================] - 1s 3ms/step - loss: 0.0044 - accuracy: 0.9991\n",
            "Epoch 9/25\n",
            "469/469 [==============================] - 1s 3ms/step - loss: 0.0040 - accuracy: 0.9993\n",
            "Epoch 10/25\n",
            "469/469 [==============================] - 1s 3ms/step - loss: 0.0037 - accuracy: 0.9993\n",
            "Epoch 11/25\n",
            "469/469 [==============================] - 1s 3ms/step - loss: 0.0034 - accuracy: 0.9994\n",
            "Epoch 12/25\n",
            "469/469 [==============================] - 1s 3ms/step - loss: 0.0032 - accuracy: 0.9994\n",
            "Epoch 13/25\n",
            "469/469 [==============================] - 1s 3ms/step - loss: 0.0028 - accuracy: 0.9994\n",
            "Epoch 14/25\n",
            "469/469 [==============================] - 1s 3ms/step - loss: 0.0025 - accuracy: 0.9995\n",
            "Epoch 15/25\n",
            "469/469 [==============================] - 1s 3ms/step - loss: 0.0023 - accuracy: 0.9996\n",
            "Epoch 16/25\n",
            "469/469 [==============================] - 1s 3ms/step - loss: 0.0022 - accuracy: 0.9997\n",
            "Epoch 17/25\n",
            "469/469 [==============================] - 1s 3ms/step - loss: 0.0021 - accuracy: 0.9996\n",
            "Epoch 18/25\n",
            "469/469 [==============================] - 1s 3ms/step - loss: 0.0019 - accuracy: 0.9997\n",
            "Epoch 19/25\n",
            "469/469 [==============================] - 1s 3ms/step - loss: 0.0017 - accuracy: 0.9997\n",
            "Epoch 20/25\n",
            "469/469 [==============================] - 1s 3ms/step - loss: 0.0016 - accuracy: 0.9997\n",
            "Epoch 21/25\n",
            "469/469 [==============================] - 1s 3ms/step - loss: 0.0015 - accuracy: 0.9998\n",
            "Epoch 22/25\n",
            "469/469 [==============================] - 1s 3ms/step - loss: 0.0014 - accuracy: 0.9999\n",
            "Epoch 23/25\n",
            "469/469 [==============================] - 1s 3ms/step - loss: 0.0014 - accuracy: 0.9997\n",
            "Epoch 24/25\n",
            "469/469 [==============================] - 1s 3ms/step - loss: 0.0012 - accuracy: 0.9998\n",
            "Epoch 25/25\n",
            "469/469 [==============================] - 1s 3ms/step - loss: 0.0011 - accuracy: 0.9998\n",
            "313/313 [==============================] - 1s 2ms/step - loss: 0.1653 - accuracy: 0.9738\n",
            "Epoch 1/100\n",
            "391/391 [==============================] - 2s 4ms/step - loss: 0.4277 - accuracy: 0.8854 - val_loss: 0.2409 - val_accuracy: 0.9303\n",
            "Epoch 2/100\n",
            "391/391 [==============================] - 1s 3ms/step - loss: 0.2210 - accuracy: 0.9365 - val_loss: 0.1757 - val_accuracy: 0.9526\n",
            "Epoch 3/100\n",
            "391/391 [==============================] - 1s 3ms/step - loss: 0.1694 - accuracy: 0.9513 - val_loss: 0.1497 - val_accuracy: 0.9563\n",
            "Epoch 4/100\n",
            "391/391 [==============================] - 1s 3ms/step - loss: 0.1383 - accuracy: 0.9600 - val_loss: 0.1337 - val_accuracy: 0.9611\n",
            "Epoch 5/100\n",
            "391/391 [==============================] - 1s 4ms/step - loss: 0.1171 - accuracy: 0.9664 - val_loss: 0.1213 - val_accuracy: 0.9637\n",
            "Epoch 6/100\n",
            "391/391 [==============================] - 1s 3ms/step - loss: 0.1020 - accuracy: 0.9702 - val_loss: 0.1187 - val_accuracy: 0.9655\n",
            "Epoch 7/100\n",
            "391/391 [==============================] - 1s 3ms/step - loss: 0.0899 - accuracy: 0.9748 - val_loss: 0.1108 - val_accuracy: 0.9678\n",
            "Epoch 8/100\n",
            "391/391 [==============================] - 1s 4ms/step - loss: 0.0803 - accuracy: 0.9766 - val_loss: 0.1049 - val_accuracy: 0.9684\n",
            "Epoch 9/100\n",
            "391/391 [==============================] - 1s 3ms/step - loss: 0.0721 - accuracy: 0.9796 - val_loss: 0.1047 - val_accuracy: 0.9682\n",
            "Epoch 10/100\n",
            "391/391 [==============================] - 1s 3ms/step - loss: 0.0649 - accuracy: 0.9816 - val_loss: 0.0997 - val_accuracy: 0.9701\n",
            "Epoch 11/100\n",
            "391/391 [==============================] - 1s 3ms/step - loss: 0.0598 - accuracy: 0.9828 - val_loss: 0.1006 - val_accuracy: 0.9699\n",
            "Epoch 12/100\n",
            "391/391 [==============================] - 1s 3ms/step - loss: 0.0544 - accuracy: 0.9840 - val_loss: 0.0995 - val_accuracy: 0.9707\n",
            "Epoch 13/100\n",
            "391/391 [==============================] - 1s 3ms/step - loss: 0.0499 - accuracy: 0.9858 - val_loss: 0.1043 - val_accuracy: 0.9711\n",
            "Epoch 14/100\n",
            "391/391 [==============================] - 1s 3ms/step - loss: 0.0460 - accuracy: 0.9868 - val_loss: 0.0959 - val_accuracy: 0.9726\n",
            "Epoch 15/100\n",
            "391/391 [==============================] - 1s 3ms/step - loss: 0.0429 - accuracy: 0.9880 - val_loss: 0.1036 - val_accuracy: 0.9700\n",
            "Epoch 16/100\n",
            "391/391 [==============================] - 1s 3ms/step - loss: 0.0391 - accuracy: 0.9887 - val_loss: 0.1011 - val_accuracy: 0.9717\n",
            "Epoch 17/100\n",
            "391/391 [==============================] - 1s 3ms/step - loss: 0.0359 - accuracy: 0.9898 - val_loss: 0.1035 - val_accuracy: 0.9723\n",
            "Epoch 18/100\n",
            "391/391 [==============================] - 1s 3ms/step - loss: 0.0339 - accuracy: 0.9906 - val_loss: 0.1009 - val_accuracy: 0.9713\n",
            "Epoch 19/100\n",
            "391/391 [==============================] - 1s 3ms/step - loss: 0.0310 - accuracy: 0.9920 - val_loss: 0.1071 - val_accuracy: 0.9706\n",
            "Epoch 20/100\n",
            "391/391 [==============================] - 1s 3ms/step - loss: 0.0292 - accuracy: 0.9921 - val_loss: 0.1029 - val_accuracy: 0.9724\n",
            "Epoch 21/100\n",
            "391/391 [==============================] - 1s 3ms/step - loss: 0.0264 - accuracy: 0.9931 - val_loss: 0.1061 - val_accuracy: 0.9725\n",
            "Epoch 22/100\n",
            "391/391 [==============================] - 1s 4ms/step - loss: 0.0246 - accuracy: 0.9934 - val_loss: 0.1096 - val_accuracy: 0.9700\n",
            "Epoch 23/100\n",
            "391/391 [==============================] - 1s 3ms/step - loss: 0.0231 - accuracy: 0.9938 - val_loss: 0.1088 - val_accuracy: 0.9722\n",
            "Epoch 24/100\n",
            "391/391 [==============================] - 1s 3ms/step - loss: 0.0212 - accuracy: 0.9947 - val_loss: 0.1109 - val_accuracy: 0.9716\n",
            "Best epoch: 14\n",
            "Epoch 1/16\n",
            "469/469 [==============================] - 1s 3ms/step - loss: 0.0010 - accuracy: 0.9999\n",
            "Epoch 2/16\n",
            "469/469 [==============================] - 1s 3ms/step - loss: 8.8729e-04 - accuracy: 0.9999\n",
            "Epoch 3/16\n",
            "469/469 [==============================] - 1s 3ms/step - loss: 8.3474e-04 - accuracy: 0.9999\n",
            "Epoch 4/16\n",
            "469/469 [==============================] - 1s 3ms/step - loss: 7.0941e-04 - accuracy: 0.9999\n",
            "Epoch 5/16\n",
            "469/469 [==============================] - 1s 3ms/step - loss: 6.7747e-04 - accuracy: 0.9999\n",
            "Epoch 6/16\n",
            "469/469 [==============================] - 1s 3ms/step - loss: 6.8118e-04 - accuracy: 0.9999\n",
            "Epoch 7/16\n",
            "469/469 [==============================] - 1s 3ms/step - loss: 6.2990e-04 - accuracy: 0.9999\n",
            "Epoch 8/16\n",
            "469/469 [==============================] - 1s 3ms/step - loss: 5.2727e-04 - accuracy: 0.9999\n",
            "Epoch 9/16\n",
            "469/469 [==============================] - 1s 3ms/step - loss: 4.5669e-04 - accuracy: 0.9999\n",
            "Epoch 10/16\n",
            "469/469 [==============================] - 1s 3ms/step - loss: 4.6264e-04 - accuracy: 0.9999\n",
            "Epoch 11/16\n",
            "469/469 [==============================] - 1s 3ms/step - loss: 4.1722e-04 - accuracy: 0.9999\n",
            "Epoch 12/16\n",
            "469/469 [==============================] - 1s 3ms/step - loss: 3.2875e-04 - accuracy: 1.0000\n",
            "Epoch 13/16\n",
            "469/469 [==============================] - 1s 3ms/step - loss: 3.3750e-04 - accuracy: 0.9999\n",
            "Epoch 14/16\n",
            "469/469 [==============================] - 1s 3ms/step - loss: 2.8584e-04 - accuracy: 1.0000\n",
            "Epoch 15/16\n",
            "469/469 [==============================] - 1s 3ms/step - loss: 2.8425e-04 - accuracy: 1.0000\n",
            "Epoch 16/16\n",
            "469/469 [==============================] - 1s 3ms/step - loss: 2.3324e-04 - accuracy: 1.0000\n",
            "313/313 [==============================] - 1s 2ms/step - loss: 0.1991 - accuracy: 0.9730\n"
          ]
        }
      ],
      "source": [
        "def get_best_trained_model(hp):\n",
        "    best_epoch = get_best_epoch(hp)\n",
        "    model.fit(\n",
        "        x_train_full, y_train_full,\n",
        "        batch_size=128, epochs=int(best_epoch * 1.2))\n",
        "    return model\n",
        "\n",
        "best_models = []\n",
        "for hp in best_hps:\n",
        "    model = get_best_trained_model(hp)\n",
        "    model.evaluate(x_test, y_test)\n",
        "    best_models.append(model)"
      ]
    },
    {
      "cell_type": "code",
      "execution_count": 20,
      "metadata": {
        "id": "8iXwwUA3rH7R"
      },
      "outputs": [],
      "source": [
        "best_models = tuner.get_best_models(top_n)"
      ]
    },
    {
      "cell_type": "markdown",
      "metadata": {
        "id": "xcb-GhjHrH7S"
      },
      "source": [
        "#### 올바른 검색 공간을 만드는 기술"
      ]
    },
    {
      "cell_type": "markdown",
      "metadata": {
        "id": "Q29-ZdXerH7S"
      },
      "source": [
        "#### 하이퍼파라미터 튜닝의 미래: 자동화된 머신 러닝"
      ]
    },
    {
      "cell_type": "markdown",
      "metadata": {
        "id": "KvZL8T66rH7S"
      },
      "source": [
        "### 모델 앙상블"
      ]
    },
    {
      "cell_type": "markdown",
      "metadata": {
        "id": "rW2elH73rH7S"
      },
      "source": [
        "## 대규모 모델 훈련하기"
      ]
    },
    {
      "cell_type": "markdown",
      "metadata": {
        "id": "1zmKepQDrH7S"
      },
      "source": [
        "### 혼합 정밀도로 GPU에서 훈련 속도 높이기"
      ]
    },
    {
      "cell_type": "markdown",
      "metadata": {
        "id": "FiTxOStwrH7S"
      },
      "source": [
        "#### 부동 소수점 정밀도 이해하기"
      ]
    },
    {
      "cell_type": "code",
      "execution_count": 21,
      "metadata": {
        "id": "UVOLEGDprH7S",
        "outputId": "94f47e9d-9b78-4368-d7b3-de3071dd9af4",
        "colab": {
          "base_uri": "https://localhost:8080/"
        }
      },
      "outputs": [
        {
          "output_type": "execute_result",
          "data": {
            "text/plain": [
              "tf.float64"
            ]
          },
          "metadata": {},
          "execution_count": 21
        }
      ],
      "source": [
        "import tensorflow as tf\n",
        "import numpy as np\n",
        "np_array = np.zeros((2, 2))\n",
        "tf_tensor = tf.convert_to_tensor(np_array)\n",
        "tf_tensor.dtype"
      ]
    },
    {
      "cell_type": "code",
      "execution_count": 22,
      "metadata": {
        "id": "fDY0inFkrH7S",
        "outputId": "490cf9bd-ec29-42ce-b409-775b09233f8f",
        "colab": {
          "base_uri": "https://localhost:8080/"
        }
      },
      "outputs": [
        {
          "output_type": "execute_result",
          "data": {
            "text/plain": [
              "tf.float32"
            ]
          },
          "metadata": {},
          "execution_count": 22
        }
      ],
      "source": [
        "np_array = np.zeros((2, 2))\n",
        "tf_tensor = tf.convert_to_tensor(np_array, dtype=\"float32\")\n",
        "tf_tensor.dtype"
      ]
    },
    {
      "cell_type": "markdown",
      "metadata": {
        "id": "oxm1P30GrH7S"
      },
      "source": [
        "#### 혼합 정밀도로 훈련하기"
      ]
    },
    {
      "cell_type": "code",
      "execution_count": 23,
      "metadata": {
        "id": "L_6pGIwyrH7T"
      },
      "outputs": [],
      "source": [
        "from tensorflow import keras\n",
        "keras.mixed_precision.set_global_policy(\"mixed_float16\")"
      ]
    },
    {
      "cell_type": "markdown",
      "metadata": {
        "id": "puO6Pg7MrH7T"
      },
      "source": [
        "### 다중 GPU 훈련"
      ]
    },
    {
      "cell_type": "markdown",
      "metadata": {
        "id": "971AzBmmrH7T"
      },
      "source": [
        "#### 두 개 이상의 GPU 활용하기"
      ]
    },
    {
      "cell_type": "markdown",
      "metadata": {
        "id": "bC_21YWarH7T"
      },
      "source": [
        "#### 단일 호스트, 다중 장치 동기 훈련"
      ]
    },
    {
      "cell_type": "markdown",
      "metadata": {
        "id": "epTe-LuIrH7T"
      },
      "source": [
        "### TPU 훈련"
      ]
    },
    {
      "cell_type": "markdown",
      "metadata": {
        "id": "X401QfaSrH7T"
      },
      "source": [
        "#### 구글 코랩에서 TPU 사용하기"
      ]
    },
    {
      "cell_type": "markdown",
      "metadata": {
        "id": "pEf-ix3IrH7T"
      },
      "source": [
        "#### 스텝 융합을 활용하여 TPU 활용도 높이기"
      ]
    },
    {
      "cell_type": "markdown",
      "metadata": {
        "id": "wPo-xmzDrH7T"
      },
      "source": [
        "## 요약"
      ]
    }
  ],
  "metadata": {
    "colab": {
      "name": "chapter13_best-practices-for-the-real-world.i",
      "provenance": []
    },
    "kernelspec": {
      "display_name": "default:Python",
      "language": "python",
      "name": "conda-env-default-py"
    },
    "language_info": {
      "codemirror_mode": {
        "name": "ipython",
        "version": 3
      },
      "file_extension": ".py",
      "mimetype": "text/x-python",
      "name": "python",
      "nbconvert_exporter": "python",
      "pygments_lexer": "ipython3",
      "version": "3.9.10"
    },
    "accelerator": "GPU",
    "gpuClass": "standard"
  },
  "nbformat": 4,
  "nbformat_minor": 0
}