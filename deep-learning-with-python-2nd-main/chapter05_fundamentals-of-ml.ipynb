{
  "cells": [
    {
      "cell_type": "markdown",
      "metadata": {
        "id": "dJlvY6QDTk2x"
      },
      "source": [
        "이 노트북은 [케라스 창시자에게 배우는 딥러닝 2판](https://tensorflow.blog/kerasdl2/)의 예제 코드를 담고 있습니다.\n",
        "\n",
        "<table align=\"left\">\n",
        "    <tr>\n",
        "        <td>\n",
        "            <a href=\"https://colab.research.google.com/github/rickiepark/deep-learning-with-python-2nd/blob/main/chapter05_fundamentals-of-ml.ipynb\" target=\"_parent\"><img src=\"https://colab.research.google.com/assets/colab-badge.svg\" alt=\"Open In Colab\"/></a>\n",
        "        </td>\n",
        "    </tr>\n",
        "</table>"
      ]
    },
    {
      "cell_type": "markdown",
      "metadata": {
        "id": "mPvlk_EMTk24"
      },
      "source": [
        "# 머신 러닝의 기본 요소"
      ]
    },
    {
      "cell_type": "markdown",
      "metadata": {
        "id": "QIwdb7e7Tk25"
      },
      "source": [
        "## 일반화: 머신 러닝의 목표"
      ]
    },
    {
      "cell_type": "markdown",
      "metadata": {
        "id": "tPMwQAH7Tk29"
      },
      "source": [
        "### 과소적합과 과대적합"
      ]
    },
    {
      "cell_type": "markdown",
      "metadata": {
        "id": "pGWJKdoUTk2-"
      },
      "source": [
        "#### 잡음 섞인 훈련 데이터"
      ]
    },
    {
      "cell_type": "markdown",
      "metadata": {
        "id": "6px_zXDbTk2_"
      },
      "source": [
        "#### 불확실한 특성"
      ]
    },
    {
      "cell_type": "markdown",
      "metadata": {
        "id": "QgElP-miTk3A"
      },
      "source": [
        "#### 드문 특성과 가짜 상관관계"
      ]
    },
    {
      "cell_type": "markdown",
      "metadata": {
        "id": "VfRNGJB8Tk3B"
      },
      "source": [
        "**MNIST에 백색 잡음 픽셀과 0 픽셀을 추가하기**"
      ]
    },
    {
      "cell_type": "code",
      "execution_count": 1,
      "metadata": {
        "execution": {
          "iopub.execute_input": "2022-05-21T01:01:24.254476Z",
          "iopub.status.busy": "2022-05-21T01:01:24.253958Z",
          "iopub.status.idle": "2022-05-21T01:01:27.373051Z",
          "shell.execute_reply": "2022-05-21T01:01:27.372074Z"
        },
        "id": "KBz18RQVTk3C",
        "outputId": "c02f5e8b-f202-474a-f3f0-3ff584b536c9",
        "colab": {
          "base_uri": "https://localhost:8080/"
        }
      },
      "outputs": [
        {
          "output_type": "stream",
          "name": "stdout",
          "text": [
            "Downloading data from https://storage.googleapis.com/tensorflow/tf-keras-datasets/mnist.npz\n",
            "11490434/11490434 [==============================] - 0s 0us/step\n"
          ]
        }
      ],
      "source": [
        "from tensorflow.keras.datasets import mnist\n",
        "import numpy as np\n",
        "\n",
        "(train_images, train_labels), _ = mnist.load_data()\n",
        "train_images = train_images.reshape((60000, 28 * 28))\n",
        "train_images = train_images.astype(\"float32\") / 255\n",
        "\n",
        "train_images_with_noise_channels = np.concatenate(\n",
        "    [train_images, np.random.random((len(train_images), 784))], axis=1)\n",
        "\n",
        "train_images_with_zeros_channels = np.concatenate(\n",
        "    [train_images, np.zeros((len(train_images), 784))], axis=1)"
      ]
    },
    {
      "cell_type": "code",
      "execution_count": 2,
      "metadata": {
        "execution": {
          "iopub.execute_input": "2022-05-21T01:01:27.377455Z",
          "iopub.status.busy": "2022-05-21T01:01:27.376945Z",
          "iopub.status.idle": "2022-05-21T01:01:27.388938Z",
          "shell.execute_reply": "2022-05-21T01:01:27.387917Z"
        },
        "id": "8cUOncJ1Tk3F",
        "outputId": "2a3dee9a-4216-44c0-b42f-af46e217d344",
        "colab": {
          "base_uri": "https://localhost:8080/"
        }
      },
      "outputs": [
        {
          "output_type": "execute_result",
          "data": {
            "text/plain": [
              "(60000, 1568)"
            ]
          },
          "metadata": {},
          "execution_count": 2
        }
      ],
      "source": [
        "train_images_with_noise_channels.shape"
      ]
    },
    {
      "cell_type": "markdown",
      "metadata": {
        "id": "Eh9dzVI3Tk3I"
      },
      "source": [
        "**백색 잡음과 0을 추가한 MNIST 데이터에서 모델 훈련하기**"
      ]
    },
    {
      "cell_type": "code",
      "execution_count": 3,
      "metadata": {
        "execution": {
          "iopub.execute_input": "2022-05-21T01:01:27.392783Z",
          "iopub.status.busy": "2022-05-21T01:01:27.392444Z",
          "iopub.status.idle": "2022-05-21T01:02:25.502977Z",
          "shell.execute_reply": "2022-05-21T01:02:25.502078Z"
        },
        "id": "H8BUR0xETk3J",
        "outputId": "e11fe53b-adf6-48c0-9551-8bb08ad99200",
        "colab": {
          "base_uri": "https://localhost:8080/"
        }
      },
      "outputs": [
        {
          "output_type": "stream",
          "name": "stdout",
          "text": [
            "Epoch 1/10\n",
            "375/375 [==============================] - 6s 7ms/step - loss: 0.6131 - accuracy: 0.8128 - val_loss: 0.3282 - val_accuracy: 0.8984\n",
            "Epoch 2/10\n",
            "375/375 [==============================] - 2s 6ms/step - loss: 0.2433 - accuracy: 0.9243 - val_loss: 0.2150 - val_accuracy: 0.9346\n",
            "Epoch 3/10\n",
            "375/375 [==============================] - 2s 4ms/step - loss: 0.1586 - accuracy: 0.9513 - val_loss: 0.1745 - val_accuracy: 0.9510\n",
            "Epoch 4/10\n",
            "375/375 [==============================] - 1s 4ms/step - loss: 0.1150 - accuracy: 0.9638 - val_loss: 0.1363 - val_accuracy: 0.9581\n",
            "Epoch 5/10\n",
            "375/375 [==============================] - 1s 4ms/step - loss: 0.0823 - accuracy: 0.9743 - val_loss: 0.1341 - val_accuracy: 0.9607\n",
            "Epoch 6/10\n",
            "375/375 [==============================] - 1s 3ms/step - loss: 0.0616 - accuracy: 0.9806 - val_loss: 0.1170 - val_accuracy: 0.9669\n",
            "Epoch 7/10\n",
            "375/375 [==============================] - 1s 4ms/step - loss: 0.0461 - accuracy: 0.9850 - val_loss: 0.1313 - val_accuracy: 0.9647\n",
            "Epoch 8/10\n",
            "375/375 [==============================] - 1s 3ms/step - loss: 0.0338 - accuracy: 0.9887 - val_loss: 0.1462 - val_accuracy: 0.9610\n",
            "Epoch 9/10\n",
            "375/375 [==============================] - 1s 4ms/step - loss: 0.0268 - accuracy: 0.9922 - val_loss: 0.1416 - val_accuracy: 0.9647\n",
            "Epoch 10/10\n",
            "375/375 [==============================] - 1s 4ms/step - loss: 0.0217 - accuracy: 0.9931 - val_loss: 0.1378 - val_accuracy: 0.9696\n",
            "Epoch 1/10\n",
            "375/375 [==============================] - 2s 4ms/step - loss: 0.2858 - accuracy: 0.9164 - val_loss: 0.1457 - val_accuracy: 0.9584\n",
            "Epoch 2/10\n",
            "375/375 [==============================] - 1s 4ms/step - loss: 0.1204 - accuracy: 0.9652 - val_loss: 0.1181 - val_accuracy: 0.9632\n",
            "Epoch 3/10\n",
            "375/375 [==============================] - 1s 4ms/step - loss: 0.0788 - accuracy: 0.9768 - val_loss: 0.0958 - val_accuracy: 0.9715\n",
            "Epoch 4/10\n",
            "375/375 [==============================] - 1s 4ms/step - loss: 0.0576 - accuracy: 0.9828 - val_loss: 0.0830 - val_accuracy: 0.9760\n",
            "Epoch 5/10\n",
            "375/375 [==============================] - 1s 4ms/step - loss: 0.0425 - accuracy: 0.9871 - val_loss: 0.0830 - val_accuracy: 0.9772\n",
            "Epoch 6/10\n",
            "375/375 [==============================] - 1s 3ms/step - loss: 0.0313 - accuracy: 0.9910 - val_loss: 0.0930 - val_accuracy: 0.9737\n",
            "Epoch 7/10\n",
            "375/375 [==============================] - 1s 3ms/step - loss: 0.0249 - accuracy: 0.9925 - val_loss: 0.0769 - val_accuracy: 0.9797\n",
            "Epoch 8/10\n",
            "375/375 [==============================] - 1s 4ms/step - loss: 0.0184 - accuracy: 0.9946 - val_loss: 0.0844 - val_accuracy: 0.9797\n",
            "Epoch 9/10\n",
            "375/375 [==============================] - 1s 3ms/step - loss: 0.0142 - accuracy: 0.9958 - val_loss: 0.0825 - val_accuracy: 0.9789\n",
            "Epoch 10/10\n",
            "375/375 [==============================] - 1s 3ms/step - loss: 0.0106 - accuracy: 0.9969 - val_loss: 0.0830 - val_accuracy: 0.9814\n"
          ]
        }
      ],
      "source": [
        "from tensorflow import keras\n",
        "from tensorflow.keras import layers\n",
        "\n",
        "def get_model():\n",
        "    model = keras.Sequential([\n",
        "        layers.Dense(512, activation=\"relu\"),\n",
        "        layers.Dense(10, activation=\"softmax\")\n",
        "    ])\n",
        "    model.compile(optimizer=\"rmsprop\",\n",
        "                  loss=\"sparse_categorical_crossentropy\",\n",
        "                  metrics=[\"accuracy\"])\n",
        "    return model\n",
        "\n",
        "model = get_model()\n",
        "history_noise = model.fit(\n",
        "    train_images_with_noise_channels, train_labels,\n",
        "    epochs=10,\n",
        "    batch_size=128,\n",
        "    validation_split=0.2)\n",
        "\n",
        "model = get_model()\n",
        "history_zeros = model.fit(\n",
        "    train_images_with_zeros_channels, train_labels,\n",
        "    epochs=10,\n",
        "    batch_size=128,\n",
        "    validation_split=0.2)"
      ]
    },
    {
      "cell_type": "markdown",
      "metadata": {
        "id": "Vx3EJaPaTk3K"
      },
      "source": [
        "**검증 정확도 비교 그래프 그리기**"
      ]
    },
    {
      "cell_type": "code",
      "execution_count": 4,
      "metadata": {
        "execution": {
          "iopub.execute_input": "2022-05-21T01:02:25.507068Z",
          "iopub.status.busy": "2022-05-21T01:02:25.506610Z",
          "iopub.status.idle": "2022-05-21T01:02:26.352048Z",
          "shell.execute_reply": "2022-05-21T01:02:26.351089Z"
        },
        "id": "FZnn2Uw4Tk3L",
        "outputId": "b24d4950-75b0-4347-e3e0-82387afa14f1",
        "colab": {
          "base_uri": "https://localhost:8080/",
          "height": 295
        }
      },
      "outputs": [
        {
          "output_type": "display_data",
          "data": {
            "text/plain": [
              "<Figure size 432x288 with 1 Axes>"
            ],
            "image/png": "[encoded data removed]"
          },
          "metadata": {
            "needs_background": "light"
          }
        }
      ],
      "source": [
        "import matplotlib.pyplot as plt\n",
        "val_acc_noise = history_noise.history[\"val_accuracy\"]\n",
        "val_acc_zeros = history_zeros.history[\"val_accuracy\"]\n",
        "epochs = range(1, 11)\n",
        "plt.plot(epochs, val_acc_noise, \"b-\",\n",
        "         label=\"Validation accuracy with noise channels\")\n",
        "plt.plot(epochs, val_acc_zeros, \"b--\",\n",
        "         label=\"Validation accuracy with zeros channels\")\n",
        "plt.title(\"Effect of noise channels on validation accuracy\")\n",
        "plt.xlabel(\"Epochs\")\n",
        "plt.ylabel(\"Accuracy\")\n",
        "plt.legend()\n",
        "plt.show()"
      ]
    },
    {
      "cell_type": "markdown",
      "metadata": {
        "id": "ve-7nJARTk3N"
      },
      "source": [
        "### 딥러닝에서 일반화의 본질"
      ]
    },
    {
      "cell_type": "markdown",
      "metadata": {
        "id": "mMxFZdiQTk3O"
      },
      "source": [
        "**랜덤하게 섞은 레이블로 MNIST 모델 훈련하기**"
      ]
    },
    {
      "cell_type": "code",
      "execution_count": 5,
      "metadata": {
        "execution": {
          "iopub.execute_input": "2022-05-21T01:02:26.358294Z",
          "iopub.status.busy": "2022-05-21T01:02:26.357787Z",
          "iopub.status.idle": "2022-05-21T01:05:33.171731Z",
          "shell.execute_reply": "2022-05-21T01:05:33.170427Z"
        },
        "id": "8ocMHIMMTk3O",
        "outputId": "0316c007-217d-45cd-8241-dcdb647bee16",
        "colab": {
          "base_uri": "https://localhost:8080/"
        }
      },
      "outputs": [
        {
          "output_type": "stream",
          "name": "stdout",
          "text": [
            "Epoch 1/100\n",
            "375/375 [==============================] - 2s 4ms/step - loss: 2.3186 - accuracy: 0.1031 - val_loss: 2.3072 - val_accuracy: 0.1043\n",
            "Epoch 2/100\n",
            "375/375 [==============================] - 1s 4ms/step - loss: 2.2998 - accuracy: 0.1152 - val_loss: 2.3135 - val_accuracy: 0.1005\n",
            "Epoch 3/100\n",
            "375/375 [==============================] - 1s 4ms/step - loss: 2.2899 - accuracy: 0.1271 - val_loss: 2.3189 - val_accuracy: 0.1002\n",
            "Epoch 4/100\n",
            "375/375 [==============================] - 1s 4ms/step - loss: 2.2763 - accuracy: 0.1399 - val_loss: 2.3280 - val_accuracy: 0.1031\n",
            "Epoch 5/100\n",
            "375/375 [==============================] - 1s 4ms/step - loss: 2.2591 - accuracy: 0.1542 - val_loss: 2.3431 - val_accuracy: 0.0995\n",
            "Epoch 6/100\n",
            "375/375 [==============================] - 1s 3ms/step - loss: 2.2381 - accuracy: 0.1685 - val_loss: 2.3538 - val_accuracy: 0.1006\n",
            "Epoch 7/100\n",
            "375/375 [==============================] - 1s 3ms/step - loss: 2.2124 - accuracy: 0.1839 - val_loss: 2.3768 - val_accuracy: 0.1002\n",
            "Epoch 8/100\n",
            "375/375 [==============================] - 1s 3ms/step - loss: 2.1854 - accuracy: 0.2006 - val_loss: 2.3873 - val_accuracy: 0.1012\n",
            "Epoch 9/100\n",
            "375/375 [==============================] - 1s 3ms/step - loss: 2.1549 - accuracy: 0.2142 - val_loss: 2.4122 - val_accuracy: 0.0979\n",
            "Epoch 10/100\n",
            "375/375 [==============================] - 1s 4ms/step - loss: 2.1223 - accuracy: 0.2318 - val_loss: 2.4398 - val_accuracy: 0.0990\n",
            "Epoch 11/100\n",
            "375/375 [==============================] - 1s 3ms/step - loss: 2.0893 - accuracy: 0.2485 - val_loss: 2.4616 - val_accuracy: 0.0998\n",
            "Epoch 12/100\n",
            "375/375 [==============================] - 1s 4ms/step - loss: 2.0555 - accuracy: 0.2647 - val_loss: 2.4841 - val_accuracy: 0.0973\n",
            "Epoch 13/100\n",
            "375/375 [==============================] - 1s 3ms/step - loss: 2.0202 - accuracy: 0.2788 - val_loss: 2.5276 - val_accuracy: 0.1006\n",
            "Epoch 14/100\n",
            "375/375 [==============================] - 1s 4ms/step - loss: 1.9841 - accuracy: 0.2942 - val_loss: 2.5473 - val_accuracy: 0.0988\n",
            "Epoch 15/100\n",
            "375/375 [==============================] - 1s 3ms/step - loss: 1.9489 - accuracy: 0.3109 - val_loss: 2.5792 - val_accuracy: 0.0996\n",
            "Epoch 16/100\n",
            "375/375 [==============================] - 1s 4ms/step - loss: 1.9130 - accuracy: 0.3245 - val_loss: 2.6166 - val_accuracy: 0.0995\n",
            "Epoch 17/100\n",
            "375/375 [==============================] - 1s 4ms/step - loss: 1.8770 - accuracy: 0.3402 - val_loss: 2.6580 - val_accuracy: 0.0980\n",
            "Epoch 18/100\n",
            "375/375 [==============================] - 1s 4ms/step - loss: 1.8433 - accuracy: 0.3550 - val_loss: 2.6808 - val_accuracy: 0.0995\n",
            "Epoch 19/100\n",
            "375/375 [==============================] - 1s 4ms/step - loss: 1.8088 - accuracy: 0.3680 - val_loss: 2.7338 - val_accuracy: 0.0979\n",
            "Epoch 20/100\n",
            "375/375 [==============================] - 1s 4ms/step - loss: 1.7760 - accuracy: 0.3830 - val_loss: 2.7485 - val_accuracy: 0.0988\n",
            "Epoch 21/100\n",
            "375/375 [==============================] - 1s 3ms/step - loss: 1.7443 - accuracy: 0.3923 - val_loss: 2.8009 - val_accuracy: 0.1004\n",
            "Epoch 22/100\n",
            "375/375 [==============================] - 1s 4ms/step - loss: 1.7121 - accuracy: 0.4042 - val_loss: 2.8423 - val_accuracy: 0.0993\n",
            "Epoch 23/100\n",
            "375/375 [==============================] - 1s 4ms/step - loss: 1.6805 - accuracy: 0.4171 - val_loss: 2.8660 - val_accuracy: 0.1023\n",
            "Epoch 24/100\n",
            "375/375 [==============================] - 2s 5ms/step - loss: 1.6496 - accuracy: 0.4316 - val_loss: 2.9057 - val_accuracy: 0.0972\n",
            "Epoch 25/100\n",
            "375/375 [==============================] - 2s 4ms/step - loss: 1.6222 - accuracy: 0.4423 - val_loss: 2.9563 - val_accuracy: 0.0954\n",
            "Epoch 26/100\n",
            "375/375 [==============================] - 1s 4ms/step - loss: 1.5917 - accuracy: 0.4545 - val_loss: 2.9968 - val_accuracy: 0.0995\n",
            "Epoch 27/100\n",
            "375/375 [==============================] - 1s 4ms/step - loss: 1.5636 - accuracy: 0.4605 - val_loss: 3.0348 - val_accuracy: 0.1004\n",
            "Epoch 28/100\n",
            "375/375 [==============================] - 1s 3ms/step - loss: 1.5354 - accuracy: 0.4737 - val_loss: 3.0866 - val_accuracy: 0.0952\n",
            "Epoch 29/100\n",
            "375/375 [==============================] - 1s 4ms/step - loss: 1.5103 - accuracy: 0.4828 - val_loss: 3.1236 - val_accuracy: 0.0982\n",
            "Epoch 30/100\n",
            "375/375 [==============================] - 1s 3ms/step - loss: 1.4831 - accuracy: 0.4900 - val_loss: 3.1906 - val_accuracy: 0.0980\n",
            "Epoch 31/100\n",
            "375/375 [==============================] - 1s 3ms/step - loss: 1.4577 - accuracy: 0.5029 - val_loss: 3.2379 - val_accuracy: 0.0943\n",
            "Epoch 32/100\n",
            "375/375 [==============================] - 1s 4ms/step - loss: 1.4322 - accuracy: 0.5096 - val_loss: 3.2618 - val_accuracy: 0.0991\n",
            "Epoch 33/100\n",
            "375/375 [==============================] - 1s 3ms/step - loss: 1.4090 - accuracy: 0.5195 - val_loss: 3.3252 - val_accuracy: 0.0960\n",
            "Epoch 34/100\n",
            "375/375 [==============================] - 1s 3ms/step - loss: 1.3839 - accuracy: 0.5294 - val_loss: 3.3417 - val_accuracy: 0.0966\n",
            "Epoch 35/100\n",
            "375/375 [==============================] - 1s 3ms/step - loss: 1.3598 - accuracy: 0.5364 - val_loss: 3.4162 - val_accuracy: 0.0969\n",
            "Epoch 36/100\n",
            "375/375 [==============================] - 1s 3ms/step - loss: 1.3375 - accuracy: 0.5445 - val_loss: 3.4589 - val_accuracy: 0.0967\n",
            "Epoch 37/100\n",
            "375/375 [==============================] - 1s 3ms/step - loss: 1.3136 - accuracy: 0.5531 - val_loss: 3.5233 - val_accuracy: 0.0997\n",
            "Epoch 38/100\n",
            "375/375 [==============================] - 1s 3ms/step - loss: 1.2943 - accuracy: 0.5593 - val_loss: 3.5791 - val_accuracy: 0.0983\n",
            "Epoch 39/100\n",
            "375/375 [==============================] - 1s 4ms/step - loss: 1.2713 - accuracy: 0.5673 - val_loss: 3.6012 - val_accuracy: 0.0960\n",
            "Epoch 40/100\n",
            "375/375 [==============================] - 1s 4ms/step - loss: 1.2496 - accuracy: 0.5776 - val_loss: 3.6670 - val_accuracy: 0.0997\n",
            "Epoch 41/100\n",
            "375/375 [==============================] - 1s 3ms/step - loss: 1.2283 - accuracy: 0.5854 - val_loss: 3.7607 - val_accuracy: 0.1000\n",
            "Epoch 42/100\n",
            "375/375 [==============================] - 1s 4ms/step - loss: 1.2087 - accuracy: 0.5919 - val_loss: 3.7635 - val_accuracy: 0.1016\n",
            "Epoch 43/100\n",
            "375/375 [==============================] - 1s 4ms/step - loss: 1.1901 - accuracy: 0.5993 - val_loss: 3.8218 - val_accuracy: 0.0969\n",
            "Epoch 44/100\n",
            "375/375 [==============================] - 1s 3ms/step - loss: 1.1692 - accuracy: 0.6067 - val_loss: 3.8766 - val_accuracy: 0.0982\n",
            "Epoch 45/100\n",
            "375/375 [==============================] - 1s 3ms/step - loss: 1.1501 - accuracy: 0.6154 - val_loss: 3.9646 - val_accuracy: 0.0979\n",
            "Epoch 46/100\n",
            "375/375 [==============================] - 1s 4ms/step - loss: 1.1351 - accuracy: 0.6165 - val_loss: 3.9600 - val_accuracy: 0.0982\n",
            "Epoch 47/100\n",
            "375/375 [==============================] - 1s 4ms/step - loss: 1.1132 - accuracy: 0.6260 - val_loss: 4.0421 - val_accuracy: 0.0989\n",
            "Epoch 48/100\n",
            "375/375 [==============================] - 1s 3ms/step - loss: 1.0965 - accuracy: 0.6302 - val_loss: 4.0925 - val_accuracy: 0.0962\n",
            "Epoch 49/100\n",
            "375/375 [==============================] - 1s 4ms/step - loss: 1.0788 - accuracy: 0.6388 - val_loss: 4.1590 - val_accuracy: 0.0976\n",
            "Epoch 50/100\n",
            "375/375 [==============================] - 1s 4ms/step - loss: 1.0611 - accuracy: 0.6461 - val_loss: 4.2004 - val_accuracy: 0.0961\n",
            "Epoch 51/100\n",
            "375/375 [==============================] - 1s 4ms/step - loss: 1.0452 - accuracy: 0.6500 - val_loss: 4.3015 - val_accuracy: 0.0936\n",
            "Epoch 52/100\n",
            "375/375 [==============================] - 1s 4ms/step - loss: 1.0287 - accuracy: 0.6556 - val_loss: 4.3338 - val_accuracy: 0.1009\n",
            "Epoch 53/100\n",
            "375/375 [==============================] - 1s 4ms/step - loss: 1.0127 - accuracy: 0.6629 - val_loss: 4.3611 - val_accuracy: 0.1011\n",
            "Epoch 54/100\n",
            "375/375 [==============================] - 1s 3ms/step - loss: 0.9988 - accuracy: 0.6665 - val_loss: 4.4318 - val_accuracy: 0.0972\n",
            "Epoch 55/100\n",
            "375/375 [==============================] - 1s 3ms/step - loss: 0.9826 - accuracy: 0.6719 - val_loss: 4.4911 - val_accuracy: 0.0979\n",
            "Epoch 56/100\n",
            "375/375 [==============================] - 1s 4ms/step - loss: 0.9643 - accuracy: 0.6779 - val_loss: 4.5594 - val_accuracy: 0.0988\n",
            "Epoch 57/100\n",
            "375/375 [==============================] - 1s 4ms/step - loss: 0.9509 - accuracy: 0.6826 - val_loss: 4.5985 - val_accuracy: 0.0988\n",
            "Epoch 58/100\n",
            "375/375 [==============================] - 1s 4ms/step - loss: 0.9366 - accuracy: 0.6877 - val_loss: 4.6551 - val_accuracy: 0.1031\n",
            "Epoch 59/100\n",
            "375/375 [==============================] - 1s 3ms/step - loss: 0.9263 - accuracy: 0.6910 - val_loss: 4.7360 - val_accuracy: 0.0979\n",
            "Epoch 60/100\n",
            "375/375 [==============================] - 1s 3ms/step - loss: 0.9067 - accuracy: 0.6985 - val_loss: 4.7859 - val_accuracy: 0.0980\n",
            "Epoch 61/100\n",
            "375/375 [==============================] - 1s 4ms/step - loss: 0.8946 - accuracy: 0.7025 - val_loss: 4.8275 - val_accuracy: 0.0989\n",
            "Epoch 62/100\n",
            "375/375 [==============================] - 1s 4ms/step - loss: 0.8781 - accuracy: 0.7095 - val_loss: 4.9280 - val_accuracy: 0.0955\n",
            "Epoch 63/100\n",
            "375/375 [==============================] - 1s 3ms/step - loss: 0.8655 - accuracy: 0.7144 - val_loss: 4.9603 - val_accuracy: 0.0980\n",
            "Epoch 64/100\n",
            "375/375 [==============================] - 1s 3ms/step - loss: 0.8543 - accuracy: 0.7177 - val_loss: 5.0255 - val_accuracy: 0.0976\n",
            "Epoch 65/100\n",
            "375/375 [==============================] - 1s 3ms/step - loss: 0.8408 - accuracy: 0.7217 - val_loss: 5.0733 - val_accuracy: 0.0986\n",
            "Epoch 66/100\n",
            "375/375 [==============================] - 1s 3ms/step - loss: 0.8266 - accuracy: 0.7276 - val_loss: 5.1761 - val_accuracy: 0.0940\n",
            "Epoch 67/100\n",
            "375/375 [==============================] - 1s 4ms/step - loss: 0.8154 - accuracy: 0.7306 - val_loss: 5.2076 - val_accuracy: 0.0965\n",
            "Epoch 68/100\n",
            "375/375 [==============================] - 1s 3ms/step - loss: 0.8016 - accuracy: 0.7348 - val_loss: 5.2610 - val_accuracy: 0.0971\n",
            "Epoch 69/100\n",
            "375/375 [==============================] - 1s 4ms/step - loss: 0.7899 - accuracy: 0.7410 - val_loss: 5.3232 - val_accuracy: 0.0960\n",
            "Epoch 70/100\n",
            "375/375 [==============================] - 1s 3ms/step - loss: 0.7794 - accuracy: 0.7421 - val_loss: 5.3920 - val_accuracy: 0.1001\n",
            "Epoch 71/100\n",
            "375/375 [==============================] - 1s 4ms/step - loss: 0.7674 - accuracy: 0.7476 - val_loss: 5.4507 - val_accuracy: 0.0969\n",
            "Epoch 72/100\n",
            "375/375 [==============================] - 1s 3ms/step - loss: 0.7548 - accuracy: 0.7519 - val_loss: 5.5362 - val_accuracy: 0.0983\n",
            "Epoch 73/100\n",
            "375/375 [==============================] - 1s 3ms/step - loss: 0.7438 - accuracy: 0.7580 - val_loss: 5.5741 - val_accuracy: 0.0978\n",
            "Epoch 74/100\n",
            "375/375 [==============================] - 1s 4ms/step - loss: 0.7345 - accuracy: 0.7598 - val_loss: 5.6117 - val_accuracy: 0.0986\n",
            "Epoch 75/100\n",
            "375/375 [==============================] - 1s 4ms/step - loss: 0.7224 - accuracy: 0.7666 - val_loss: 5.6968 - val_accuracy: 0.0982\n",
            "Epoch 76/100\n",
            "375/375 [==============================] - 1s 3ms/step - loss: 0.7116 - accuracy: 0.7681 - val_loss: 5.7686 - val_accuracy: 0.0978\n",
            "Epoch 77/100\n",
            "375/375 [==============================] - 1s 4ms/step - loss: 0.7010 - accuracy: 0.7710 - val_loss: 5.8179 - val_accuracy: 0.0957\n",
            "Epoch 78/100\n",
            "375/375 [==============================] - 1s 3ms/step - loss: 0.6926 - accuracy: 0.7730 - val_loss: 5.9001 - val_accuracy: 0.0996\n",
            "Epoch 79/100\n",
            "375/375 [==============================] - 1s 4ms/step - loss: 0.6785 - accuracy: 0.7779 - val_loss: 6.0065 - val_accuracy: 0.0981\n",
            "Epoch 80/100\n",
            "375/375 [==============================] - 1s 3ms/step - loss: 0.6697 - accuracy: 0.7811 - val_loss: 5.9748 - val_accuracy: 0.0962\n",
            "Epoch 81/100\n",
            "375/375 [==============================] - 1s 3ms/step - loss: 0.6605 - accuracy: 0.7837 - val_loss: 6.1038 - val_accuracy: 0.0993\n",
            "Epoch 82/100\n",
            "375/375 [==============================] - 1s 4ms/step - loss: 0.6519 - accuracy: 0.7861 - val_loss: 6.1116 - val_accuracy: 0.0982\n",
            "Epoch 83/100\n",
            "375/375 [==============================] - 1s 3ms/step - loss: 0.6421 - accuracy: 0.7935 - val_loss: 6.2254 - val_accuracy: 0.0973\n",
            "Epoch 84/100\n",
            "375/375 [==============================] - 1s 4ms/step - loss: 0.6318 - accuracy: 0.7950 - val_loss: 6.2705 - val_accuracy: 0.0985\n",
            "Epoch 85/100\n",
            "375/375 [==============================] - 1s 3ms/step - loss: 0.6226 - accuracy: 0.7975 - val_loss: 6.3630 - val_accuracy: 0.0984\n",
            "Epoch 86/100\n",
            "375/375 [==============================] - 1s 3ms/step - loss: 0.6150 - accuracy: 0.7994 - val_loss: 6.4845 - val_accuracy: 0.0974\n",
            "Epoch 87/100\n",
            "375/375 [==============================] - 1s 3ms/step - loss: 0.6059 - accuracy: 0.8046 - val_loss: 6.4846 - val_accuracy: 0.0990\n",
            "Epoch 88/100\n",
            "375/375 [==============================] - 1s 3ms/step - loss: 0.5958 - accuracy: 0.8067 - val_loss: 6.5508 - val_accuracy: 0.0988\n",
            "Epoch 89/100\n",
            "375/375 [==============================] - 1s 4ms/step - loss: 0.5899 - accuracy: 0.8086 - val_loss: 6.6126 - val_accuracy: 0.0976\n",
            "Epoch 90/100\n",
            "375/375 [==============================] - 1s 3ms/step - loss: 0.5804 - accuracy: 0.8112 - val_loss: 6.6667 - val_accuracy: 0.0968\n",
            "Epoch 91/100\n",
            "375/375 [==============================] - 1s 4ms/step - loss: 0.5712 - accuracy: 0.8164 - val_loss: 6.7257 - val_accuracy: 0.0975\n",
            "Epoch 92/100\n",
            "375/375 [==============================] - 1s 3ms/step - loss: 0.5629 - accuracy: 0.8184 - val_loss: 6.8342 - val_accuracy: 0.0983\n",
            "Epoch 93/100\n",
            "375/375 [==============================] - 2s 4ms/step - loss: 0.5571 - accuracy: 0.8215 - val_loss: 6.9250 - val_accuracy: 0.0980\n",
            "Epoch 94/100\n",
            "375/375 [==============================] - 2s 4ms/step - loss: 0.5470 - accuracy: 0.8248 - val_loss: 6.9499 - val_accuracy: 0.0957\n",
            "Epoch 95/100\n",
            "375/375 [==============================] - 1s 4ms/step - loss: 0.5406 - accuracy: 0.8264 - val_loss: 7.0343 - val_accuracy: 0.0937\n",
            "Epoch 96/100\n",
            "375/375 [==============================] - 1s 4ms/step - loss: 0.5331 - accuracy: 0.8278 - val_loss: 7.1203 - val_accuracy: 0.0983\n",
            "Epoch 97/100\n",
            "375/375 [==============================] - 1s 3ms/step - loss: 0.5236 - accuracy: 0.8311 - val_loss: 7.1420 - val_accuracy: 0.0961\n",
            "Epoch 98/100\n",
            "375/375 [==============================] - 1s 4ms/step - loss: 0.5185 - accuracy: 0.8343 - val_loss: 7.2705 - val_accuracy: 0.0988\n",
            "Epoch 99/100\n",
            "375/375 [==============================] - 1s 3ms/step - loss: 0.5110 - accuracy: 0.8358 - val_loss: 7.2819 - val_accuracy: 0.0998\n",
            "Epoch 100/100\n",
            "375/375 [==============================] - 1s 3ms/step - loss: 0.5029 - accuracy: 0.8384 - val_loss: 7.3875 - val_accuracy: 0.0981\n"
          ]
        },
        {
          "output_type": "execute_result",
          "data": {
            "text/plain": [
              "<keras.callbacks.History at 0x7f70b409f150>"
            ]
          },
          "metadata": {},
          "execution_count": 5
        }
      ],
      "source": [
        "(train_images, train_labels), _ = mnist.load_data()\n",
        "train_images = train_images.reshape((60000, 28 * 28))\n",
        "train_images = train_images.astype(\"float32\") / 255\n",
        "\n",
        "random_train_labels = train_labels[:]\n",
        "np.random.shuffle(random_train_labels)\n",
        "\n",
        "model = keras.Sequential([\n",
        "    layers.Dense(512, activation=\"relu\"),\n",
        "    layers.Dense(10, activation=\"softmax\")\n",
        "])\n",
        "model.compile(optimizer=\"rmsprop\",\n",
        "              loss=\"sparse_categorical_crossentropy\",\n",
        "              metrics=[\"accuracy\"])\n",
        "model.fit(train_images, random_train_labels,\n",
        "          epochs=100,\n",
        "          batch_size=128,\n",
        "          validation_split=0.2)"
      ]
    },
    {
      "cell_type": "markdown",
      "metadata": {
        "id": "oXAyqCrXTk3P"
      },
      "source": [
        "#### 매니폴드 가설"
      ]
    },
    {
      "cell_type": "markdown",
      "metadata": {
        "id": "L0Uvbr43Tk3P"
      },
      "source": [
        "#### 일반화의 원천인 보간"
      ]
    },
    {
      "cell_type": "markdown",
      "metadata": {
        "id": "pHMR5mNZTk3P"
      },
      "source": [
        "#### 딥러닝이 작동하는 이유"
      ]
    },
    {
      "cell_type": "markdown",
      "metadata": {
        "id": "eb0YYZR4Tk3P"
      },
      "source": [
        "#### 가장 중요한 훈련 데이터"
      ]
    },
    {
      "cell_type": "markdown",
      "metadata": {
        "id": "PunfvZ7uTk3Q"
      },
      "source": [
        "## 머신 러닝 모델 평가"
      ]
    },
    {
      "cell_type": "markdown",
      "metadata": {
        "id": "5P4VJfMFTk3Q"
      },
      "source": [
        "### 훈련, 검증, 테스트 세트"
      ]
    },
    {
      "cell_type": "markdown",
      "metadata": {
        "id": "mrwB851-Tk3Q"
      },
      "source": [
        "#### 단순 홀드아웃 검증"
      ]
    },
    {
      "cell_type": "markdown",
      "metadata": {
        "id": "1sEzzYjjTk3R"
      },
      "source": [
        "#### K-겹 교차 검증"
      ]
    },
    {
      "cell_type": "markdown",
      "metadata": {
        "id": "XYrpFDZQTk3R"
      },
      "source": [
        "#### 셔플링을 사용한 반복 K-겹 교차 검증"
      ]
    },
    {
      "cell_type": "markdown",
      "metadata": {
        "id": "kngFjE0QTk3R"
      },
      "source": [
        "### 상식 수준의 기준점을 넘기"
      ]
    },
    {
      "cell_type": "markdown",
      "metadata": {
        "id": "czziT5WVTk3R"
      },
      "source": [
        "### 모델 평가에 대해 유념해야 할 점"
      ]
    },
    {
      "cell_type": "markdown",
      "metadata": {
        "id": "p6nofQfTTk3R"
      },
      "source": [
        "## 훈련 성능 향상하기"
      ]
    },
    {
      "cell_type": "markdown",
      "metadata": {
        "id": "XtWaoT4BTk3S"
      },
      "source": [
        "### 경사 하강법의 핵심 파라미터 튜닝하기"
      ]
    },
    {
      "cell_type": "markdown",
      "metadata": {
        "id": "pRY-dxWTTk3S"
      },
      "source": [
        "**잘못된 높은 학습률로 MNIST 모델 훈련하기**"
      ]
    },
    {
      "cell_type": "code",
      "execution_count": 6,
      "metadata": {
        "execution": {
          "iopub.execute_input": "2022-05-21T01:05:33.177460Z",
          "iopub.status.busy": "2022-05-21T01:05:33.177117Z",
          "iopub.status.idle": "2022-05-21T01:05:52.585061Z",
          "shell.execute_reply": "2022-05-21T01:05:52.584241Z"
        },
        "id": "ZqvcFMPRTk3T",
        "outputId": "18e0b507-88da-465a-f1c8-073a2760fb67",
        "colab": {
          "base_uri": "https://localhost:8080/"
        }
      },
      "outputs": [
        {
          "output_type": "stream",
          "name": "stdout",
          "text": [
            "Epoch 1/10\n",
            "375/375 [==============================] - 2s 4ms/step - loss: 1072.8800 - accuracy: 0.4609 - val_loss: 8.7493 - val_accuracy: 0.3795\n",
            "Epoch 2/10\n",
            "375/375 [==============================] - 1s 3ms/step - loss: 4.0622 - accuracy: 0.3121 - val_loss: 2.1783 - val_accuracy: 0.3994\n",
            "Epoch 3/10\n",
            "375/375 [==============================] - 1s 4ms/step - loss: 4.2331 - accuracy: 0.3183 - val_loss: 2.0610 - val_accuracy: 0.3086\n",
            "Epoch 4/10\n",
            "375/375 [==============================] - 1s 4ms/step - loss: 2.9689 - accuracy: 0.3133 - val_loss: 4.8494 - val_accuracy: 0.3406\n",
            "Epoch 5/10\n",
            "375/375 [==============================] - 1s 3ms/step - loss: 2.5279 - accuracy: 0.2779 - val_loss: 2.1086 - val_accuracy: 0.2690\n",
            "Epoch 6/10\n",
            "375/375 [==============================] - 1s 3ms/step - loss: 2.6724 - accuracy: 0.3167 - val_loss: 2.4861 - val_accuracy: 0.3088\n",
            "Epoch 7/10\n",
            "375/375 [==============================] - 1s 4ms/step - loss: 2.6682 - accuracy: 0.2937 - val_loss: 2.5677 - val_accuracy: 0.3142\n",
            "Epoch 8/10\n",
            "375/375 [==============================] - 1s 3ms/step - loss: 2.3338 - accuracy: 0.3061 - val_loss: 2.0164 - val_accuracy: 0.3242\n",
            "Epoch 9/10\n",
            "375/375 [==============================] - 1s 3ms/step - loss: 2.6984 - accuracy: 0.3266 - val_loss: 3.2928 - val_accuracy: 0.3170\n",
            "Epoch 10/10\n",
            "375/375 [==============================] - 1s 4ms/step - loss: 2.3395 - accuracy: 0.3095 - val_loss: 2.5336 - val_accuracy: 0.3151\n"
          ]
        },
        {
          "output_type": "execute_result",
          "data": {
            "text/plain": [
              "<keras.callbacks.History at 0x7f709e681b50>"
            ]
          },
          "metadata": {},
          "execution_count": 6
        }
      ],
      "source": [
        "(train_images, train_labels), _ = mnist.load_data()\n",
        "train_images = train_images.reshape((60000, 28 * 28))\n",
        "train_images = train_images.astype(\"float32\") / 255\n",
        "\n",
        "model = keras.Sequential([\n",
        "    layers.Dense(512, activation=\"relu\"),\n",
        "    layers.Dense(10, activation=\"softmax\")\n",
        "])\n",
        "model.compile(optimizer=keras.optimizers.RMSprop(1.),\n",
        "              loss=\"sparse_categorical_crossentropy\",\n",
        "              metrics=[\"accuracy\"])\n",
        "model.fit(train_images, train_labels,\n",
        "          epochs=10,\n",
        "          batch_size=128,\n",
        "          validation_split=0.2)"
      ]
    },
    {
      "cell_type": "markdown",
      "metadata": {
        "id": "77iXsoAYTk3U"
      },
      "source": [
        "**같은 모델을 적절한 학습률로 훈련하기**"
      ]
    },
    {
      "cell_type": "code",
      "execution_count": 7,
      "metadata": {
        "execution": {
          "iopub.execute_input": "2022-05-21T01:05:52.588549Z",
          "iopub.status.busy": "2022-05-21T01:05:52.588260Z",
          "iopub.status.idle": "2022-05-21T01:06:11.526008Z",
          "shell.execute_reply": "2022-05-21T01:06:11.525112Z"
        },
        "id": "TQAqlYm0Tk3U",
        "outputId": "7b26b962-1097-426b-a3b0-16213cc0194b",
        "colab": {
          "base_uri": "https://localhost:8080/"
        }
      },
      "outputs": [
        {
          "output_type": "stream",
          "name": "stdout",
          "text": [
            "Epoch 1/10\n",
            "375/375 [==============================] - 2s 4ms/step - loss: 0.3588 - accuracy: 0.9128 - val_loss: 0.2375 - val_accuracy: 0.9398\n",
            "Epoch 2/10\n",
            "375/375 [==============================] - 1s 4ms/step - loss: 0.1431 - accuracy: 0.9638 - val_loss: 0.1824 - val_accuracy: 0.9566\n",
            "Epoch 3/10\n",
            "375/375 [==============================] - 1s 4ms/step - loss: 0.1178 - accuracy: 0.9721 - val_loss: 0.1684 - val_accuracy: 0.9709\n",
            "Epoch 4/10\n",
            "375/375 [==============================] - 1s 4ms/step - loss: 0.0987 - accuracy: 0.9786 - val_loss: 0.1908 - val_accuracy: 0.9693\n",
            "Epoch 5/10\n",
            "375/375 [==============================] - 1s 3ms/step - loss: 0.0854 - accuracy: 0.9819 - val_loss: 0.2492 - val_accuracy: 0.9664\n",
            "Epoch 6/10\n",
            "375/375 [==============================] - 1s 3ms/step - loss: 0.0858 - accuracy: 0.9835 - val_loss: 0.2023 - val_accuracy: 0.9728\n",
            "Epoch 7/10\n",
            "375/375 [==============================] - 1s 4ms/step - loss: 0.0713 - accuracy: 0.9859 - val_loss: 0.2328 - val_accuracy: 0.9728\n",
            "Epoch 8/10\n",
            "375/375 [==============================] - 1s 4ms/step - loss: 0.0629 - accuracy: 0.9884 - val_loss: 0.2934 - val_accuracy: 0.9693\n",
            "Epoch 9/10\n",
            "375/375 [==============================] - 1s 3ms/step - loss: 0.0601 - accuracy: 0.9896 - val_loss: 0.3093 - val_accuracy: 0.9735\n",
            "Epoch 10/10\n",
            "375/375 [==============================] - 1s 3ms/step - loss: 0.0609 - accuracy: 0.9899 - val_loss: 0.3793 - val_accuracy: 0.9707\n"
          ]
        },
        {
          "output_type": "execute_result",
          "data": {
            "text/plain": [
              "<keras.callbacks.History at 0x7f71100bba50>"
            ]
          },
          "metadata": {},
          "execution_count": 7
        }
      ],
      "source": [
        "model = keras.Sequential([\n",
        "    layers.Dense(512, activation=\"relu\"),\n",
        "    layers.Dense(10, activation=\"softmax\")\n",
        "])\n",
        "model.compile(optimizer=keras.optimizers.RMSprop(1e-2),\n",
        "              loss=\"sparse_categorical_crossentropy\",\n",
        "              metrics=[\"accuracy\"])\n",
        "model.fit(train_images, train_labels,\n",
        "          epochs=10,\n",
        "          batch_size=128,\n",
        "          validation_split=0.2)"
      ]
    },
    {
      "cell_type": "markdown",
      "metadata": {
        "id": "9IVJeVeOTk3V"
      },
      "source": [
        "### 구조에 대해 더 나은 가정하기"
      ]
    },
    {
      "cell_type": "markdown",
      "metadata": {
        "id": "Br1F2jcwTk3V"
      },
      "source": [
        "### 모델 용량 늘리기"
      ]
    },
    {
      "cell_type": "markdown",
      "metadata": {
        "id": "Ubvdcv_-Tk3V"
      },
      "source": [
        "**MNIST 데이터를 사용한 간단한 로지스틱 회귀 모델**"
      ]
    },
    {
      "cell_type": "code",
      "execution_count": 8,
      "metadata": {
        "execution": {
          "iopub.execute_input": "2022-05-21T01:06:11.530131Z",
          "iopub.status.busy": "2022-05-21T01:06:11.529560Z",
          "iopub.status.idle": "2022-05-21T01:06:25.955536Z",
          "shell.execute_reply": "2022-05-21T01:06:25.954654Z"
        },
        "id": "xl5ejzSRTk3W",
        "outputId": "515b5c38-0fc7-41cb-a8ab-a217997afff3",
        "colab": {
          "base_uri": "https://localhost:8080/"
        }
      },
      "outputs": [
        {
          "output_type": "stream",
          "name": "stdout",
          "text": [
            "Epoch 1/20\n",
            "375/375 [==============================] - 2s 4ms/step - loss: 0.6689 - accuracy: 0.8348 - val_loss: 0.3602 - val_accuracy: 0.9028\n",
            "Epoch 2/20\n",
            "375/375 [==============================] - 1s 3ms/step - loss: 0.3514 - accuracy: 0.9035 - val_loss: 0.3079 - val_accuracy: 0.9149\n",
            "Epoch 3/20\n",
            "375/375 [==============================] - 1s 3ms/step - loss: 0.3153 - accuracy: 0.9124 - val_loss: 0.2902 - val_accuracy: 0.9187\n",
            "Epoch 4/20\n",
            "375/375 [==============================] - 1s 3ms/step - loss: 0.2990 - accuracy: 0.9168 - val_loss: 0.2811 - val_accuracy: 0.9221\n",
            "Epoch 5/20\n",
            "375/375 [==============================] - 1s 3ms/step - loss: 0.2896 - accuracy: 0.9187 - val_loss: 0.2752 - val_accuracy: 0.9232\n",
            "Epoch 6/20\n",
            "375/375 [==============================] - 1s 3ms/step - loss: 0.2830 - accuracy: 0.9209 - val_loss: 0.2722 - val_accuracy: 0.9245\n",
            "Epoch 7/20\n",
            "375/375 [==============================] - 1s 3ms/step - loss: 0.2781 - accuracy: 0.9222 - val_loss: 0.2692 - val_accuracy: 0.9254\n",
            "Epoch 8/20\n",
            "375/375 [==============================] - 1s 3ms/step - loss: 0.2744 - accuracy: 0.9240 - val_loss: 0.2689 - val_accuracy: 0.9266\n",
            "Epoch 9/20\n",
            "375/375 [==============================] - 1s 3ms/step - loss: 0.2714 - accuracy: 0.9251 - val_loss: 0.2658 - val_accuracy: 0.9282\n",
            "Epoch 10/20\n",
            "375/375 [==============================] - 1s 3ms/step - loss: 0.2687 - accuracy: 0.9254 - val_loss: 0.2647 - val_accuracy: 0.9276\n",
            "Epoch 11/20\n",
            "375/375 [==============================] - 1s 3ms/step - loss: 0.2667 - accuracy: 0.9257 - val_loss: 0.2660 - val_accuracy: 0.9268\n",
            "Epoch 12/20\n",
            "375/375 [==============================] - 1s 3ms/step - loss: 0.2649 - accuracy: 0.9268 - val_loss: 0.2627 - val_accuracy: 0.9283\n",
            "Epoch 13/20\n",
            "375/375 [==============================] - 1s 3ms/step - loss: 0.2632 - accuracy: 0.9272 - val_loss: 0.2630 - val_accuracy: 0.9283\n",
            "Epoch 14/20\n",
            "375/375 [==============================] - 1s 3ms/step - loss: 0.2618 - accuracy: 0.9280 - val_loss: 0.2619 - val_accuracy: 0.9296\n",
            "Epoch 15/20\n",
            "375/375 [==============================] - 1s 3ms/step - loss: 0.2606 - accuracy: 0.9281 - val_loss: 0.2616 - val_accuracy: 0.9298\n",
            "Epoch 16/20\n",
            "375/375 [==============================] - 1s 3ms/step - loss: 0.2593 - accuracy: 0.9293 - val_loss: 0.2607 - val_accuracy: 0.9293\n",
            "Epoch 17/20\n",
            "375/375 [==============================] - 1s 3ms/step - loss: 0.2584 - accuracy: 0.9287 - val_loss: 0.2628 - val_accuracy: 0.9296\n",
            "Epoch 18/20\n",
            "375/375 [==============================] - 1s 3ms/step - loss: 0.2573 - accuracy: 0.9297 - val_loss: 0.2608 - val_accuracy: 0.9307\n",
            "Epoch 19/20\n",
            "375/375 [==============================] - 1s 3ms/step - loss: 0.2563 - accuracy: 0.9294 - val_loss: 0.2615 - val_accuracy: 0.9305\n",
            "Epoch 20/20\n",
            "375/375 [==============================] - 1s 3ms/step - loss: 0.2556 - accuracy: 0.9307 - val_loss: 0.2614 - val_accuracy: 0.9309\n"
          ]
        }
      ],
      "source": [
        "model = keras.Sequential([layers.Dense(10, activation=\"softmax\")])\n",
        "model.compile(optimizer=\"rmsprop\",\n",
        "              loss=\"sparse_categorical_crossentropy\",\n",
        "              metrics=[\"accuracy\"])\n",
        "history_small_model = model.fit(\n",
        "    train_images, train_labels,\n",
        "    epochs=20,\n",
        "    batch_size=128,\n",
        "    validation_split=0.2)"
      ]
    },
    {
      "cell_type": "code",
      "execution_count": 9,
      "metadata": {
        "execution": {
          "iopub.execute_input": "2022-05-21T01:06:25.959685Z",
          "iopub.status.busy": "2022-05-21T01:06:25.959399Z",
          "iopub.status.idle": "2022-05-21T01:06:26.277516Z",
          "shell.execute_reply": "2022-05-21T01:06:26.276506Z"
        },
        "id": "-yiFhvT4Tk3W",
        "outputId": "7421f121-24fa-40c4-9a7f-994733415b8f",
        "colab": {
          "base_uri": "https://localhost:8080/",
          "height": 295
        }
      },
      "outputs": [
        {
          "output_type": "display_data",
          "data": {
            "text/plain": [
              "<Figure size 432x288 with 1 Axes>"
            ],
            "image/png": "[encoded data removed]"
          },
          "metadata": {
            "needs_background": "light"
          }
        }
      ],
      "source": [
        "import matplotlib.pyplot as plt\n",
        "val_loss = history_small_model.history[\"val_loss\"]\n",
        "epochs = range(1, 21)\n",
        "plt.plot(epochs, val_loss, \"b--\",\n",
        "         label=\"Validation loss\")\n",
        "plt.title(\"Effect of insufficient model capacity on validation loss\")\n",
        "plt.xlabel(\"Epochs\")\n",
        "plt.ylabel(\"Loss\")\n",
        "plt.legend()\n",
        "plt.show()"
      ]
    },
    {
      "cell_type": "code",
      "execution_count": 10,
      "metadata": {
        "execution": {
          "iopub.execute_input": "2022-05-21T01:06:26.281161Z",
          "iopub.status.busy": "2022-05-21T01:06:26.280863Z",
          "iopub.status.idle": "2022-05-21T01:06:48.235589Z",
          "shell.execute_reply": "2022-05-21T01:06:48.234644Z"
        },
        "id": "TYz3NAseTk3X",
        "outputId": "0e274062-e4dc-41d8-fc90-cb3b9083812d",
        "colab": {
          "base_uri": "https://localhost:8080/"
        }
      },
      "outputs": [
        {
          "output_type": "stream",
          "name": "stdout",
          "text": [
            "Epoch 1/20\n",
            "375/375 [==============================] - 2s 4ms/step - loss: 0.3696 - accuracy: 0.8978 - val_loss: 0.2014 - val_accuracy: 0.9406\n",
            "Epoch 2/20\n",
            "375/375 [==============================] - 1s 4ms/step - loss: 0.1610 - accuracy: 0.9518 - val_loss: 0.1392 - val_accuracy: 0.9598\n",
            "Epoch 3/20\n",
            "375/375 [==============================] - 1s 4ms/step - loss: 0.1113 - accuracy: 0.9665 - val_loss: 0.1105 - val_accuracy: 0.9683\n",
            "Epoch 4/20\n",
            "375/375 [==============================] - 1s 3ms/step - loss: 0.0863 - accuracy: 0.9740 - val_loss: 0.0984 - val_accuracy: 0.9702\n",
            "Epoch 5/20\n",
            "375/375 [==============================] - 1s 4ms/step - loss: 0.0679 - accuracy: 0.9789 - val_loss: 0.0969 - val_accuracy: 0.9709\n",
            "Epoch 6/20\n",
            "375/375 [==============================] - 1s 4ms/step - loss: 0.0562 - accuracy: 0.9827 - val_loss: 0.0968 - val_accuracy: 0.9732\n",
            "Epoch 7/20\n",
            "375/375 [==============================] - 1s 3ms/step - loss: 0.0465 - accuracy: 0.9860 - val_loss: 0.0923 - val_accuracy: 0.9727\n",
            "Epoch 8/20\n",
            "375/375 [==============================] - 1s 4ms/step - loss: 0.0397 - accuracy: 0.9874 - val_loss: 0.0930 - val_accuracy: 0.9734\n",
            "Epoch 9/20\n",
            "375/375 [==============================] - 1s 4ms/step - loss: 0.0327 - accuracy: 0.9899 - val_loss: 0.0981 - val_accuracy: 0.9734\n",
            "Epoch 10/20\n",
            "375/375 [==============================] - 1s 3ms/step - loss: 0.0279 - accuracy: 0.9918 - val_loss: 0.1013 - val_accuracy: 0.9740\n",
            "Epoch 11/20\n",
            "375/375 [==============================] - 1s 4ms/step - loss: 0.0232 - accuracy: 0.9933 - val_loss: 0.1002 - val_accuracy: 0.9762\n",
            "Epoch 12/20\n",
            "375/375 [==============================] - 1s 4ms/step - loss: 0.0202 - accuracy: 0.9935 - val_loss: 0.1096 - val_accuracy: 0.9732\n",
            "Epoch 13/20\n",
            "375/375 [==============================] - 1s 4ms/step - loss: 0.0169 - accuracy: 0.9945 - val_loss: 0.1043 - val_accuracy: 0.9747\n",
            "Epoch 14/20\n",
            "375/375 [==============================] - 1s 3ms/step - loss: 0.0143 - accuracy: 0.9959 - val_loss: 0.1211 - val_accuracy: 0.9737\n",
            "Epoch 15/20\n",
            "375/375 [==============================] - 1s 4ms/step - loss: 0.0126 - accuracy: 0.9959 - val_loss: 0.1186 - val_accuracy: 0.9743\n",
            "Epoch 16/20\n",
            "375/375 [==============================] - 1s 4ms/step - loss: 0.0101 - accuracy: 0.9969 - val_loss: 0.1180 - val_accuracy: 0.9772\n",
            "Epoch 17/20\n",
            "375/375 [==============================] - 1s 4ms/step - loss: 0.0093 - accuracy: 0.9974 - val_loss: 0.1481 - val_accuracy: 0.9736\n",
            "Epoch 18/20\n",
            "375/375 [==============================] - 1s 4ms/step - loss: 0.0072 - accuracy: 0.9977 - val_loss: 0.1356 - val_accuracy: 0.9764\n",
            "Epoch 19/20\n",
            "375/375 [==============================] - 1s 3ms/step - loss: 0.0064 - accuracy: 0.9981 - val_loss: 0.1418 - val_accuracy: 0.9753\n",
            "Epoch 20/20\n",
            "375/375 [==============================] - 1s 3ms/step - loss: 0.0062 - accuracy: 0.9979 - val_loss: 0.1474 - val_accuracy: 0.9760\n"
          ]
        }
      ],
      "source": [
        "model = keras.Sequential([\n",
        "    layers.Dense(96, activation=\"relu\"),\n",
        "    layers.Dense(96, activation=\"relu\"),\n",
        "    layers.Dense(10, activation=\"softmax\"),\n",
        "])\n",
        "model.compile(optimizer=\"rmsprop\",\n",
        "              loss=\"sparse_categorical_crossentropy\",\n",
        "              metrics=[\"accuracy\"])\n",
        "history_large_model = model.fit(\n",
        "    train_images, train_labels,\n",
        "    epochs=20,\n",
        "    batch_size=128,\n",
        "    validation_split=0.2)"
      ]
    },
    {
      "cell_type": "markdown",
      "metadata": {
        "id": "xsjm0jXuTk3Y"
      },
      "source": [
        "## 일반화 성능 향상하기"
      ]
    },
    {
      "cell_type": "markdown",
      "metadata": {
        "id": "SCOzA1LKTk3Y"
      },
      "source": [
        "### 데이터셋 큐레이션"
      ]
    },
    {
      "cell_type": "markdown",
      "metadata": {
        "id": "cDNJQp2yTk3Y"
      },
      "source": [
        "### 특성 공학"
      ]
    },
    {
      "cell_type": "markdown",
      "metadata": {
        "id": "BA30Ys7CTk3Y"
      },
      "source": [
        "### 조기 종료 사용하기"
      ]
    },
    {
      "cell_type": "markdown",
      "metadata": {
        "id": "FS0RwwIpTk3Z"
      },
      "source": [
        "### 모델 규제하기"
      ]
    },
    {
      "cell_type": "markdown",
      "metadata": {
        "id": "g1lVn3NcTk3Z"
      },
      "source": [
        "#### 네트워크 크기 축소"
      ]
    },
    {
      "cell_type": "markdown",
      "metadata": {
        "id": "j3r8_V04Tk3Z"
      },
      "source": [
        "**원본 모델**"
      ]
    },
    {
      "cell_type": "code",
      "execution_count": 11,
      "metadata": {
        "execution": {
          "iopub.execute_input": "2022-05-21T01:06:48.240327Z",
          "iopub.status.busy": "2022-05-21T01:06:48.239635Z",
          "iopub.status.idle": "2022-05-21T01:07:01.599335Z",
          "shell.execute_reply": "2022-05-21T01:07:01.598428Z"
        },
        "id": "yZ__XxRqTk3Z",
        "outputId": "42070f91-b5a8-4806-c5a3-b6fb087605bc",
        "colab": {
          "base_uri": "https://localhost:8080/"
        }
      },
      "outputs": [
        {
          "output_type": "stream",
          "name": "stdout",
          "text": [
            "Downloading data from https://storage.googleapis.com/tensorflow/tf-keras-datasets/imdb.npz\n",
            "17464789/17464789 [==============================] - 0s 0us/step\n",
            "Epoch 1/20\n",
            "30/30 [==============================] - 2s 41ms/step - loss: 0.5118 - accuracy: 0.7942 - val_loss: 0.3966 - val_accuracy: 0.8645\n",
            "Epoch 2/20\n",
            "30/30 [==============================] - 1s 22ms/step - loss: 0.3088 - accuracy: 0.9041 - val_loss: 0.3057 - val_accuracy: 0.8865\n",
            "Epoch 3/20\n",
            "30/30 [==============================] - 1s 22ms/step - loss: 0.2241 - accuracy: 0.9275 - val_loss: 0.2775 - val_accuracy: 0.8937\n",
            "Epoch 4/20\n",
            "30/30 [==============================] - 1s 21ms/step - loss: 0.1776 - accuracy: 0.9411 - val_loss: 0.2884 - val_accuracy: 0.8850\n",
            "Epoch 5/20\n",
            "30/30 [==============================] - 1s 22ms/step - loss: 0.1439 - accuracy: 0.9547 - val_loss: 0.2798 - val_accuracy: 0.8879\n",
            "Epoch 6/20\n",
            "30/30 [==============================] - 1s 21ms/step - loss: 0.1197 - accuracy: 0.9633 - val_loss: 0.2933 - val_accuracy: 0.8857\n",
            "Epoch 7/20\n",
            "30/30 [==============================] - 1s 22ms/step - loss: 0.1027 - accuracy: 0.9682 - val_loss: 0.3094 - val_accuracy: 0.8853\n",
            "Epoch 8/20\n",
            "30/30 [==============================] - 1s 22ms/step - loss: 0.0843 - accuracy: 0.9758 - val_loss: 0.3293 - val_accuracy: 0.8847\n",
            "Epoch 9/20\n",
            "30/30 [==============================] - 1s 22ms/step - loss: 0.0710 - accuracy: 0.9796 - val_loss: 0.3508 - val_accuracy: 0.8812\n",
            "Epoch 10/20\n",
            "30/30 [==============================] - 1s 21ms/step - loss: 0.0615 - accuracy: 0.9833 - val_loss: 0.3765 - val_accuracy: 0.8793\n",
            "Epoch 11/20\n",
            "30/30 [==============================] - 1s 22ms/step - loss: 0.0520 - accuracy: 0.9863 - val_loss: 0.3998 - val_accuracy: 0.8776\n",
            "Epoch 12/20\n",
            "30/30 [==============================] - 1s 22ms/step - loss: 0.0408 - accuracy: 0.9904 - val_loss: 0.4280 - val_accuracy: 0.8760\n",
            "Epoch 13/20\n",
            "30/30 [==============================] - 1s 22ms/step - loss: 0.0333 - accuracy: 0.9925 - val_loss: 0.4632 - val_accuracy: 0.8739\n",
            "Epoch 14/20\n",
            "30/30 [==============================] - 1s 22ms/step - loss: 0.0281 - accuracy: 0.9938 - val_loss: 0.4990 - val_accuracy: 0.8722\n",
            "Epoch 15/20\n",
            "30/30 [==============================] - 1s 21ms/step - loss: 0.0225 - accuracy: 0.9953 - val_loss: 0.5676 - val_accuracy: 0.8653\n",
            "Epoch 16/20\n",
            "30/30 [==============================] - 1s 22ms/step - loss: 0.0190 - accuracy: 0.9959 - val_loss: 0.6024 - val_accuracy: 0.8654\n",
            "Epoch 17/20\n",
            "30/30 [==============================] - 1s 22ms/step - loss: 0.0139 - accuracy: 0.9981 - val_loss: 0.6486 - val_accuracy: 0.8631\n",
            "Epoch 18/20\n",
            "30/30 [==============================] - 1s 22ms/step - loss: 0.0118 - accuracy: 0.9985 - val_loss: 0.6424 - val_accuracy: 0.8643\n",
            "Epoch 19/20\n",
            "30/30 [==============================] - 1s 22ms/step - loss: 0.0120 - accuracy: 0.9976 - val_loss: 0.6860 - val_accuracy: 0.8648\n",
            "Epoch 20/20\n",
            "30/30 [==============================] - 1s 21ms/step - loss: 0.0057 - accuracy: 0.9995 - val_loss: 0.7044 - val_accuracy: 0.8640\n"
          ]
        }
      ],
      "source": [
        "from tensorflow.keras.datasets import imdb\n",
        "(train_data, train_labels), _ = imdb.load_data(num_words=10000)\n",
        "\n",
        "def vectorize_sequences(sequences, dimension=10000):\n",
        "    results = np.zeros((len(sequences), dimension))\n",
        "    for i, sequence in enumerate(sequences):\n",
        "        results[i, sequence] = 1.\n",
        "    return results\n",
        "train_data = vectorize_sequences(train_data)\n",
        "\n",
        "model = keras.Sequential([\n",
        "    layers.Dense(16, activation=\"relu\"),\n",
        "    layers.Dense(16, activation=\"relu\"),\n",
        "    layers.Dense(1, activation=\"sigmoid\")\n",
        "])\n",
        "model.compile(optimizer=\"rmsprop\",\n",
        "              loss=\"binary_crossentropy\",\n",
        "              metrics=[\"accuracy\"])\n",
        "history_original = model.fit(train_data, train_labels,\n",
        "                             epochs=20, batch_size=512, validation_split=0.4)"
      ]
    },
    {
      "cell_type": "markdown",
      "metadata": {
        "id": "Ur2zKeT6Tk3a"
      },
      "source": [
        "**작은 용량의 모델**"
      ]
    },
    {
      "cell_type": "code",
      "execution_count": 12,
      "metadata": {
        "execution": {
          "iopub.execute_input": "2022-05-21T01:07:01.603485Z",
          "iopub.status.busy": "2022-05-21T01:07:01.603168Z",
          "iopub.status.idle": "2022-05-21T01:07:09.910749Z",
          "shell.execute_reply": "2022-05-21T01:07:09.909893Z"
        },
        "id": "J07S8kRUTk3a",
        "outputId": "c0a63b10-4be7-4862-b259-50a1ba0abdd4",
        "colab": {
          "base_uri": "https://localhost:8080/"
        }
      },
      "outputs": [
        {
          "output_type": "stream",
          "name": "stdout",
          "text": [
            "Epoch 1/20\n",
            "30/30 [==============================] - 2s 36ms/step - loss: 0.5793 - accuracy: 0.7719 - val_loss: 0.4977 - val_accuracy: 0.8150\n",
            "Epoch 2/20\n",
            "30/30 [==============================] - 1s 24ms/step - loss: 0.4241 - accuracy: 0.8781 - val_loss: 0.4017 - val_accuracy: 0.8668\n",
            "Epoch 3/20\n",
            "30/30 [==============================] - 1s 22ms/step - loss: 0.3374 - accuracy: 0.9001 - val_loss: 0.3441 - val_accuracy: 0.8817\n",
            "Epoch 4/20\n",
            "30/30 [==============================] - 1s 22ms/step - loss: 0.2784 - accuracy: 0.9167 - val_loss: 0.3107 - val_accuracy: 0.8882\n",
            "Epoch 5/20\n",
            "30/30 [==============================] - 1s 22ms/step - loss: 0.2377 - accuracy: 0.9285 - val_loss: 0.2951 - val_accuracy: 0.8892\n",
            "Epoch 6/20\n",
            "30/30 [==============================] - 1s 21ms/step - loss: 0.2075 - accuracy: 0.9373 - val_loss: 0.2814 - val_accuracy: 0.8924\n",
            "Epoch 7/20\n",
            "30/30 [==============================] - 1s 23ms/step - loss: 0.1825 - accuracy: 0.9467 - val_loss: 0.2786 - val_accuracy: 0.8889\n",
            "Epoch 8/20\n",
            "30/30 [==============================] - 1s 22ms/step - loss: 0.1631 - accuracy: 0.9521 - val_loss: 0.2756 - val_accuracy: 0.8891\n",
            "Epoch 9/20\n",
            "30/30 [==============================] - 1s 22ms/step - loss: 0.1456 - accuracy: 0.9582 - val_loss: 0.2774 - val_accuracy: 0.8886\n",
            "Epoch 10/20\n",
            "30/30 [==============================] - 1s 22ms/step - loss: 0.1303 - accuracy: 0.9637 - val_loss: 0.2830 - val_accuracy: 0.8887\n",
            "Epoch 11/20\n",
            "30/30 [==============================] - 1s 22ms/step - loss: 0.1174 - accuracy: 0.9675 - val_loss: 0.2885 - val_accuracy: 0.8861\n",
            "Epoch 12/20\n",
            "30/30 [==============================] - 1s 25ms/step - loss: 0.1062 - accuracy: 0.9708 - val_loss: 0.2932 - val_accuracy: 0.8859\n",
            "Epoch 13/20\n",
            "30/30 [==============================] - 1s 23ms/step - loss: 0.0961 - accuracy: 0.9741 - val_loss: 0.3011 - val_accuracy: 0.8853\n",
            "Epoch 14/20\n",
            "30/30 [==============================] - 1s 22ms/step - loss: 0.0866 - accuracy: 0.9771 - val_loss: 0.3206 - val_accuracy: 0.8807\n",
            "Epoch 15/20\n",
            "30/30 [==============================] - 1s 22ms/step - loss: 0.0783 - accuracy: 0.9801 - val_loss: 0.3235 - val_accuracy: 0.8825\n",
            "Epoch 16/20\n",
            "30/30 [==============================] - 1s 22ms/step - loss: 0.0710 - accuracy: 0.9825 - val_loss: 0.3366 - val_accuracy: 0.8816\n",
            "Epoch 17/20\n",
            "30/30 [==============================] - 1s 22ms/step - loss: 0.0635 - accuracy: 0.9853 - val_loss: 0.3488 - val_accuracy: 0.8801\n",
            "Epoch 18/20\n",
            "30/30 [==============================] - 1s 22ms/step - loss: 0.0577 - accuracy: 0.9868 - val_loss: 0.3650 - val_accuracy: 0.8785\n",
            "Epoch 19/20\n",
            "30/30 [==============================] - 1s 21ms/step - loss: 0.0515 - accuracy: 0.9883 - val_loss: 0.3816 - val_accuracy: 0.8788\n",
            "Epoch 20/20\n",
            "30/30 [==============================] - 1s 21ms/step - loss: 0.0461 - accuracy: 0.9895 - val_loss: 0.3973 - val_accuracy: 0.8761\n"
          ]
        }
      ],
      "source": [
        "model = keras.Sequential([\n",
        "    layers.Dense(4, activation=\"relu\"),\n",
        "    layers.Dense(4, activation=\"relu\"),\n",
        "    layers.Dense(1, activation=\"sigmoid\")\n",
        "])\n",
        "model.compile(optimizer=\"rmsprop\",\n",
        "              loss=\"binary_crossentropy\",\n",
        "              metrics=[\"accuracy\"])\n",
        "history_smaller_model = model.fit(\n",
        "    train_data, train_labels,\n",
        "    epochs=20, batch_size=512, validation_split=0.4)"
      ]
    },
    {
      "cell_type": "markdown",
      "metadata": {
        "id": "k6040fZeTk3a"
      },
      "source": [
        "**큰 용량의 모델**"
      ]
    },
    {
      "cell_type": "code",
      "execution_count": 13,
      "metadata": {
        "execution": {
          "iopub.execute_input": "2022-05-21T01:07:09.914619Z",
          "iopub.status.busy": "2022-05-21T01:07:09.914070Z",
          "iopub.status.idle": "2022-05-21T01:07:55.440909Z",
          "shell.execute_reply": "2022-05-21T01:07:55.439855Z"
        },
        "id": "gRyaH_CkTk3b",
        "outputId": "926ff59e-c18a-439c-957d-c7f1b60584ca",
        "colab": {
          "base_uri": "https://localhost:8080/"
        }
      },
      "outputs": [
        {
          "output_type": "stream",
          "name": "stdout",
          "text": [
            "Epoch 1/20\n",
            "30/30 [==============================] - 2s 42ms/step - loss: 0.5673 - accuracy: 0.7789 - val_loss: 0.3003 - val_accuracy: 0.8852\n",
            "Epoch 2/20\n",
            "30/30 [==============================] - 1s 27ms/step - loss: 0.2481 - accuracy: 0.9052 - val_loss: 0.3609 - val_accuracy: 0.8541\n",
            "Epoch 3/20\n",
            "30/30 [==============================] - 1s 27ms/step - loss: 0.1528 - accuracy: 0.9397 - val_loss: 0.3480 - val_accuracy: 0.8729\n",
            "Epoch 4/20\n",
            "30/30 [==============================] - 1s 26ms/step - loss: 0.1118 - accuracy: 0.9672 - val_loss: 0.3435 - val_accuracy: 0.8910\n",
            "Epoch 5/20\n",
            "30/30 [==============================] - 1s 26ms/step - loss: 0.0219 - accuracy: 0.9935 - val_loss: 1.6897 - val_accuracy: 0.6846\n",
            "Epoch 6/20\n",
            "30/30 [==============================] - 1s 26ms/step - loss: 0.0350 - accuracy: 0.9893 - val_loss: 0.5067 - val_accuracy: 0.8879\n",
            "Epoch 7/20\n",
            "30/30 [==============================] - 1s 26ms/step - loss: 8.4210e-04 - accuracy: 0.9999 - val_loss: 0.6132 - val_accuracy: 0.8886\n",
            "Epoch 8/20\n",
            "30/30 [==============================] - 1s 26ms/step - loss: 9.0304e-04 - accuracy: 0.9999 - val_loss: 0.7161 - val_accuracy: 0.8876\n",
            "Epoch 9/20\n",
            "30/30 [==============================] - 1s 28ms/step - loss: 2.9179e-05 - accuracy: 1.0000 - val_loss: 0.8425 - val_accuracy: 0.8869\n",
            "Epoch 10/20\n",
            "30/30 [==============================] - 1s 26ms/step - loss: 5.3758e-06 - accuracy: 1.0000 - val_loss: 0.9504 - val_accuracy: 0.8880\n",
            "Epoch 11/20\n",
            "30/30 [==============================] - 1s 26ms/step - loss: 1.2510e-06 - accuracy: 1.0000 - val_loss: 1.0460 - val_accuracy: 0.8871\n",
            "Epoch 12/20\n",
            "30/30 [==============================] - 1s 26ms/step - loss: 3.7285e-07 - accuracy: 1.0000 - val_loss: 1.1332 - val_accuracy: 0.8859\n",
            "Epoch 13/20\n",
            "30/30 [==============================] - 1s 26ms/step - loss: 1.2854e-07 - accuracy: 1.0000 - val_loss: 1.1943 - val_accuracy: 0.8863\n",
            "Epoch 14/20\n",
            "30/30 [==============================] - 1s 26ms/step - loss: 5.4076e-08 - accuracy: 1.0000 - val_loss: 1.2503 - val_accuracy: 0.8865\n",
            "Epoch 15/20\n",
            "30/30 [==============================] - 1s 25ms/step - loss: 2.9129e-08 - accuracy: 1.0000 - val_loss: 1.2856 - val_accuracy: 0.8864\n",
            "Epoch 16/20\n",
            "30/30 [==============================] - 1s 26ms/step - loss: 1.9333e-08 - accuracy: 1.0000 - val_loss: 1.3063 - val_accuracy: 0.8870\n",
            "Epoch 17/20\n",
            "30/30 [==============================] - 1s 26ms/step - loss: 1.4389e-08 - accuracy: 1.0000 - val_loss: 1.3258 - val_accuracy: 0.8868\n",
            "Epoch 18/20\n",
            "30/30 [==============================] - 1s 25ms/step - loss: 1.1431e-08 - accuracy: 1.0000 - val_loss: 1.3392 - val_accuracy: 0.8870\n",
            "Epoch 19/20\n",
            "30/30 [==============================] - 1s 26ms/step - loss: 9.5314e-09 - accuracy: 1.0000 - val_loss: 1.3522 - val_accuracy: 0.8869\n",
            "Epoch 20/20\n",
            "30/30 [==============================] - 1s 28ms/step - loss: 8.1679e-09 - accuracy: 1.0000 - val_loss: 1.3632 - val_accuracy: 0.8864\n"
          ]
        }
      ],
      "source": [
        "model = keras.Sequential([\n",
        "    layers.Dense(512, activation=\"relu\"),\n",
        "    layers.Dense(512, activation=\"relu\"),\n",
        "    layers.Dense(1, activation=\"sigmoid\")\n",
        "])\n",
        "model.compile(optimizer=\"rmsprop\",\n",
        "              loss=\"binary_crossentropy\",\n",
        "              metrics=[\"accuracy\"])\n",
        "history_larger_model = model.fit(\n",
        "    train_data, train_labels,\n",
        "    epochs=20, batch_size=512, validation_split=0.4)"
      ]
    },
    {
      "cell_type": "markdown",
      "metadata": {
        "id": "HkMwsNWiTk3b"
      },
      "source": [
        "#### 가중치 규제 추가하기"
      ]
    },
    {
      "cell_type": "markdown",
      "metadata": {
        "id": "slmc7NwkTk3b"
      },
      "source": [
        "**모델에 L2 가중치 추가하기**"
      ]
    },
    {
      "cell_type": "code",
      "execution_count": 14,
      "metadata": {
        "execution": {
          "iopub.execute_input": "2022-05-21T01:07:55.445676Z",
          "iopub.status.busy": "2022-05-21T01:07:55.444826Z",
          "iopub.status.idle": "2022-05-21T01:08:04.225182Z",
          "shell.execute_reply": "2022-05-21T01:08:04.224432Z"
        },
        "id": "BbKqHmXtTk3b",
        "outputId": "89b3595e-57f9-4e11-f373-b7d9ae79f9ba",
        "colab": {
          "base_uri": "https://localhost:8080/"
        }
      },
      "outputs": [
        {
          "output_type": "stream",
          "name": "stdout",
          "text": [
            "Epoch 1/20\n",
            "30/30 [==============================] - 2s 39ms/step - loss: 0.6008 - accuracy: 0.7869 - val_loss: 0.5094 - val_accuracy: 0.8202\n",
            "Epoch 2/20\n",
            "30/30 [==============================] - 1s 22ms/step - loss: 0.4126 - accuracy: 0.8913 - val_loss: 0.4147 - val_accuracy: 0.8704\n",
            "Epoch 3/20\n",
            "30/30 [==============================] - 1s 22ms/step - loss: 0.3432 - accuracy: 0.9120 - val_loss: 0.3858 - val_accuracy: 0.8798\n",
            "Epoch 4/20\n",
            "30/30 [==============================] - 1s 21ms/step - loss: 0.3126 - accuracy: 0.9197 - val_loss: 0.3618 - val_accuracy: 0.8865\n",
            "Epoch 5/20\n",
            "30/30 [==============================] - 1s 22ms/step - loss: 0.2898 - accuracy: 0.9306 - val_loss: 0.3603 - val_accuracy: 0.8866\n",
            "Epoch 6/20\n",
            "30/30 [==============================] - 1s 22ms/step - loss: 0.2761 - accuracy: 0.9340 - val_loss: 0.4112 - val_accuracy: 0.8648\n",
            "Epoch 7/20\n",
            "30/30 [==============================] - 1s 22ms/step - loss: 0.2647 - accuracy: 0.9390 - val_loss: 0.3612 - val_accuracy: 0.8852\n",
            "Epoch 8/20\n",
            "30/30 [==============================] - 1s 22ms/step - loss: 0.2570 - accuracy: 0.9409 - val_loss: 0.3638 - val_accuracy: 0.8843\n",
            "Epoch 9/20\n",
            "30/30 [==============================] - 1s 22ms/step - loss: 0.2502 - accuracy: 0.9425 - val_loss: 0.3681 - val_accuracy: 0.8832\n",
            "Epoch 10/20\n",
            "30/30 [==============================] - 1s 22ms/step - loss: 0.2431 - accuracy: 0.9456 - val_loss: 0.3712 - val_accuracy: 0.8828\n",
            "Epoch 11/20\n",
            "30/30 [==============================] - 1s 22ms/step - loss: 0.2415 - accuracy: 0.9454 - val_loss: 0.3795 - val_accuracy: 0.8803\n",
            "Epoch 12/20\n",
            "30/30 [==============================] - 1s 22ms/step - loss: 0.2322 - accuracy: 0.9491 - val_loss: 0.3876 - val_accuracy: 0.8774\n",
            "Epoch 13/20\n",
            "30/30 [==============================] - 1s 21ms/step - loss: 0.2328 - accuracy: 0.9482 - val_loss: 0.4040 - val_accuracy: 0.8753\n",
            "Epoch 14/20\n",
            "30/30 [==============================] - 1s 21ms/step - loss: 0.2279 - accuracy: 0.9502 - val_loss: 0.3943 - val_accuracy: 0.8767\n",
            "Epoch 15/20\n",
            "30/30 [==============================] - 1s 22ms/step - loss: 0.2261 - accuracy: 0.9488 - val_loss: 0.3987 - val_accuracy: 0.8774\n",
            "Epoch 16/20\n",
            "30/30 [==============================] - 1s 22ms/step - loss: 0.2204 - accuracy: 0.9521 - val_loss: 0.3924 - val_accuracy: 0.8781\n",
            "Epoch 17/20\n",
            "30/30 [==============================] - 1s 21ms/step - loss: 0.2176 - accuracy: 0.9525 - val_loss: 0.3966 - val_accuracy: 0.8770\n",
            "Epoch 18/20\n",
            "30/30 [==============================] - 1s 21ms/step - loss: 0.2153 - accuracy: 0.9532 - val_loss: 0.4018 - val_accuracy: 0.8781\n",
            "Epoch 19/20\n",
            "30/30 [==============================] - 1s 24ms/step - loss: 0.2141 - accuracy: 0.9545 - val_loss: 0.4348 - val_accuracy: 0.8689\n",
            "Epoch 20/20\n",
            "30/30 [==============================] - 1s 21ms/step - loss: 0.2179 - accuracy: 0.9533 - val_loss: 0.4065 - val_accuracy: 0.8767\n"
          ]
        }
      ],
      "source": [
        "from tensorflow.keras import regularizers\n",
        "model = keras.Sequential([\n",
        "    layers.Dense(16,\n",
        "                 kernel_regularizer=regularizers.l2(0.002),\n",
        "                 activation=\"relu\"),\n",
        "    layers.Dense(16,\n",
        "                 kernel_regularizer=regularizers.l2(0.002),\n",
        "                 activation=\"relu\"),\n",
        "    layers.Dense(1, activation=\"sigmoid\")\n",
        "])\n",
        "model.compile(optimizer=\"rmsprop\",\n",
        "              loss=\"binary_crossentropy\",\n",
        "              metrics=[\"accuracy\"])\n",
        "history_l2_reg = model.fit(\n",
        "    train_data, train_labels,\n",
        "    epochs=20, batch_size=512, validation_split=0.4)"
      ]
    },
    {
      "cell_type": "markdown",
      "metadata": {
        "id": "766AbsD9Tk3c"
      },
      "source": [
        "**케라스에서 사용할 수 있는 가중치 규제**"
      ]
    },
    {
      "cell_type": "code",
      "execution_count": 15,
      "metadata": {
        "execution": {
          "iopub.execute_input": "2022-05-21T01:08:04.229728Z",
          "iopub.status.busy": "2022-05-21T01:08:04.228866Z",
          "iopub.status.idle": "2022-05-21T01:08:04.237099Z",
          "shell.execute_reply": "2022-05-21T01:08:04.235990Z"
        },
        "id": "tT6wJynITk3c",
        "outputId": "65db72bb-52b7-4506-ef29-2c744b4ab897",
        "colab": {
          "base_uri": "https://localhost:8080/"
        }
      },
      "outputs": [
        {
          "output_type": "execute_result",
          "data": {
            "text/plain": [
              "<keras.regularizers.L1L2 at 0x7f70020eee10>"
            ]
          },
          "metadata": {},
          "execution_count": 15
        }
      ],
      "source": [
        "from tensorflow.keras import regularizers\n",
        "regularizers.l1(0.001)\n",
        "regularizers.l1_l2(l1=0.001, l2=0.001)"
      ]
    },
    {
      "cell_type": "markdown",
      "metadata": {
        "id": "ultTwtPKTk3c"
      },
      "source": [
        "#### 드롭아웃 추가"
      ]
    },
    {
      "cell_type": "markdown",
      "metadata": {
        "id": "MWW1i75kTk3c"
      },
      "source": [
        "**IMDB 모델에 드롭아웃 추가하기**"
      ]
    },
    {
      "cell_type": "code",
      "execution_count": 16,
      "metadata": {
        "execution": {
          "iopub.execute_input": "2022-05-21T01:08:04.241161Z",
          "iopub.status.busy": "2022-05-21T01:08:04.240762Z",
          "iopub.status.idle": "2022-05-21T01:08:13.113623Z",
          "shell.execute_reply": "2022-05-21T01:08:13.112554Z"
        },
        "id": "K6C938cRTk3d",
        "outputId": "cab61d67-bb61-424e-f606-f01b4aec4aec",
        "colab": {
          "base_uri": "https://localhost:8080/"
        }
      },
      "outputs": [
        {
          "output_type": "stream",
          "name": "stdout",
          "text": [
            "Epoch 1/20\n",
            "30/30 [==============================] - 2s 37ms/step - loss: 0.6394 - accuracy: 0.6262 - val_loss: 0.5249 - val_accuracy: 0.8433\n",
            "Epoch 2/20\n",
            "30/30 [==============================] - 1s 22ms/step - loss: 0.5247 - accuracy: 0.7531 - val_loss: 0.4134 - val_accuracy: 0.8722\n",
            "Epoch 3/20\n",
            "30/30 [==============================] - 1s 21ms/step - loss: 0.4367 - accuracy: 0.8188 - val_loss: 0.3441 - val_accuracy: 0.8766\n",
            "Epoch 4/20\n",
            "30/30 [==============================] - 1s 22ms/step - loss: 0.3715 - accuracy: 0.8570 - val_loss: 0.3002 - val_accuracy: 0.8856\n",
            "Epoch 5/20\n",
            "30/30 [==============================] - 1s 22ms/step - loss: 0.3236 - accuracy: 0.8821 - val_loss: 0.2817 - val_accuracy: 0.8929\n",
            "Epoch 6/20\n",
            "30/30 [==============================] - 1s 22ms/step - loss: 0.2814 - accuracy: 0.8973 - val_loss: 0.2889 - val_accuracy: 0.8803\n",
            "Epoch 7/20\n",
            "30/30 [==============================] - 1s 22ms/step - loss: 0.2499 - accuracy: 0.9121 - val_loss: 0.2747 - val_accuracy: 0.8940\n",
            "Epoch 8/20\n",
            "30/30 [==============================] - 1s 26ms/step - loss: 0.2197 - accuracy: 0.9281 - val_loss: 0.2865 - val_accuracy: 0.8903\n",
            "Epoch 9/20\n",
            "30/30 [==============================] - 1s 29ms/step - loss: 0.1983 - accuracy: 0.9359 - val_loss: 0.3085 - val_accuracy: 0.8901\n",
            "Epoch 10/20\n",
            "30/30 [==============================] - 1s 30ms/step - loss: 0.1809 - accuracy: 0.9456 - val_loss: 0.3147 - val_accuracy: 0.8894\n",
            "Epoch 11/20\n",
            "30/30 [==============================] - 1s 26ms/step - loss: 0.1619 - accuracy: 0.9508 - val_loss: 0.3341 - val_accuracy: 0.8890\n",
            "Epoch 12/20\n",
            "30/30 [==============================] - 1s 22ms/step - loss: 0.1424 - accuracy: 0.9531 - val_loss: 0.3532 - val_accuracy: 0.8870\n",
            "Epoch 13/20\n",
            "30/30 [==============================] - 1s 22ms/step - loss: 0.1310 - accuracy: 0.9593 - val_loss: 0.3662 - val_accuracy: 0.8887\n",
            "Epoch 14/20\n",
            "30/30 [==============================] - 1s 22ms/step - loss: 0.1216 - accuracy: 0.9631 - val_loss: 0.3979 - val_accuracy: 0.8886\n",
            "Epoch 15/20\n",
            "30/30 [==============================] - 1s 22ms/step - loss: 0.1117 - accuracy: 0.9663 - val_loss: 0.4015 - val_accuracy: 0.8880\n",
            "Epoch 16/20\n",
            "30/30 [==============================] - 1s 22ms/step - loss: 0.1022 - accuracy: 0.9685 - val_loss: 0.4369 - val_accuracy: 0.8886\n",
            "Epoch 17/20\n",
            "30/30 [==============================] - 1s 22ms/step - loss: 0.0999 - accuracy: 0.9681 - val_loss: 0.4553 - val_accuracy: 0.8875\n",
            "Epoch 18/20\n",
            "30/30 [==============================] - 1s 22ms/step - loss: 0.0901 - accuracy: 0.9707 - val_loss: 0.4918 - val_accuracy: 0.8888\n",
            "Epoch 19/20\n",
            "30/30 [==============================] - 1s 21ms/step - loss: 0.0849 - accuracy: 0.9719 - val_loss: 0.5229 - val_accuracy: 0.8871\n",
            "Epoch 20/20\n",
            "30/30 [==============================] - 1s 21ms/step - loss: 0.0871 - accuracy: 0.9707 - val_loss: 0.5527 - val_accuracy: 0.8845\n"
          ]
        }
      ],
      "source": [
        "model = keras.Sequential([\n",
        "    layers.Dense(16, activation=\"relu\"),\n",
        "    layers.Dropout(0.5),\n",
        "    layers.Dense(16, activation=\"relu\"),\n",
        "    layers.Dropout(0.5),\n",
        "    layers.Dense(1, activation=\"sigmoid\")\n",
        "])\n",
        "model.compile(optimizer=\"rmsprop\",\n",
        "              loss=\"binary_crossentropy\",\n",
        "              metrics=[\"accuracy\"])\n",
        "history_dropout = model.fit(\n",
        "    train_data, train_labels,\n",
        "    epochs=20, batch_size=512, validation_split=0.4)"
      ]
    },
    {
      "cell_type": "markdown",
      "metadata": {
        "id": "JuocOmx8Tk3d"
      },
      "source": [
        "## 요약"
      ]
    }
  ],
  "metadata": {
    "colab": {
      "collapsed_sections": [],
      "name": "chapter05_fundamentals-of-ml.i",
      "provenance": []
    },
    "kernelspec": {
      "display_name": "default:Python",
      "language": "python",
      "name": "conda-env-default-py"
    },
    "language_info": {
      "codemirror_mode": {
        "name": "ipython",
        "version": 3
      },
      "file_extension": ".py",
      "mimetype": "text/x-python",
      "name": "python",
      "nbconvert_exporter": "python",
      "pygments_lexer": "ipython3",
      "version": "3.9.10"
    },
    "accelerator": "GPU",
    "gpuClass": "standard"
  },
  "nbformat": 4,
  "nbformat_minor": 0
}