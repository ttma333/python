{
  "nbformat": 4,
  "nbformat_minor": 0,
  "metadata": {
    "colab": {
      "provenance": [],
      "machine_shape": "hm",
      "mount_file_id": "1h-1-XYOYMyP2VSxYaOClyGAbe2Bkj6c6",
      "authorship_tag": "ABX9TyMpAb0hA+cuLqjFHhzu9/6P",
      "include_colab_link": true
    },
    "kernelspec": {
      "name": "python3",
      "display_name": "Python 3"
    },
    "language_info": {
      "name": "python"
    },
    "accelerator": "GPU",
    "gpuClass": "standard"
  },
  "cells": [
    {
      "cell_type": "markdown",
      "metadata": {
        "id": "view-in-github",
        "colab_type": "text"
      },
      "source": [
        "<a href=\"https://colab.research.google.com/github/ttma333/python/blob/main/%EC%8B%9C%EA%B3%84%EC%97%B4_%EC%A3%BC%EC%8B%9D%EC%98%88%EC%B8%A1.ipynb\" target=\"_parent\"><img src=\"https://colab.research.google.com/assets/colab-badge.svg\" alt=\"Open In Colab\"/></a>"
      ]
    },
    {
      "cell_type": "markdown",
      "source": [
        "참조링크\n",
        "\n",
        "https://velog.io/@lazy_learner/LSTM-%EC%8B%9C%EA%B3%84%EC%97%B4-%EC%98%88%EC%B8%A1-%EB%AA%A8%EB%93%88-%EB%A7%8C%EB%93%A4%EA%B8%B0-1\n",
        "\n",
        "\n"
      ],
      "metadata": {
        "id": "hal0ueJCedYg"
      }
    },
    {
      "cell_type": "code",
      "execution_count": 2,
      "metadata": {
        "id": "chkkYn4scN3y"
      },
      "outputs": [],
      "source": [
        "from tensorflow.python import train\n",
        "import math\n",
        "import matplotlib.pyplot as plt\n",
        "import keras\n",
        "import pandas as pd\n",
        "import numpy as np\n",
        "from keras.models import Sequential\n",
        "from keras.layers import Dense,LSTM,Dropout\n",
        "from sklearn.preprocessing import MinMaxScaler\n",
        "from sklearn.metrics import mean_squared_error, mean_absolute_error\n",
        "from sklearn.model_selection import train_test_split\n",
        "from keras.callbacks import EarlyStopping\n"
      ]
    },
    {
      "cell_type": "code",
      "source": [
        "cd/content/drive/MyDrive/dataset"
      ],
      "metadata": {
        "colab": {
          "base_uri": "https://localhost:8080/"
        },
        "id": "TeBqVKxBBqDh",
        "outputId": "27fbb749-f50e-4101-dbb5-83b119c08a74"
      },
      "execution_count": 4,
      "outputs": [
        {
          "output_type": "stream",
          "name": "stdout",
          "text": [
            "/content/drive/MyDrive/dataset\n"
          ]
        }
      ]
    },
    {
      "cell_type": "code",
      "source": [
        "df=pd.read_csv('TSLA.csv')\n",
        "df.head()"
      ],
      "metadata": {
        "colab": {
          "base_uri": "https://localhost:8080/",
          "height": 206
        },
        "id": "NqhMeSvwdvok",
        "outputId": "4fc9b65f-a307-49e5-8206-5511b96101e4"
      },
      "execution_count": 5,
      "outputs": [
        {
          "output_type": "execute_result",
          "data": {
            "text/plain": [
              "         Date       Open       High        Low      Close  Adj Close    Volume\n",
              "0  2015-07-10  17.481333  17.533333  17.188000  17.276667  17.276667  39163500\n",
              "1  2015-07-13  17.483334  17.503332  17.070000  17.477333  17.477333  44404500\n",
              "2  2015-07-14  17.473333  17.732668  17.367332  17.709999  17.709999  28614000\n",
              "3  2015-07-15  17.782667  17.832666  17.472000  17.542667  17.542667  30324000\n",
              "4  2015-07-16  17.614668  17.813334  17.544001  17.778667  17.778667  24240000"
            ],
            "text/html": [
              "\n",
              "  <div id=\"df-6dac2fc1-ab9b-4d93-b2f1-b18702e71ed9\">\n",
              "    <div class=\"colab-df-container\">\n",
              "      <div>\n",
              "<style scoped>\n",
              "    .dataframe tbody tr th:only-of-type {\n",
              "        vertical-align: middle;\n",
              "    }\n",
              "\n",
              "    .dataframe tbody tr th {\n",
              "        vertical-align: top;\n",
              "    }\n",
              "\n",
              "    .dataframe thead th {\n",
              "        text-align: right;\n",
              "    }\n",
              "</style>\n",
              "<table border=\"1\" class=\"dataframe\">\n",
              "  <thead>\n",
              "    <tr style=\"text-align: right;\">\n",
              "      <th></th>\n",
              "      <th>Date</th>\n",
              "      <th>Open</th>\n",
              "      <th>High</th>\n",
              "      <th>Low</th>\n",
              "      <th>Close</th>\n",
              "      <th>Adj Close</th>\n",
              "      <th>Volume</th>\n",
              "    </tr>\n",
              "  </thead>\n",
              "  <tbody>\n",
              "    <tr>\n",
              "      <th>0</th>\n",
              "      <td>2015-07-10</td>\n",
              "      <td>17.481333</td>\n",
              "      <td>17.533333</td>\n",
              "      <td>17.188000</td>\n",
              "      <td>17.276667</td>\n",
              "      <td>17.276667</td>\n",
              "      <td>39163500</td>\n",
              "    </tr>\n",
              "    <tr>\n",
              "      <th>1</th>\n",
              "      <td>2015-07-13</td>\n",
              "      <td>17.483334</td>\n",
              "      <td>17.503332</td>\n",
              "      <td>17.070000</td>\n",
              "      <td>17.477333</td>\n",
              "      <td>17.477333</td>\n",
              "      <td>44404500</td>\n",
              "    </tr>\n",
              "    <tr>\n",
              "      <th>2</th>\n",
              "      <td>2015-07-14</td>\n",
              "      <td>17.473333</td>\n",
              "      <td>17.732668</td>\n",
              "      <td>17.367332</td>\n",
              "      <td>17.709999</td>\n",
              "      <td>17.709999</td>\n",
              "      <td>28614000</td>\n",
              "    </tr>\n",
              "    <tr>\n",
              "      <th>3</th>\n",
              "      <td>2015-07-15</td>\n",
              "      <td>17.782667</td>\n",
              "      <td>17.832666</td>\n",
              "      <td>17.472000</td>\n",
              "      <td>17.542667</td>\n",
              "      <td>17.542667</td>\n",
              "      <td>30324000</td>\n",
              "    </tr>\n",
              "    <tr>\n",
              "      <th>4</th>\n",
              "      <td>2015-07-16</td>\n",
              "      <td>17.614668</td>\n",
              "      <td>17.813334</td>\n",
              "      <td>17.544001</td>\n",
              "      <td>17.778667</td>\n",
              "      <td>17.778667</td>\n",
              "      <td>24240000</td>\n",
              "    </tr>\n",
              "  </tbody>\n",
              "</table>\n",
              "</div>\n",
              "      <button class=\"colab-df-convert\" onclick=\"convertToInteractive('df-6dac2fc1-ab9b-4d93-b2f1-b18702e71ed9')\"\n",
              "              title=\"Convert this dataframe to an interactive table.\"\n",
              "              style=\"display:none;\">\n",
              "        \n",
              "  <svg xmlns=\"http://www.w3.org/2000/svg\" height=\"24px\"viewBox=\"0 0 24 24\"\n",
              "       width=\"24px\">\n",
              "    <path d=\"M0 0h24v24H0V0z\" fill=\"none\"/>\n",
              "    <path d=\"M18.56 5.44l.94 2.06.94-2.06 2.06-.94-2.06-.94-.94-2.06-.94 2.06-2.06.94zm-11 1L8.5 8.5l.94-2.06 2.06-.94-2.06-.94L8.5 2.5l-.94 2.06-2.06.94zm10 10l.94 2.06.94-2.06 2.06-.94-2.06-.94-.94-2.06-.94 2.06-2.06.94z\"/><path d=\"M17.41 7.96l-1.37-1.37c-.4-.4-.92-.59-1.43-.59-.52 0-1.04.2-1.43.59L10.3 9.45l-7.72 7.72c-.78.78-.78 2.05 0 2.83L4 21.41c.39.39.9.59 1.41.59.51 0 1.02-.2 1.41-.59l7.78-7.78 2.81-2.81c.8-.78.8-2.07 0-2.86zM5.41 20L4 18.59l7.72-7.72 1.47 1.35L5.41 20z\"/>\n",
              "  </svg>\n",
              "      </button>\n",
              "      \n",
              "  <style>\n",
              "    .colab-df-container {\n",
              "      display:flex;\n",
              "      flex-wrap:wrap;\n",
              "      gap: 12px;\n",
              "    }\n",
              "\n",
              "    .colab-df-convert {\n",
              "      background-color: #E8F0FE;\n",
              "      border: none;\n",
              "      border-radius: 50%;\n",
              "      cursor: pointer;\n",
              "      display: none;\n",
              "      fill: #1967D2;\n",
              "      height: 32px;\n",
              "      padding: 0 0 0 0;\n",
              "      width: 32px;\n",
              "    }\n",
              "\n",
              "    .colab-df-convert:hover {\n",
              "      background-color: #E2EBFA;\n",
              "      box-shadow: 0px 1px 2px rgba(60, 64, 67, 0.3), 0px 1px 3px 1px rgba(60, 64, 67, 0.15);\n",
              "      fill: #174EA6;\n",
              "    }\n",
              "\n",
              "    [theme=dark] .colab-df-convert {\n",
              "      background-color: #3B4455;\n",
              "      fill: #D2E3FC;\n",
              "    }\n",
              "\n",
              "    [theme=dark] .colab-df-convert:hover {\n",
              "      background-color: #434B5C;\n",
              "      box-shadow: 0px 1px 3px 1px rgba(0, 0, 0, 0.15);\n",
              "      filter: drop-shadow(0px 1px 2px rgba(0, 0, 0, 0.3));\n",
              "      fill: #FFFFFF;\n",
              "    }\n",
              "  </style>\n",
              "\n",
              "      <script>\n",
              "        const buttonEl =\n",
              "          document.querySelector('#df-6dac2fc1-ab9b-4d93-b2f1-b18702e71ed9 button.colab-df-convert');\n",
              "        buttonEl.style.display =\n",
              "          google.colab.kernel.accessAllowed ? 'block' : 'none';\n",
              "\n",
              "        async function convertToInteractive(key) {\n",
              "          const element = document.querySelector('#df-6dac2fc1-ab9b-4d93-b2f1-b18702e71ed9');\n",
              "          const dataTable =\n",
              "            await google.colab.kernel.invokeFunction('convertToInteractive',\n",
              "                                                     [key], {});\n",
              "          if (!dataTable) return;\n",
              "\n",
              "          const docLinkHtml = 'Like what you see? Visit the ' +\n",
              "            '<a target=\"_blank\" href=https://colab.research.google.com/notebooks/data_table.ipynb>data table notebook</a>'\n",
              "            + ' to learn more about interactive tables.';\n",
              "          element.innerHTML = '';\n",
              "          dataTable['output_type'] = 'display_data';\n",
              "          await google.colab.output.renderOutput(dataTable, element);\n",
              "          const docLink = document.createElement('div');\n",
              "          docLink.innerHTML = docLinkHtml;\n",
              "          element.appendChild(docLink);\n",
              "        }\n",
              "      </script>\n",
              "    </div>\n",
              "  </div>\n",
              "  "
            ]
          },
          "metadata": {},
          "execution_count": 5
        }
      ]
    },
    {
      "cell_type": "code",
      "source": [
        "df.shape"
      ],
      "metadata": {
        "colab": {
          "base_uri": "https://localhost:8080/"
        },
        "id": "3OMN2lR-d7hP",
        "outputId": "e7d9245b-ee92-459a-e2aa-abb34e35fff6"
      },
      "execution_count": 6,
      "outputs": [
        {
          "output_type": "execute_result",
          "data": {
            "text/plain": [
              "(1259, 7)"
            ]
          },
          "metadata": {},
          "execution_count": 6
        }
      ]
    },
    {
      "cell_type": "code",
      "source": [
        "training_set = df.iloc[:800,1:2].values\n",
        "test_set = df.iloc[800:,1:2].values\n"
      ],
      "metadata": {
        "id": "vDcBwV50eB6X"
      },
      "execution_count": 7,
      "outputs": []
    },
    {
      "cell_type": "code",
      "source": [
        "print(training_set.shape,test_set.shape)"
      ],
      "metadata": {
        "colab": {
          "base_uri": "https://localhost:8080/"
        },
        "id": "Owulrq7meNdT",
        "outputId": "3c19de6f-b405-4528-898c-88e82ddc3e81"
      },
      "execution_count": 8,
      "outputs": [
        {
          "output_type": "stream",
          "name": "stdout",
          "text": [
            "(800, 1) (459, 1)\n"
          ]
        }
      ]
    },
    {
      "cell_type": "code",
      "source": [
        "sc = MinMaxScaler(feature_range=(0,1))\n",
        "training_set_scaled = sc.fit_transform(training_set)"
      ],
      "metadata": {
        "id": "-goXx6IBeyO2"
      },
      "execution_count": 9,
      "outputs": []
    },
    {
      "cell_type": "code",
      "source": [
        "# time-steps:60, output:1\n",
        "x_train = []\n",
        "y_train = []\n",
        "\n",
        "for i in range(60,800):\n",
        "  x_train.append(training_set_scaled[i-60:i,0])\n",
        "  y_train.append(training_set_scaled[i,0])\n",
        "\n",
        "x_train,y_train = np.array(x_train),np.array(y_train)\n",
        "x_train = np.reshape(x_train,(x_train.shape[0],x_train.shape[1],1))"
      ],
      "metadata": {
        "id": "fD1wQVVjfSbj"
      },
      "execution_count": 10,
      "outputs": []
    },
    {
      "cell_type": "code",
      "source": [
        "print(y_train[0]) # 첫번째 y값 인덱스 61\n",
        "x_train[1][-1] # 두번째 x_train 인덱스 1-61"
      ],
      "metadata": {
        "colab": {
          "base_uri": "https://localhost:8080/"
        },
        "id": "oXjLkDpBhdzi",
        "outputId": "a9335a13-e5c4-4de4-c8e4-a58a73540eab"
      },
      "execution_count": 11,
      "outputs": [
        {
          "output_type": "stream",
          "name": "stdout",
          "text": [
            "0.43589637508483803\n"
          ]
        },
        {
          "output_type": "execute_result",
          "data": {
            "text/plain": [
              "array([0.43589638])"
            ]
          },
          "metadata": {},
          "execution_count": 11
        }
      ]
    },
    {
      "cell_type": "code",
      "source": [
        "model = Sequential()\n",
        "model.add(LSTM(units=50,return_sequences=True,input_shape=(x_train.shape[1],1)))\n",
        "model.add(Dropout(0.2))\n",
        "\n",
        "model.add(LSTM(units=50,return_sequences=True))\n",
        "model.add(Dropout(0.2))\n",
        "\n",
        "model.add(LSTM(units=50))\n",
        "model.add(Dropout(0.2))\n",
        "\n",
        "model.add(Dense(units=1))\n",
        "\n",
        "model.summary()\n",
        "\n",
        "model.compile(optimizer='adam',loss='mean_squared_error')"
      ],
      "metadata": {
        "colab": {
          "base_uri": "https://localhost:8080/"
        },
        "id": "3bfcDsm8iOAO",
        "outputId": "741e2c51-ed8f-41db-87d2-16ea534b8550"
      },
      "execution_count": 13,
      "outputs": [
        {
          "output_type": "stream",
          "name": "stdout",
          "text": [
            "Model: \"sequential_2\"\n",
            "_________________________________________________________________\n",
            " Layer (type)                Output Shape              Param #   \n",
            "=================================================================\n",
            " lstm_2 (LSTM)               (None, 60, 50)            10400     \n",
            "                                                                 \n",
            " dropout_2 (Dropout)         (None, 60, 50)            0         \n",
            "                                                                 \n",
            " lstm_3 (LSTM)               (None, 60, 50)            20200     \n",
            "                                                                 \n",
            " dropout_3 (Dropout)         (None, 60, 50)            0         \n",
            "                                                                 \n",
            " lstm_4 (LSTM)               (None, 50)                20200     \n",
            "                                                                 \n",
            " dropout_4 (Dropout)         (None, 50)                0         \n",
            "                                                                 \n",
            " dense (Dense)               (None, 1)                 51        \n",
            "                                                                 \n",
            "=================================================================\n",
            "Total params: 50,851\n",
            "Trainable params: 50,851\n",
            "Non-trainable params: 0\n",
            "_________________________________________________________________\n"
          ]
        }
      ]
    },
    {
      "cell_type": "code",
      "source": [
        "model.fit(x_train,y_train,epochs=100,batch_size=32)"
      ],
      "metadata": {
        "colab": {
          "base_uri": "https://localhost:8080/"
        },
        "id": "WEGpGCqU_-MR",
        "outputId": "1eee8593-7cfe-4e55-ef2f-5a284811e7a1"
      },
      "execution_count": 16,
      "outputs": [
        {
          "output_type": "stream",
          "name": "stdout",
          "text": [
            "Epoch 1/100\n",
            "24/24 [==============================] - 0s 15ms/step - loss: 0.0038\n",
            "Epoch 2/100\n",
            "24/24 [==============================] - 0s 11ms/step - loss: 0.0045\n",
            "Epoch 3/100\n",
            "24/24 [==============================] - 0s 10ms/step - loss: 0.0040\n",
            "Epoch 4/100\n",
            "24/24 [==============================] - 0s 10ms/step - loss: 0.0039\n",
            "Epoch 5/100\n",
            "24/24 [==============================] - 0s 11ms/step - loss: 0.0049\n",
            "Epoch 6/100\n",
            "24/24 [==============================] - 0s 10ms/step - loss: 0.0037\n",
            "Epoch 7/100\n",
            "24/24 [==============================] - 0s 10ms/step - loss: 0.0037\n",
            "Epoch 8/100\n",
            "24/24 [==============================] - 0s 11ms/step - loss: 0.0041\n",
            "Epoch 9/100\n",
            "24/24 [==============================] - 0s 11ms/step - loss: 0.0043\n",
            "Epoch 10/100\n",
            "24/24 [==============================] - 0s 11ms/step - loss: 0.0037\n",
            "Epoch 11/100\n",
            "24/24 [==============================] - 0s 10ms/step - loss: 0.0040\n",
            "Epoch 12/100\n",
            "24/24 [==============================] - 0s 11ms/step - loss: 0.0041\n",
            "Epoch 13/100\n",
            "24/24 [==============================] - 0s 10ms/step - loss: 0.0034\n",
            "Epoch 14/100\n",
            "24/24 [==============================] - 0s 10ms/step - loss: 0.0033\n",
            "Epoch 15/100\n",
            "24/24 [==============================] - 0s 11ms/step - loss: 0.0037\n",
            "Epoch 16/100\n",
            "24/24 [==============================] - 0s 11ms/step - loss: 0.0036\n",
            "Epoch 17/100\n",
            "24/24 [==============================] - 0s 10ms/step - loss: 0.0035\n",
            "Epoch 18/100\n",
            "24/24 [==============================] - 0s 11ms/step - loss: 0.0035\n",
            "Epoch 19/100\n",
            "24/24 [==============================] - 0s 10ms/step - loss: 0.0038\n",
            "Epoch 20/100\n",
            "24/24 [==============================] - 0s 11ms/step - loss: 0.0032\n",
            "Epoch 21/100\n",
            "24/24 [==============================] - 0s 11ms/step - loss: 0.0034\n",
            "Epoch 22/100\n",
            "24/24 [==============================] - 0s 10ms/step - loss: 0.0033\n",
            "Epoch 23/100\n",
            "24/24 [==============================] - 0s 10ms/step - loss: 0.0030\n",
            "Epoch 24/100\n",
            "24/24 [==============================] - 0s 11ms/step - loss: 0.0031\n",
            "Epoch 25/100\n",
            "24/24 [==============================] - 0s 11ms/step - loss: 0.0033\n",
            "Epoch 26/100\n",
            "24/24 [==============================] - 0s 11ms/step - loss: 0.0030\n",
            "Epoch 27/100\n",
            "24/24 [==============================] - 0s 11ms/step - loss: 0.0033\n",
            "Epoch 28/100\n",
            "24/24 [==============================] - 0s 11ms/step - loss: 0.0029\n",
            "Epoch 29/100\n",
            "24/24 [==============================] - 0s 11ms/step - loss: 0.0033\n",
            "Epoch 30/100\n",
            "24/24 [==============================] - 0s 11ms/step - loss: 0.0032\n",
            "Epoch 31/100\n",
            "24/24 [==============================] - 0s 11ms/step - loss: 0.0030\n",
            "Epoch 32/100\n",
            "24/24 [==============================] - 0s 11ms/step - loss: 0.0031\n",
            "Epoch 33/100\n",
            "24/24 [==============================] - 0s 10ms/step - loss: 0.0033\n",
            "Epoch 34/100\n",
            "24/24 [==============================] - 0s 11ms/step - loss: 0.0035\n",
            "Epoch 35/100\n",
            "24/24 [==============================] - 0s 11ms/step - loss: 0.0028\n",
            "Epoch 36/100\n",
            "24/24 [==============================] - 0s 11ms/step - loss: 0.0030\n",
            "Epoch 37/100\n",
            "24/24 [==============================] - 0s 10ms/step - loss: 0.0032\n",
            "Epoch 38/100\n",
            "24/24 [==============================] - 0s 11ms/step - loss: 0.0030\n",
            "Epoch 39/100\n",
            "24/24 [==============================] - 0s 11ms/step - loss: 0.0030\n",
            "Epoch 40/100\n",
            "24/24 [==============================] - 0s 11ms/step - loss: 0.0033\n",
            "Epoch 41/100\n",
            "24/24 [==============================] - 0s 10ms/step - loss: 0.0028\n",
            "Epoch 42/100\n",
            "24/24 [==============================] - 0s 11ms/step - loss: 0.0027\n",
            "Epoch 43/100\n",
            "24/24 [==============================] - 0s 11ms/step - loss: 0.0026\n",
            "Epoch 44/100\n",
            "24/24 [==============================] - 0s 13ms/step - loss: 0.0029\n",
            "Epoch 45/100\n",
            "24/24 [==============================] - 0s 11ms/step - loss: 0.0027\n",
            "Epoch 46/100\n",
            "24/24 [==============================] - 0s 14ms/step - loss: 0.0029\n",
            "Epoch 47/100\n",
            "24/24 [==============================] - 0s 13ms/step - loss: 0.0027\n",
            "Epoch 48/100\n",
            "24/24 [==============================] - 0s 11ms/step - loss: 0.0027\n",
            "Epoch 49/100\n",
            "24/24 [==============================] - 0s 14ms/step - loss: 0.0028\n",
            "Epoch 50/100\n",
            "24/24 [==============================] - 0s 14ms/step - loss: 0.0027\n",
            "Epoch 51/100\n",
            "24/24 [==============================] - 0s 12ms/step - loss: 0.0027\n",
            "Epoch 52/100\n",
            "24/24 [==============================] - 0s 13ms/step - loss: 0.0027\n",
            "Epoch 53/100\n",
            "24/24 [==============================] - 0s 13ms/step - loss: 0.0027\n",
            "Epoch 54/100\n",
            "24/24 [==============================] - 0s 11ms/step - loss: 0.0026\n",
            "Epoch 55/100\n",
            "24/24 [==============================] - 0s 10ms/step - loss: 0.0026\n",
            "Epoch 56/100\n",
            "24/24 [==============================] - 0s 14ms/step - loss: 0.0028\n",
            "Epoch 57/100\n",
            "24/24 [==============================] - 0s 11ms/step - loss: 0.0025\n",
            "Epoch 58/100\n",
            "24/24 [==============================] - 0s 10ms/step - loss: 0.0025\n",
            "Epoch 59/100\n",
            "24/24 [==============================] - 0s 11ms/step - loss: 0.0024\n",
            "Epoch 60/100\n",
            "24/24 [==============================] - 0s 14ms/step - loss: 0.0023\n",
            "Epoch 61/100\n",
            "24/24 [==============================] - 0s 10ms/step - loss: 0.0024\n",
            "Epoch 62/100\n",
            "24/24 [==============================] - 0s 11ms/step - loss: 0.0025\n",
            "Epoch 63/100\n",
            "24/24 [==============================] - 0s 11ms/step - loss: 0.0023\n",
            "Epoch 64/100\n",
            "24/24 [==============================] - 0s 10ms/step - loss: 0.0021\n",
            "Epoch 65/100\n",
            "24/24 [==============================] - 0s 10ms/step - loss: 0.0024\n",
            "Epoch 66/100\n",
            "24/24 [==============================] - 0s 11ms/step - loss: 0.0024\n",
            "Epoch 67/100\n",
            "24/24 [==============================] - 0s 11ms/step - loss: 0.0024\n",
            "Epoch 68/100\n",
            "24/24 [==============================] - 0s 11ms/step - loss: 0.0023\n",
            "Epoch 69/100\n",
            "24/24 [==============================] - 0s 10ms/step - loss: 0.0028\n",
            "Epoch 70/100\n",
            "24/24 [==============================] - 0s 12ms/step - loss: 0.0023\n",
            "Epoch 71/100\n",
            "24/24 [==============================] - 0s 11ms/step - loss: 0.0025\n",
            "Epoch 72/100\n",
            "24/24 [==============================] - 0s 11ms/step - loss: 0.0034\n",
            "Epoch 73/100\n",
            "24/24 [==============================] - 0s 10ms/step - loss: 0.0025\n",
            "Epoch 74/100\n",
            "24/24 [==============================] - 0s 10ms/step - loss: 0.0022\n",
            "Epoch 75/100\n",
            "24/24 [==============================] - 0s 11ms/step - loss: 0.0024\n",
            "Epoch 76/100\n",
            "24/24 [==============================] - 0s 10ms/step - loss: 0.0025\n",
            "Epoch 77/100\n",
            "24/24 [==============================] - 0s 10ms/step - loss: 0.0024\n",
            "Epoch 78/100\n",
            "24/24 [==============================] - 0s 10ms/step - loss: 0.0021\n",
            "Epoch 79/100\n",
            "24/24 [==============================] - 0s 11ms/step - loss: 0.0020\n",
            "Epoch 80/100\n",
            "24/24 [==============================] - 0s 11ms/step - loss: 0.0024\n",
            "Epoch 81/100\n",
            "24/24 [==============================] - 0s 10ms/step - loss: 0.0021\n",
            "Epoch 82/100\n",
            "24/24 [==============================] - 0s 10ms/step - loss: 0.0020\n",
            "Epoch 83/100\n",
            "24/24 [==============================] - 0s 11ms/step - loss: 0.0021\n",
            "Epoch 84/100\n",
            "24/24 [==============================] - 0s 10ms/step - loss: 0.0019\n",
            "Epoch 85/100\n",
            "24/24 [==============================] - 0s 10ms/step - loss: 0.0021\n",
            "Epoch 86/100\n",
            "24/24 [==============================] - 0s 10ms/step - loss: 0.0022\n",
            "Epoch 87/100\n",
            "24/24 [==============================] - 0s 11ms/step - loss: 0.0022\n",
            "Epoch 88/100\n",
            "24/24 [==============================] - 0s 10ms/step - loss: 0.0023\n",
            "Epoch 89/100\n",
            "24/24 [==============================] - 0s 10ms/step - loss: 0.0021\n",
            "Epoch 90/100\n",
            "24/24 [==============================] - 0s 11ms/step - loss: 0.0020\n",
            "Epoch 91/100\n",
            "24/24 [==============================] - 0s 11ms/step - loss: 0.0021\n",
            "Epoch 92/100\n",
            "24/24 [==============================] - 0s 10ms/step - loss: 0.0019\n",
            "Epoch 93/100\n",
            "24/24 [==============================] - 0s 11ms/step - loss: 0.0020\n",
            "Epoch 94/100\n",
            "24/24 [==============================] - 0s 12ms/step - loss: 0.0022\n",
            "Epoch 95/100\n",
            "24/24 [==============================] - 0s 11ms/step - loss: 0.0020\n",
            "Epoch 96/100\n",
            "24/24 [==============================] - 0s 10ms/step - loss: 0.0023\n",
            "Epoch 97/100\n",
            "24/24 [==============================] - 0s 11ms/step - loss: 0.0022\n",
            "Epoch 98/100\n",
            "24/24 [==============================] - 0s 11ms/step - loss: 0.0019\n",
            "Epoch 99/100\n",
            "24/24 [==============================] - 0s 10ms/step - loss: 0.0021\n",
            "Epoch 100/100\n",
            "24/24 [==============================] - 0s 10ms/step - loss: 0.0020\n"
          ]
        },
        {
          "output_type": "execute_result",
          "data": {
            "text/plain": [
              "<keras.callbacks.History at 0x7f0847f5f8b0>"
            ]
          },
          "metadata": {},
          "execution_count": 16
        }
      ]
    },
    {
      "cell_type": "code",
      "source": [
        "#테스트 데이터 준비\n",
        "training_set = df.iloc[:800,1:2]\n",
        "test_set = df.iloc[800:,1:2]\n",
        "\n",
        "total = df['Open']\n",
        "inputs = total[len(total)-len(test_set)-60:].values\n",
        "inputs = inputs.reshape(-1,1)\n",
        "\n",
        "inputs = sc.transform(inputs)\n",
        "\n",
        "x_test = []\n",
        "for i in range(60,519):\n",
        "  x_test.append(inputs[i-60:i,0])\n",
        "\n",
        "x_test = np.array(x_test)\n",
        "x_test = np.reshape(x_test,(x_test.shape[0],x_test.shape[1],1))\n",
        "\n",
        "print(x_test.shape)"
      ],
      "metadata": {
        "colab": {
          "base_uri": "https://localhost:8080/"
        },
        "id": "XG3vI3hQ_-X4",
        "outputId": "432b9a3d-298d-4ef7-bf9c-4d5b819ecc2f"
      },
      "execution_count": 22,
      "outputs": [
        {
          "output_type": "stream",
          "name": "stdout",
          "text": [
            "(459, 60, 1)\n"
          ]
        }
      ]
    },
    {
      "cell_type": "code",
      "source": [
        "predict = model.predict(x_test)\n",
        "predict = sc.inverse_transform(predict)"
      ],
      "metadata": {
        "colab": {
          "base_uri": "https://localhost:8080/"
        },
        "id": "p3LX4FCwDCMx",
        "outputId": "f3c389c5-6ef7-4a50-9313-b64a21db82f4"
      },
      "execution_count": 31,
      "outputs": [
        {
          "output_type": "stream",
          "name": "stdout",
          "text": [
            "15/15 [==============================] - 1s 4ms/step\n"
          ]
        }
      ]
    },
    {
      "cell_type": "code",
      "source": [
        "#시각화\n",
        "plt.figure(figsize=(16,9))\n",
        "plt.plot(df.loc[800:,'Date'],test_set.values,color='red',label='real tesla stock price')\n",
        "plt.plot(df.loc[800:,'Date'],predict,color='blue',label='predict tesla stock price')\n",
        "plt.xticks(np.arange(0,459,50))\n",
        "plt.title('tesla stoct price prediction')\n",
        "plt.xlabel('time')\n",
        "plt.ylabel('tesla stock price')"
      ],
      "metadata": {
        "colab": {
          "base_uri": "https://localhost:8080/",
          "height": 517
        },
        "id": "SdRa8OqdDCPn",
        "outputId": "36d68bbe-ca51-4f3a-db49-15cd257627c2"
      },
      "execution_count": 32,
      "outputs": [
        {
          "output_type": "execute_result",
          "data": {
            "text/plain": [
              "Text(0, 0.5, 'tesla stock price')"
            ]
          },
          "metadata": {},
          "execution_count": 32
        },
        {
          "output_type": "display_data",
          "data": {
            "text/plain": [
              "<Figure size 1152x648 with 1 Axes>"
            ],
            "image/png": "[encoded data removed]"
          },
          "metadata": {
            "needs_background": "light"
          }
        }
      ]
    },
    {
      "cell_type": "code",
      "source": [
        "from keras.layers import Flatten\n",
        "model = keras.Sequential()\n",
        "for i in range(2):\n",
        "  if i == 0:\n",
        "    model.add(LSTM(units = 50, return_sequences = True, input_shape = (x_train.shape[1],1)))\n",
        "    model.add(Dropout(0.1))\n",
        "  else :\n",
        "    model.add(LSTM(units = 50, return_sequences = True))\n",
        "    model.add(Dropout(0.1))\n",
        "model.add(Flatten())\n",
        "model.add(Dense(1,activation = 'relu'))\n",
        "model.compile(loss = 'mse',optimizer = 'adam',metrics = ['mae'])\n",
        "history=model.fit(x_train,y_train,epochs = 100)\n",
        "model.summary()"
      ],
      "metadata": {
        "colab": {
          "base_uri": "https://localhost:8080/"
        },
        "id": "VNUc7v7zGW42",
        "outputId": "854280d2-cc32-4dbb-f014-3ca9682136b3"
      },
      "execution_count": 30,
      "outputs": [
        {
          "output_type": "stream",
          "name": "stdout",
          "text": [
            "Epoch 1/100\n",
            "24/24 [==============================] - 3s 10ms/step - loss: 0.0538 - mae: 0.1681\n",
            "Epoch 2/100\n",
            "24/24 [==============================] - 0s 8ms/step - loss: 0.0198 - mae: 0.1126\n",
            "Epoch 3/100\n",
            "24/24 [==============================] - 0s 8ms/step - loss: 0.0118 - mae: 0.0873\n",
            "Epoch 4/100\n",
            "24/24 [==============================] - 0s 9ms/step - loss: 0.0107 - mae: 0.0828\n",
            "Epoch 5/100\n",
            "24/24 [==============================] - 0s 8ms/step - loss: 0.0104 - mae: 0.0814\n",
            "Epoch 6/100\n",
            "24/24 [==============================] - 0s 8ms/step - loss: 0.0092 - mae: 0.0756\n",
            "Epoch 7/100\n",
            "24/24 [==============================] - 0s 8ms/step - loss: 0.0089 - mae: 0.0743\n",
            "Epoch 8/100\n",
            "24/24 [==============================] - 0s 8ms/step - loss: 0.0085 - mae: 0.0726\n",
            "Epoch 9/100\n",
            "24/24 [==============================] - 0s 8ms/step - loss: 0.0077 - mae: 0.0685\n",
            "Epoch 10/100\n",
            "24/24 [==============================] - 0s 8ms/step - loss: 0.0077 - mae: 0.0688\n",
            "Epoch 11/100\n",
            "24/24 [==============================] - 0s 8ms/step - loss: 0.0071 - mae: 0.0662\n",
            "Epoch 12/100\n",
            "24/24 [==============================] - 0s 7ms/step - loss: 0.0070 - mae: 0.0653\n",
            "Epoch 13/100\n",
            "24/24 [==============================] - 0s 8ms/step - loss: 0.0063 - mae: 0.0619\n",
            "Epoch 14/100\n",
            "24/24 [==============================] - 0s 8ms/step - loss: 0.0062 - mae: 0.0609\n",
            "Epoch 15/100\n",
            "24/24 [==============================] - 0s 8ms/step - loss: 0.0059 - mae: 0.0603\n",
            "Epoch 16/100\n",
            "24/24 [==============================] - 0s 8ms/step - loss: 0.0051 - mae: 0.0572\n",
            "Epoch 17/100\n",
            "24/24 [==============================] - 0s 8ms/step - loss: 0.0053 - mae: 0.0574\n",
            "Epoch 18/100\n",
            "24/24 [==============================] - 0s 8ms/step - loss: 0.0046 - mae: 0.0536\n",
            "Epoch 19/100\n",
            "24/24 [==============================] - 0s 8ms/step - loss: 0.0055 - mae: 0.0581\n",
            "Epoch 20/100\n",
            "24/24 [==============================] - 0s 8ms/step - loss: 0.0048 - mae: 0.0540\n",
            "Epoch 21/100\n",
            "24/24 [==============================] - 0s 8ms/step - loss: 0.0044 - mae: 0.0515\n",
            "Epoch 22/100\n",
            "24/24 [==============================] - 0s 7ms/step - loss: 0.0047 - mae: 0.0532\n",
            "Epoch 23/100\n",
            "24/24 [==============================] - 0s 8ms/step - loss: 0.0042 - mae: 0.0509\n",
            "Epoch 24/100\n",
            "24/24 [==============================] - 0s 8ms/step - loss: 0.0041 - mae: 0.0500\n",
            "Epoch 25/100\n",
            "24/24 [==============================] - 0s 8ms/step - loss: 0.0038 - mae: 0.0484\n",
            "Epoch 26/100\n",
            "24/24 [==============================] - 0s 8ms/step - loss: 0.0038 - mae: 0.0479\n",
            "Epoch 27/100\n",
            "24/24 [==============================] - 0s 8ms/step - loss: 0.0040 - mae: 0.0505\n",
            "Epoch 28/100\n",
            "24/24 [==============================] - 0s 7ms/step - loss: 0.0039 - mae: 0.0485\n",
            "Epoch 29/100\n",
            "24/24 [==============================] - 0s 8ms/step - loss: 0.0034 - mae: 0.0448\n",
            "Epoch 30/100\n",
            "24/24 [==============================] - 0s 9ms/step - loss: 0.0035 - mae: 0.0456\n",
            "Epoch 31/100\n",
            "24/24 [==============================] - 0s 8ms/step - loss: 0.0034 - mae: 0.0451\n",
            "Epoch 32/100\n",
            "24/24 [==============================] - 0s 8ms/step - loss: 0.0030 - mae: 0.0429\n",
            "Epoch 33/100\n",
            "24/24 [==============================] - 0s 8ms/step - loss: 0.0035 - mae: 0.0462\n",
            "Epoch 34/100\n",
            "24/24 [==============================] - 0s 8ms/step - loss: 0.0034 - mae: 0.0454\n",
            "Epoch 35/100\n",
            "24/24 [==============================] - 0s 9ms/step - loss: 0.0043 - mae: 0.0504\n",
            "Epoch 36/100\n",
            "24/24 [==============================] - 0s 8ms/step - loss: 0.0036 - mae: 0.0463\n",
            "Epoch 37/100\n",
            "24/24 [==============================] - 0s 8ms/step - loss: 0.0035 - mae: 0.0458\n",
            "Epoch 38/100\n",
            "24/24 [==============================] - 0s 8ms/step - loss: 0.0032 - mae: 0.0435\n",
            "Epoch 39/100\n",
            "24/24 [==============================] - 0s 8ms/step - loss: 0.0032 - mae: 0.0426\n",
            "Epoch 40/100\n",
            "24/24 [==============================] - 0s 9ms/step - loss: 0.0027 - mae: 0.0397\n",
            "Epoch 41/100\n",
            "24/24 [==============================] - 0s 8ms/step - loss: 0.0030 - mae: 0.0427\n",
            "Epoch 42/100\n",
            "24/24 [==============================] - 0s 8ms/step - loss: 0.0027 - mae: 0.0401\n",
            "Epoch 43/100\n",
            "24/24 [==============================] - 0s 8ms/step - loss: 0.0033 - mae: 0.0441\n",
            "Epoch 44/100\n",
            "24/24 [==============================] - 0s 8ms/step - loss: 0.0029 - mae: 0.0414\n",
            "Epoch 45/100\n",
            "24/24 [==============================] - 0s 9ms/step - loss: 0.0025 - mae: 0.0381\n",
            "Epoch 46/100\n",
            "24/24 [==============================] - 0s 8ms/step - loss: 0.0026 - mae: 0.0390\n",
            "Epoch 47/100\n",
            "24/24 [==============================] - 0s 8ms/step - loss: 0.0026 - mae: 0.0387\n",
            "Epoch 48/100\n",
            "24/24 [==============================] - 0s 8ms/step - loss: 0.0024 - mae: 0.0378\n",
            "Epoch 49/100\n",
            "24/24 [==============================] - 0s 8ms/step - loss: 0.0023 - mae: 0.0367\n",
            "Epoch 50/100\n",
            "24/24 [==============================] - 0s 8ms/step - loss: 0.0025 - mae: 0.0383\n",
            "Epoch 51/100\n",
            "24/24 [==============================] - 0s 8ms/step - loss: 0.0025 - mae: 0.0389\n",
            "Epoch 52/100\n",
            "24/24 [==============================] - 0s 8ms/step - loss: 0.0024 - mae: 0.0369\n",
            "Epoch 53/100\n",
            "24/24 [==============================] - 0s 8ms/step - loss: 0.0027 - mae: 0.0398\n",
            "Epoch 54/100\n",
            "24/24 [==============================] - 0s 8ms/step - loss: 0.0026 - mae: 0.0393\n",
            "Epoch 55/100\n",
            "24/24 [==============================] - 0s 9ms/step - loss: 0.0024 - mae: 0.0377\n",
            "Epoch 56/100\n",
            "24/24 [==============================] - 0s 8ms/step - loss: 0.0024 - mae: 0.0375\n",
            "Epoch 57/100\n",
            "24/24 [==============================] - 0s 8ms/step - loss: 0.0028 - mae: 0.0401\n",
            "Epoch 58/100\n",
            "24/24 [==============================] - 0s 8ms/step - loss: 0.0025 - mae: 0.0380\n",
            "Epoch 59/100\n",
            "24/24 [==============================] - 0s 8ms/step - loss: 0.0023 - mae: 0.0370\n",
            "Epoch 60/100\n",
            "24/24 [==============================] - 0s 9ms/step - loss: 0.0022 - mae: 0.0360\n",
            "Epoch 61/100\n",
            "24/24 [==============================] - 0s 8ms/step - loss: 0.0024 - mae: 0.0367\n",
            "Epoch 62/100\n",
            "24/24 [==============================] - 0s 8ms/step - loss: 0.0023 - mae: 0.0366\n",
            "Epoch 63/100\n",
            "24/24 [==============================] - 0s 8ms/step - loss: 0.0021 - mae: 0.0346\n",
            "Epoch 64/100\n",
            "24/24 [==============================] - 0s 8ms/step - loss: 0.0023 - mae: 0.0366\n",
            "Epoch 65/100\n",
            "24/24 [==============================] - 0s 8ms/step - loss: 0.0026 - mae: 0.0388\n",
            "Epoch 66/100\n",
            "24/24 [==============================] - 0s 8ms/step - loss: 0.0021 - mae: 0.0359\n",
            "Epoch 67/100\n",
            "24/24 [==============================] - 0s 7ms/step - loss: 0.0023 - mae: 0.0366\n",
            "Epoch 68/100\n",
            "24/24 [==============================] - 0s 8ms/step - loss: 0.0023 - mae: 0.0362\n",
            "Epoch 69/100\n",
            "24/24 [==============================] - 0s 8ms/step - loss: 0.0022 - mae: 0.0360\n",
            "Epoch 70/100\n",
            "24/24 [==============================] - 0s 9ms/step - loss: 0.0020 - mae: 0.0348\n",
            "Epoch 71/100\n",
            "24/24 [==============================] - 0s 8ms/step - loss: 0.0020 - mae: 0.0339\n",
            "Epoch 72/100\n",
            "24/24 [==============================] - 0s 8ms/step - loss: 0.0022 - mae: 0.0356\n",
            "Epoch 73/100\n",
            "24/24 [==============================] - 0s 8ms/step - loss: 0.0020 - mae: 0.0333\n",
            "Epoch 74/100\n",
            "24/24 [==============================] - 0s 8ms/step - loss: 0.0018 - mae: 0.0323\n",
            "Epoch 75/100\n",
            "24/24 [==============================] - 0s 9ms/step - loss: 0.0019 - mae: 0.0329\n",
            "Epoch 76/100\n",
            "24/24 [==============================] - 0s 8ms/step - loss: 0.0019 - mae: 0.0329\n",
            "Epoch 77/100\n",
            "24/24 [==============================] - 0s 7ms/step - loss: 0.0019 - mae: 0.0336\n",
            "Epoch 78/100\n",
            "24/24 [==============================] - 0s 8ms/step - loss: 0.0017 - mae: 0.0314\n",
            "Epoch 79/100\n",
            "24/24 [==============================] - 0s 8ms/step - loss: 0.0017 - mae: 0.0315\n",
            "Epoch 80/100\n",
            "24/24 [==============================] - 0s 8ms/step - loss: 0.0018 - mae: 0.0324\n",
            "Epoch 81/100\n",
            "24/24 [==============================] - 0s 9ms/step - loss: 0.0019 - mae: 0.0331\n",
            "Epoch 82/100\n",
            "24/24 [==============================] - 0s 8ms/step - loss: 0.0017 - mae: 0.0317\n",
            "Epoch 83/100\n",
            "24/24 [==============================] - 0s 8ms/step - loss: 0.0016 - mae: 0.0316\n",
            "Epoch 84/100\n",
            "24/24 [==============================] - 0s 8ms/step - loss: 0.0016 - mae: 0.0304\n",
            "Epoch 85/100\n",
            "24/24 [==============================] - 0s 8ms/step - loss: 0.0018 - mae: 0.0323\n",
            "Epoch 86/100\n",
            "24/24 [==============================] - 0s 8ms/step - loss: 0.0019 - mae: 0.0336\n",
            "Epoch 87/100\n",
            "24/24 [==============================] - 0s 8ms/step - loss: 0.0016 - mae: 0.0302\n",
            "Epoch 88/100\n",
            "24/24 [==============================] - 0s 8ms/step - loss: 0.0019 - mae: 0.0334\n",
            "Epoch 89/100\n",
            "24/24 [==============================] - 0s 8ms/step - loss: 0.0016 - mae: 0.0306\n",
            "Epoch 90/100\n",
            "24/24 [==============================] - 0s 9ms/step - loss: 0.0019 - mae: 0.0327\n",
            "Epoch 91/100\n",
            "24/24 [==============================] - 0s 8ms/step - loss: 0.0017 - mae: 0.0313\n",
            "Epoch 92/100\n",
            "24/24 [==============================] - 0s 8ms/step - loss: 0.0019 - mae: 0.0337\n",
            "Epoch 93/100\n",
            "24/24 [==============================] - 0s 8ms/step - loss: 0.0016 - mae: 0.0314\n",
            "Epoch 94/100\n",
            "24/24 [==============================] - 0s 9ms/step - loss: 0.0018 - mae: 0.0323\n",
            "Epoch 95/100\n",
            "24/24 [==============================] - 0s 8ms/step - loss: 0.0016 - mae: 0.0298\n",
            "Epoch 96/100\n",
            "24/24 [==============================] - 0s 8ms/step - loss: 0.0015 - mae: 0.0291\n",
            "Epoch 97/100\n",
            "24/24 [==============================] - 0s 8ms/step - loss: 0.0016 - mae: 0.0304\n",
            "Epoch 98/100\n",
            "24/24 [==============================] - 0s 8ms/step - loss: 0.0015 - mae: 0.0294\n",
            "Epoch 99/100\n",
            "24/24 [==============================] - 0s 8ms/step - loss: 0.0017 - mae: 0.0311\n",
            "Epoch 100/100\n",
            "24/24 [==============================] - 0s 8ms/step - loss: 0.0015 - mae: 0.0291\n",
            "Model: \"sequential_6\"\n",
            "_________________________________________________________________\n",
            " Layer (type)                Output Shape              Param #   \n",
            "=================================================================\n",
            " lstm_11 (LSTM)              (None, 60, 50)            10400     \n",
            "                                                                 \n",
            " dropout_11 (Dropout)        (None, 60, 50)            0         \n",
            "                                                                 \n",
            " lstm_12 (LSTM)              (None, 60, 50)            20200     \n",
            "                                                                 \n",
            " dropout_12 (Dropout)        (None, 60, 50)            0         \n",
            "                                                                 \n",
            " flatten_2 (Flatten)         (None, 3000)              0         \n",
            "                                                                 \n",
            " dense_3 (Dense)             (None, 1)                 3001      \n",
            "                                                                 \n",
            "=================================================================\n",
            "Total params: 33,601\n",
            "Trainable params: 33,601\n",
            "Non-trainable params: 0\n",
            "_________________________________________________________________\n"
          ]
        }
      ]
    },
    {
      "cell_type": "markdown",
      "source": [
        "## 케라스 모듈로 시계열 만들기"
      ],
      "metadata": {
        "id": "hsXSujFY_3oi"
      }
    },
    {
      "cell_type": "code",
      "source": [
        "from keras.utils import timeseries_dataset_from_array\n",
        "sampling_rate = 1\n",
        "sequence_length = 60\n",
        "delay = sampling_rate*(sequence_length+1)\n",
        "train_sample = 800\n",
        "df['open']"
      ],
      "metadata": {
        "id": "HZMnyRIqtILf"
      },
      "execution_count": 49,
      "outputs": []
    },
    {
      "cell_type": "code",
      "source": [
        "abc=timeseries_dataset_from_array(\n",
        "    money[:-delay],\n",
        "    targets=money[delay:],\n",
        "    sampling_rate=sampling_rate,\n",
        "    sequence_length=sequence_length,\n",
        "    batch_size= 760,\n",
        "    start_index = 0,\n",
        "    end_index = 799\n",
        ")"
      ],
      "metadata": {
        "id": "Ir5ygZDntOMm"
      },
      "execution_count": 62,
      "outputs": []
    },
    {
      "cell_type": "code",
      "source": [
        "money=pd.DataFrame(df['Open'])"
      ],
      "metadata": {
        "id": "BcuqNlpvtn9s"
      },
      "execution_count": 54,
      "outputs": []
    },
    {
      "cell_type": "code",
      "source": [
        "money"
      ],
      "metadata": {
        "colab": {
          "base_uri": "https://localhost:8080/",
          "height": 424
        },
        "id": "IsFQJ_5Dt5Yn",
        "outputId": "5506d512-e168-483d-9b16-23d769c4883a"
      },
      "execution_count": 55,
      "outputs": [
        {
          "output_type": "execute_result",
          "data": {
            "text/plain": [
              "           Open\n",
              "0     17.481333\n",
              "1     17.483334\n",
              "2     17.473333\n",
              "3     17.782667\n",
              "4     17.614668\n",
              "...         ...\n",
              "1254  81.431999\n",
              "1255  85.112663\n",
              "1256  93.667336\n",
              "1257  93.666664\n",
              "1258  93.132668\n",
              "\n",
              "[1259 rows x 1 columns]"
            ],
            "text/html": [
              "\n",
              "  <div id=\"df-b42ce847-dde1-40fe-8a4e-ed91c667fd93\">\n",
              "    <div class=\"colab-df-container\">\n",
              "      <div>\n",
              "<style scoped>\n",
              "    .dataframe tbody tr th:only-of-type {\n",
              "        vertical-align: middle;\n",
              "    }\n",
              "\n",
              "    .dataframe tbody tr th {\n",
              "        vertical-align: top;\n",
              "    }\n",
              "\n",
              "    .dataframe thead th {\n",
              "        text-align: right;\n",
              "    }\n",
              "</style>\n",
              "<table border=\"1\" class=\"dataframe\">\n",
              "  <thead>\n",
              "    <tr style=\"text-align: right;\">\n",
              "      <th></th>\n",
              "      <th>Open</th>\n",
              "    </tr>\n",
              "  </thead>\n",
              "  <tbody>\n",
              "    <tr>\n",
              "      <th>0</th>\n",
              "      <td>17.481333</td>\n",
              "    </tr>\n",
              "    <tr>\n",
              "      <th>1</th>\n",
              "      <td>17.483334</td>\n",
              "    </tr>\n",
              "    <tr>\n",
              "      <th>2</th>\n",
              "      <td>17.473333</td>\n",
              "    </tr>\n",
              "    <tr>\n",
              "      <th>3</th>\n",
              "      <td>17.782667</td>\n",
              "    </tr>\n",
              "    <tr>\n",
              "      <th>4</th>\n",
              "      <td>17.614668</td>\n",
              "    </tr>\n",
              "    <tr>\n",
              "      <th>...</th>\n",
              "      <td>...</td>\n",
              "    </tr>\n",
              "    <tr>\n",
              "      <th>1254</th>\n",
              "      <td>81.431999</td>\n",
              "    </tr>\n",
              "    <tr>\n",
              "      <th>1255</th>\n",
              "      <td>85.112663</td>\n",
              "    </tr>\n",
              "    <tr>\n",
              "      <th>1256</th>\n",
              "      <td>93.667336</td>\n",
              "    </tr>\n",
              "    <tr>\n",
              "      <th>1257</th>\n",
              "      <td>93.666664</td>\n",
              "    </tr>\n",
              "    <tr>\n",
              "      <th>1258</th>\n",
              "      <td>93.132668</td>\n",
              "    </tr>\n",
              "  </tbody>\n",
              "</table>\n",
              "<p>1259 rows × 1 columns</p>\n",
              "</div>\n",
              "      <button class=\"colab-df-convert\" onclick=\"convertToInteractive('df-b42ce847-dde1-40fe-8a4e-ed91c667fd93')\"\n",
              "              title=\"Convert this dataframe to an interactive table.\"\n",
              "              style=\"display:none;\">\n",
              "        \n",
              "  <svg xmlns=\"http://www.w3.org/2000/svg\" height=\"24px\"viewBox=\"0 0 24 24\"\n",
              "       width=\"24px\">\n",
              "    <path d=\"M0 0h24v24H0V0z\" fill=\"none\"/>\n",
              "    <path d=\"M18.56 5.44l.94 2.06.94-2.06 2.06-.94-2.06-.94-.94-2.06-.94 2.06-2.06.94zm-11 1L8.5 8.5l.94-2.06 2.06-.94-2.06-.94L8.5 2.5l-.94 2.06-2.06.94zm10 10l.94 2.06.94-2.06 2.06-.94-2.06-.94-.94-2.06-.94 2.06-2.06.94z\"/><path d=\"M17.41 7.96l-1.37-1.37c-.4-.4-.92-.59-1.43-.59-.52 0-1.04.2-1.43.59L10.3 9.45l-7.72 7.72c-.78.78-.78 2.05 0 2.83L4 21.41c.39.39.9.59 1.41.59.51 0 1.02-.2 1.41-.59l7.78-7.78 2.81-2.81c.8-.78.8-2.07 0-2.86zM5.41 20L4 18.59l7.72-7.72 1.47 1.35L5.41 20z\"/>\n",
              "  </svg>\n",
              "      </button>\n",
              "      \n",
              "  <style>\n",
              "    .colab-df-container {\n",
              "      display:flex;\n",
              "      flex-wrap:wrap;\n",
              "      gap: 12px;\n",
              "    }\n",
              "\n",
              "    .colab-df-convert {\n",
              "      background-color: #E8F0FE;\n",
              "      border: none;\n",
              "      border-radius: 50%;\n",
              "      cursor: pointer;\n",
              "      display: none;\n",
              "      fill: #1967D2;\n",
              "      height: 32px;\n",
              "      padding: 0 0 0 0;\n",
              "      width: 32px;\n",
              "    }\n",
              "\n",
              "    .colab-df-convert:hover {\n",
              "      background-color: #E2EBFA;\n",
              "      box-shadow: 0px 1px 2px rgba(60, 64, 67, 0.3), 0px 1px 3px 1px rgba(60, 64, 67, 0.15);\n",
              "      fill: #174EA6;\n",
              "    }\n",
              "\n",
              "    [theme=dark] .colab-df-convert {\n",
              "      background-color: #3B4455;\n",
              "      fill: #D2E3FC;\n",
              "    }\n",
              "\n",
              "    [theme=dark] .colab-df-convert:hover {\n",
              "      background-color: #434B5C;\n",
              "      box-shadow: 0px 1px 3px 1px rgba(0, 0, 0, 0.15);\n",
              "      filter: drop-shadow(0px 1px 2px rgba(0, 0, 0, 0.3));\n",
              "      fill: #FFFFFF;\n",
              "    }\n",
              "  </style>\n",
              "\n",
              "      <script>\n",
              "        const buttonEl =\n",
              "          document.querySelector('#df-b42ce847-dde1-40fe-8a4e-ed91c667fd93 button.colab-df-convert');\n",
              "        buttonEl.style.display =\n",
              "          google.colab.kernel.accessAllowed ? 'block' : 'none';\n",
              "\n",
              "        async function convertToInteractive(key) {\n",
              "          const element = document.querySelector('#df-b42ce847-dde1-40fe-8a4e-ed91c667fd93');\n",
              "          const dataTable =\n",
              "            await google.colab.kernel.invokeFunction('convertToInteractive',\n",
              "                                                     [key], {});\n",
              "          if (!dataTable) return;\n",
              "\n",
              "          const docLinkHtml = 'Like what you see? Visit the ' +\n",
              "            '<a target=\"_blank\" href=https://colab.research.google.com/notebooks/data_table.ipynb>data table notebook</a>'\n",
              "            + ' to learn more about interactive tables.';\n",
              "          element.innerHTML = '';\n",
              "          dataTable['output_type'] = 'display_data';\n",
              "          await google.colab.output.renderOutput(dataTable, element);\n",
              "          const docLink = document.createElement('div');\n",
              "          docLink.innerHTML = docLinkHtml;\n",
              "          element.appendChild(docLink);\n",
              "        }\n",
              "      </script>\n",
              "    </div>\n",
              "  </div>\n",
              "  "
            ]
          },
          "metadata": {},
          "execution_count": 55
        }
      ]
    },
    {
      "cell_type": "code",
      "source": [
        "for samples,targets in abc:\n",
        "  print(\"샘플크기:\",samples.shape)\n",
        "  print(\"타깃크기:\",targets.shape)\n",
        "  break"
      ],
      "metadata": {
        "colab": {
          "base_uri": "https://localhost:8080/"
        },
        "id": "NSFJ8sjSt99e",
        "outputId": "19210eca-f9a7-4769-d9cb-90797e4feb7c"
      },
      "execution_count": 63,
      "outputs": [
        {
          "output_type": "stream",
          "name": "stdout",
          "text": [
            "샘플크기: (740, 60, 1)\n",
            "타깃크기: (740, 1)\n"
          ]
        }
      ]
    },
    {
      "cell_type": "code",
      "source": [],
      "metadata": {
        "id": "QnjmBu1O-rTq"
      },
      "execution_count": null,
      "outputs": []
    }
  ]
}