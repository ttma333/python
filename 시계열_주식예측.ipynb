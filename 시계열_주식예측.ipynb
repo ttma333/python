{
  "nbformat": 4,
  "nbformat_minor": 0,
  "metadata": {
    "colab": {
      "provenance": [],
      "machine_shape": "hm",
      "mount_file_id": "1h-1-XYOYMyP2VSxYaOClyGAbe2Bkj6c6",
      "authorship_tag": "ABX9TyMzqLoxutcO88ewmhxVpgQs",
      "include_colab_link": true
    },
    "kernelspec": {
      "name": "python3",
      "display_name": "Python 3"
    },
    "language_info": {
      "name": "python"
    },
    "accelerator": "GPU",
    "gpuClass": "standard"
  },
  "cells": [
    {
      "cell_type": "markdown",
      "metadata": {
        "id": "view-in-github",
        "colab_type": "text"
      },
      "source": [
        "<a href=\"https://colab.research.google.com/github/ttma333/python/blob/main/%EC%8B%9C%EA%B3%84%EC%97%B4_%EC%A3%BC%EC%8B%9D%EC%98%88%EC%B8%A1.ipynb\" target=\"_parent\"><img src=\"https://colab.research.google.com/assets/colab-badge.svg\" alt=\"Open In Colab\"/></a>"
      ]
    },
    {
      "cell_type": "markdown",
      "source": [
        "참조링크\n",
        "\n",
        "https://velog.io/@lazy_learner/LSTM-%EC%8B%9C%EA%B3%84%EC%97%B4-%EC%98%88%EC%B8%A1-%EB%AA%A8%EB%93%88-%EB%A7%8C%EB%93%A4%EA%B8%B0-1\n",
        "\n",
        "\n"
      ],
      "metadata": {
        "id": "hal0ueJCedYg"
      }
    },
    {
      "cell_type": "code",
      "execution_count": 1,
      "metadata": {
        "id": "chkkYn4scN3y"
      },
      "outputs": [],
      "source": [
        "import matplotlib.pyplot as plt\n",
        "import keras\n",
        "import pandas as pd\n",
        "import numpy as np\n",
        "from keras.models import Sequential\n",
        "from keras.layers import Dense,LSTM,Dropout\n",
        "from sklearn.preprocessing import MinMaxScaler\n",
        "from sklearn.metrics import mean_squared_error, mean_absolute_error\n",
        "from sklearn.model_selection import train_test_split\n",
        "from keras.callbacks import EarlyStopping\n"
      ]
    },
    {
      "cell_type": "code",
      "source": [
        "cd/content/drive/MyDrive/dataset"
      ],
      "metadata": {
        "colab": {
          "base_uri": "https://localhost:8080/"
        },
        "id": "TeBqVKxBBqDh",
        "outputId": "aab2c803-dbdd-4764-c236-be681e3d18ae"
      },
      "execution_count": 2,
      "outputs": [
        {
          "output_type": "stream",
          "name": "stdout",
          "text": [
            "/content/drive/MyDrive/dataset\n"
          ]
        }
      ]
    },
    {
      "cell_type": "code",
      "source": [
        "df=pd.read_csv('TSLA.csv')\n",
        "df.head()"
      ],
      "metadata": {
        "colab": {
          "base_uri": "https://localhost:8080/",
          "height": 206
        },
        "id": "NqhMeSvwdvok",
        "outputId": "6cfb880c-f438-4785-856e-85fd53bf1096"
      },
      "execution_count": 3,
      "outputs": [
        {
          "output_type": "execute_result",
          "data": {
            "text/plain": [
              "         Date       Open       High        Low      Close  Adj Close    Volume\n",
              "0  2015-07-10  17.481333  17.533333  17.188000  17.276667  17.276667  39163500\n",
              "1  2015-07-13  17.483334  17.503332  17.070000  17.477333  17.477333  44404500\n",
              "2  2015-07-14  17.473333  17.732668  17.367332  17.709999  17.709999  28614000\n",
              "3  2015-07-15  17.782667  17.832666  17.472000  17.542667  17.542667  30324000\n",
              "4  2015-07-16  17.614668  17.813334  17.544001  17.778667  17.778667  24240000"
            ],
            "text/html": [
              "\n",
              "  <div id=\"df-35246972-fd2d-4a52-8909-8f15efbdfc99\">\n",
              "    <div class=\"colab-df-container\">\n",
              "      <div>\n",
              "<style scoped>\n",
              "    .dataframe tbody tr th:only-of-type {\n",
              "        vertical-align: middle;\n",
              "    }\n",
              "\n",
              "    .dataframe tbody tr th {\n",
              "        vertical-align: top;\n",
              "    }\n",
              "\n",
              "    .dataframe thead th {\n",
              "        text-align: right;\n",
              "    }\n",
              "</style>\n",
              "<table border=\"1\" class=\"dataframe\">\n",
              "  <thead>\n",
              "    <tr style=\"text-align: right;\">\n",
              "      <th></th>\n",
              "      <th>Date</th>\n",
              "      <th>Open</th>\n",
              "      <th>High</th>\n",
              "      <th>Low</th>\n",
              "      <th>Close</th>\n",
              "      <th>Adj Close</th>\n",
              "      <th>Volume</th>\n",
              "    </tr>\n",
              "  </thead>\n",
              "  <tbody>\n",
              "    <tr>\n",
              "      <th>0</th>\n",
              "      <td>2015-07-10</td>\n",
              "      <td>17.481333</td>\n",
              "      <td>17.533333</td>\n",
              "      <td>17.188000</td>\n",
              "      <td>17.276667</td>\n",
              "      <td>17.276667</td>\n",
              "      <td>39163500</td>\n",
              "    </tr>\n",
              "    <tr>\n",
              "      <th>1</th>\n",
              "      <td>2015-07-13</td>\n",
              "      <td>17.483334</td>\n",
              "      <td>17.503332</td>\n",
              "      <td>17.070000</td>\n",
              "      <td>17.477333</td>\n",
              "      <td>17.477333</td>\n",
              "      <td>44404500</td>\n",
              "    </tr>\n",
              "    <tr>\n",
              "      <th>2</th>\n",
              "      <td>2015-07-14</td>\n",
              "      <td>17.473333</td>\n",
              "      <td>17.732668</td>\n",
              "      <td>17.367332</td>\n",
              "      <td>17.709999</td>\n",
              "      <td>17.709999</td>\n",
              "      <td>28614000</td>\n",
              "    </tr>\n",
              "    <tr>\n",
              "      <th>3</th>\n",
              "      <td>2015-07-15</td>\n",
              "      <td>17.782667</td>\n",
              "      <td>17.832666</td>\n",
              "      <td>17.472000</td>\n",
              "      <td>17.542667</td>\n",
              "      <td>17.542667</td>\n",
              "      <td>30324000</td>\n",
              "    </tr>\n",
              "    <tr>\n",
              "      <th>4</th>\n",
              "      <td>2015-07-16</td>\n",
              "      <td>17.614668</td>\n",
              "      <td>17.813334</td>\n",
              "      <td>17.544001</td>\n",
              "      <td>17.778667</td>\n",
              "      <td>17.778667</td>\n",
              "      <td>24240000</td>\n",
              "    </tr>\n",
              "  </tbody>\n",
              "</table>\n",
              "</div>\n",
              "      <button class=\"colab-df-convert\" onclick=\"convertToInteractive('df-35246972-fd2d-4a52-8909-8f15efbdfc99')\"\n",
              "              title=\"Convert this dataframe to an interactive table.\"\n",
              "              style=\"display:none;\">\n",
              "        \n",
              "  <svg xmlns=\"http://www.w3.org/2000/svg\" height=\"24px\"viewBox=\"0 0 24 24\"\n",
              "       width=\"24px\">\n",
              "    <path d=\"M0 0h24v24H0V0z\" fill=\"none\"/>\n",
              "    <path d=\"M18.56 5.44l.94 2.06.94-2.06 2.06-.94-2.06-.94-.94-2.06-.94 2.06-2.06.94zm-11 1L8.5 8.5l.94-2.06 2.06-.94-2.06-.94L8.5 2.5l-.94 2.06-2.06.94zm10 10l.94 2.06.94-2.06 2.06-.94-2.06-.94-.94-2.06-.94 2.06-2.06.94z\"/><path d=\"M17.41 7.96l-1.37-1.37c-.4-.4-.92-.59-1.43-.59-.52 0-1.04.2-1.43.59L10.3 9.45l-7.72 7.72c-.78.78-.78 2.05 0 2.83L4 21.41c.39.39.9.59 1.41.59.51 0 1.02-.2 1.41-.59l7.78-7.78 2.81-2.81c.8-.78.8-2.07 0-2.86zM5.41 20L4 18.59l7.72-7.72 1.47 1.35L5.41 20z\"/>\n",
              "  </svg>\n",
              "      </button>\n",
              "      \n",
              "  <style>\n",
              "    .colab-df-container {\n",
              "      display:flex;\n",
              "      flex-wrap:wrap;\n",
              "      gap: 12px;\n",
              "    }\n",
              "\n",
              "    .colab-df-convert {\n",
              "      background-color: #E8F0FE;\n",
              "      border: none;\n",
              "      border-radius: 50%;\n",
              "      cursor: pointer;\n",
              "      display: none;\n",
              "      fill: #1967D2;\n",
              "      height: 32px;\n",
              "      padding: 0 0 0 0;\n",
              "      width: 32px;\n",
              "    }\n",
              "\n",
              "    .colab-df-convert:hover {\n",
              "      background-color: #E2EBFA;\n",
              "      box-shadow: 0px 1px 2px rgba(60, 64, 67, 0.3), 0px 1px 3px 1px rgba(60, 64, 67, 0.15);\n",
              "      fill: #174EA6;\n",
              "    }\n",
              "\n",
              "    [theme=dark] .colab-df-convert {\n",
              "      background-color: #3B4455;\n",
              "      fill: #D2E3FC;\n",
              "    }\n",
              "\n",
              "    [theme=dark] .colab-df-convert:hover {\n",
              "      background-color: #434B5C;\n",
              "      box-shadow: 0px 1px 3px 1px rgba(0, 0, 0, 0.15);\n",
              "      filter: drop-shadow(0px 1px 2px rgba(0, 0, 0, 0.3));\n",
              "      fill: #FFFFFF;\n",
              "    }\n",
              "  </style>\n",
              "\n",
              "      <script>\n",
              "        const buttonEl =\n",
              "          document.querySelector('#df-35246972-fd2d-4a52-8909-8f15efbdfc99 button.colab-df-convert');\n",
              "        buttonEl.style.display =\n",
              "          google.colab.kernel.accessAllowed ? 'block' : 'none';\n",
              "\n",
              "        async function convertToInteractive(key) {\n",
              "          const element = document.querySelector('#df-35246972-fd2d-4a52-8909-8f15efbdfc99');\n",
              "          const dataTable =\n",
              "            await google.colab.kernel.invokeFunction('convertToInteractive',\n",
              "                                                     [key], {});\n",
              "          if (!dataTable) return;\n",
              "\n",
              "          const docLinkHtml = 'Like what you see? Visit the ' +\n",
              "            '<a target=\"_blank\" href=https://colab.research.google.com/notebooks/data_table.ipynb>data table notebook</a>'\n",
              "            + ' to learn more about interactive tables.';\n",
              "          element.innerHTML = '';\n",
              "          dataTable['output_type'] = 'display_data';\n",
              "          await google.colab.output.renderOutput(dataTable, element);\n",
              "          const docLink = document.createElement('div');\n",
              "          docLink.innerHTML = docLinkHtml;\n",
              "          element.appendChild(docLink);\n",
              "        }\n",
              "      </script>\n",
              "    </div>\n",
              "  </div>\n",
              "  "
            ]
          },
          "metadata": {},
          "execution_count": 3
        }
      ]
    },
    {
      "cell_type": "code",
      "source": [
        "df.shape"
      ],
      "metadata": {
        "colab": {
          "base_uri": "https://localhost:8080/"
        },
        "id": "3OMN2lR-d7hP",
        "outputId": "fb4493c4-e98c-4779-c49e-ddb4f79435b3"
      },
      "execution_count": 4,
      "outputs": [
        {
          "output_type": "execute_result",
          "data": {
            "text/plain": [
              "(1259, 7)"
            ]
          },
          "metadata": {},
          "execution_count": 4
        }
      ]
    },
    {
      "cell_type": "code",
      "source": [
        "training_set = df.iloc[:800,1:2].values\n",
        "test_set = df.iloc[800:,1:2].values\n"
      ],
      "metadata": {
        "id": "vDcBwV50eB6X"
      },
      "execution_count": 5,
      "outputs": []
    },
    {
      "cell_type": "code",
      "source": [
        "print(training_set.shape,test_set.shape)"
      ],
      "metadata": {
        "colab": {
          "base_uri": "https://localhost:8080/"
        },
        "id": "Owulrq7meNdT",
        "outputId": "f0a5f84f-3d14-42aa-a49e-76e434c355be"
      },
      "execution_count": 6,
      "outputs": [
        {
          "output_type": "stream",
          "name": "stdout",
          "text": [
            "(800, 1) (459, 1)\n"
          ]
        }
      ]
    },
    {
      "cell_type": "code",
      "source": [
        "sc = MinMaxScaler(feature_range=(0,1))\n",
        "training_set_scaled = sc.fit_transform(training_set)"
      ],
      "metadata": {
        "id": "-goXx6IBeyO2"
      },
      "execution_count": 7,
      "outputs": []
    },
    {
      "cell_type": "code",
      "source": [
        "# time-steps:60, output:1\n",
        "x_train = []\n",
        "y_train = []\n",
        "\n",
        "for i in range(60,800):\n",
        "  x_train.append(training_set_scaled[i-60:i,0])\n",
        "  y_train.append(training_set_scaled[i,0])\n",
        "\n",
        "x_train,y_train = np.array(x_train),np.array(y_train)\n",
        "x_train = np.reshape(x_train,(x_train.shape[0],x_train.shape[1],1))"
      ],
      "metadata": {
        "id": "fD1wQVVjfSbj"
      },
      "execution_count": 8,
      "outputs": []
    },
    {
      "cell_type": "code",
      "source": [
        "print(y_train[0]) # 첫번째 y값 인덱스 61\n",
        "x_train[1][-1] # 두번째 x_train 인덱스 1-61"
      ],
      "metadata": {
        "colab": {
          "base_uri": "https://localhost:8080/"
        },
        "id": "oXjLkDpBhdzi",
        "outputId": "3a89a46e-085f-4ad2-e3e9-61995d24ac9e"
      },
      "execution_count": 9,
      "outputs": [
        {
          "output_type": "stream",
          "name": "stdout",
          "text": [
            "0.43589637508483803\n"
          ]
        },
        {
          "output_type": "execute_result",
          "data": {
            "text/plain": [
              "array([0.43589638])"
            ]
          },
          "metadata": {},
          "execution_count": 9
        }
      ]
    },
    {
      "cell_type": "code",
      "source": [
        "model = Sequential()\n",
        "model.add(LSTM(units=50,return_sequences=True,input_shape=(x_train.shape[1],1)))\n",
        "model.add(Dropout(0.2))\n",
        "\n",
        "model.add(LSTM(units=50,return_sequences=True))\n",
        "model.add(Dropout(0.2))\n",
        "\n",
        "model.add(LSTM(units=50))\n",
        "model.add(Dropout(0.2))\n",
        "\n",
        "model.add(Dense(units=1))\n",
        "\n",
        "model.summary()\n",
        "\n",
        "model.compile(optimizer='adam',loss='mean_squared_error')"
      ],
      "metadata": {
        "colab": {
          "base_uri": "https://localhost:8080/"
        },
        "id": "3bfcDsm8iOAO",
        "outputId": "1eb67bfb-44f5-49e0-d9f6-568c3ddaca15"
      },
      "execution_count": 10,
      "outputs": [
        {
          "output_type": "stream",
          "name": "stdout",
          "text": [
            "Model: \"sequential\"\n",
            "_________________________________________________________________\n",
            " Layer (type)                Output Shape              Param #   \n",
            "=================================================================\n",
            " lstm (LSTM)                 (None, 60, 50)            10400     \n",
            "                                                                 \n",
            " dropout (Dropout)           (None, 60, 50)            0         \n",
            "                                                                 \n",
            " lstm_1 (LSTM)               (None, 60, 50)            20200     \n",
            "                                                                 \n",
            " dropout_1 (Dropout)         (None, 60, 50)            0         \n",
            "                                                                 \n",
            " lstm_2 (LSTM)               (None, 50)                20200     \n",
            "                                                                 \n",
            " dropout_2 (Dropout)         (None, 50)                0         \n",
            "                                                                 \n",
            " dense (Dense)               (None, 1)                 51        \n",
            "                                                                 \n",
            "=================================================================\n",
            "Total params: 50,851\n",
            "Trainable params: 50,851\n",
            "Non-trainable params: 0\n",
            "_________________________________________________________________\n"
          ]
        }
      ]
    },
    {
      "cell_type": "code",
      "source": [
        "model.fit(x_train,y_train,epochs=100,batch_size=32)"
      ],
      "metadata": {
        "colab": {
          "base_uri": "https://localhost:8080/"
        },
        "id": "WEGpGCqU_-MR",
        "outputId": "4706c756-f98c-4358-dfda-5c1264857798"
      },
      "execution_count": 11,
      "outputs": [
        {
          "output_type": "stream",
          "name": "stdout",
          "text": [
            "Epoch 1/100\n",
            "24/24 [==============================] - 9s 14ms/step - loss: 0.0715\n",
            "Epoch 2/100\n",
            "24/24 [==============================] - 0s 10ms/step - loss: 0.0136\n",
            "Epoch 3/100\n",
            "24/24 [==============================] - 0s 10ms/step - loss: 0.0117\n",
            "Epoch 4/100\n",
            "24/24 [==============================] - 0s 10ms/step - loss: 0.0096\n",
            "Epoch 5/100\n",
            "24/24 [==============================] - 0s 9ms/step - loss: 0.0103\n",
            "Epoch 6/100\n",
            "24/24 [==============================] - 0s 9ms/step - loss: 0.0098\n",
            "Epoch 7/100\n",
            "24/24 [==============================] - 0s 9ms/step - loss: 0.0094\n",
            "Epoch 8/100\n",
            "24/24 [==============================] - 0s 9ms/step - loss: 0.0095\n",
            "Epoch 9/100\n",
            "24/24 [==============================] - 0s 10ms/step - loss: 0.0090\n",
            "Epoch 10/100\n",
            "24/24 [==============================] - 0s 10ms/step - loss: 0.0089\n",
            "Epoch 11/100\n",
            "24/24 [==============================] - 0s 10ms/step - loss: 0.0085\n",
            "Epoch 12/100\n",
            "24/24 [==============================] - 0s 9ms/step - loss: 0.0095\n",
            "Epoch 13/100\n",
            "24/24 [==============================] - 0s 10ms/step - loss: 0.0092\n",
            "Epoch 14/100\n",
            "24/24 [==============================] - 0s 9ms/step - loss: 0.0081\n",
            "Epoch 15/100\n",
            "24/24 [==============================] - 0s 9ms/step - loss: 0.0080\n",
            "Epoch 16/100\n",
            "24/24 [==============================] - 0s 9ms/step - loss: 0.0074\n",
            "Epoch 17/100\n",
            "24/24 [==============================] - 0s 9ms/step - loss: 0.0072\n",
            "Epoch 18/100\n",
            "24/24 [==============================] - 0s 9ms/step - loss: 0.0066\n",
            "Epoch 19/100\n",
            "24/24 [==============================] - 0s 9ms/step - loss: 0.0064\n",
            "Epoch 20/100\n",
            "24/24 [==============================] - 0s 9ms/step - loss: 0.0066\n",
            "Epoch 21/100\n",
            "24/24 [==============================] - 0s 9ms/step - loss: 0.0063\n",
            "Epoch 22/100\n",
            "24/24 [==============================] - 0s 10ms/step - loss: 0.0065\n",
            "Epoch 23/100\n",
            "24/24 [==============================] - 0s 9ms/step - loss: 0.0061\n",
            "Epoch 24/100\n",
            "24/24 [==============================] - 0s 10ms/step - loss: 0.0061\n",
            "Epoch 25/100\n",
            "24/24 [==============================] - 0s 9ms/step - loss: 0.0055\n",
            "Epoch 26/100\n",
            "24/24 [==============================] - 0s 9ms/step - loss: 0.0058\n",
            "Epoch 27/100\n",
            "24/24 [==============================] - 0s 10ms/step - loss: 0.0065\n",
            "Epoch 28/100\n",
            "24/24 [==============================] - 0s 9ms/step - loss: 0.0060\n",
            "Epoch 29/100\n",
            "24/24 [==============================] - 0s 9ms/step - loss: 0.0051\n",
            "Epoch 30/100\n",
            "24/24 [==============================] - 0s 9ms/step - loss: 0.0072\n",
            "Epoch 31/100\n",
            "24/24 [==============================] - 0s 10ms/step - loss: 0.0056\n",
            "Epoch 32/100\n",
            "24/24 [==============================] - 0s 9ms/step - loss: 0.0053\n",
            "Epoch 33/100\n",
            "24/24 [==============================] - 0s 9ms/step - loss: 0.0054\n",
            "Epoch 34/100\n",
            "24/24 [==============================] - 0s 9ms/step - loss: 0.0049\n",
            "Epoch 35/100\n",
            "24/24 [==============================] - 0s 10ms/step - loss: 0.0047\n",
            "Epoch 36/100\n",
            "24/24 [==============================] - 0s 9ms/step - loss: 0.0046\n",
            "Epoch 37/100\n",
            "24/24 [==============================] - 0s 10ms/step - loss: 0.0047\n",
            "Epoch 38/100\n",
            "24/24 [==============================] - 0s 9ms/step - loss: 0.0042\n",
            "Epoch 39/100\n",
            "24/24 [==============================] - 0s 9ms/step - loss: 0.0049\n",
            "Epoch 40/100\n",
            "24/24 [==============================] - 0s 9ms/step - loss: 0.0040\n",
            "Epoch 41/100\n",
            "24/24 [==============================] - 0s 9ms/step - loss: 0.0047\n",
            "Epoch 42/100\n",
            "24/24 [==============================] - 0s 9ms/step - loss: 0.0052\n",
            "Epoch 43/100\n",
            "24/24 [==============================] - 0s 9ms/step - loss: 0.0043\n",
            "Epoch 44/100\n",
            "24/24 [==============================] - 0s 9ms/step - loss: 0.0047\n",
            "Epoch 45/100\n",
            "24/24 [==============================] - 0s 10ms/step - loss: 0.0043\n",
            "Epoch 46/100\n",
            "24/24 [==============================] - 0s 9ms/step - loss: 0.0043\n",
            "Epoch 47/100\n",
            "24/24 [==============================] - 0s 9ms/step - loss: 0.0043\n",
            "Epoch 48/100\n",
            "24/24 [==============================] - 0s 10ms/step - loss: 0.0047\n",
            "Epoch 49/100\n",
            "24/24 [==============================] - 0s 10ms/step - loss: 0.0043\n",
            "Epoch 50/100\n",
            "24/24 [==============================] - 0s 9ms/step - loss: 0.0039\n",
            "Epoch 51/100\n",
            "24/24 [==============================] - 0s 9ms/step - loss: 0.0045\n",
            "Epoch 52/100\n",
            "24/24 [==============================] - 0s 10ms/step - loss: 0.0039\n",
            "Epoch 53/100\n",
            "24/24 [==============================] - 0s 9ms/step - loss: 0.0038\n",
            "Epoch 54/100\n",
            "24/24 [==============================] - 0s 9ms/step - loss: 0.0041\n",
            "Epoch 55/100\n",
            "24/24 [==============================] - 0s 9ms/step - loss: 0.0039\n",
            "Epoch 56/100\n",
            "24/24 [==============================] - 0s 9ms/step - loss: 0.0036\n",
            "Epoch 57/100\n",
            "24/24 [==============================] - 0s 10ms/step - loss: 0.0035\n",
            "Epoch 58/100\n",
            "24/24 [==============================] - 0s 10ms/step - loss: 0.0045\n",
            "Epoch 59/100\n",
            "24/24 [==============================] - 0s 9ms/step - loss: 0.0037\n",
            "Epoch 60/100\n",
            "24/24 [==============================] - 0s 9ms/step - loss: 0.0039\n",
            "Epoch 61/100\n",
            "24/24 [==============================] - 0s 9ms/step - loss: 0.0040\n",
            "Epoch 62/100\n",
            "24/24 [==============================] - 0s 9ms/step - loss: 0.0035\n",
            "Epoch 63/100\n",
            "24/24 [==============================] - 0s 9ms/step - loss: 0.0037\n",
            "Epoch 64/100\n",
            "24/24 [==============================] - 0s 9ms/step - loss: 0.0032\n",
            "Epoch 65/100\n",
            "24/24 [==============================] - 0s 9ms/step - loss: 0.0038\n",
            "Epoch 66/100\n",
            "24/24 [==============================] - 0s 9ms/step - loss: 0.0034\n",
            "Epoch 67/100\n",
            "24/24 [==============================] - 0s 9ms/step - loss: 0.0034\n",
            "Epoch 68/100\n",
            "24/24 [==============================] - 0s 9ms/step - loss: 0.0031\n",
            "Epoch 69/100\n",
            "24/24 [==============================] - 0s 9ms/step - loss: 0.0035\n",
            "Epoch 70/100\n",
            "24/24 [==============================] - 0s 10ms/step - loss: 0.0034\n",
            "Epoch 71/100\n",
            "24/24 [==============================] - 0s 9ms/step - loss: 0.0033\n",
            "Epoch 72/100\n",
            "24/24 [==============================] - 0s 9ms/step - loss: 0.0034\n",
            "Epoch 73/100\n",
            "24/24 [==============================] - 0s 9ms/step - loss: 0.0030\n",
            "Epoch 74/100\n",
            "24/24 [==============================] - 0s 10ms/step - loss: 0.0035\n",
            "Epoch 75/100\n",
            "24/24 [==============================] - 0s 10ms/step - loss: 0.0030\n",
            "Epoch 76/100\n",
            "24/24 [==============================] - 0s 9ms/step - loss: 0.0031\n",
            "Epoch 77/100\n",
            "24/24 [==============================] - 0s 9ms/step - loss: 0.0041\n",
            "Epoch 78/100\n",
            "24/24 [==============================] - 0s 10ms/step - loss: 0.0036\n",
            "Epoch 79/100\n",
            "24/24 [==============================] - 0s 9ms/step - loss: 0.0029\n",
            "Epoch 80/100\n",
            "24/24 [==============================] - 0s 9ms/step - loss: 0.0030\n",
            "Epoch 81/100\n",
            "24/24 [==============================] - 0s 9ms/step - loss: 0.0029\n",
            "Epoch 82/100\n",
            "24/24 [==============================] - 0s 9ms/step - loss: 0.0031\n",
            "Epoch 83/100\n",
            "24/24 [==============================] - 0s 9ms/step - loss: 0.0029\n",
            "Epoch 84/100\n",
            "24/24 [==============================] - 0s 9ms/step - loss: 0.0027\n",
            "Epoch 85/100\n",
            "24/24 [==============================] - 0s 9ms/step - loss: 0.0030\n",
            "Epoch 86/100\n",
            "24/24 [==============================] - 0s 10ms/step - loss: 0.0032\n",
            "Epoch 87/100\n",
            "24/24 [==============================] - 0s 9ms/step - loss: 0.0028\n",
            "Epoch 88/100\n",
            "24/24 [==============================] - 0s 10ms/step - loss: 0.0029\n",
            "Epoch 89/100\n",
            "24/24 [==============================] - 0s 9ms/step - loss: 0.0031\n",
            "Epoch 90/100\n",
            "24/24 [==============================] - 0s 9ms/step - loss: 0.0025\n",
            "Epoch 91/100\n",
            "24/24 [==============================] - 0s 9ms/step - loss: 0.0026\n",
            "Epoch 92/100\n",
            "24/24 [==============================] - 0s 10ms/step - loss: 0.0026\n",
            "Epoch 93/100\n",
            "24/24 [==============================] - 0s 9ms/step - loss: 0.0030\n",
            "Epoch 94/100\n",
            "24/24 [==============================] - 0s 9ms/step - loss: 0.0028\n",
            "Epoch 95/100\n",
            "24/24 [==============================] - 0s 9ms/step - loss: 0.0029\n",
            "Epoch 96/100\n",
            "24/24 [==============================] - 0s 10ms/step - loss: 0.0028\n",
            "Epoch 97/100\n",
            "24/24 [==============================] - 0s 10ms/step - loss: 0.0026\n",
            "Epoch 98/100\n",
            "24/24 [==============================] - 0s 9ms/step - loss: 0.0027\n",
            "Epoch 99/100\n",
            "24/24 [==============================] - 0s 10ms/step - loss: 0.0025\n",
            "Epoch 100/100\n",
            "24/24 [==============================] - 0s 10ms/step - loss: 0.0030\n"
          ]
        },
        {
          "output_type": "execute_result",
          "data": {
            "text/plain": [
              "<keras.callbacks.History at 0x7ff75a3fe910>"
            ]
          },
          "metadata": {},
          "execution_count": 11
        }
      ]
    },
    {
      "cell_type": "code",
      "source": [
        "#테스트 데이터 준비\n",
        "training_set = df.iloc[:800,1:2]\n",
        "test_set = df.iloc[800:,1:2]\n",
        "\n",
        "total = df['Open']\n",
        "inputs = total[len(total)-len(test_set)-60:].values\n",
        "inputs = inputs.reshape(-1,1)\n",
        "\n",
        "inputs = sc.transform(inputs)\n",
        "\n",
        "x_test = []\n",
        "for i in range(60,519):\n",
        "  x_test.append(inputs[i-60:i,0])\n",
        "\n",
        "x_test = np.array(x_test)\n",
        "x_test = np.reshape(x_test,(x_test.shape[0],x_test.shape[1],1))\n",
        "\n",
        "print(x_test.shape)"
      ],
      "metadata": {
        "colab": {
          "base_uri": "https://localhost:8080/"
        },
        "id": "XG3vI3hQ_-X4",
        "outputId": "e45615bb-e2ab-4d2f-f8ec-d3581a5f5e1e"
      },
      "execution_count": 12,
      "outputs": [
        {
          "output_type": "stream",
          "name": "stdout",
          "text": [
            "(459, 60, 1)\n"
          ]
        }
      ]
    },
    {
      "cell_type": "code",
      "source": [
        "predict = model.predict(x_test)\n",
        "predict = sc.inverse_transform(predict)"
      ],
      "metadata": {
        "colab": {
          "base_uri": "https://localhost:8080/"
        },
        "id": "p3LX4FCwDCMx",
        "outputId": "e77f3d21-2570-4f65-92bc-731fc3b796d2"
      },
      "execution_count": 16,
      "outputs": [
        {
          "output_type": "stream",
          "name": "stdout",
          "text": [
            "15/15 [==============================] - 1s 4ms/step\n"
          ]
        }
      ]
    },
    {
      "cell_type": "code",
      "source": [
        "#시각화\n",
        "plt.figure(figsize=(16,9))\n",
        "plt.plot(df.loc[800:,'Date'],test_set.values,color='red',label='real tesla stock price')\n",
        "plt.plot(df.loc[800:,'Date'],predict,color='blue',label='predict tesla stock price')\n",
        "plt.xticks(np.arange(0,459,50))\n",
        "plt.title('tesla stoct price prediction')\n",
        "plt.xlabel('time')\n",
        "plt.ylabel('tesla stock price')"
      ],
      "metadata": {
        "colab": {
          "base_uri": "https://localhost:8080/",
          "height": 517
        },
        "id": "SdRa8OqdDCPn",
        "outputId": "cb5bc25b-08d0-4c06-b3dc-f45906242f98"
      },
      "execution_count": 25,
      "outputs": [
        {
          "output_type": "execute_result",
          "data": {
            "text/plain": [
              "Text(0, 0.5, 'tesla stock price')"
            ]
          },
          "metadata": {},
          "execution_count": 25
        },
        {
          "output_type": "display_data",
          "data": {
            "text/plain": [
              "<Figure size 1152x648 with 1 Axes>"
            ],
            "image/png": "[encoded data removed]"
          },
          "metadata": {
            "needs_background": "light"
          }
        }
      ]
    },
    {
      "cell_type": "code",
      "source": [
        "from keras.layers import Flatten\n",
        "model = keras.Sequential()\n",
        "for i in range(2):\n",
        "  if i == 0:\n",
        "    model.add(LSTM(units = 50, return_sequences = True, input_shape = (x_train.shape[1],1)))\n",
        "    model.add(Dropout(0.1))\n",
        "  else :\n",
        "    model.add(LSTM(units = 50, return_sequences = True))\n",
        "    model.add(Dropout(0.1))\n",
        "model.add(Flatten())\n",
        "model.add(Dense(1,activation = 'relu'))\n",
        "model.compile(loss = 'mse',optimizer = 'adam',metrics = ['mae'])\n",
        "history=model.fit(abc,epochs = 100)\n",
        "model.summary()"
      ],
      "metadata": {
        "colab": {
          "base_uri": "https://localhost:8080/"
        },
        "id": "VNUc7v7zGW42",
        "outputId": "6140a2ab-1aa9-4ca1-e0fb-716b7c43587e"
      },
      "execution_count": 29,
      "outputs": [
        {
          "output_type": "stream",
          "name": "stdout",
          "text": [
            "Epoch 1/100\n",
            "1/1 [==============================] - 3s 3s/step - loss: 344.0596 - mae: 18.1258\n",
            "Epoch 2/100\n",
            "1/1 [==============================] - 0s 72ms/step - loss: 333.6821 - mae: 17.8411\n",
            "Epoch 3/100\n",
            "1/1 [==============================] - 0s 81ms/step - loss: 313.2574 - mae: 17.2609\n",
            "Epoch 4/100\n",
            "1/1 [==============================] - 0s 79ms/step - loss: 289.9891 - mae: 16.5709\n",
            "Epoch 5/100\n",
            "1/1 [==============================] - 0s 74ms/step - loss: 263.9367 - mae: 15.7632\n",
            "Epoch 6/100\n",
            "1/1 [==============================] - 0s 69ms/step - loss: 235.7375 - mae: 14.8407\n",
            "Epoch 7/100\n",
            "1/1 [==============================] - 0s 70ms/step - loss: 205.7178 - mae: 13.7864\n",
            "Epoch 8/100\n",
            "1/1 [==============================] - 0s 79ms/step - loss: 174.2108 - mae: 12.5843\n",
            "Epoch 9/100\n",
            "1/1 [==============================] - 0s 74ms/step - loss: 141.6826 - mae: 11.2111\n",
            "Epoch 10/100\n",
            "1/1 [==============================] - 0s 73ms/step - loss: 109.8276 - mae: 9.6832\n",
            "Epoch 11/100\n",
            "1/1 [==============================] - 0s 72ms/step - loss: 80.1743 - mae: 7.9952\n",
            "Epoch 12/100\n",
            "1/1 [==============================] - 0s 76ms/step - loss: 54.5681 - mae: 6.2279\n",
            "Epoch 13/100\n",
            "1/1 [==============================] - 0s 69ms/step - loss: 34.6350 - mae: 4.6437\n",
            "Epoch 14/100\n",
            "1/1 [==============================] - 0s 73ms/step - loss: 21.6628 - mae: 3.8702\n",
            "Epoch 15/100\n",
            "1/1 [==============================] - 0s 77ms/step - loss: 16.8927 - mae: 3.7358\n",
            "Epoch 16/100\n",
            "1/1 [==============================] - 0s 73ms/step - loss: 19.5416 - mae: 3.8254\n",
            "Epoch 17/100\n",
            "1/1 [==============================] - 0s 72ms/step - loss: 27.0042 - mae: 4.2368\n",
            "Epoch 18/100\n",
            "1/1 [==============================] - 0s 74ms/step - loss: 35.2215 - mae: 4.8205\n",
            "Epoch 19/100\n",
            "1/1 [==============================] - 0s 72ms/step - loss: 41.1371 - mae: 5.2349\n",
            "Epoch 20/100\n",
            "1/1 [==============================] - 0s 72ms/step - loss: 42.9260 - mae: 5.3760\n",
            "Epoch 21/100\n",
            "1/1 [==============================] - 0s 73ms/step - loss: 41.0113 - mae: 5.2536\n",
            "Epoch 22/100\n",
            "1/1 [==============================] - 0s 71ms/step - loss: 36.9646 - mae: 4.9482\n",
            "Epoch 23/100\n",
            "1/1 [==============================] - 0s 73ms/step - loss: 31.6362 - mae: 4.5655\n",
            "Epoch 24/100\n",
            "1/1 [==============================] - 0s 72ms/step - loss: 26.0500 - mae: 4.1550\n",
            "Epoch 25/100\n",
            "1/1 [==============================] - 0s 72ms/step - loss: 21.4001 - mae: 3.8453\n",
            "Epoch 26/100\n",
            "1/1 [==============================] - 0s 70ms/step - loss: 17.9095 - mae: 3.6540\n",
            "Epoch 27/100\n",
            "1/1 [==============================] - 0s 72ms/step - loss: 15.9214 - mae: 3.5586\n",
            "Epoch 28/100\n",
            "1/1 [==============================] - 0s 70ms/step - loss: 15.2042 - mae: 3.5224\n",
            "Epoch 29/100\n",
            "1/1 [==============================] - 0s 74ms/step - loss: 15.3538 - mae: 3.5042\n",
            "Epoch 30/100\n",
            "1/1 [==============================] - 0s 77ms/step - loss: 16.2797 - mae: 3.5232\n",
            "Epoch 31/100\n",
            "1/1 [==============================] - 0s 72ms/step - loss: 17.5251 - mae: 3.5719\n",
            "Epoch 32/100\n",
            "1/1 [==============================] - 0s 71ms/step - loss: 18.5441 - mae: 3.6201\n",
            "Epoch 33/100\n",
            "1/1 [==============================] - 0s 69ms/step - loss: 19.2429 - mae: 3.6359\n",
            "Epoch 34/100\n",
            "1/1 [==============================] - 0s 71ms/step - loss: 19.7292 - mae: 3.6576\n",
            "Epoch 35/100\n",
            "1/1 [==============================] - 0s 74ms/step - loss: 19.8420 - mae: 3.6585\n",
            "Epoch 36/100\n",
            "1/1 [==============================] - 0s 70ms/step - loss: 19.5459 - mae: 3.6555\n",
            "Epoch 37/100\n",
            "1/1 [==============================] - 0s 76ms/step - loss: 18.8327 - mae: 3.6127\n",
            "Epoch 38/100\n",
            "1/1 [==============================] - 0s 75ms/step - loss: 17.9272 - mae: 3.5675\n",
            "Epoch 39/100\n",
            "1/1 [==============================] - 0s 74ms/step - loss: 16.9490 - mae: 3.5112\n",
            "Epoch 40/100\n",
            "1/1 [==============================] - 0s 72ms/step - loss: 16.1117 - mae: 3.4769\n",
            "Epoch 41/100\n",
            "1/1 [==============================] - 0s 74ms/step - loss: 15.1844 - mae: 3.4281\n",
            "Epoch 42/100\n",
            "1/1 [==============================] - 0s 73ms/step - loss: 14.7451 - mae: 3.4161\n",
            "Epoch 43/100\n",
            "1/1 [==============================] - 0s 70ms/step - loss: 14.3227 - mae: 3.3928\n",
            "Epoch 44/100\n",
            "1/1 [==============================] - 0s 70ms/step - loss: 14.2596 - mae: 3.3968\n",
            "Epoch 45/100\n",
            "1/1 [==============================] - 0s 71ms/step - loss: 14.1300 - mae: 3.3606\n",
            "Epoch 46/100\n",
            "1/1 [==============================] - 0s 74ms/step - loss: 14.3764 - mae: 3.3710\n",
            "Epoch 47/100\n",
            "1/1 [==============================] - 0s 74ms/step - loss: 14.5061 - mae: 3.3657\n",
            "Epoch 48/100\n",
            "1/1 [==============================] - 0s 72ms/step - loss: 14.8094 - mae: 3.3837\n",
            "Epoch 49/100\n",
            "1/1 [==============================] - 0s 72ms/step - loss: 14.9224 - mae: 3.3890\n",
            "Epoch 50/100\n",
            "1/1 [==============================] - 0s 72ms/step - loss: 14.8327 - mae: 3.3824\n",
            "Epoch 51/100\n",
            "1/1 [==============================] - 0s 72ms/step - loss: 14.5583 - mae: 3.3540\n",
            "Epoch 52/100\n",
            "1/1 [==============================] - 0s 75ms/step - loss: 14.2900 - mae: 3.3361\n",
            "Epoch 53/100\n",
            "1/1 [==============================] - 0s 75ms/step - loss: 13.9091 - mae: 3.3049\n",
            "Epoch 54/100\n",
            "1/1 [==============================] - 0s 71ms/step - loss: 13.7134 - mae: 3.2890\n",
            "Epoch 55/100\n",
            "1/1 [==============================] - 0s 68ms/step - loss: 13.2399 - mae: 3.2400\n",
            "Epoch 56/100\n",
            "1/1 [==============================] - 0s 72ms/step - loss: 13.0625 - mae: 3.2173\n",
            "Epoch 57/100\n",
            "1/1 [==============================] - 0s 76ms/step - loss: 12.8437 - mae: 3.1907\n",
            "Epoch 58/100\n",
            "1/1 [==============================] - 0s 74ms/step - loss: 12.6674 - mae: 3.1504\n",
            "Epoch 59/100\n",
            "1/1 [==============================] - 0s 75ms/step - loss: 12.5029 - mae: 3.1253\n",
            "Epoch 60/100\n",
            "1/1 [==============================] - 0s 74ms/step - loss: 12.3714 - mae: 3.0941\n",
            "Epoch 61/100\n",
            "1/1 [==============================] - 0s 73ms/step - loss: 12.1205 - mae: 3.0469\n",
            "Epoch 62/100\n",
            "1/1 [==============================] - 0s 78ms/step - loss: 11.8437 - mae: 3.0052\n",
            "Epoch 63/100\n",
            "1/1 [==============================] - 0s 75ms/step - loss: 11.6401 - mae: 2.9729\n",
            "Epoch 64/100\n",
            "1/1 [==============================] - 0s 72ms/step - loss: 11.3273 - mae: 2.9302\n",
            "Epoch 65/100\n",
            "1/1 [==============================] - 0s 70ms/step - loss: 10.9962 - mae: 2.8825\n",
            "Epoch 66/100\n",
            "1/1 [==============================] - 0s 71ms/step - loss: 10.6891 - mae: 2.8425\n",
            "Epoch 67/100\n",
            "1/1 [==============================] - 0s 71ms/step - loss: 10.3095 - mae: 2.7843\n",
            "Epoch 68/100\n",
            "1/1 [==============================] - 0s 79ms/step - loss: 10.1017 - mae: 2.7633\n",
            "Epoch 69/100\n",
            "1/1 [==============================] - 0s 71ms/step - loss: 9.7976 - mae: 2.7142\n",
            "Epoch 70/100\n",
            "1/1 [==============================] - 0s 73ms/step - loss: 9.4850 - mae: 2.6732\n",
            "Epoch 71/100\n",
            "1/1 [==============================] - 0s 70ms/step - loss: 9.2028 - mae: 2.6220\n",
            "Epoch 72/100\n",
            "1/1 [==============================] - 0s 73ms/step - loss: 8.7252 - mae: 2.5374\n",
            "Epoch 73/100\n",
            "1/1 [==============================] - 0s 81ms/step - loss: 8.3280 - mae: 2.4772\n",
            "Epoch 74/100\n",
            "1/1 [==============================] - 0s 72ms/step - loss: 7.7250 - mae: 2.3745\n",
            "Epoch 75/100\n",
            "1/1 [==============================] - 0s 70ms/step - loss: 7.3910 - mae: 2.3197\n",
            "Epoch 76/100\n",
            "1/1 [==============================] - 0s 70ms/step - loss: 6.9082 - mae: 2.2424\n",
            "Epoch 77/100\n",
            "1/1 [==============================] - 0s 76ms/step - loss: 6.5200 - mae: 2.1660\n",
            "Epoch 78/100\n",
            "1/1 [==============================] - 0s 76ms/step - loss: 6.0776 - mae: 2.0923\n",
            "Epoch 79/100\n",
            "1/1 [==============================] - 0s 70ms/step - loss: 5.5665 - mae: 1.9863\n",
            "Epoch 80/100\n",
            "1/1 [==============================] - 0s 71ms/step - loss: 5.1873 - mae: 1.9034\n",
            "Epoch 81/100\n",
            "1/1 [==============================] - 0s 72ms/step - loss: 4.7598 - mae: 1.8146\n",
            "Epoch 82/100\n",
            "1/1 [==============================] - 0s 70ms/step - loss: 4.4087 - mae: 1.7478\n",
            "Epoch 83/100\n",
            "1/1 [==============================] - 0s 71ms/step - loss: 4.0472 - mae: 1.6725\n",
            "Epoch 84/100\n",
            "1/1 [==============================] - 0s 80ms/step - loss: 3.9363 - mae: 1.6557\n",
            "Epoch 85/100\n",
            "1/1 [==============================] - 0s 71ms/step - loss: 3.7282 - mae: 1.6216\n",
            "Epoch 86/100\n",
            "1/1 [==============================] - 0s 72ms/step - loss: 3.7439 - mae: 1.6101\n",
            "Epoch 87/100\n",
            "1/1 [==============================] - 0s 72ms/step - loss: 3.6225 - mae: 1.5885\n",
            "Epoch 88/100\n",
            "1/1 [==============================] - 0s 78ms/step - loss: 3.5440 - mae: 1.5467\n",
            "Epoch 89/100\n",
            "1/1 [==============================] - 0s 73ms/step - loss: 3.5651 - mae: 1.5436\n",
            "Epoch 90/100\n",
            "1/1 [==============================] - 0s 73ms/step - loss: 3.5525 - mae: 1.5315\n",
            "Epoch 91/100\n",
            "1/1 [==============================] - 0s 77ms/step - loss: 3.5973 - mae: 1.5353\n",
            "Epoch 92/100\n",
            "1/1 [==============================] - 0s 70ms/step - loss: 3.5685 - mae: 1.5234\n",
            "Epoch 93/100\n",
            "1/1 [==============================] - 0s 76ms/step - loss: 3.6998 - mae: 1.5504\n",
            "Epoch 94/100\n",
            "1/1 [==============================] - 0s 73ms/step - loss: 3.7482 - mae: 1.5655\n",
            "Epoch 95/100\n",
            "1/1 [==============================] - 0s 70ms/step - loss: 3.7282 - mae: 1.5505\n",
            "Epoch 96/100\n",
            "1/1 [==============================] - 0s 76ms/step - loss: 3.6846 - mae: 1.5554\n",
            "Epoch 97/100\n",
            "1/1 [==============================] - 0s 74ms/step - loss: 3.7392 - mae: 1.5658\n",
            "Epoch 98/100\n",
            "1/1 [==============================] - 0s 75ms/step - loss: 3.7060 - mae: 1.5564\n",
            "Epoch 99/100\n",
            "1/1 [==============================] - 0s 71ms/step - loss: 3.5419 - mae: 1.5243\n",
            "Epoch 100/100\n",
            "1/1 [==============================] - 0s 86ms/step - loss: 3.6256 - mae: 1.5438\n",
            "Model: \"sequential_3\"\n",
            "_________________________________________________________________\n",
            " Layer (type)                Output Shape              Param #   \n",
            "=================================================================\n",
            " lstm_7 (LSTM)               (None, 60, 50)            10400     \n",
            "                                                                 \n",
            " dropout_7 (Dropout)         (None, 60, 50)            0         \n",
            "                                                                 \n",
            " lstm_8 (LSTM)               (None, 60, 50)            20200     \n",
            "                                                                 \n",
            " dropout_8 (Dropout)         (None, 60, 50)            0         \n",
            "                                                                 \n",
            " flatten_2 (Flatten)         (None, 3000)              0         \n",
            "                                                                 \n",
            " dense_3 (Dense)             (None, 1)                 3001      \n",
            "                                                                 \n",
            "=================================================================\n",
            "Total params: 33,601\n",
            "Trainable params: 33,601\n",
            "Non-trainable params: 0\n",
            "_________________________________________________________________\n"
          ]
        }
      ]
    },
    {
      "cell_type": "markdown",
      "source": [
        "## 케라스 모듈로 시계열 만들기"
      ],
      "metadata": {
        "id": "hsXSujFY_3oi"
      }
    },
    {
      "cell_type": "code",
      "source": [
        "from keras.utils import timeseries_dataset_from_array\n",
        "sampling_rate = 1\n",
        "sequence_length = 60\n",
        "delay = sampling_rate*(sequence_length+1)\n",
        "train_sample = 800"
      ],
      "metadata": {
        "id": "HZMnyRIqtILf"
      },
      "execution_count": 19,
      "outputs": []
    },
    {
      "cell_type": "code",
      "source": [
        "money=pd.DataFrame(df['Open'])"
      ],
      "metadata": {
        "id": "BcuqNlpvtn9s"
      },
      "execution_count": 21,
      "outputs": []
    },
    {
      "cell_type": "code",
      "source": [
        "abc=timeseries_dataset_from_array(\n",
        "    money[:-delay],\n",
        "    targets=money[delay:],\n",
        "    sampling_rate=sampling_rate,\n",
        "    sequence_length=sequence_length,\n",
        "    batch_size= 740,\n",
        "    start_index = 0,\n",
        "    end_index = 799\n",
        ")"
      ],
      "metadata": {
        "id": "Ir5ygZDntOMm"
      },
      "execution_count": 54,
      "outputs": []
    },
    {
      "cell_type": "code",
      "source": [
        "money"
      ],
      "metadata": {
        "colab": {
          "base_uri": "https://localhost:8080/",
          "height": 424
        },
        "id": "IsFQJ_5Dt5Yn",
        "outputId": "89363fb4-710e-4a17-86da-e6aad2ba2a4f"
      },
      "execution_count": 55,
      "outputs": [
        {
          "output_type": "execute_result",
          "data": {
            "text/plain": [
              "           Open\n",
              "0     17.481333\n",
              "1     17.483334\n",
              "2     17.473333\n",
              "3     17.782667\n",
              "4     17.614668\n",
              "...         ...\n",
              "1254  81.431999\n",
              "1255  85.112663\n",
              "1256  93.667336\n",
              "1257  93.666664\n",
              "1258  93.132668\n",
              "\n",
              "[1259 rows x 1 columns]"
            ],
            "text/html": [
              "\n",
              "  <div id=\"df-c2712ec1-c1c0-439b-ab88-7035d89433eb\">\n",
              "    <div class=\"colab-df-container\">\n",
              "      <div>\n",
              "<style scoped>\n",
              "    .dataframe tbody tr th:only-of-type {\n",
              "        vertical-align: middle;\n",
              "    }\n",
              "\n",
              "    .dataframe tbody tr th {\n",
              "        vertical-align: top;\n",
              "    }\n",
              "\n",
              "    .dataframe thead th {\n",
              "        text-align: right;\n",
              "    }\n",
              "</style>\n",
              "<table border=\"1\" class=\"dataframe\">\n",
              "  <thead>\n",
              "    <tr style=\"text-align: right;\">\n",
              "      <th></th>\n",
              "      <th>Open</th>\n",
              "    </tr>\n",
              "  </thead>\n",
              "  <tbody>\n",
              "    <tr>\n",
              "      <th>0</th>\n",
              "      <td>17.481333</td>\n",
              "    </tr>\n",
              "    <tr>\n",
              "      <th>1</th>\n",
              "      <td>17.483334</td>\n",
              "    </tr>\n",
              "    <tr>\n",
              "      <th>2</th>\n",
              "      <td>17.473333</td>\n",
              "    </tr>\n",
              "    <tr>\n",
              "      <th>3</th>\n",
              "      <td>17.782667</td>\n",
              "    </tr>\n",
              "    <tr>\n",
              "      <th>4</th>\n",
              "      <td>17.614668</td>\n",
              "    </tr>\n",
              "    <tr>\n",
              "      <th>...</th>\n",
              "      <td>...</td>\n",
              "    </tr>\n",
              "    <tr>\n",
              "      <th>1254</th>\n",
              "      <td>81.431999</td>\n",
              "    </tr>\n",
              "    <tr>\n",
              "      <th>1255</th>\n",
              "      <td>85.112663</td>\n",
              "    </tr>\n",
              "    <tr>\n",
              "      <th>1256</th>\n",
              "      <td>93.667336</td>\n",
              "    </tr>\n",
              "    <tr>\n",
              "      <th>1257</th>\n",
              "      <td>93.666664</td>\n",
              "    </tr>\n",
              "    <tr>\n",
              "      <th>1258</th>\n",
              "      <td>93.132668</td>\n",
              "    </tr>\n",
              "  </tbody>\n",
              "</table>\n",
              "<p>1259 rows × 1 columns</p>\n",
              "</div>\n",
              "      <button class=\"colab-df-convert\" onclick=\"convertToInteractive('df-c2712ec1-c1c0-439b-ab88-7035d89433eb')\"\n",
              "              title=\"Convert this dataframe to an interactive table.\"\n",
              "              style=\"display:none;\">\n",
              "        \n",
              "  <svg xmlns=\"http://www.w3.org/2000/svg\" height=\"24px\"viewBox=\"0 0 24 24\"\n",
              "       width=\"24px\">\n",
              "    <path d=\"M0 0h24v24H0V0z\" fill=\"none\"/>\n",
              "    <path d=\"M18.56 5.44l.94 2.06.94-2.06 2.06-.94-2.06-.94-.94-2.06-.94 2.06-2.06.94zm-11 1L8.5 8.5l.94-2.06 2.06-.94-2.06-.94L8.5 2.5l-.94 2.06-2.06.94zm10 10l.94 2.06.94-2.06 2.06-.94-2.06-.94-.94-2.06-.94 2.06-2.06.94z\"/><path d=\"M17.41 7.96l-1.37-1.37c-.4-.4-.92-.59-1.43-.59-.52 0-1.04.2-1.43.59L10.3 9.45l-7.72 7.72c-.78.78-.78 2.05 0 2.83L4 21.41c.39.39.9.59 1.41.59.51 0 1.02-.2 1.41-.59l7.78-7.78 2.81-2.81c.8-.78.8-2.07 0-2.86zM5.41 20L4 18.59l7.72-7.72 1.47 1.35L5.41 20z\"/>\n",
              "  </svg>\n",
              "      </button>\n",
              "      \n",
              "  <style>\n",
              "    .colab-df-container {\n",
              "      display:flex;\n",
              "      flex-wrap:wrap;\n",
              "      gap: 12px;\n",
              "    }\n",
              "\n",
              "    .colab-df-convert {\n",
              "      background-color: #E8F0FE;\n",
              "      border: none;\n",
              "      border-radius: 50%;\n",
              "      cursor: pointer;\n",
              "      display: none;\n",
              "      fill: #1967D2;\n",
              "      height: 32px;\n",
              "      padding: 0 0 0 0;\n",
              "      width: 32px;\n",
              "    }\n",
              "\n",
              "    .colab-df-convert:hover {\n",
              "      background-color: #E2EBFA;\n",
              "      box-shadow: 0px 1px 2px rgba(60, 64, 67, 0.3), 0px 1px 3px 1px rgba(60, 64, 67, 0.15);\n",
              "      fill: #174EA6;\n",
              "    }\n",
              "\n",
              "    [theme=dark] .colab-df-convert {\n",
              "      background-color: #3B4455;\n",
              "      fill: #D2E3FC;\n",
              "    }\n",
              "\n",
              "    [theme=dark] .colab-df-convert:hover {\n",
              "      background-color: #434B5C;\n",
              "      box-shadow: 0px 1px 3px 1px rgba(0, 0, 0, 0.15);\n",
              "      filter: drop-shadow(0px 1px 2px rgba(0, 0, 0, 0.3));\n",
              "      fill: #FFFFFF;\n",
              "    }\n",
              "  </style>\n",
              "\n",
              "      <script>\n",
              "        const buttonEl =\n",
              "          document.querySelector('#df-c2712ec1-c1c0-439b-ab88-7035d89433eb button.colab-df-convert');\n",
              "        buttonEl.style.display =\n",
              "          google.colab.kernel.accessAllowed ? 'block' : 'none';\n",
              "\n",
              "        async function convertToInteractive(key) {\n",
              "          const element = document.querySelector('#df-c2712ec1-c1c0-439b-ab88-7035d89433eb');\n",
              "          const dataTable =\n",
              "            await google.colab.kernel.invokeFunction('convertToInteractive',\n",
              "                                                     [key], {});\n",
              "          if (!dataTable) return;\n",
              "\n",
              "          const docLinkHtml = 'Like what you see? Visit the ' +\n",
              "            '<a target=\"_blank\" href=https://colab.research.google.com/notebooks/data_table.ipynb>data table notebook</a>'\n",
              "            + ' to learn more about interactive tables.';\n",
              "          element.innerHTML = '';\n",
              "          dataTable['output_type'] = 'display_data';\n",
              "          await google.colab.output.renderOutput(dataTable, element);\n",
              "          const docLink = document.createElement('div');\n",
              "          docLink.innerHTML = docLinkHtml;\n",
              "          element.appendChild(docLink);\n",
              "        }\n",
              "      </script>\n",
              "    </div>\n",
              "  </div>\n",
              "  "
            ]
          },
          "metadata": {},
          "execution_count": 55
        }
      ]
    },
    {
      "cell_type": "code",
      "source": [
        "for samples,targets in abc:\n",
        "  print(\"샘플크기:\",samples.shape)\n",
        "  print(\"타깃크기:\",targets.shape)\n",
        "  break"
      ],
      "metadata": {
        "colab": {
          "base_uri": "https://localhost:8080/"
        },
        "id": "NSFJ8sjSt99e",
        "outputId": "c432b9db-7836-4c89-d0cf-d76eeca79755"
      },
      "execution_count": 56,
      "outputs": [
        {
          "output_type": "stream",
          "name": "stdout",
          "text": [
            "샘플크기: (740, 60, 1)\n",
            "타깃크기: (740, 1)\n"
          ]
        }
      ]
    },
    {
      "cell_type": "code",
      "source": [],
      "metadata": {
        "id": "QnjmBu1O-rTq"
      },
      "execution_count": null,
      "outputs": []
    }
  ]
}