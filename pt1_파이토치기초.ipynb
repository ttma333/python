{
  "nbformat": 4,
  "nbformat_minor": 0,
  "metadata": {
    "colab": {
      "provenance": [],
      "machine_shape": "hm",
      "mount_file_id": "1ECr3kikTJPC23JSC_wKTDv5a-bqilvtE",
      "authorship_tag": "ABX9TyPMqXCj/Bo0hSrXefIL+QE4",
      "include_colab_link": true
    },
    "kernelspec": {
      "name": "python3",
      "display_name": "Python 3"
    },
    "language_info": {
      "name": "python"
    },
    "gpuClass": "standard",
    "accelerator": "GPU"
  },
  "cells": [
    {
      "cell_type": "markdown",
      "metadata": {
        "id": "view-in-github",
        "colab_type": "text"
      },
      "source": [
        "<a href=\"https://colab.research.google.com/github/ttma333/python/blob/main/pt1_%ED%8C%8C%EC%9D%B4%ED%86%A0%EC%B9%98%EA%B8%B0%EC%B4%88.ipynb\" target=\"_parent\"><img src=\"https://colab.research.google.com/assets/colab-badge.svg\" alt=\"Open In Colab\"/></a>"
      ]
    },
    {
      "cell_type": "markdown",
      "source": [
        "파이토치(PyThorch) 튜토리얼\n",
        "\n",
        "https://tutorials.pytorch.kr/"
      ],
      "metadata": {
        "id": "_WuPfbolWc90"
      }
    },
    {
      "cell_type": "markdown",
      "source": [
        "# 파이토치(PyTorch)\n",
        "\n",
        "* 페이스북이 초기 루아(Lua) 언어로 개발된 토치(Torch)를 파이썬 버전으로 개발하여 2017년도에 공개\n",
        "* 초기에 토치(Torch)는 넘파이(NumPy) 라이브러리처럼 과학 연산을 위한 라이브러리로 공개\n",
        "* 이후 GPU를 이용한 텐서 조작 및 동적 신경망 구축이 가능하도록 딥러닝 프레임워크로 발전시킴\n",
        "* 파이썬답게 만들어졌고, 유연하면서도 가속화된 계산 속도를 제공\n"
      ],
      "metadata": {
        "id": "0EmvsOGMVkzv"
      }
    },
    {
      "cell_type": "markdown",
      "source": [
        "## 파이토치의 구성요소\n",
        "\n",
        "- `torch`: 메인 네임스페이스, 텐서 등의 다양한 수학 함수가 포함\n",
        "- `torch.autograd`: 자동 미분 기능을 제공하는 라이브러리\n",
        "- `torch.nn`: 신경망 구축을 위한 데이터 구조나 레이어 등의 라이브러리\n",
        "- `torch.multiprocessing`: 병럴처리 기능을 제공하는 라이브러리\n",
        "- `torch.optim`: SGD(Stochastic Gradient Descent)를 중심으로 한 파라미터 최적화 알고리즘 제공\n",
        "- `torch.utils`: 데이터 조작 등 유틸리티 기능 제공\n",
        "- `torch.onnx`: ONNX(Open Neural Network Exchange), 서로 다른 프레임워크 간의 모델을 공유할 때 사용\n"
      ],
      "metadata": {
        "id": "wbxuM1_ZV60F"
      }
    },
    {
      "cell_type": "markdown",
      "source": [
        "## 텐서(Tensors)\n",
        "\n",
        "* 데이터 표현을 위한 기본 구조로 텐서(tensor)를 사용\n",
        "* 텐서는 데이터를 담기위한 컨테이너(container)로서 일반적으로 수치형 데이터를 저장\n",
        "* 넘파이(NumPy)의 ndarray와 유사\n",
        "* GPU를 사용한 연산 가속 가능\n"
      ],
      "metadata": {
        "id": "Uzt2TnbaV68s"
      }
    },
    {
      "cell_type": "code",
      "source": [
        "import torch\n",
        "torch.__version__"
      ],
      "metadata": {
        "colab": {
          "base_uri": "https://localhost:8080/",
          "height": 35
        },
        "id": "XOfypDPFWEe3",
        "outputId": "c17716fa-c68a-4574-90f2-e7fde67ec648"
      },
      "execution_count": 1,
      "outputs": [
        {
          "output_type": "execute_result",
          "data": {
            "text/plain": [
              "'1.13.0+cu116'"
            ],
            "application/vnd.google.colaboratory.intrinsic+json": {
              "type": "string"
            }
          },
          "metadata": {},
          "execution_count": 1
        }
      ]
    },
    {
      "cell_type": "markdown",
      "source": [
        "## 텐서 초기화와 데이터 타입"
      ],
      "metadata": {
        "id": "PwUemOhcbeXs"
      }
    },
    {
      "cell_type": "markdown",
      "source": [
        "### 초기화 되지 않은 텐서"
      ],
      "metadata": {
        "id": "v2FTeHBmbjVn"
      }
    },
    {
      "cell_type": "code",
      "source": [
        "x = torch.empty(4,2)\n",
        "print(x)"
      ],
      "metadata": {
        "colab": {
          "base_uri": "https://localhost:8080/"
        },
        "id": "rMMZFIFhbmPy",
        "outputId": "91a2880d-65ea-4952-a647-3b77a52ec214"
      },
      "execution_count": 2,
      "outputs": [
        {
          "output_type": "stream",
          "name": "stdout",
          "text": [
            "tensor([[4.3733e-34, 0.0000e+00],\n",
            "        [3.5032e-44, 0.0000e+00],\n",
            "        [       nan, 0.0000e+00],\n",
            "        [1.1578e+27, 7.1463e+22]])\n"
          ]
        }
      ]
    },
    {
      "cell_type": "code",
      "source": [
        "import numpy as np\n",
        "x = np.empty([4,2])\n",
        "print(x)"
      ],
      "metadata": {
        "colab": {
          "base_uri": "https://localhost:8080/"
        },
        "id": "mK6SPlogbqsx",
        "outputId": "e7a40b10-1e98-4934-856e-c51db15070d5"
      },
      "execution_count": 3,
      "outputs": [
        {
          "output_type": "stream",
          "name": "stdout",
          "text": [
            "[[6.68736587e-316 1.77863633e-322]\n",
            " [2.12199579e-314 2.23674517e-046]\n",
            " [1.10156789e-094 3.51757736e+180]\n",
            " [3.90842270e+160 3.43135775e-315]]\n"
          ]
        }
      ]
    },
    {
      "cell_type": "markdown",
      "source": [
        "### 무작위로 초기화된 텐서\n"
      ],
      "metadata": {
        "id": "BBKtIUV-b0Ua"
      }
    },
    {
      "cell_type": "code",
      "source": [
        "x = torch.rand(4,2) # 0~1 사이의 숫자를 균등하게 생성\n",
        "print(x)"
      ],
      "metadata": {
        "colab": {
          "base_uri": "https://localhost:8080/"
        },
        "id": "osdKssO4b4RJ",
        "outputId": "ba0184c5-d118-42cd-82f2-16fa0604106e"
      },
      "execution_count": 6,
      "outputs": [
        {
          "output_type": "stream",
          "name": "stdout",
          "text": [
            "tensor([[0.9648, 0.8150],\n",
            "        [0.4553, 0.1485],\n",
            "        [0.2433, 0.6767],\n",
            "        [0.5771, 0.5016]])\n"
          ]
        }
      ]
    },
    {
      "cell_type": "markdown",
      "source": [
        "데이터 타입(dtype)이 long이고 0으로 채워진 텐서\n"
      ],
      "metadata": {
        "id": "MqW04UxTfCRT"
      }
    },
    {
      "cell_type": "code",
      "source": [
        "x = torch.zeros(4,2, dtype=torch.long)\n",
        "print(x)\n"
      ],
      "metadata": {
        "colab": {
          "base_uri": "https://localhost:8080/"
        },
        "id": "1qYVj7PwfF8a",
        "outputId": "1eac60d6-1157-44ec-8243-9cd29b1a7c0b"
      },
      "execution_count": 14,
      "outputs": [
        {
          "output_type": "stream",
          "name": "stdout",
          "text": [
            "tensor([[0, 0],\n",
            "        [0, 0],\n",
            "        [0, 0],\n",
            "        [0, 0]])\n"
          ]
        }
      ]
    },
    {
      "cell_type": "markdown",
      "source": [
        "사용자가 입력한 값으로 텐서 초기화"
      ],
      "metadata": {
        "id": "Ov8r_WWub7WD"
      }
    },
    {
      "cell_type": "code",
      "source": [
        "x = torch.tensor([3,2,3])\n",
        "print(x)"
      ],
      "metadata": {
        "colab": {
          "base_uri": "https://localhost:8080/"
        },
        "id": "PIZy2_Jvdv4Z",
        "outputId": "31a9c71b-bcba-4454-e96f-7ec6c7fc83b9"
      },
      "execution_count": 7,
      "outputs": [
        {
          "output_type": "stream",
          "name": "stdout",
          "text": [
            "tensor([3, 2, 3])\n"
          ]
        }
      ]
    },
    {
      "cell_type": "markdown",
      "source": [
        "2 x 4크기, double 타입 1로채워진 텐서"
      ],
      "metadata": {
        "id": "aVRwS947dzae"
      }
    },
    {
      "cell_type": "code",
      "source": [
        "x = x.new_ones(2,4,dtype=torch.double)\n",
        "print(x)"
      ],
      "metadata": {
        "colab": {
          "base_uri": "https://localhost:8080/"
        },
        "id": "_gM4PY-Xd6Tr",
        "outputId": "392c3e9b-8cef-43ae-f10e-9e97c7af7349"
      },
      "execution_count": 8,
      "outputs": [
        {
          "output_type": "stream",
          "name": "stdout",
          "text": [
            "tensor([[1., 1., 1., 1.],\n",
            "        [1., 1., 1., 1.]], dtype=torch.float64)\n"
          ]
        }
      ]
    },
    {
      "cell_type": "markdown",
      "source": [
        "x와 같은 크기,float 타입,무작위로 채워진 텐서\n"
      ],
      "metadata": {
        "id": "__I41ecseBJE"
      }
    },
    {
      "cell_type": "code",
      "source": [
        "x = torch.rand_like(x,dtype=torch.float)  # 사이즈를 튜플로 입력하지 않고 기존의 텐서를 정의\n",
        "print(x)"
      ],
      "metadata": {
        "colab": {
          "base_uri": "https://localhost:8080/"
        },
        "id": "DVDhFQcNeHlh",
        "outputId": "27d0280e-cb77-4415-add1-f9799daaf180"
      },
      "execution_count": 13,
      "outputs": [
        {
          "output_type": "stream",
          "name": "stdout",
          "text": [
            "tensor([[0.2031, 0.6736, 0.3010, 0.6323],\n",
            "        [0.2934, 0.2413, 0.9717, 0.4860]])\n"
          ]
        }
      ]
    },
    {
      "cell_type": "code",
      "source": [
        "x = torch.randn(5) # 평균이 0이고 표준편차가 1인 가우시안 정규분포를 이용해 생성\n",
        "print(x)"
      ],
      "metadata": {
        "colab": {
          "base_uri": "https://localhost:8080/"
        },
        "id": "DSRW2XGAhxLR",
        "outputId": "fba31442-fe37-4ec8-84b0-cd18d846287c"
      },
      "execution_count": 15,
      "outputs": [
        {
          "output_type": "stream",
          "name": "stdout",
          "text": [
            "tensor([ 1.5608, -3.5864,  1.6544,  0.1601,  1.2307])\n"
          ]
        }
      ]
    },
    {
      "cell_type": "markdown",
      "source": [
        "텐서의 크기 계산\n"
      ],
      "metadata": {
        "id": "U8X6TbX0ePn4"
      }
    },
    {
      "cell_type": "code",
      "source": [
        "print(x.size())"
      ],
      "metadata": {
        "colab": {
          "base_uri": "https://localhost:8080/"
        },
        "id": "TxqhWMwmeVed",
        "outputId": "7ccc28ed-e858-4d6e-dd1f-6c5891077139"
      },
      "execution_count": 17,
      "outputs": [
        {
          "output_type": "stream",
          "name": "stdout",
          "text": [
            "torch.Size([5])\n"
          ]
        }
      ]
    },
    {
      "cell_type": "markdown",
      "source": [
        "## 데이터 타입(Data Type)\n",
        "\n",
        "| Data type | dtype | CPU tensor | GPU tensor |\n",
        "| ------ | ------ | ------ | ------ |\n",
        "| 32-bit floating point | `torch.float32` or `torch.float` |`torch.FloatTensor` | `torch.cuda.FloatTensor` |\n",
        "| 64-bit floating point | `torch.float64` or `torch.double` |`torch.DoubleTensor` | `torch.cuda.DoubleTensor` |\n",
        "| 16-bit floating point | `torch.float16` or `torch.half` |`torch.HalfTensor` | `torch.cuda.HalfTensor` |\n",
        "| 8-bit integer(unsinged) | `torch.uint8` |`torch.ByteTensor` | `torch.cuda.ByteTensor` |\n",
        "| 8-bit integer(singed) | `torch.int8` |`torch.CharTensor` | `torch.cuda.CharTensor` |\n",
        "| 16-bit integer(signed) | `torch.int16` or `torch.short` |`torch.ShortTensor` | `torch.cuda.ShortTensor` |\n",
        "| 32-bit integer(signed) | `torch.int32` or `torch.int` |`torch.IntTensor` | `torch.cuda.IntTensor` |\n",
        "| 64-bit integer(signed) | `torch.int64` or `torch.long` |`torch.LongTensor` | `torch.cuda.LongTensor` |\n"
      ],
      "metadata": {
        "id": "0Ide4PeReaRp"
      }
    },
    {
      "cell_type": "code",
      "source": [
        "ft = torch.FloatTensor([1,2,3])\n",
        "print(ft)\n",
        "print(ft.dtype)"
      ],
      "metadata": {
        "colab": {
          "base_uri": "https://localhost:8080/"
        },
        "id": "-G_vFFMRiuke",
        "outputId": "d6916aee-ab60-422b-e441-bbbf2bc66cbb"
      },
      "execution_count": 20,
      "outputs": [
        {
          "output_type": "stream",
          "name": "stdout",
          "text": [
            "tensor([1., 2., 3.])\n",
            "torch.float32\n"
          ]
        }
      ]
    },
    {
      "cell_type": "code",
      "source": [
        "print(ft.short())\n",
        "print(ft.int())\n",
        "print(ft.long())"
      ],
      "metadata": {
        "colab": {
          "base_uri": "https://localhost:8080/"
        },
        "id": "9B8uO0fGjApc",
        "outputId": "5f4bec24-bd2c-4303-f952-61705d9ac80b"
      },
      "execution_count": 21,
      "outputs": [
        {
          "output_type": "stream",
          "name": "stdout",
          "text": [
            "tensor([1, 2, 3], dtype=torch.int16)\n",
            "tensor([1, 2, 3], dtype=torch.int32)\n",
            "tensor([1, 2, 3])\n"
          ]
        }
      ]
    },
    {
      "cell_type": "code",
      "source": [
        "it = torch.IntTensor([1,2,3])\n",
        "print(it)\n",
        "print(it.dtype)"
      ],
      "metadata": {
        "colab": {
          "base_uri": "https://localhost:8080/"
        },
        "id": "SRDcEjCIjSxm",
        "outputId": "18bbd0cf-69ca-4c56-9296-7ccbca943bf4"
      },
      "execution_count": 22,
      "outputs": [
        {
          "output_type": "stream",
          "name": "stdout",
          "text": [
            "tensor([1, 2, 3], dtype=torch.int32)\n",
            "torch.int32\n"
          ]
        }
      ]
    },
    {
      "cell_type": "code",
      "source": [
        "print(it.float())\n",
        "print(it.double())\n",
        "print(it.half())"
      ],
      "metadata": {
        "colab": {
          "base_uri": "https://localhost:8080/"
        },
        "id": "bHgDBGCIjeL2",
        "outputId": "ce112370-7fbb-4c47-e3ea-7f775f389edd"
      },
      "execution_count": 23,
      "outputs": [
        {
          "output_type": "stream",
          "name": "stdout",
          "text": [
            "tensor([1., 2., 3.])\n",
            "tensor([1., 2., 3.], dtype=torch.float64)\n",
            "tensor([1., 2., 3.], dtype=torch.float16)\n"
          ]
        }
      ]
    },
    {
      "cell_type": "markdown",
      "source": [
        "## CUDA Tensors\n",
        "- .to 메소드를 사용하여 텐서를 어떠한장치(cpu,gpu)로도 옮길 수 있음\n",
        "- NVIDIA가 만든 병렬 컴퓨팅 플랫폼 및 API 모델로, 보통 '쿠다'라고 발음한다. CUDA 플랫폼은 GPU 의 가상 명령어셋을 사용할 수 있도록 만들어주는 소프트웨어 레이어이며, NVIDIA가 만든 CUDA 코어가 장착된 GPU에서 작동\n"
      ],
      "metadata": {
        "id": "rF-K2VHujkkG"
      }
    },
    {
      "cell_type": "code",
      "source": [
        "x = torch.randn(1)\n",
        "print(x)\n",
        "print(x.item())\n",
        "print(x.dtype)"
      ],
      "metadata": {
        "colab": {
          "base_uri": "https://localhost:8080/"
        },
        "id": "0aMP01LDjwEW",
        "outputId": "50740792-ae41-4da2-e5da-956fdd3bb061"
      },
      "execution_count": 25,
      "outputs": [
        {
          "output_type": "stream",
          "name": "stdout",
          "text": [
            "tensor([-1.9044])\n",
            "-1.9044173955917358\n",
            "torch.float32\n"
          ]
        }
      ]
    },
    {
      "cell_type": "code",
      "source": [
        "# gpu 연결 끊었을때\n",
        "import torch\n",
        "device = torch.device('cuda' if torch.cuda.is_available() else 'cpu')\n",
        "print(device)"
      ],
      "metadata": {
        "colab": {
          "base_uri": "https://localhost:8080/"
        },
        "id": "pUP2FgdAj9lf",
        "outputId": "eadeb929-ac2e-4e28-dc81-3cde5fd3cce0"
      },
      "execution_count": 1,
      "outputs": [
        {
          "output_type": "stream",
          "name": "stdout",
          "text": [
            "cpu\n"
          ]
        }
      ]
    },
    {
      "cell_type": "code",
      "source": [
        "# gpu 연결 했을때\n",
        "import torch\n",
        "device = torch.device('cuda' if torch.cuda.is_available() else 'cpu')\n",
        "print(device)"
      ],
      "metadata": {
        "colab": {
          "base_uri": "https://localhost:8080/"
        },
        "id": "_n9HDpMDkeJe",
        "outputId": "21f84431-c58b-4704-8003-2707efcef83f"
      },
      "execution_count": 1,
      "outputs": [
        {
          "output_type": "stream",
          "name": "stdout",
          "text": [
            "cuda\n"
          ]
        }
      ]
    },
    {
      "cell_type": "markdown",
      "source": [
        "## 다차원 텐서 표현"
      ],
      "metadata": {
        "id": "juZtoJvwk4N_"
      }
    },
    {
      "cell_type": "markdown",
      "source": [
        "### 0D Tensor(Scalar)\n",
        "- 하나의 숫자를 담고 있는 텐서(tensor)\n",
        "- 축과 형상이 없음"
      ],
      "metadata": {
        "id": "hjf_9wWhk79T"
      }
    },
    {
      "cell_type": "code",
      "source": [
        "t0 = torch.tensor(2)\n",
        "\n",
        "print(t0.ndim)\n",
        "print(t0.shape)\n",
        "print(t0)"
      ],
      "metadata": {
        "colab": {
          "base_uri": "https://localhost:8080/"
        },
        "id": "zXyroTJelOkh",
        "outputId": "134c482f-6e4b-4cc5-ed73-2b070a3e3fd9"
      },
      "execution_count": 7,
      "outputs": [
        {
          "output_type": "stream",
          "name": "stdout",
          "text": [
            "0\n",
            "torch.Size([])\n",
            "tensor(2)\n"
          ]
        }
      ]
    },
    {
      "cell_type": "markdown",
      "source": [
        "### 1D Tensor(vector)\n",
        "- 값들을 저장한 리스트와 유사한 텐서\n",
        "- 하나의 축이 존재"
      ],
      "metadata": {
        "id": "AuOumlTSlXZb"
      }
    },
    {
      "cell_type": "code",
      "source": [
        "t1 = torch.tensor([1,2,3])\n",
        "print(t1.ndim)\n",
        "print(t1.shape)\n",
        "print(t1)"
      ],
      "metadata": {
        "colab": {
          "base_uri": "https://localhost:8080/"
        },
        "id": "Rkj_UpE1mGT1",
        "outputId": "36f02697-9839-4a58-81fe-ff4afe3ac20c"
      },
      "execution_count": 9,
      "outputs": [
        {
          "output_type": "stream",
          "name": "stdout",
          "text": [
            "1\n",
            "torch.Size([3])\n",
            "tensor([1, 2, 3])\n"
          ]
        }
      ]
    },
    {
      "cell_type": "markdown",
      "source": [
        "### 2D Tensor(Matrix)\n",
        "- 행렬과 같은 모양으로 두개의 축이 존재\n",
        "- 일반적인 수치,통계 데이터셋이 해당\n",
        "- 주로 샘플(samples)과 특성(features)을 가진 구조로 사용 "
      ],
      "metadata": {
        "id": "Q5VrBqSVmRvq"
      }
    },
    {
      "cell_type": "code",
      "source": [
        "t2= torch.tensor([[1,2,3],[4,5,6]])\n",
        "print(t2.ndim)\n",
        "print(t2.shape)\n",
        "print(t2)"
      ],
      "metadata": {
        "colab": {
          "base_uri": "https://localhost:8080/"
        },
        "id": "kBnaWzpbmmKj",
        "outputId": "461455eb-8e3f-49be-99d7-78d576411516"
      },
      "execution_count": 11,
      "outputs": [
        {
          "output_type": "stream",
          "name": "stdout",
          "text": [
            "2\n",
            "torch.Size([2, 3])\n",
            "tensor([[1, 2, 3],\n",
            "        [4, 5, 6]])\n"
          ]
        }
      ]
    },
    {
      "cell_type": "markdown",
      "source": [
        "### 3D Tensor\n",
        "- 큐브(cube)와 같은 모양으로 세개의 축이 존재\n",
        "- 데이터가 연속된 시퀀스 데이터나 시간축기 포함된 시계역 데이터에 해당\n",
        "- 주식 가격 데이터셋, 시간에 따른 질병 발병 데이터 등이 존재\n",
        "- 주로 샘플(samples),타임스텝(timesteps),features 를 가진구조로 이용"
      ],
      "metadata": {
        "id": "4Egjuh1pmwRv"
      }
    },
    {
      "cell_type": "code",
      "source": [],
      "metadata": {
        "id": "O_kLJUZenPKT"
      },
      "execution_count": null,
      "outputs": []
    },
    {
      "cell_type": "markdown",
      "source": [],
      "metadata": {
        "id": "aEei3ahgnP6o"
      }
    },
    {
      "cell_type": "markdown",
      "source": [],
      "metadata": {
        "id": "ThLE_S4VnP9_"
      }
    },
    {
      "cell_type": "markdown",
      "source": [],
      "metadata": {
        "id": "oCbzB41NnQBQ"
      }
    },
    {
      "cell_type": "markdown",
      "source": [],
      "metadata": {
        "id": "UJn7JyvsnQEI"
      }
    },
    {
      "cell_type": "markdown",
      "source": [
        "## 텐서의 연산(Operations)\n",
        "- 텐서에 대한 수학연산,삼각함수,비트연산,비교연산,집계 등제공"
      ],
      "metadata": {
        "id": "VJVJHM6qnQG_"
      }
    },
    {
      "cell_type": "code",
      "source": [
        "# https://aigong,tistory,com/1178\n",
        "import math\n",
        "\n",
        "a = torch.randn(1,2)\n",
        "print(a)\n",
        "print(torch.abs(a)* 2 - 1) # 가우시안 표준정규 분포\n",
        "print(torch.ceil(a))\n",
        "print(torch.FloatTensor(a))\n",
        "print(torch.clamp(a,-0.5,0.5))\n"
      ],
      "metadata": {
        "colab": {
          "base_uri": "https://localhost:8080/"
        },
        "id": "Bq8cUdnynd7i",
        "outputId": "f87b84bd-c4fc-474d-874b-2d584b7c9e8d"
      },
      "execution_count": 34,
      "outputs": [
        {
          "output_type": "stream",
          "name": "stdout",
          "text": [
            "tensor([[ 1.1306, -0.6750]])\n",
            "tensor([[1.2611, 0.3499]])\n",
            "tensor([[2., -0.]])\n",
            "tensor([[ 1.1306, -0.6750]])\n",
            "tensor([[ 0.5000, -0.5000]])\n"
          ]
        }
      ]
    },
    {
      "cell_type": "code",
      "source": [
        "# torch.clamp : 입력값이 min < x(input) < max이면 x가 그대로 나오지만\n",
        "# min 보다 작으면 min 값이, max 보다 크면 max 값이 나오는 구조\n",
        "print(a)\n",
        "print(torch.min(a))\n",
        "print(torch.max(a))\n",
        "print(torch.mean(a))\n",
        "print(torch.std(a))\n",
        "print(torch.prod(a))\n",
        "print(torch.unique(torch.tensor([1,2,3,1,2,1])))\n"
      ],
      "metadata": {
        "colab": {
          "base_uri": "https://localhost:8080/"
        },
        "id": "9pMg-JixtJ8P",
        "outputId": "03506231-072c-4e9b-8207-3c8dbd25dae4"
      },
      "execution_count": 24,
      "outputs": [
        {
          "output_type": "stream",
          "name": "stdout",
          "text": [
            "tensor([[-0.7559, -0.8169]])\n",
            "tensor(-0.8169)\n",
            "tensor(-0.7559)\n",
            "tensor(-0.7864)\n",
            "tensor(0.0431)\n",
            "tensor(0.6175)\n",
            "tensor([1, 2, 3])\n"
          ]
        }
      ]
    },
    {
      "cell_type": "markdown",
      "source": [
        "????\n",
        "- argmax : 최대값을 가진 인덱스\n",
        "- argmin : 최소값을 가진 인덱스\n"
      ],
      "metadata": {
        "id": "ZWyBiR_otSXA"
      }
    },
    {
      "cell_type": "code",
      "source": [
        "x = torch.rand(2,2)\n",
        "print(x,'\\n')\n",
        "print(x.max(dim=0),'\\n')\n",
        "print(x.max(dim=1))"
      ],
      "metadata": {
        "colab": {
          "base_uri": "https://localhost:8080/"
        },
        "id": "i7s3VaBopke5",
        "outputId": "05c48f41-63c3-4c92-ae3f-2a2d67941f76"
      },
      "execution_count": 14,
      "outputs": [
        {
          "output_type": "stream",
          "name": "stdout",
          "text": [
            "tensor([[0.3239, 0.8927],\n",
            "        [0.5777, 0.9100]]) \n",
            "\n",
            "torch.return_types.max(\n",
            "values=tensor([0.5777, 0.9100]),\n",
            "indices=tensor([1, 1])) \n",
            "\n",
            "torch.return_types.max(\n",
            "values=tensor([0.8927, 0.9100]),\n",
            "indices=tensor([1, 1]))\n"
          ]
        }
      ]
    },
    {
      "cell_type": "code",
      "source": [
        "x = torch.rand(2,2)\n",
        "print(x)\n",
        "y = torch.rand(2,2)\n",
        "print(y)"
      ],
      "metadata": {
        "colab": {
          "base_uri": "https://localhost:8080/"
        },
        "id": "97FPaZinpnWO",
        "outputId": "be289abe-c644-4a88-be2c-187a49dfaf11"
      },
      "execution_count": 17,
      "outputs": [
        {
          "output_type": "stream",
          "name": "stdout",
          "text": [
            "tensor([[0.7386, 0.0607],\n",
            "        [0.0457, 0.9530]])\n",
            "tensor([[0.9986, 0.3693],\n",
            "        [0.9482, 0.9476]])\n"
          ]
        }
      ]
    },
    {
      "cell_type": "markdown",
      "source": [
        "torch.add:덧셈"
      ],
      "metadata": {
        "id": "DRk_Iy3YqVUB"
      }
    },
    {
      "cell_type": "code",
      "source": [
        "print(x+y)\n",
        "print(torch.add(x,y))"
      ],
      "metadata": {
        "colab": {
          "base_uri": "https://localhost:8080/"
        },
        "id": "YX6sp74LqajK",
        "outputId": "43ab9be2-1ea1-4ef6-f61e-f4dd29b63657"
      },
      "execution_count": 19,
      "outputs": [
        {
          "output_type": "stream",
          "name": "stdout",
          "text": [
            "tensor([[1.7372, 0.4300],\n",
            "        [0.9939, 1.9007]])\n",
            "tensor([[1.7372, 0.4300],\n",
            "        [0.9939, 1.9007]])\n"
          ]
        }
      ]
    },
    {
      "cell_type": "markdown",
      "source": [
        "결과 텐서를 인자로 제공"
      ],
      "metadata": {
        "id": "V0_mFmelqfPI"
      }
    },
    {
      "cell_type": "code",
      "source": [
        "result = torch.empty(2,4)\n",
        "torch.add(x,y,out=result)\n",
        "print(result)"
      ],
      "metadata": {
        "colab": {
          "base_uri": "https://localhost:8080/"
        },
        "id": "JEgT7lwdqppf",
        "outputId": "aad47660-cabb-4da6-cab9-ebe05d8d3014"
      },
      "execution_count": 20,
      "outputs": [
        {
          "output_type": "stream",
          "name": "stdout",
          "text": [
            "tensor([[1.7372, 0.4300],\n",
            "        [0.9939, 1.9007]])\n"
          ]
        },
        {
          "output_type": "stream",
          "name": "stderr",
          "text": [
            "<ipython-input-20-fa27375dc8ba>:2: UserWarning: An output with one or more elements was resized since it had shape [2, 4], which does not match the required output shape [2, 2]. This behavior is deprecated, and in a future PyTorch release outputs will not be resized unless they have zero elements. You can explicitly reuse an out tensor t by resizing it, inplace, to zero elements with t.resize_(0). (Triggered internally at ../aten/src/ATen/native/Resize.cpp:17.)\n",
            "  torch.add(x,y,out=result)\n"
          ]
        }
      ]
    },
    {
      "cell_type": "markdown",
      "source": [
        "in-place 방식\n",
        "- in-place 방식으로 텐서의 값을 변경하는 연산 뒤에는 _가붙음\n",
        "- x.copy_(y),x.t_()"
      ],
      "metadata": {
        "id": "cvudKF6cq1e_"
      }
    },
    {
      "cell_type": "code",
      "source": [
        "print(x)\n",
        "print(y)\n",
        "y.add_(x)\n",
        "print(y)"
      ],
      "metadata": {
        "colab": {
          "base_uri": "https://localhost:8080/"
        },
        "id": "TtQDAcStrDEv",
        "outputId": "204fc3a3-59fb-40b9-bcb4-96b005d6d0b5"
      },
      "execution_count": 21,
      "outputs": [
        {
          "output_type": "stream",
          "name": "stdout",
          "text": [
            "tensor([[0.7386, 0.0607],\n",
            "        [0.0457, 0.9530]])\n",
            "tensor([[0.9986, 0.3693],\n",
            "        [0.9482, 0.9476]])\n",
            "tensor([[1.7372, 0.4300],\n",
            "        [0.9939, 1.9007]])\n"
          ]
        }
      ]
    },
    {
      "cell_type": "markdown",
      "source": [
        "torch.sub:뺄셈"
      ],
      "metadata": {
        "id": "U5KYkDwwrHg6"
      }
    },
    {
      "cell_type": "code",
      "source": [
        "print(x)\n",
        "print(y)\n",
        "print(x-7,'\\n')\n",
        "x.sub_(y)\n",
        "print(x)\n",
        "print(torch.sub(x,y))\n",
        "print(x.sub(y))"
      ],
      "metadata": {
        "colab": {
          "base_uri": "https://localhost:8080/"
        },
        "id": "ndAueIuYroJj",
        "outputId": "35d6b102-eefd-4c68-c547-c5add8c6ba9c"
      },
      "execution_count": 22,
      "outputs": [
        {
          "output_type": "stream",
          "name": "stdout",
          "text": [
            "tensor([[0.7386, 0.0607],\n",
            "        [0.0457, 0.9530]])\n",
            "tensor([[1.7372, 0.4300],\n",
            "        [0.9939, 1.9007]])\n",
            "tensor([[-6.2614, -6.9393],\n",
            "        [-6.9543, -6.0470]]) \n",
            "\n",
            "tensor([[-0.9986, -0.3693],\n",
            "        [-0.9482, -0.9476]])\n",
            "tensor([[-2.7358, -0.7992],\n",
            "        [-1.9421, -2.8483]])\n",
            "tensor([[-2.7358, -0.7992],\n",
            "        [-1.9421, -2.8483]])\n"
          ]
        }
      ]
    },
    {
      "cell_type": "markdown",
      "source": [
        "torch.mul: 곱셈"
      ],
      "metadata": {
        "id": "jjgYgEgrr0yo"
      }
    },
    {
      "cell_type": "code",
      "source": [
        "print(x)\n",
        "print(y)\n",
        "print(x*y)\n",
        "x.mul_(y)\n",
        "print(x)\n",
        "print(y)\n",
        "print(torch.mul(x,y))\n",
        "print(x.mul(y))"
      ],
      "metadata": {
        "colab": {
          "base_uri": "https://localhost:8080/"
        },
        "id": "u5kkHtcAuxHX",
        "outputId": "e9f71cd7-12fe-4a41-f19e-ff600dac8b44"
      },
      "execution_count": 26,
      "outputs": [
        {
          "output_type": "stream",
          "name": "stdout",
          "text": [
            "tensor([[-0.9986, -0.3693],\n",
            "        [-0.9482, -0.9476]])\n",
            "tensor([[1.7372, 0.4300],\n",
            "        [0.9939, 1.9007]])\n",
            "tensor([[-1.7348, -0.1588],\n",
            "        [-0.9424, -1.8012]])\n",
            "tensor([[-1.7348, -0.1588],\n",
            "        [-0.9424, -1.8012]])\n",
            "tensor([[1.7372, 0.4300],\n",
            "        [0.9939, 1.9007]])\n",
            "tensor([[-3.0138, -0.0683],\n",
            "        [-0.9367, -3.4234]])\n",
            "tensor([[-3.0138, -0.0683],\n",
            "        [-0.9367, -3.4234]])\n"
          ]
        }
      ]
    },
    {
      "cell_type": "markdown",
      "source": [
        "torch.div:나눗셈"
      ],
      "metadata": {
        "id": "bqXMS2E-vBKM"
      }
    },
    {
      "cell_type": "code",
      "source": [
        "print(x)\n",
        "print(y)\n",
        "print(x/y)\n",
        "x.div_(y)\n",
        "print(x)\n",
        "print(y)\n",
        "print(torch.div(x,y))\n",
        "print(x.div(y))"
      ],
      "metadata": {
        "colab": {
          "base_uri": "https://localhost:8080/"
        },
        "id": "UoiVP-ZvvI2i",
        "outputId": "33fb05d6-5e09-4a5a-c842-6f2b11e04f50"
      },
      "execution_count": 27,
      "outputs": [
        {
          "output_type": "stream",
          "name": "stdout",
          "text": [
            "tensor([[-1.7348, -0.1588],\n",
            "        [-0.9424, -1.8012]])\n",
            "tensor([[1.7372, 0.4300],\n",
            "        [0.9939, 1.9007]])\n",
            "tensor([[-0.9986, -0.3693],\n",
            "        [-0.9482, -0.9476]])\n",
            "tensor([[-0.9986, -0.3693],\n",
            "        [-0.9482, -0.9476]])\n",
            "tensor([[1.7372, 0.4300],\n",
            "        [0.9939, 1.9007]])\n",
            "tensor([[-0.5748, -0.8588],\n",
            "        [-0.9540, -0.4986]])\n",
            "tensor([[-0.5748, -0.8588],\n",
            "        [-0.9540, -0.4986]])\n"
          ]
        }
      ]
    },
    {
      "cell_type": "markdown",
      "source": [
        "torch.mm:내적(dot product)"
      ],
      "metadata": {
        "id": "4ZDJ8ZRbvTYZ"
      }
    },
    {
      "cell_type": "code",
      "source": [
        "print(x)\n",
        "print(y)\n",
        "\n",
        "print(torch.matmul(x,y))\n",
        "z = torch.mm(x,y)\n",
        "print(z)\n",
        "print(torch.svd(z)) # singular value decomposition A= U 시그마 VT"
      ],
      "metadata": {
        "colab": {
          "base_uri": "https://localhost:8080/"
        },
        "id": "pVywNIZxvjYg",
        "outputId": "30b596b5-2acb-49b9-934a-67a5c7da6f39"
      },
      "execution_count": 28,
      "outputs": [
        {
          "output_type": "stream",
          "name": "stdout",
          "text": [
            "tensor([[-0.9986, -0.3693],\n",
            "        [-0.9482, -0.9476]])\n",
            "tensor([[1.7372, 0.4300],\n",
            "        [0.9939, 1.9007]])\n",
            "tensor([[-2.1018, -1.1312],\n",
            "        [-2.5891, -2.2089]])\n",
            "tensor([[-2.1018, -1.1312],\n",
            "        [-2.5891, -2.2089]])\n",
            "torch.return_types.svd(\n",
            "U=tensor([[-0.5712, -0.8208],\n",
            "        [-0.8208,  0.5712]]),\n",
            "S=tensor([4.1362, 0.4144]),\n",
            "V=tensor([[ 0.8041,  0.5946],\n",
            "        [ 0.5946, -0.8041]]))\n"
          ]
        }
      ]
    },
    {
      "cell_type": "markdown",
      "source": [
        "##텐서의 조작(Manupulations)"
      ],
      "metadata": {
        "id": "v0s80Toiv4X0"
      }
    },
    {
      "cell_type": "markdown",
      "source": [
        "인덱싱(indexing):Numpy 처럼 인덱싱 형태로 사용가능"
      ],
      "metadata": {
        "id": "9KnRDG_qx4L4"
      }
    },
    {
      "cell_type": "code",
      "source": [
        "import torch\n",
        "x = torch.Tensor([[1,2],[3,4]])\n",
        "print(x)\n",
        "\n",
        "print(x[0,0])\n",
        "print(x[0,1])\n",
        "print(x[1,0])\n",
        "print(x[1,1])\n",
        "print(x[:,0])\n",
        "print(x[:,1])\n",
        "print(x[0,:])\n",
        "print(x[1,:])"
      ],
      "metadata": {
        "colab": {
          "base_uri": "https://localhost:8080/"
        },
        "id": "UKi8zgwtx9eb",
        "outputId": "a78864b3-b189-4219-ae2f-a88857e139a8"
      },
      "execution_count": 30,
      "outputs": [
        {
          "output_type": "stream",
          "name": "stdout",
          "text": [
            "tensor([[1., 2.],\n",
            "        [3., 4.]])\n",
            "tensor(1.)\n",
            "tensor(2.)\n",
            "tensor(3.)\n",
            "tensor(4.)\n",
            "tensor([1., 3.])\n",
            "tensor([2., 4.])\n",
            "tensor([1., 2.])\n",
            "tensor([3., 4.])\n"
          ]
        }
      ]
    },
    {
      "cell_type": "markdown",
      "source": [
        "https://bigdatadiary0819.tistory.com/60\n",
        "\n",
        "º 랜덤한 값을 가지는 텐서 생성\n",
        "\n",
        "1. torch.rand() : 0과 1 사이의 숫자를 균등하게 생성\n",
        "\n",
        "2. torch.rand_like() : 사이즈를 튜플로 입력하지 않고 기존의 텐서로 정의\n",
        "\n",
        "3. torch.randn() : 평균이 0이고 표준편차가 1인 가우시안 정규분포를 이용해 생성\n",
        "\n",
        "4. torch.randn_like() :  사이즈를 튜플로 입력하지 않고 기존의 텐서로 정의\n",
        "\n",
        "5. torch.randint() : 주어진 범위 내의 정수를 균등하게 생성, 자료형은 torch.float32\n",
        "\n",
        "6. torch.randint_like() : 사이즈를 튜플로 입력하지 않고 기존의 텐서로 정의\n",
        "\n",
        "7. torch.randperm() : 주어진 범위 내의 정수를 랜덤하게 생성\n"
      ],
      "metadata": {
        "id": "HK_-93x3yWr3"
      }
    },
    {
      "cell_type": "markdown",
      "source": [
        "º 특정한 값을 가지는 텐서 생성\n",
        "\n",
        "1. torch.arange() : 주어진 범위 내의 정수를 순서대로 생성\n",
        "\n",
        "2. torch.ones() : 주어진 사이즈의 1로 이루어진 텐서 생성\n",
        "\n",
        "3. torch.zeros() : 주어진 사이즈의 0으로 이루어진 텐서 생성\n",
        "\n",
        "4. torch.ones_like() : 사이즈를 튜플로 입력하지 않고 기존의 텐서로 정의\n",
        "\n",
        "5. torch.zeros_like() : 사이즈를 튜플로 입력하지 않고 기존의 텐서로 정의\n",
        "\n",
        "6. torch.linspace() : 시작점과 끝점을 주어진 갯수만큼 균등하게 나눈 간격점을 행벡터로 출력\n",
        "7. torch.logspace() : 시작점과 끝점을 주어진 갯수만큼 로그간격으로 나눈 간격점을 행벡터로 출력\n"
      ],
      "metadata": {
        "id": "nHBx3x3wyrIM"
      }
    },
    {
      "cell_type": "markdown",
      "source": [
        "view: 텐서의 크기(size)나 모양(shape)을 변경\n",
        "- 기본적으로 변경 전과 후에 텐서 안의 원소 개수가 유지되어야 함\n",
        "- -1로 설정되면 계산을 통해 해당 크기값을 유추"
      ],
      "metadata": {
        "id": "Hswb6o4pyvL1"
      }
    },
    {
      "cell_type": "code",
      "source": [
        "import torch\n",
        "x= torch.randn(4,5)\n",
        "print(x)\n",
        "print(x.shape)\n",
        "print(x.size())"
      ],
      "metadata": {
        "colab": {
          "base_uri": "https://localhost:8080/"
        },
        "id": "19zyn2tkzYE3",
        "outputId": "405e7cfb-e64d-4827-e35e-dfbf8e9f69cd"
      },
      "execution_count": 32,
      "outputs": [
        {
          "output_type": "stream",
          "name": "stdout",
          "text": [
            "tensor([[ 0.1674,  0.9354, -0.6482, -0.6984, -0.2293],\n",
            "        [-0.3815,  0.6416, -1.3891, -0.0877,  0.4265],\n",
            "        [ 0.9279,  0.4010, -1.1499, -1.3837, -0.3819],\n",
            "        [ 2.2478,  1.0086, -1.3202, -0.7987, -1.7951]])\n",
            "torch.Size([4, 5])\n",
            "torch.Size([4, 5])\n"
          ]
        }
      ]
    },
    {
      "cell_type": "code",
      "source": [
        "x = torch.FloatTensor([\n",
        "    [1,2],\n",
        "    [3,4],\n",
        "    [5,6],\n",
        "    [7,8]\n",
        "])\n",
        "\n",
        "#size를 활용한 텐서사이즈 보기\n",
        "print(x.size())\n",
        "#shape를 활용한 텐서사이즈 보기\n",
        "print(x.shape)\n",
        "#dim을 활용한 텐서사이즈 보기\n",
        "print(x.dim())\n",
        "#0차원 사이즈 확인\n",
        "print(x.size(0))\n",
        "#1차원 사이즈 확인\n",
        "print(x.shape[0])"
      ],
      "metadata": {
        "colab": {
          "base_uri": "https://localhost:8080/"
        },
        "id": "9KAOolon0EPy",
        "outputId": "64ff2414-c8e4-4246-d560-951cdc0bf945"
      },
      "execution_count": 33,
      "outputs": [
        {
          "output_type": "stream",
          "name": "stdout",
          "text": [
            "torch.Size([4, 2])\n",
            "torch.Size([4, 2])\n",
            "2\n",
            "4\n",
            "4\n"
          ]
        }
      ]
    },
    {
      "cell_type": "code",
      "source": [
        "x = torch.randn(4,5)\n",
        "print(x)\n",
        "print()\n",
        "y = x.view(20)\n",
        "print(y)\n",
        "z = x.view(5,-1)\n",
        "print()\n",
        "print(z)"
      ],
      "metadata": {
        "colab": {
          "base_uri": "https://localhost:8080/"
        },
        "id": "0KUqXdUZ0vMA",
        "outputId": "9793d9c4-212f-47eb-b4df-60d8dccad7f8"
      },
      "execution_count": 36,
      "outputs": [
        {
          "output_type": "stream",
          "name": "stdout",
          "text": [
            "tensor([[ 1.4698,  0.3338, -0.1622, -2.1548, -0.8369],\n",
            "        [ 0.2351,  0.0415,  1.4121, -1.6841, -0.3629],\n",
            "        [-0.1062,  1.0826, -2.2371, -0.6499, -1.4762],\n",
            "        [ 1.2188,  1.2010, -0.0166, -0.0720,  0.3997]])\n",
            "\n",
            "tensor([ 1.4698,  0.3338, -0.1622, -2.1548, -0.8369,  0.2351,  0.0415,  1.4121,\n",
            "        -1.6841, -0.3629, -0.1062,  1.0826, -2.2371, -0.6499, -1.4762,  1.2188,\n",
            "         1.2010, -0.0166, -0.0720,  0.3997])\n",
            "\n",
            "tensor([[ 1.4698,  0.3338, -0.1622, -2.1548],\n",
            "        [-0.8369,  0.2351,  0.0415,  1.4121],\n",
            "        [-1.6841, -0.3629, -0.1062,  1.0826],\n",
            "        [-2.2371, -0.6499, -1.4762,  1.2188],\n",
            "        [ 1.2010, -0.0166, -0.0720,  0.3997]])\n"
          ]
        }
      ]
    },
    {
      "cell_type": "markdown",
      "source": [
        "item: 텐서에 값이 단하나라도 존재하면 숫자값을 얻을 수 있음"
      ],
      "metadata": {
        "id": "JF7UlojB1PRS"
      }
    },
    {
      "cell_type": "code",
      "source": [
        "x = torch.randn(1)\n",
        "print(x)\n",
        "print(x.item())\n",
        "print(x.dtype)"
      ],
      "metadata": {
        "colab": {
          "base_uri": "https://localhost:8080/"
        },
        "id": "5ZqYTAug1qs7",
        "outputId": "380b33ba-d081-4810-df70-d0ef919a4cf7"
      },
      "execution_count": 37,
      "outputs": [
        {
          "output_type": "stream",
          "name": "stdout",
          "text": [
            "tensor([-0.2262])\n",
            "-0.22615854442119598\n",
            "torch.float32\n"
          ]
        }
      ]
    },
    {
      "cell_type": "markdown",
      "source": [
        "squeeze: 차원을 축소(제거)\n"
      ],
      "metadata": {
        "id": "yjxQ8p3o1y8g"
      }
    },
    {
      "cell_type": "code",
      "source": [
        "tensor = torch.rand(1,3,3)\n",
        "print(tensor)\n",
        "print(tensor.shape)"
      ],
      "metadata": {
        "colab": {
          "base_uri": "https://localhost:8080/"
        },
        "id": "PDtHI2Q713Nq",
        "outputId": "faa212ba-ee3f-40ab-885f-688544ae4c84"
      },
      "execution_count": 38,
      "outputs": [
        {
          "output_type": "stream",
          "name": "stdout",
          "text": [
            "tensor([[[0.5375, 0.8411, 0.2225],\n",
            "         [0.8385, 0.5607, 0.6371],\n",
            "         [0.2522, 0.8576, 0.6970]]])\n",
            "torch.Size([1, 3, 3])\n"
          ]
        }
      ]
    },
    {
      "cell_type": "markdown",
      "source": [
        "unsqueeze : 차원을 증가(생성)"
      ],
      "metadata": {
        "id": "18wxqqN41822"
      }
    },
    {
      "cell_type": "code",
      "source": [
        "t = torch.rand(3,3)\n",
        "print(t)\n",
        "print(t.shape)"
      ],
      "metadata": {
        "colab": {
          "base_uri": "https://localhost:8080/"
        },
        "id": "wjPESP6j2BPt",
        "outputId": "ad12ddde-a832-42bc-9449-2e70746f9c86"
      },
      "execution_count": 43,
      "outputs": [
        {
          "output_type": "stream",
          "name": "stdout",
          "text": [
            "tensor([[0.4129, 0.5453, 0.1062],\n",
            "        [0.5986, 0.4486, 0.4866],\n",
            "        [0.7872, 0.4304, 0.9477]])\n",
            "torch.Size([3, 3])\n"
          ]
        }
      ]
    },
    {
      "cell_type": "code",
      "source": [
        "tensor = t.unsqueeze(dim=0)\n",
        "print(tensor)\n",
        "print(tensor.shape)"
      ],
      "metadata": {
        "colab": {
          "base_uri": "https://localhost:8080/"
        },
        "id": "qnFv8UFc2GyH",
        "outputId": "7433f6f4-290a-4900-94d9-cce0279637d4"
      },
      "execution_count": 44,
      "outputs": [
        {
          "output_type": "stream",
          "name": "stdout",
          "text": [
            "tensor([[[0.4129, 0.5453, 0.1062],\n",
            "         [0.5986, 0.4486, 0.4866],\n",
            "         [0.7872, 0.4304, 0.9477]]])\n",
            "torch.Size([1, 3, 3])\n"
          ]
        }
      ]
    },
    {
      "cell_type": "code",
      "source": [
        "tensor = tensor.unsqueeze(dim=2)\n",
        "print(tensor)\n",
        "print(tensor.shape)"
      ],
      "metadata": {
        "colab": {
          "base_uri": "https://localhost:8080/"
        },
        "id": "jcLEBnMM2VtY",
        "outputId": "a6c1a60e-6abb-4c0a-dab5-10e3c302469b"
      },
      "execution_count": 45,
      "outputs": [
        {
          "output_type": "stream",
          "name": "stdout",
          "text": [
            "tensor([[[[0.4129, 0.5453, 0.1062]],\n",
            "\n",
            "         [[0.5986, 0.4486, 0.4866]],\n",
            "\n",
            "         [[0.7872, 0.4304, 0.9477]]]])\n",
            "torch.Size([1, 3, 1, 3])\n"
          ]
        }
      ]
    },
    {
      "cell_type": "markdown",
      "source": [
        "stack : 텐서가 결합"
      ],
      "metadata": {
        "id": "sULwiSsn2aSj"
      }
    },
    {
      "cell_type": "code",
      "source": [
        "x = torch.FloatTensor([1,4])\n",
        "print(x)\n",
        "y = torch.FloatTensor([2,5])\n",
        "print(y)\n",
        "z = torch.FloatTensor([3,6])\n",
        "print(z)\n",
        "print(torch.stack([x,y,z]))"
      ],
      "metadata": {
        "colab": {
          "base_uri": "https://localhost:8080/"
        },
        "id": "zwxPnqdO3EEl",
        "outputId": "8e3fe783-e539-40d0-d76b-942de32ad230"
      },
      "execution_count": 46,
      "outputs": [
        {
          "output_type": "stream",
          "name": "stdout",
          "text": [
            "tensor([1., 4.])\n",
            "tensor([2., 5.])\n",
            "tensor([3., 6.])\n",
            "tensor([[1., 4.],\n",
            "        [2., 5.],\n",
            "        [3., 6.]])\n"
          ]
        }
      ]
    },
    {
      "cell_type": "markdown",
      "source": [
        "###cat:텐서를 결합하는 메소드(concatenate)\n",
        "- 넘파이의 stack과 유사하지만,쌓을 dim이 존재해야함\n",
        "- 해당 차원을늘려준후 결합"
      ],
      "metadata": {
        "id": "7lyjsaTG3TAM"
      }
    },
    {
      "cell_type": "code",
      "source": [
        "a= torch.randn(1,3,3)\n",
        "print(a)\n",
        "b=torch.randn(1,3,3)\n",
        "print(b)\n",
        "c=torch.cat((a,b),dim=0)\n",
        "print(c)\n",
        "print(c.size())"
      ],
      "metadata": {
        "colab": {
          "base_uri": "https://localhost:8080/"
        },
        "id": "WZfYQmk33if4",
        "outputId": "d2a57fdb-5387-4ca4-d0bb-86890ac52b6b"
      },
      "execution_count": 48,
      "outputs": [
        {
          "output_type": "stream",
          "name": "stdout",
          "text": [
            "tensor([[[-0.0153, -1.6214,  0.5192],\n",
            "         [ 0.6709, -0.9393, -0.4084],\n",
            "         [ 0.9390, -1.0101,  0.3590]]])\n",
            "tensor([[[ 0.0253, -0.0498, -1.4728],\n",
            "         [ 1.6753, -1.2639, -1.5909],\n",
            "         [-0.2705,  2.2813, -0.5680]]])\n",
            "tensor([[[-0.0153, -1.6214,  0.5192],\n",
            "         [ 0.6709, -0.9393, -0.4084],\n",
            "         [ 0.9390, -1.0101,  0.3590]],\n",
            "\n",
            "        [[ 0.0253, -0.0498, -1.4728],\n",
            "         [ 1.6753, -1.2639, -1.5909],\n",
            "         [-0.2705,  2.2813, -0.5680]]])\n",
            "torch.Size([2, 3, 3])\n"
          ]
        }
      ]
    },
    {
      "cell_type": "code",
      "source": [
        "c = torch.cat((a,b),dim=1)\n",
        "print(c)\n",
        "print(c.size())"
      ],
      "metadata": {
        "colab": {
          "base_uri": "https://localhost:8080/"
        },
        "id": "298hZ9Cj3xh1",
        "outputId": "1e7c85e8-0fa0-4dba-98c1-e4326245793b"
      },
      "execution_count": 49,
      "outputs": [
        {
          "output_type": "stream",
          "name": "stdout",
          "text": [
            "tensor([[[-0.0153, -1.6214,  0.5192],\n",
            "         [ 0.6709, -0.9393, -0.4084],\n",
            "         [ 0.9390, -1.0101,  0.3590],\n",
            "         [ 0.0253, -0.0498, -1.4728],\n",
            "         [ 1.6753, -1.2639, -1.5909],\n",
            "         [-0.2705,  2.2813, -0.5680]]])\n",
            "torch.Size([1, 6, 3])\n"
          ]
        }
      ]
    },
    {
      "cell_type": "code",
      "source": [],
      "metadata": {
        "id": "S-bBNTZv36lQ"
      },
      "execution_count": null,
      "outputs": []
    }
  ]
}