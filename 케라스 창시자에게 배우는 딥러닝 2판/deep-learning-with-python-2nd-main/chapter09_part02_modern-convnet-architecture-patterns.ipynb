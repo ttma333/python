{
  "cells": [
    {
      "cell_type": "markdown",
      "metadata": {
        "id": "6fcNJ9ngWdao"
      },
      "source": [
        "이 노트북은 [케라스 창시자에게 배우는 딥러닝 2판](https://tensorflow.blog/kerasdl2/)의 예제 코드를 담고 있습니다.\n",
        "\n",
        "<table align=\"left\">\n",
        "    <tr>\n",
        "        <td>\n",
        "            <a href=\"https://colab.research.google.com/github/rickiepark/deep-learning-with-python-2nd/blob/main/chapter09_part02_modern-convnet-architecture-patterns.ipynb\" target=\"_parent\"><img src=\"https://colab.research.google.com/assets/colab-badge.svg\" alt=\"Open In Colab\"/></a>\n",
        "        </td>\n",
        "    </tr>\n",
        "</table>"
      ]
    },
    {
      "cell_type": "markdown",
      "metadata": {
        "id": "V6vyo9pMWdar"
      },
      "source": [
        "## 최신 컨브넷 아키텍처 패턴"
      ]
    },
    {
      "cell_type": "markdown",
      "metadata": {
        "id": "wRLUswhpWdar"
      },
      "source": [
        "### 모듈화, 계층화 그리고 재사용"
      ]
    },
    {
      "cell_type": "markdown",
      "metadata": {
        "id": "DrVGd0xfWdas"
      },
      "source": [
        "### 잔차 연결"
      ]
    },
    {
      "cell_type": "markdown",
      "metadata": {
        "id": "z3p_4BtQWdas"
      },
      "source": [
        "**필터 개수가 변경되는 잔차 블록**"
      ]
    },
    {
      "cell_type": "code",
      "execution_count": 1,
      "metadata": {
        "id": "_sMjx-EsWdas"
      },
      "outputs": [],
      "source": [
        "from tensorflow import keras\n",
        "from tensorflow.keras import layers\n",
        "\n",
        "inputs = keras.Input(shape=(32, 32, 3))\n",
        "x = layers.Conv2D(32, 3, activation=\"relu\")(inputs)\n",
        "residual = x\n",
        "x = layers.Conv2D(64, 3, activation=\"relu\", padding=\"same\")(x)\n",
        "residual = layers.Conv2D(64, 1)(residual)\n",
        "x = layers.add([x, residual])"
      ]
    },
    {
      "cell_type": "markdown",
      "metadata": {
        "id": "0qicvVeLWdav"
      },
      "source": [
        "**최대 풀링 층을 가진 잔차 블록**"
      ]
    },
    {
      "cell_type": "code",
      "execution_count": 2,
      "metadata": {
        "id": "VujtXbBHWdav"
      },
      "outputs": [],
      "source": [
        "inputs = keras.Input(shape=(32, 32, 3))\n",
        "x = layers.Conv2D(32, 3, activation=\"relu\")(inputs)\n",
        "residual = x\n",
        "x = layers.Conv2D(64, 3, activation=\"relu\", padding=\"same\")(x)\n",
        "x = layers.MaxPooling2D(2, padding=\"same\")(x)\n",
        "residual = layers.Conv2D(64, 1, strides=2)(residual)\n",
        "x = layers.add([x, residual])"
      ]
    },
    {
      "cell_type": "code",
      "execution_count": 3,
      "metadata": {
        "colab": {
          "base_uri": "https://localhost:8080/"
        },
        "id": "gqRZwb1eWdaw",
        "outputId": "15dc9f87-7865-4bf9-90e5-5eabc7706d3c"
      },
      "outputs": [
        {
          "output_type": "stream",
          "name": "stdout",
          "text": [
            "Model: \"model\"\n",
            "__________________________________________________________________________________________________\n",
            " Layer (type)                   Output Shape         Param #     Connected to                     \n",
            "==================================================================================================\n",
            " input_3 (InputLayer)           [(None, 32, 32, 3)]  0           []                               \n",
            "                                                                                                  \n",
            " rescaling (Rescaling)          (None, 32, 32, 3)    0           ['input_3[0][0]']                \n",
            "                                                                                                  \n",
            " conv2d_6 (Conv2D)              (None, 32, 32, 32)   896         ['rescaling[0][0]']              \n",
            "                                                                                                  \n",
            " conv2d_7 (Conv2D)              (None, 32, 32, 32)   9248        ['conv2d_6[0][0]']               \n",
            "                                                                                                  \n",
            " max_pooling2d_1 (MaxPooling2D)  (None, 16, 16, 32)  0           ['conv2d_7[0][0]']               \n",
            "                                                                                                  \n",
            " conv2d_8 (Conv2D)              (None, 16, 16, 32)   128         ['rescaling[0][0]']              \n",
            "                                                                                                  \n",
            " add_2 (Add)                    (None, 16, 16, 32)   0           ['max_pooling2d_1[0][0]',        \n",
            "                                                                  'conv2d_8[0][0]']               \n",
            "                                                                                                  \n",
            " conv2d_9 (Conv2D)              (None, 16, 16, 64)   18496       ['add_2[0][0]']                  \n",
            "                                                                                                  \n",
            " conv2d_10 (Conv2D)             (None, 16, 16, 64)   36928       ['conv2d_9[0][0]']               \n",
            "                                                                                                  \n",
            " max_pooling2d_2 (MaxPooling2D)  (None, 8, 8, 64)    0           ['conv2d_10[0][0]']              \n",
            "                                                                                                  \n",
            " conv2d_11 (Conv2D)             (None, 8, 8, 64)     2112        ['add_2[0][0]']                  \n",
            "                                                                                                  \n",
            " add_3 (Add)                    (None, 8, 8, 64)     0           ['max_pooling2d_2[0][0]',        \n",
            "                                                                  'conv2d_11[0][0]']              \n",
            "                                                                                                  \n",
            " conv2d_12 (Conv2D)             (None, 8, 8, 128)    73856       ['add_3[0][0]']                  \n",
            "                                                                                                  \n",
            " conv2d_13 (Conv2D)             (None, 8, 8, 128)    147584      ['conv2d_12[0][0]']              \n",
            "                                                                                                  \n",
            " conv2d_14 (Conv2D)             (None, 8, 8, 128)    8320        ['add_3[0][0]']                  \n",
            "                                                                                                  \n",
            " add_4 (Add)                    (None, 8, 8, 128)    0           ['conv2d_13[0][0]',              \n",
            "                                                                  'conv2d_14[0][0]']              \n",
            "                                                                                                  \n",
            " global_average_pooling2d (Glob  (None, 128)         0           ['add_4[0][0]']                  \n",
            " alAveragePooling2D)                                                                              \n",
            "                                                                                                  \n",
            " dense (Dense)                  (None, 1)            129         ['global_average_pooling2d[0][0]'\n",
            "                                                                 ]                                \n",
            "                                                                                                  \n",
            "==================================================================================================\n",
            "Total params: 297,697\n",
            "Trainable params: 297,697\n",
            "Non-trainable params: 0\n",
            "__________________________________________________________________________________________________\n"
          ]
        }
      ],
      "source": [
        "inputs = keras.Input(shape=(32, 32, 3))\n",
        "x = layers.Rescaling(1./255)(inputs)\n",
        "\n",
        "def residual_block(x, filters, pooling=False):\n",
        "    residual = x\n",
        "    x = layers.Conv2D(filters, 3, activation=\"relu\", padding=\"same\")(x)\n",
        "    x = layers.Conv2D(filters, 3, activation=\"relu\", padding=\"same\")(x)\n",
        "    if pooling:\n",
        "        x = layers.MaxPooling2D(2, padding=\"same\")(x)\n",
        "        residual = layers.Conv2D(filters, 1, strides=2)(residual)\n",
        "    elif filters != residual.shape[-1]:\n",
        "        residual = layers.Conv2D(filters, 1)(residual)\n",
        "    x = layers.add([x, residual])\n",
        "    return x\n",
        "\n",
        "x = residual_block(x, filters=32, pooling=True)\n",
        "x = residual_block(x, filters=64, pooling=True)\n",
        "x = residual_block(x, filters=128, pooling=False)\n",
        "\n",
        "x = layers.GlobalAveragePooling2D()(x)\n",
        "outputs = layers.Dense(1, activation=\"sigmoid\")(x)\n",
        "model = keras.Model(inputs=inputs, outputs=outputs)\n",
        "model.summary()"
      ]
    },
    {
      "cell_type": "markdown",
      "metadata": {
        "id": "2yTgvoeKWdaw"
      },
      "source": [
        "### 배치 정규화"
      ]
    },
    {
      "cell_type": "markdown",
      "metadata": {
        "id": "JPKA2OB7Wdax"
      },
      "source": [
        "### 깊이별 분리 합성곱"
      ]
    },
    {
      "cell_type": "markdown",
      "metadata": {
        "id": "RkVCpdH6Wdax"
      },
      "source": [
        "### Xception 유사 모델에 모두 적용하기"
      ]
    },
    {
      "cell_type": "markdown",
      "metadata": {
        "id": "rJP0kj1tRe_e"
      },
      "source": [
        "캐글에서 dogs-vs-cats 데이터셋을 다운로드하려면 캐글에 가입해야 한 후 생성한 API 키를 사용해야 합니다. 이런 과정이 번거롭다면 다음 명령으로 구글 드라이브에서 직접 다운로드할 수 있습니다.\n",
        "\n",
        "```python\n",
        "import gdown\n",
        "gdown.download(id='18uC7WTuEXKJDDxbj-Jq6EjzpFrgE7IAd', output='dogs-vs-cats.zip')\n",
        "```\n",
        "\n",
        "그다음 아래 2개의 코드 셀을 건너 뛰고 바로 `unzip` 명령을 실행하세요."
      ]
    },
    {
      "cell_type": "code",
      "execution_count": 4,
      "metadata": {
        "colab": {
          "base_uri": "https://localhost:8080/",
          "height": 93
        },
        "id": "9kwJ5oLAWdax",
        "outputId": "054b55f5-8a10-498f-c961-8043e1c041fd"
      },
      "outputs": [
        {
          "output_type": "display_data",
          "data": {
            "text/plain": [
              "<IPython.core.display.HTML object>"
            ],
            "text/html": [
              "\n",
              "     <input type=\"file\" id=\"files-e3d6a9ee-87f4-4ea9-9594-e84be11a91ef\" name=\"files[]\" multiple disabled\n",
              "        style=\"border:none\" />\n",
              "     <output id=\"result-e3d6a9ee-87f4-4ea9-9594-e84be11a91ef\">\n",
              "      Upload widget is only available when the cell has been executed in the\n",
              "      current browser session. Please rerun this cell to enable.\n",
              "      </output>\n",
              "      <script>// Copyright 2017 Google LLC\n",
              "//\n",
              "// Licensed under the Apache License, Version 2.0 (the \"License\");\n",
              "// you may not use this file except in compliance with the License.\n",
              "// You may obtain a copy of the License at\n",
              "//\n",
              "//      http://www.apache.org/licenses/LICENSE-2.0\n",
              "//\n",
              "// Unless required by applicable law or agreed to in writing, software\n",
              "// distributed under the License is distributed on an \"AS IS\" BASIS,\n",
              "// WITHOUT WARRANTIES OR CONDITIONS OF ANY KIND, either express or implied.\n",
              "// See the License for the specific language governing permissions and\n",
              "// limitations under the License.\n",
              "\n",
              "/**\n",
              " * @fileoverview Helpers for google.colab Python module.\n",
              " */\n",
              "(function(scope) {\n",
              "function span(text, styleAttributes = {}) {\n",
              "  const element = document.createElement('span');\n",
              "  element.textContent = text;\n",
              "  for (const key of Object.keys(styleAttributes)) {\n",
              "    element.style[key] = styleAttributes[key];\n",
              "  }\n",
              "  return element;\n",
              "}\n",
              "\n",
              "// Max number of bytes which will be uploaded at a time.\n",
              "const MAX_PAYLOAD_SIZE = 100 * 1024;\n",
              "\n",
              "function _uploadFiles(inputId, outputId) {\n",
              "  const steps = uploadFilesStep(inputId, outputId);\n",
              "  const outputElement = document.getElementById(outputId);\n",
              "  // Cache steps on the outputElement to make it available for the next call\n",
              "  // to uploadFilesContinue from Python.\n",
              "  outputElement.steps = steps;\n",
              "\n",
              "  return _uploadFilesContinue(outputId);\n",
              "}\n",
              "\n",
              "// This is roughly an async generator (not supported in the browser yet),\n",
              "// where there are multiple asynchronous steps and the Python side is going\n",
              "// to poll for completion of each step.\n",
              "// This uses a Promise to block the python side on completion of each step,\n",
              "// then passes the result of the previous step as the input to the next step.\n",
              "function _uploadFilesContinue(outputId) {\n",
              "  const outputElement = document.getElementById(outputId);\n",
              "  const steps = outputElement.steps;\n",
              "\n",
              "  const next = steps.next(outputElement.lastPromiseValue);\n",
              "  return Promise.resolve(next.value.promise).then((value) => {\n",
              "    // Cache the last promise value to make it available to the next\n",
              "    // step of the generator.\n",
              "    outputElement.lastPromiseValue = value;\n",
              "    return next.value.response;\n",
              "  });\n",
              "}\n",
              "\n",
              "/**\n",
              " * Generator function which is called between each async step of the upload\n",
              " * process.\n",
              " * @param {string} inputId Element ID of the input file picker element.\n",
              " * @param {string} outputId Element ID of the output display.\n",
              " * @return {!Iterable<!Object>} Iterable of next steps.\n",
              " */\n",
              "function* uploadFilesStep(inputId, outputId) {\n",
              "  const inputElement = document.getElementById(inputId);\n",
              "  inputElement.disabled = false;\n",
              "\n",
              "  const outputElement = document.getElementById(outputId);\n",
              "  outputElement.innerHTML = '';\n",
              "\n",
              "  const pickedPromise = new Promise((resolve) => {\n",
              "    inputElement.addEventListener('change', (e) => {\n",
              "      resolve(e.target.files);\n",
              "    });\n",
              "  });\n",
              "\n",
              "  const cancel = document.createElement('button');\n",
              "  inputElement.parentElement.appendChild(cancel);\n",
              "  cancel.textContent = 'Cancel upload';\n",
              "  const cancelPromise = new Promise((resolve) => {\n",
              "    cancel.onclick = () => {\n",
              "      resolve(null);\n",
              "    };\n",
              "  });\n",
              "\n",
              "  // Wait for the user to pick the files.\n",
              "  const files = yield {\n",
              "    promise: Promise.race([pickedPromise, cancelPromise]),\n",
              "    response: {\n",
              "      action: 'starting',\n",
              "    }\n",
              "  };\n",
              "\n",
              "  cancel.remove();\n",
              "\n",
              "  // Disable the input element since further picks are not allowed.\n",
              "  inputElement.disabled = true;\n",
              "\n",
              "  if (!files) {\n",
              "    return {\n",
              "      response: {\n",
              "        action: 'complete',\n",
              "      }\n",
              "    };\n",
              "  }\n",
              "\n",
              "  for (const file of files) {\n",
              "    const li = document.createElement('li');\n",
              "    li.append(span(file.name, {fontWeight: 'bold'}));\n",
              "    li.append(span(\n",
              "        `(${file.type || 'n/a'}) - ${file.size} bytes, ` +\n",
              "        `last modified: ${\n",
              "            file.lastModifiedDate ? file.lastModifiedDate.toLocaleDateString() :\n",
              "                                    'n/a'} - `));\n",
              "    const percent = span('0% done');\n",
              "    li.appendChild(percent);\n",
              "\n",
              "    outputElement.appendChild(li);\n",
              "\n",
              "    const fileDataPromise = new Promise((resolve) => {\n",
              "      const reader = new FileReader();\n",
              "      reader.onload = (e) => {\n",
              "        resolve(e.target.result);\n",
              "      };\n",
              "      reader.readAsArrayBuffer(file);\n",
              "    });\n",
              "    // Wait for the data to be ready.\n",
              "    let fileData = yield {\n",
              "      promise: fileDataPromise,\n",
              "      response: {\n",
              "        action: 'continue',\n",
              "      }\n",
              "    };\n",
              "\n",
              "    // Use a chunked sending to avoid message size limits. See b/62115660.\n",
              "    let position = 0;\n",
              "    do {\n",
              "      const length = Math.min(fileData.byteLength - position, MAX_PAYLOAD_SIZE);\n",
              "      const chunk = new Uint8Array(fileData, position, length);\n",
              "      position += length;\n",
              "\n",
              "      const base64 = btoa(String.fromCharCode.apply(null, chunk));\n",
              "      yield {\n",
              "        response: {\n",
              "          action: 'append',\n",
              "          file: file.name,\n",
              "          data: base64,\n",
              "        },\n",
              "      };\n",
              "\n",
              "      let percentDone = fileData.byteLength === 0 ?\n",
              "          100 :\n",
              "          Math.round((position / fileData.byteLength) * 100);\n",
              "      percent.textContent = `${percentDone}% done`;\n",
              "\n",
              "    } while (position < fileData.byteLength);\n",
              "  }\n",
              "\n",
              "  // All done.\n",
              "  yield {\n",
              "    response: {\n",
              "      action: 'complete',\n",
              "    }\n",
              "  };\n",
              "}\n",
              "\n",
              "scope.google = scope.google || {};\n",
              "scope.google.colab = scope.google.colab || {};\n",
              "scope.google.colab._files = {\n",
              "  _uploadFiles,\n",
              "  _uploadFilesContinue,\n",
              "};\n",
              "})(self);\n",
              "</script> "
            ]
          },
          "metadata": {}
        },
        {
          "output_type": "stream",
          "name": "stdout",
          "text": [
            "Saving kaggle.json to kaggle.json\n"
          ]
        },
        {
          "output_type": "execute_result",
          "data": {
            "text/plain": [
              "{'kaggle.json': b'{\"username\":\"haesunpark\",\"key\":\"7b9b272cd02cace2299c31a94baa2625\"}'}"
            ]
          },
          "metadata": {},
          "execution_count": 4
        }
      ],
      "source": [
        "# kaggle.json 파일을 업로드하세요.\n",
        "from google.colab import files\n",
        "files.upload()"
      ]
    },
    {
      "cell_type": "code",
      "execution_count": 5,
      "metadata": {
        "id": "ZSOaTdZ7Re_f",
        "outputId": "3c4ef216-85cc-455a-d9ff-c65a0bfaaeb6",
        "colab": {
          "base_uri": "https://localhost:8080/"
        }
      },
      "outputs": [
        {
          "output_type": "stream",
          "name": "stdout",
          "text": [
            "Downloading dogs-vs-cats.zip to /content\n",
            " 99% 806M/812M [00:03<00:00, 315MB/s]\n",
            "100% 812M/812M [00:03<00:00, 274MB/s]\n"
          ]
        }
      ],
      "source": [
        "!mkdir ~/.kaggle\n",
        "!cp kaggle.json ~/.kaggle/\n",
        "!chmod 600 ~/.kaggle/kaggle.json\n",
        "!kaggle competitions download -c dogs-vs-cats"
      ]
    },
    {
      "cell_type": "code",
      "execution_count": 6,
      "metadata": {
        "id": "HQRYmlcoWdax"
      },
      "outputs": [],
      "source": [
        "!unzip -qq dogs-vs-cats.zip\n",
        "!unzip -qq train.zip"
      ]
    },
    {
      "cell_type": "code",
      "execution_count": 7,
      "metadata": {
        "colab": {
          "base_uri": "https://localhost:8080/"
        },
        "id": "1TQ1jwjAWday",
        "outputId": "f8eb1d95-a7f0-4aee-e3b6-aea75018bf5b"
      },
      "outputs": [
        {
          "output_type": "stream",
          "name": "stdout",
          "text": [
            "Found 2000 files belonging to 2 classes.\n",
            "Found 1000 files belonging to 2 classes.\n",
            "Found 2000 files belonging to 2 classes.\n"
          ]
        }
      ],
      "source": [
        "import os, shutil, pathlib\n",
        "from tensorflow.keras.utils import image_dataset_from_directory\n",
        "\n",
        "original_dir = pathlib.Path(\"train\")\n",
        "new_base_dir = pathlib.Path(\"cats_vs_dogs_small\")\n",
        "\n",
        "def make_subset(subset_name, start_index, end_index):\n",
        "    for category in (\"cat\", \"dog\"):\n",
        "        dir = new_base_dir / subset_name / category\n",
        "        os.makedirs(dir)\n",
        "        fnames = [f\"{category}.{i}.jpg\" for i in range(start_index, end_index)]\n",
        "        for fname in fnames:\n",
        "            shutil.copyfile(src=original_dir / fname,\n",
        "                            dst=dir / fname)\n",
        "\n",
        "make_subset(\"train\", start_index=0, end_index=1000)\n",
        "make_subset(\"validation\", start_index=1000, end_index=1500)\n",
        "make_subset(\"test\", start_index=1500, end_index=2500)\n",
        "\n",
        "train_dataset = image_dataset_from_directory(\n",
        "    new_base_dir / \"train\",\n",
        "    image_size=(180, 180),\n",
        "    batch_size=32)\n",
        "validation_dataset = image_dataset_from_directory(\n",
        "    new_base_dir / \"validation\",\n",
        "    image_size=(180, 180),\n",
        "    batch_size=32)\n",
        "test_dataset = image_dataset_from_directory(\n",
        "    new_base_dir / \"test\",\n",
        "    image_size=(180, 180),\n",
        "    batch_size=32)"
      ]
    },
    {
      "cell_type": "code",
      "execution_count": 8,
      "metadata": {
        "id": "ocyuOyHbWday"
      },
      "outputs": [],
      "source": [
        "data_augmentation = keras.Sequential(\n",
        "    [\n",
        "        layers.RandomFlip(\"horizontal\"),\n",
        "        layers.RandomRotation(0.1),\n",
        "        layers.RandomZoom(0.2),\n",
        "    ]\n",
        ")"
      ]
    },
    {
      "cell_type": "code",
      "execution_count": 9,
      "metadata": {
        "id": "-qBdzynbWday"
      },
      "outputs": [],
      "source": [
        "inputs = keras.Input(shape=(180, 180, 3))\n",
        "x = data_augmentation(inputs)\n",
        "\n",
        "x = layers.Rescaling(1./255)(x)\n",
        "x = layers.Conv2D(filters=32, kernel_size=5, use_bias=False)(x)\n",
        "\n",
        "for size in [32, 64, 128, 256, 512]:\n",
        "    residual = x\n",
        "\n",
        "    x = layers.BatchNormalization()(x)\n",
        "    x = layers.Activation(\"relu\")(x)\n",
        "    x = layers.SeparableConv2D(size, 3, padding=\"same\", use_bias=False)(x)\n",
        "\n",
        "    x = layers.BatchNormalization()(x)\n",
        "    x = layers.Activation(\"relu\")(x)\n",
        "    x = layers.SeparableConv2D(size, 3, padding=\"same\", use_bias=False)(x)\n",
        "\n",
        "    x = layers.MaxPooling2D(3, strides=2, padding=\"same\")(x)\n",
        "\n",
        "    residual = layers.Conv2D(\n",
        "        size, 1, strides=2, padding=\"same\", use_bias=False)(residual)\n",
        "    x = layers.add([x, residual])\n",
        "\n",
        "x = layers.GlobalAveragePooling2D()(x)\n",
        "x = layers.Dropout(0.5)(x)\n",
        "outputs = layers.Dense(1, activation=\"sigmoid\")(x)\n",
        "model = keras.Model(inputs=inputs, outputs=outputs)"
      ]
    },
    {
      "cell_type": "code",
      "execution_count": 10,
      "metadata": {
        "colab": {
          "base_uri": "https://localhost:8080/"
        },
        "id": "p4rMrBCmWdaz",
        "outputId": "683500d9-52f3-4579-8f02-0362643d96f9"
      },
      "outputs": [
        {
          "output_type": "stream",
          "name": "stdout",
          "text": [
            "Epoch 1/100\n",
            "63/63 [==============================] - 42s 465ms/step - loss: 0.7209 - accuracy: 0.5635 - val_loss: 0.6993 - val_accuracy: 0.5000\n",
            "Epoch 2/100\n",
            "63/63 [==============================] - 29s 450ms/step - loss: 0.6686 - accuracy: 0.5980 - val_loss: 0.6928 - val_accuracy: 0.5000\n",
            "Epoch 3/100\n",
            "63/63 [==============================] - 29s 458ms/step - loss: 0.6505 - accuracy: 0.6160 - val_loss: 0.7048 - val_accuracy: 0.5000\n",
            "Epoch 4/100\n",
            "63/63 [==============================] - 30s 464ms/step - loss: 0.6305 - accuracy: 0.6655 - val_loss: 0.7241 - val_accuracy: 0.5000\n",
            "Epoch 5/100\n",
            "63/63 [==============================] - 29s 458ms/step - loss: 0.6017 - accuracy: 0.6895 - val_loss: 0.7310 - val_accuracy: 0.5000\n",
            "Epoch 6/100\n",
            "63/63 [==============================] - 28s 446ms/step - loss: 0.6044 - accuracy: 0.6795 - val_loss: 0.7791 - val_accuracy: 0.5030\n",
            "Epoch 7/100\n",
            "63/63 [==============================] - 29s 457ms/step - loss: 0.5794 - accuracy: 0.7045 - val_loss: 0.8490 - val_accuracy: 0.5220\n",
            "Epoch 8/100\n",
            "63/63 [==============================] - 29s 454ms/step - loss: 0.5601 - accuracy: 0.7160 - val_loss: 0.8146 - val_accuracy: 0.5430\n",
            "Epoch 9/100\n",
            "63/63 [==============================] - 29s 457ms/step - loss: 0.5408 - accuracy: 0.7315 - val_loss: 0.6094 - val_accuracy: 0.6590\n",
            "Epoch 10/100\n",
            "63/63 [==============================] - 29s 455ms/step - loss: 0.5099 - accuracy: 0.7615 - val_loss: 1.2012 - val_accuracy: 0.5310\n",
            "Epoch 11/100\n",
            "63/63 [==============================] - 29s 451ms/step - loss: 0.5064 - accuracy: 0.7525 - val_loss: 1.8100 - val_accuracy: 0.5470\n",
            "Epoch 12/100\n",
            "63/63 [==============================] - 29s 457ms/step - loss: 0.4870 - accuracy: 0.7700 - val_loss: 0.6918 - val_accuracy: 0.6490\n",
            "Epoch 13/100\n",
            "63/63 [==============================] - 29s 459ms/step - loss: 0.4754 - accuracy: 0.7865 - val_loss: 1.0761 - val_accuracy: 0.5620\n",
            "Epoch 14/100\n",
            "63/63 [==============================] - 28s 442ms/step - loss: 0.4757 - accuracy: 0.7835 - val_loss: 0.6073 - val_accuracy: 0.7010\n",
            "Epoch 15/100\n",
            "63/63 [==============================] - 28s 445ms/step - loss: 0.4596 - accuracy: 0.7925 - val_loss: 0.5713 - val_accuracy: 0.7410\n",
            "Epoch 16/100\n",
            "63/63 [==============================] - 28s 446ms/step - loss: 0.4365 - accuracy: 0.8020 - val_loss: 1.5518 - val_accuracy: 0.6260\n",
            "Epoch 17/100\n",
            "63/63 [==============================] - 29s 450ms/step - loss: 0.4361 - accuracy: 0.7965 - val_loss: 1.3560 - val_accuracy: 0.5670\n",
            "Epoch 18/100\n",
            "63/63 [==============================] - 29s 450ms/step - loss: 0.4230 - accuracy: 0.8175 - val_loss: 0.4468 - val_accuracy: 0.7910\n",
            "Epoch 19/100\n",
            "63/63 [==============================] - 29s 455ms/step - loss: 0.4063 - accuracy: 0.8185 - val_loss: 0.5246 - val_accuracy: 0.7850\n",
            "Epoch 20/100\n",
            "63/63 [==============================] - 29s 455ms/step - loss: 0.3969 - accuracy: 0.8225 - val_loss: 1.3291 - val_accuracy: 0.6280\n",
            "Epoch 21/100\n",
            "63/63 [==============================] - 29s 452ms/step - loss: 0.4040 - accuracy: 0.8240 - val_loss: 0.7983 - val_accuracy: 0.6470\n",
            "Epoch 22/100\n",
            "63/63 [==============================] - 29s 453ms/step - loss: 0.3775 - accuracy: 0.8325 - val_loss: 0.5884 - val_accuracy: 0.7250\n",
            "Epoch 23/100\n",
            "63/63 [==============================] - 29s 451ms/step - loss: 0.3720 - accuracy: 0.8395 - val_loss: 0.5780 - val_accuracy: 0.7170\n",
            "Epoch 24/100\n",
            "63/63 [==============================] - 29s 452ms/step - loss: 0.3442 - accuracy: 0.8480 - val_loss: 0.5968 - val_accuracy: 0.7370\n",
            "Epoch 25/100\n",
            "63/63 [==============================] - 29s 453ms/step - loss: 0.3513 - accuracy: 0.8495 - val_loss: 0.4642 - val_accuracy: 0.7910\n",
            "Epoch 26/100\n",
            "63/63 [==============================] - 29s 460ms/step - loss: 0.3298 - accuracy: 0.8605 - val_loss: 1.0205 - val_accuracy: 0.7190\n",
            "Epoch 27/100\n",
            "63/63 [==============================] - 29s 463ms/step - loss: 0.3457 - accuracy: 0.8440 - val_loss: 0.4532 - val_accuracy: 0.8010\n",
            "Epoch 28/100\n",
            "63/63 [==============================] - 29s 454ms/step - loss: 0.3198 - accuracy: 0.8620 - val_loss: 0.5271 - val_accuracy: 0.7830\n",
            "Epoch 29/100\n",
            "63/63 [==============================] - 29s 454ms/step - loss: 0.3123 - accuracy: 0.8650 - val_loss: 1.0545 - val_accuracy: 0.5950\n",
            "Epoch 30/100\n",
            "63/63 [==============================] - 29s 451ms/step - loss: 0.3301 - accuracy: 0.8630 - val_loss: 0.9877 - val_accuracy: 0.6900\n",
            "Epoch 31/100\n",
            "63/63 [==============================] - 29s 454ms/step - loss: 0.3242 - accuracy: 0.8560 - val_loss: 0.5826 - val_accuracy: 0.7910\n",
            "Epoch 32/100\n",
            "63/63 [==============================] - 28s 448ms/step - loss: 0.2848 - accuracy: 0.8810 - val_loss: 1.0021 - val_accuracy: 0.6730\n",
            "Epoch 33/100\n",
            "63/63 [==============================] - 30s 466ms/step - loss: 0.2976 - accuracy: 0.8770 - val_loss: 0.8742 - val_accuracy: 0.7390\n",
            "Epoch 34/100\n",
            "63/63 [==============================] - 29s 448ms/step - loss: 0.2581 - accuracy: 0.8960 - val_loss: 0.4593 - val_accuracy: 0.8040\n",
            "Epoch 35/100\n",
            "63/63 [==============================] - 29s 451ms/step - loss: 0.2719 - accuracy: 0.8885 - val_loss: 0.8510 - val_accuracy: 0.7370\n",
            "Epoch 36/100\n",
            "63/63 [==============================] - 28s 447ms/step - loss: 0.2501 - accuracy: 0.9005 - val_loss: 0.8446 - val_accuracy: 0.7220\n",
            "Epoch 37/100\n",
            "63/63 [==============================] - 29s 455ms/step - loss: 0.2692 - accuracy: 0.8855 - val_loss: 2.9316 - val_accuracy: 0.5660\n",
            "Epoch 38/100\n",
            "63/63 [==============================] - 29s 450ms/step - loss: 0.2760 - accuracy: 0.8830 - val_loss: 0.8933 - val_accuracy: 0.7040\n",
            "Epoch 39/100\n",
            "63/63 [==============================] - 29s 457ms/step - loss: 0.2620 - accuracy: 0.8935 - val_loss: 0.4532 - val_accuracy: 0.8250\n",
            "Epoch 40/100\n",
            "63/63 [==============================] - 29s 453ms/step - loss: 0.2525 - accuracy: 0.8975 - val_loss: 1.1707 - val_accuracy: 0.7310\n",
            "Epoch 41/100\n",
            "63/63 [==============================] - 28s 445ms/step - loss: 0.2451 - accuracy: 0.9015 - val_loss: 0.6250 - val_accuracy: 0.7800\n",
            "Epoch 42/100\n",
            "63/63 [==============================] - 29s 453ms/step - loss: 0.2559 - accuracy: 0.9010 - val_loss: 0.3546 - val_accuracy: 0.8530\n",
            "Epoch 43/100\n",
            "63/63 [==============================] - 29s 452ms/step - loss: 0.2439 - accuracy: 0.9025 - val_loss: 0.4229 - val_accuracy: 0.8360\n",
            "Epoch 44/100\n",
            "63/63 [==============================] - 29s 459ms/step - loss: 0.2444 - accuracy: 0.9065 - val_loss: 0.4321 - val_accuracy: 0.8450\n",
            "Epoch 45/100\n",
            "63/63 [==============================] - 29s 461ms/step - loss: 0.2359 - accuracy: 0.8945 - val_loss: 1.0321 - val_accuracy: 0.7440\n",
            "Epoch 46/100\n",
            "63/63 [==============================] - 29s 458ms/step - loss: 0.2198 - accuracy: 0.9090 - val_loss: 0.5156 - val_accuracy: 0.8180\n",
            "Epoch 47/100\n",
            "63/63 [==============================] - 29s 452ms/step - loss: 0.2366 - accuracy: 0.9040 - val_loss: 0.3905 - val_accuracy: 0.8520\n",
            "Epoch 48/100\n",
            "63/63 [==============================] - 29s 453ms/step - loss: 0.2087 - accuracy: 0.9165 - val_loss: 0.4057 - val_accuracy: 0.8280\n",
            "Epoch 49/100\n",
            "63/63 [==============================] - 29s 461ms/step - loss: 0.2406 - accuracy: 0.9040 - val_loss: 0.3795 - val_accuracy: 0.8590\n",
            "Epoch 50/100\n",
            "63/63 [==============================] - 29s 450ms/step - loss: 0.1978 - accuracy: 0.9225 - val_loss: 0.4024 - val_accuracy: 0.8350\n",
            "Epoch 51/100\n",
            "63/63 [==============================] - 29s 457ms/step - loss: 0.1933 - accuracy: 0.9185 - val_loss: 3.3018 - val_accuracy: 0.5770\n",
            "Epoch 52/100\n",
            "63/63 [==============================] - 29s 451ms/step - loss: 0.1984 - accuracy: 0.9230 - val_loss: 0.4009 - val_accuracy: 0.8370\n",
            "Epoch 53/100\n",
            "63/63 [==============================] - 29s 455ms/step - loss: 0.1755 - accuracy: 0.9305 - val_loss: 0.7727 - val_accuracy: 0.8040\n",
            "Epoch 54/100\n",
            "63/63 [==============================] - 29s 455ms/step - loss: 0.1884 - accuracy: 0.9220 - val_loss: 0.3647 - val_accuracy: 0.8700\n",
            "Epoch 55/100\n",
            "63/63 [==============================] - 29s 455ms/step - loss: 0.1918 - accuracy: 0.9265 - val_loss: 1.0716 - val_accuracy: 0.7350\n",
            "Epoch 56/100\n",
            "63/63 [==============================] - 29s 455ms/step - loss: 0.1917 - accuracy: 0.9225 - val_loss: 0.3259 - val_accuracy: 0.8820\n",
            "Epoch 57/100\n",
            "63/63 [==============================] - 29s 452ms/step - loss: 0.1853 - accuracy: 0.9225 - val_loss: 0.5683 - val_accuracy: 0.7630\n",
            "Epoch 58/100\n",
            "63/63 [==============================] - 29s 452ms/step - loss: 0.1737 - accuracy: 0.9270 - val_loss: 0.3875 - val_accuracy: 0.8480\n",
            "Epoch 59/100\n",
            "63/63 [==============================] - 29s 459ms/step - loss: 0.1757 - accuracy: 0.9295 - val_loss: 0.2921 - val_accuracy: 0.8790\n",
            "Epoch 60/100\n",
            "63/63 [==============================] - 29s 455ms/step - loss: 0.1624 - accuracy: 0.9340 - val_loss: 0.5515 - val_accuracy: 0.8220\n",
            "Epoch 61/100\n",
            "63/63 [==============================] - 29s 454ms/step - loss: 0.1703 - accuracy: 0.9360 - val_loss: 0.4261 - val_accuracy: 0.8560\n",
            "Epoch 62/100\n",
            "63/63 [==============================] - 29s 463ms/step - loss: 0.1699 - accuracy: 0.9350 - val_loss: 1.6149 - val_accuracy: 0.6550\n",
            "Epoch 63/100\n",
            "63/63 [==============================] - 29s 452ms/step - loss: 0.1510 - accuracy: 0.9420 - val_loss: 0.3190 - val_accuracy: 0.8880\n",
            "Epoch 64/100\n",
            "63/63 [==============================] - 29s 450ms/step - loss: 0.1438 - accuracy: 0.9445 - val_loss: 0.4496 - val_accuracy: 0.8750\n",
            "Epoch 65/100\n",
            "63/63 [==============================] - 29s 448ms/step - loss: 0.1757 - accuracy: 0.9345 - val_loss: 0.3911 - val_accuracy: 0.8490\n",
            "Epoch 66/100\n",
            "63/63 [==============================] - 29s 453ms/step - loss: 0.1521 - accuracy: 0.9410 - val_loss: 1.0010 - val_accuracy: 0.7830\n",
            "Epoch 67/100\n",
            "63/63 [==============================] - 28s 446ms/step - loss: 0.1498 - accuracy: 0.9395 - val_loss: 0.8849 - val_accuracy: 0.7610\n",
            "Epoch 68/100\n",
            "63/63 [==============================] - 29s 457ms/step - loss: 0.1623 - accuracy: 0.9275 - val_loss: 0.4336 - val_accuracy: 0.8500\n",
            "Epoch 69/100\n",
            "63/63 [==============================] - 29s 458ms/step - loss: 0.1515 - accuracy: 0.9435 - val_loss: 0.5206 - val_accuracy: 0.8340\n",
            "Epoch 70/100\n",
            "63/63 [==============================] - 29s 450ms/step - loss: 0.1469 - accuracy: 0.9405 - val_loss: 0.4379 - val_accuracy: 0.8670\n",
            "Epoch 71/100\n",
            "63/63 [==============================] - 29s 455ms/step - loss: 0.1327 - accuracy: 0.9460 - val_loss: 0.3302 - val_accuracy: 0.8820\n",
            "Epoch 72/100\n",
            "63/63 [==============================] - 29s 449ms/step - loss: 0.1388 - accuracy: 0.9490 - val_loss: 1.0336 - val_accuracy: 0.7650\n",
            "Epoch 73/100\n",
            "63/63 [==============================] - 29s 451ms/step - loss: 0.1423 - accuracy: 0.9410 - val_loss: 0.2953 - val_accuracy: 0.8860\n",
            "Epoch 74/100\n",
            "63/63 [==============================] - 29s 451ms/step - loss: 0.1206 - accuracy: 0.9470 - val_loss: 1.1320 - val_accuracy: 0.7850\n",
            "Epoch 75/100\n",
            "63/63 [==============================] - 28s 449ms/step - loss: 0.1399 - accuracy: 0.9485 - val_loss: 0.3030 - val_accuracy: 0.8810\n",
            "Epoch 76/100\n",
            "63/63 [==============================] - 29s 453ms/step - loss: 0.1344 - accuracy: 0.9490 - val_loss: 0.5140 - val_accuracy: 0.8430\n",
            "Epoch 77/100\n",
            "63/63 [==============================] - 29s 453ms/step - loss: 0.1274 - accuracy: 0.9495 - val_loss: 0.4289 - val_accuracy: 0.8540\n",
            "Epoch 78/100\n",
            "63/63 [==============================] - 29s 454ms/step - loss: 0.1259 - accuracy: 0.9520 - val_loss: 0.3515 - val_accuracy: 0.8620\n",
            "Epoch 79/100\n",
            "63/63 [==============================] - 29s 456ms/step - loss: 0.1188 - accuracy: 0.9535 - val_loss: 0.5366 - val_accuracy: 0.8420\n",
            "Epoch 80/100\n",
            "63/63 [==============================] - 29s 453ms/step - loss: 0.1310 - accuracy: 0.9535 - val_loss: 0.3203 - val_accuracy: 0.8970\n",
            "Epoch 81/100\n",
            "63/63 [==============================] - 29s 452ms/step - loss: 0.1416 - accuracy: 0.9505 - val_loss: 0.2932 - val_accuracy: 0.8950\n",
            "Epoch 82/100\n",
            "63/63 [==============================] - 29s 455ms/step - loss: 0.1188 - accuracy: 0.9575 - val_loss: 0.3908 - val_accuracy: 0.8890\n",
            "Epoch 83/100\n",
            "63/63 [==============================] - 29s 449ms/step - loss: 0.1095 - accuracy: 0.9575 - val_loss: 1.2177 - val_accuracy: 0.7770\n",
            "Epoch 84/100\n",
            "63/63 [==============================] - 29s 454ms/step - loss: 0.1303 - accuracy: 0.9510 - val_loss: 0.4995 - val_accuracy: 0.8670\n",
            "Epoch 85/100\n",
            "63/63 [==============================] - 29s 450ms/step - loss: 0.1305 - accuracy: 0.9460 - val_loss: 0.3265 - val_accuracy: 0.8960\n",
            "Epoch 86/100\n",
            "63/63 [==============================] - 29s 454ms/step - loss: 0.1088 - accuracy: 0.9590 - val_loss: 0.4885 - val_accuracy: 0.7780\n",
            "Epoch 87/100\n",
            "63/63 [==============================] - 29s 456ms/step - loss: 0.1163 - accuracy: 0.9610 - val_loss: 0.3552 - val_accuracy: 0.8840\n",
            "Epoch 88/100\n",
            "63/63 [==============================] - 29s 458ms/step - loss: 0.1044 - accuracy: 0.9620 - val_loss: 0.6771 - val_accuracy: 0.8160\n",
            "Epoch 89/100\n",
            "63/63 [==============================] - 29s 451ms/step - loss: 0.1282 - accuracy: 0.9485 - val_loss: 0.4463 - val_accuracy: 0.8800\n",
            "Epoch 90/100\n",
            "63/63 [==============================] - 29s 451ms/step - loss: 0.1178 - accuracy: 0.9550 - val_loss: 0.3351 - val_accuracy: 0.8850\n",
            "Epoch 91/100\n",
            "63/63 [==============================] - 29s 456ms/step - loss: 0.1069 - accuracy: 0.9540 - val_loss: 0.4004 - val_accuracy: 0.8610\n",
            "Epoch 92/100\n",
            "63/63 [==============================] - 29s 452ms/step - loss: 0.1221 - accuracy: 0.9470 - val_loss: 0.5266 - val_accuracy: 0.8300\n",
            "Epoch 93/100\n",
            "63/63 [==============================] - 29s 456ms/step - loss: 0.0943 - accuracy: 0.9660 - val_loss: 0.3436 - val_accuracy: 0.9040\n",
            "Epoch 94/100\n",
            "63/63 [==============================] - 28s 446ms/step - loss: 0.1219 - accuracy: 0.9520 - val_loss: 0.5964 - val_accuracy: 0.8380\n",
            "Epoch 95/100\n",
            "63/63 [==============================] - 29s 450ms/step - loss: 0.1005 - accuracy: 0.9640 - val_loss: 0.4564 - val_accuracy: 0.8730\n",
            "Epoch 96/100\n",
            "63/63 [==============================] - 29s 452ms/step - loss: 0.1125 - accuracy: 0.9565 - val_loss: 0.3125 - val_accuracy: 0.8930\n",
            "Epoch 97/100\n",
            "63/63 [==============================] - 28s 443ms/step - loss: 0.1123 - accuracy: 0.9555 - val_loss: 0.3421 - val_accuracy: 0.9020\n",
            "Epoch 98/100\n",
            "63/63 [==============================] - 28s 447ms/step - loss: 0.1040 - accuracy: 0.9585 - val_loss: 0.5715 - val_accuracy: 0.8510\n",
            "Epoch 99/100\n",
            "63/63 [==============================] - 29s 453ms/step - loss: 0.0896 - accuracy: 0.9675 - val_loss: 0.4885 - val_accuracy: 0.8700\n",
            "Epoch 100/100\n",
            "63/63 [==============================] - 29s 454ms/step - loss: 0.1133 - accuracy: 0.9580 - val_loss: 0.7742 - val_accuracy: 0.8120\n"
          ]
        }
      ],
      "source": [
        "model.compile(loss=\"binary_crossentropy\",\n",
        "              optimizer=\"rmsprop\",\n",
        "              metrics=[\"accuracy\"])\n",
        "history = model.fit(\n",
        "    train_dataset,\n",
        "    epochs=100,\n",
        "    validation_data=validation_dataset)"
      ]
    },
    {
      "cell_type": "code",
      "execution_count": 11,
      "metadata": {
        "colab": {
          "base_uri": "https://localhost:8080/",
          "height": 545
        },
        "id": "EF7VzM_58F_-",
        "outputId": "e9edd628-9895-4c7d-f511-0eb5fbfcedab"
      },
      "outputs": [
        {
          "output_type": "display_data",
          "data": {
            "text/plain": [
              "<Figure size 432x288 with 1 Axes>"
            ],
            "image/png": "[encoded data removed]"
          },
          "metadata": {
            "needs_background": "light"
          }
        },
        {
          "output_type": "display_data",
          "data": {
            "text/plain": [
              "<Figure size 432x288 with 1 Axes>"
            ],
            "image/png": "[encoded data removed]"
          },
          "metadata": {
            "needs_background": "light"
          }
        }
      ],
      "source": [
        "import matplotlib.pyplot as plt\n",
        "accuracy = history.history[\"accuracy\"]\n",
        "val_accuracy = history.history[\"val_accuracy\"]\n",
        "loss = history.history[\"loss\"]\n",
        "val_loss = history.history[\"val_loss\"]\n",
        "epochs = range(1, len(accuracy) + 1)\n",
        "plt.plot(epochs, accuracy, \"bo\", label=\"Training accuracy\")\n",
        "plt.plot(epochs, val_accuracy, \"b\", label=\"Validation accuracy\")\n",
        "plt.title(\"Training and validation accuracy\")\n",
        "plt.legend()\n",
        "plt.figure()\n",
        "plt.plot(epochs, loss, \"bo\", label=\"Training loss\")\n",
        "plt.plot(epochs, val_loss, \"b\", label=\"Validation loss\")\n",
        "plt.title(\"Training and validation loss\")\n",
        "plt.legend()\n",
        "plt.show()"
      ]
    }
  ],
  "metadata": {
    "accelerator": "GPU",
    "colab": {
      "collapsed_sections": [],
      "name": "chapter09_part02_modern-convnet-architecture-patterns.i",
      "provenance": []
    },
    "kernelspec": {
      "display_name": "default:Python",
      "language": "python",
      "name": "conda-env-default-py"
    },
    "language_info": {
      "codemirror_mode": {
        "name": "ipython",
        "version": 3
      },
      "file_extension": ".py",
      "mimetype": "text/x-python",
      "name": "python",
      "nbconvert_exporter": "python",
      "pygments_lexer": "ipython3",
      "version": "3.9.10"
    }
  },
  "nbformat": 4,
  "nbformat_minor": 0
}