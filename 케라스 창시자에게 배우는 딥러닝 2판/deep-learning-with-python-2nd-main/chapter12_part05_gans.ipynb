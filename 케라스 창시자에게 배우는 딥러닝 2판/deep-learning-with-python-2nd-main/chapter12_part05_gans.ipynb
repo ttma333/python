{
  "cells": [
    {
      "cell_type": "markdown",
      "metadata": {
        "id": "nVDUXepFk_5a"
      },
      "source": [
        "이 노트북은 [케라스 창시자에게 배우는 딥러닝 2판](https://tensorflow.blog/kerasdl2/)의 예제 코드를 담고 있습니다.\n",
        "\n",
        "<table align=\"left\">\n",
        "    <tr>\n",
        "        <td>\n",
        "            <a href=\"https://colab.research.google.com/github/rickiepark/deep-learning-with-python-2nd/blob/main/chapter12_part05_gans.ipynb\" target=\"_parent\"><img src=\"https://colab.research.google.com/assets/colab-badge.svg\" alt=\"Open In Colab\"/></a>\n",
        "        </td>\n",
        "    </tr>\n",
        "</table>"
      ]
    },
    {
      "cell_type": "markdown",
      "metadata": {
        "id": "IGNOeppck_5c"
      },
      "source": [
        "## 생성적 적대 신경망 소개"
      ]
    },
    {
      "cell_type": "markdown",
      "metadata": {
        "id": "ECLt0piUk_5d"
      },
      "source": [
        "### GAN 구현 방법"
      ]
    },
    {
      "cell_type": "markdown",
      "metadata": {
        "id": "lKmqFiRVk_5d"
      },
      "source": [
        "### 훈련 방법"
      ]
    },
    {
      "cell_type": "markdown",
      "metadata": {
        "id": "-mZbiQIOk_5d"
      },
      "source": [
        "### CelebA 데이터셋 준비하기"
      ]
    },
    {
      "cell_type": "markdown",
      "metadata": {
        "id": "BQhBgdvhk_5d"
      },
      "source": [
        "**CelebA 데이터 다운로드**"
      ]
    },
    {
      "cell_type": "markdown",
      "metadata": {
        "id": "pJ6sKUZfk_5e"
      },
      "source": [
        "로컬에서 실행하는 경우 `pip install gdown` 명령으로 gdown 패키지를 먼저 설치해 주세요."
      ]
    },
    {
      "cell_type": "code",
      "execution_count": 1,
      "metadata": {
        "id": "JGyhu29Zk_5e",
        "outputId": "2acb2b44-8484-437c-cd9b-d1539f1245ba",
        "colab": {
          "base_uri": "https://localhost:8080/"
        }
      },
      "outputs": [
        {
          "output_type": "stream",
          "name": "stdout",
          "text": [
            "--2022-11-30 11:45:35--  https://drive.google.com/uc?id=1up5bN8LCE2vHigVY-Z9yY2_aKRW5jN_9&confirm=t\n",
            "Resolving drive.google.com (drive.google.com)... 209.85.234.101, 209.85.234.139, 209.85.234.102, ...\n",
            "Connecting to drive.google.com (drive.google.com)|209.85.234.101|:443... connected.\n",
            "HTTP request sent, awaiting response... 303 See Other\n",
            "Location: https://doc-04-a4-docs.googleusercontent.com/docs/securesc/ha0ro937gcuc7l7deffksulhg5h7mbp1/k6t2393meh4h4dgsjbuppr11jdog03sc/1669808700000/10613826186492816817/*/1up5bN8LCE2vHigVY-Z9yY2_aKRW5jN_9?uuid=71432cf5-11e0-496b-8fbc-d5b47f4eaf8d [following]\n",
            "Warning: wildcards not supported in HTTP.\n",
            "--2022-11-30 11:45:35--  https://doc-04-a4-docs.googleusercontent.com/docs/securesc/ha0ro937gcuc7l7deffksulhg5h7mbp1/k6t2393meh4h4dgsjbuppr11jdog03sc/1669808700000/10613826186492816817/*/1up5bN8LCE2vHigVY-Z9yY2_aKRW5jN_9?uuid=71432cf5-11e0-496b-8fbc-d5b47f4eaf8d\n",
            "Resolving doc-04-a4-docs.googleusercontent.com (doc-04-a4-docs.googleusercontent.com)... 74.125.126.132, 2607:f8b0:4001:c1d::84\n",
            "Connecting to doc-04-a4-docs.googleusercontent.com (doc-04-a4-docs.googleusercontent.com)|74.125.126.132|:443... connected.\n",
            "HTTP request sent, awaiting response... 200 OK\n",
            "Length: 1443490838 (1.3G) [application/zip]\n",
            "Saving to: ‘celeba_gan/data.zip’\n",
            "\n",
            "celeba_gan/data.zip 100%[===================>]   1.34G   104MB/s    in 15s     \n",
            "\n",
            "2022-11-30 11:45:50 (93.2 MB/s) - ‘celeba_gan/data.zip’ saved [1443490838/1443490838]\n",
            "\n"
          ]
        }
      ],
      "source": [
        "!mkdir celeba_gan\n",
        "!wget \"https://drive.google.com/uc?id=1up5bN8LCE2vHigVY-Z9yY2_aKRW5jN_9&confirm=t\" -O celeba_gan/data.zip\n",
        "!unzip -qq celeba_gan/data.zip -d celeba_gan"
      ]
    },
    {
      "cell_type": "markdown",
      "metadata": {
        "tags": [],
        "id": "pxa9mE2wk_5f"
      },
      "source": [
        "**이미지 디렉토리에서 데이터셋을 만듭니다**"
      ]
    },
    {
      "cell_type": "code",
      "execution_count": 2,
      "metadata": {
        "id": "SZUmI5BZk_5g",
        "outputId": "d04ccab1-e362-4423-e0ad-36f99d097209",
        "colab": {
          "base_uri": "https://localhost:8080/"
        }
      },
      "outputs": [
        {
          "output_type": "stream",
          "name": "stdout",
          "text": [
            "Found 202599 files belonging to 1 classes.\n"
          ]
        }
      ],
      "source": [
        "from tensorflow import keras\n",
        "dataset = keras.utils.image_dataset_from_directory(\n",
        "    \"celeba_gan\",\n",
        "    label_mode=None,\n",
        "    image_size=(64, 64),\n",
        "    batch_size=32,\n",
        "    smart_resize=True)"
      ]
    },
    {
      "cell_type": "markdown",
      "metadata": {
        "id": "FiLo3_pNk_5g"
      },
      "source": [
        "**픽셀 값 범위 바꾸기**"
      ]
    },
    {
      "cell_type": "code",
      "execution_count": 3,
      "metadata": {
        "id": "HbsrlNzNk_5g"
      },
      "outputs": [],
      "source": [
        "dataset = dataset.map(lambda x: x / 255.)"
      ]
    },
    {
      "cell_type": "markdown",
      "metadata": {
        "id": "gQYfVuAsk_5g"
      },
      "source": [
        "**첫 번째 이미지 출력하기**"
      ]
    },
    {
      "cell_type": "code",
      "execution_count": 4,
      "metadata": {
        "id": "T1QqXmV6k_5h",
        "outputId": "dc53ec02-07d6-44f6-dab1-13133ffc6a58",
        "colab": {
          "base_uri": "https://localhost:8080/",
          "height": 248
        }
      },
      "outputs": [
        {
          "output_type": "display_data",
          "data": {
            "text/plain": [
              "<Figure size 432x288 with 1 Axes>"
            ],
            "image/png": "[encoded data removed]"
          },
          "metadata": {
            "needs_background": "light"
          }
        }
      ],
      "source": [
        "import matplotlib.pyplot as plt\n",
        "for x in dataset:\n",
        "    plt.axis(\"off\")\n",
        "    plt.imshow((x.numpy() * 255).astype(\"int32\")[0])\n",
        "    break"
      ]
    },
    {
      "cell_type": "markdown",
      "metadata": {
        "id": "HcOE7K-7k_5h"
      },
      "source": [
        "### 판별자"
      ]
    },
    {
      "cell_type": "markdown",
      "metadata": {
        "id": "pq5ugYZOk_5h"
      },
      "source": [
        "**GAN 판별자 네트워크**"
      ]
    },
    {
      "cell_type": "code",
      "execution_count": 5,
      "metadata": {
        "id": "dZNhbeHjk_5h"
      },
      "outputs": [],
      "source": [
        "from tensorflow.keras import layers\n",
        "\n",
        "discriminator = keras.Sequential(\n",
        "    [\n",
        "        keras.Input(shape=(64, 64, 3)),\n",
        "        layers.Conv2D(64, kernel_size=4, strides=2, padding=\"same\"),\n",
        "        layers.LeakyReLU(alpha=0.2),\n",
        "        layers.Conv2D(128, kernel_size=4, strides=2, padding=\"same\"),\n",
        "        layers.LeakyReLU(alpha=0.2),\n",
        "        layers.Conv2D(128, kernel_size=4, strides=2, padding=\"same\"),\n",
        "        layers.LeakyReLU(alpha=0.2),\n",
        "        layers.Flatten(),\n",
        "        layers.Dropout(0.2),\n",
        "        layers.Dense(1, activation=\"sigmoid\"),\n",
        "    ],\n",
        "    name=\"discriminator\",\n",
        ")"
      ]
    },
    {
      "cell_type": "code",
      "execution_count": 6,
      "metadata": {
        "id": "_lqkry-Lk_5i",
        "outputId": "ba7e434a-d06a-49ca-e04d-913d506197ab",
        "colab": {
          "base_uri": "https://localhost:8080/"
        }
      },
      "outputs": [
        {
          "output_type": "stream",
          "name": "stdout",
          "text": [
            "Model: \"discriminator\"\n",
            "_________________________________________________________________\n",
            " Layer (type)                Output Shape              Param #   \n",
            "=================================================================\n",
            " conv2d (Conv2D)             (None, 32, 32, 64)        3136      \n",
            "                                                                 \n",
            " leaky_re_lu (LeakyReLU)     (None, 32, 32, 64)        0         \n",
            "                                                                 \n",
            " conv2d_1 (Conv2D)           (None, 16, 16, 128)       131200    \n",
            "                                                                 \n",
            " leaky_re_lu_1 (LeakyReLU)   (None, 16, 16, 128)       0         \n",
            "                                                                 \n",
            " conv2d_2 (Conv2D)           (None, 8, 8, 128)         262272    \n",
            "                                                                 \n",
            " leaky_re_lu_2 (LeakyReLU)   (None, 8, 8, 128)         0         \n",
            "                                                                 \n",
            " flatten (Flatten)           (None, 8192)              0         \n",
            "                                                                 \n",
            " dropout (Dropout)           (None, 8192)              0         \n",
            "                                                                 \n",
            " dense (Dense)               (None, 1)                 8193      \n",
            "                                                                 \n",
            "=================================================================\n",
            "Total params: 404,801\n",
            "Trainable params: 404,801\n",
            "Non-trainable params: 0\n",
            "_________________________________________________________________\n"
          ]
        }
      ],
      "source": [
        "discriminator.summary()"
      ]
    },
    {
      "cell_type": "markdown",
      "metadata": {
        "id": "w2pW40o6k_5i"
      },
      "source": [
        "### 생성자"
      ]
    },
    {
      "cell_type": "markdown",
      "metadata": {
        "id": "TRQAI509k_5i"
      },
      "source": [
        "**GAN 생성자 네트워크**"
      ]
    },
    {
      "cell_type": "code",
      "execution_count": 7,
      "metadata": {
        "id": "wn4U502Nk_5i"
      },
      "outputs": [],
      "source": [
        "latent_dim = 128\n",
        "\n",
        "generator = keras.Sequential(\n",
        "    [\n",
        "        keras.Input(shape=(latent_dim,)),\n",
        "        layers.Dense(8 * 8 * 128),\n",
        "        layers.Reshape((8, 8, 128)),\n",
        "        layers.Conv2DTranspose(128, kernel_size=4, strides=2, padding=\"same\"),\n",
        "        layers.LeakyReLU(alpha=0.2),\n",
        "        layers.Conv2DTranspose(256, kernel_size=4, strides=2, padding=\"same\"),\n",
        "        layers.LeakyReLU(alpha=0.2),\n",
        "        layers.Conv2DTranspose(512, kernel_size=4, strides=2, padding=\"same\"),\n",
        "        layers.LeakyReLU(alpha=0.2),\n",
        "        layers.Conv2D(3, kernel_size=5, padding=\"same\", activation=\"sigmoid\"),\n",
        "    ],\n",
        "    name=\"generator\",\n",
        ")"
      ]
    },
    {
      "cell_type": "code",
      "execution_count": 8,
      "metadata": {
        "id": "cr63oFSTk_5j",
        "outputId": "7d7c4000-f108-4470-ee49-5a0b515e9316",
        "colab": {
          "base_uri": "https://localhost:8080/"
        }
      },
      "outputs": [
        {
          "output_type": "stream",
          "name": "stdout",
          "text": [
            "Model: \"generator\"\n",
            "_________________________________________________________________\n",
            " Layer (type)                Output Shape              Param #   \n",
            "=================================================================\n",
            " dense_1 (Dense)             (None, 8192)              1056768   \n",
            "                                                                 \n",
            " reshape (Reshape)           (None, 8, 8, 128)         0         \n",
            "                                                                 \n",
            " conv2d_transpose (Conv2DTra  (None, 16, 16, 128)      262272    \n",
            " nspose)                                                         \n",
            "                                                                 \n",
            " leaky_re_lu_3 (LeakyReLU)   (None, 16, 16, 128)       0         \n",
            "                                                                 \n",
            " conv2d_transpose_1 (Conv2DT  (None, 32, 32, 256)      524544    \n",
            " ranspose)                                                       \n",
            "                                                                 \n",
            " leaky_re_lu_4 (LeakyReLU)   (None, 32, 32, 256)       0         \n",
            "                                                                 \n",
            " conv2d_transpose_2 (Conv2DT  (None, 64, 64, 512)      2097664   \n",
            " ranspose)                                                       \n",
            "                                                                 \n",
            " leaky_re_lu_5 (LeakyReLU)   (None, 64, 64, 512)       0         \n",
            "                                                                 \n",
            " conv2d_3 (Conv2D)           (None, 64, 64, 3)         38403     \n",
            "                                                                 \n",
            "=================================================================\n",
            "Total params: 3,979,651\n",
            "Trainable params: 3,979,651\n",
            "Non-trainable params: 0\n",
            "_________________________________________________________________\n"
          ]
        }
      ],
      "source": [
        "generator.summary()"
      ]
    },
    {
      "cell_type": "markdown",
      "metadata": {
        "id": "BKO6zT4Tk_5j"
      },
      "source": [
        "### 적대 네트워크"
      ]
    },
    {
      "cell_type": "markdown",
      "metadata": {
        "id": "AZT3GvUnk_5j"
      },
      "source": [
        "**GAN 모델**"
      ]
    },
    {
      "cell_type": "code",
      "execution_count": 9,
      "metadata": {
        "id": "DQEeSL-7k_5j"
      },
      "outputs": [],
      "source": [
        "import tensorflow as tf\n",
        "class GAN(keras.Model):\n",
        "    def __init__(self, discriminator, generator, latent_dim):\n",
        "        super().__init__()\n",
        "        self.discriminator = discriminator\n",
        "        self.generator = generator\n",
        "        self.latent_dim = latent_dim\n",
        "        self.d_loss_metric = keras.metrics.Mean(name=\"d_loss\")\n",
        "        self.g_loss_metric = keras.metrics.Mean(name=\"g_loss\")\n",
        "\n",
        "    def compile(self, d_optimizer, g_optimizer, loss_fn):\n",
        "        super(GAN, self).compile()\n",
        "        self.d_optimizer = d_optimizer\n",
        "        self.g_optimizer = g_optimizer\n",
        "        self.loss_fn = loss_fn\n",
        "\n",
        "    @property\n",
        "    def metrics(self):\n",
        "        return [self.d_loss_metric, self.g_loss_metric]\n",
        "\n",
        "    def train_step(self, real_images):\n",
        "        batch_size = tf.shape(real_images)[0]\n",
        "        random_latent_vectors = tf.random.normal(\n",
        "            shape=(batch_size, self.latent_dim))\n",
        "        generated_images = self.generator(random_latent_vectors)\n",
        "        combined_images = tf.concat([generated_images, real_images], axis=0)\n",
        "        labels = tf.concat(\n",
        "            [tf.ones((batch_size, 1)), tf.zeros((batch_size, 1))],\n",
        "            axis=0\n",
        "        )\n",
        "        labels += 0.05 * tf.random.uniform(tf.shape(labels))\n",
        "\n",
        "        with tf.GradientTape() as tape:\n",
        "            predictions = self.discriminator(combined_images)\n",
        "            d_loss = self.loss_fn(labels, predictions)\n",
        "        grads = tape.gradient(d_loss, self.discriminator.trainable_weights)\n",
        "        self.d_optimizer.apply_gradients(\n",
        "            zip(grads, self.discriminator.trainable_weights)\n",
        "        )\n",
        "\n",
        "        random_latent_vectors = tf.random.normal(\n",
        "            shape=(batch_size, self.latent_dim))\n",
        "\n",
        "        misleading_labels = tf.zeros((batch_size, 1))\n",
        "\n",
        "        with tf.GradientTape() as tape:\n",
        "            predictions = self.discriminator(\n",
        "                self.generator(random_latent_vectors))\n",
        "            g_loss = self.loss_fn(misleading_labels, predictions)\n",
        "        grads = tape.gradient(g_loss, self.generator.trainable_weights)\n",
        "        self.g_optimizer.apply_gradients(\n",
        "            zip(grads, self.generator.trainable_weights))\n",
        "\n",
        "        self.d_loss_metric.update_state(d_loss)\n",
        "        self.g_loss_metric.update_state(g_loss)\n",
        "        return {\"d_loss\": self.d_loss_metric.result(),\n",
        "                \"g_loss\": self.g_loss_metric.result()}"
      ]
    },
    {
      "cell_type": "markdown",
      "metadata": {
        "id": "2bDiQ35xk_5j"
      },
      "source": [
        "**훈련 과정 동안에 이미지를 생성하기 위한 콜백**"
      ]
    },
    {
      "cell_type": "code",
      "execution_count": 10,
      "metadata": {
        "id": "ye-2NQshk_5k"
      },
      "outputs": [],
      "source": [
        "class GANMonitor(keras.callbacks.Callback):\n",
        "    def __init__(self, num_img=3, latent_dim=128):\n",
        "        self.num_img = num_img\n",
        "        self.latent_dim = latent_dim\n",
        "\n",
        "    def on_epoch_end(self, epoch, logs=None):\n",
        "        random_latent_vectors = tf.random.normal(shape=(self.num_img, self.latent_dim))\n",
        "        generated_images = self.model.generator(random_latent_vectors)\n",
        "        generated_images *= 255\n",
        "        generated_images.numpy()\n",
        "        for i in range(self.num_img):\n",
        "            img = keras.utils.array_to_img(generated_images[i])\n",
        "            img.save(f\"generated_img_{epoch:03d}_{i}.png\")"
      ]
    },
    {
      "cell_type": "markdown",
      "metadata": {
        "id": "Wa2vU_BIk_5k"
      },
      "source": [
        "**GAN 모델 컴파일하고 훈련하기**"
      ]
    },
    {
      "cell_type": "code",
      "execution_count": 11,
      "metadata": {
        "id": "QakL8zD3k_5k",
        "outputId": "b2bee7df-eb43-496b-b645-dc6fd1c82939",
        "colab": {
          "base_uri": "https://localhost:8080/"
        }
      },
      "outputs": [
        {
          "output_type": "stream",
          "name": "stdout",
          "text": [
            "Epoch 1/100\n",
            "6332/6332 [==============================] - 198s 29ms/step - d_loss: 0.6091 - g_loss: 1.2006\n",
            "Epoch 2/100\n",
            "6332/6332 [==============================] - 185s 29ms/step - d_loss: 0.6584 - g_loss: 1.0391\n",
            "Epoch 3/100\n",
            "6332/6332 [==============================] - 185s 29ms/step - d_loss: 0.6702 - g_loss: 1.0154\n",
            "Epoch 4/100\n",
            "6332/6332 [==============================] - 185s 29ms/step - d_loss: 0.6629 - g_loss: 1.0196\n",
            "Epoch 5/100\n",
            "6332/6332 [==============================] - 185s 29ms/step - d_loss: 0.6502 - g_loss: 1.0357\n",
            "Epoch 6/100\n",
            "6332/6332 [==============================] - 185s 29ms/step - d_loss: 0.6408 - g_loss: 1.0269\n",
            "Epoch 7/100\n",
            "6332/6332 [==============================] - 185s 29ms/step - d_loss: 0.6625 - g_loss: 0.9492\n",
            "Epoch 8/100\n",
            "6332/6332 [==============================] - 185s 29ms/step - d_loss: 0.6773 - g_loss: 0.9211\n",
            "Epoch 9/100\n",
            "6332/6332 [==============================] - 185s 29ms/step - d_loss: 0.6729 - g_loss: 0.9119\n",
            "Epoch 10/100\n",
            "6332/6332 [==============================] - 185s 29ms/step - d_loss: 0.6825 - g_loss: 0.8961\n",
            "Epoch 11/100\n",
            "6332/6332 [==============================] - 185s 29ms/step - d_loss: 0.6798 - g_loss: 0.8837\n",
            "Epoch 12/100\n",
            "6332/6332 [==============================] - 185s 29ms/step - d_loss: 0.6798 - g_loss: 0.8822\n",
            "Epoch 13/100\n",
            "6332/6332 [==============================] - 185s 29ms/step - d_loss: 0.6764 - g_loss: 0.8949\n",
            "Epoch 14/100\n",
            "6332/6332 [==============================] - 185s 29ms/step - d_loss: 0.6709 - g_loss: 0.9117\n",
            "Epoch 15/100\n",
            "6332/6332 [==============================] - 185s 29ms/step - d_loss: 0.6673 - g_loss: 0.8966\n",
            "Epoch 16/100\n",
            "6332/6332 [==============================] - 185s 29ms/step - d_loss: 0.6662 - g_loss: 0.9212\n",
            "Epoch 17/100\n",
            "6332/6332 [==============================] - 185s 29ms/step - d_loss: 0.6573 - g_loss: 0.9218\n",
            "Epoch 18/100\n",
            "6332/6332 [==============================] - 185s 29ms/step - d_loss: 0.6616 - g_loss: 0.9185\n",
            "Epoch 19/100\n",
            "6332/6332 [==============================] - 185s 29ms/step - d_loss: 0.6631 - g_loss: 0.9301\n",
            "Epoch 20/100\n",
            "6332/6332 [==============================] - 185s 29ms/step - d_loss: 0.6586 - g_loss: 0.9277\n",
            "Epoch 21/100\n",
            "6332/6332 [==============================] - 185s 29ms/step - d_loss: 0.6578 - g_loss: 0.9231\n",
            "Epoch 22/100\n",
            "6332/6332 [==============================] - 185s 29ms/step - d_loss: 0.6592 - g_loss: 0.9302\n",
            "Epoch 23/100\n",
            "6332/6332 [==============================] - 185s 29ms/step - d_loss: 0.6684 - g_loss: 0.9187\n",
            "Epoch 24/100\n",
            "6332/6332 [==============================] - 185s 29ms/step - d_loss: 0.6594 - g_loss: 0.9234\n",
            "Epoch 25/100\n",
            "6332/6332 [==============================] - 185s 29ms/step - d_loss: 0.6565 - g_loss: 0.9256\n",
            "Epoch 26/100\n",
            "6332/6332 [==============================] - 185s 29ms/step - d_loss: 0.6584 - g_loss: 0.9264\n",
            "Epoch 27/100\n",
            "6332/6332 [==============================] - 185s 29ms/step - d_loss: 0.6560 - g_loss: 0.9151\n",
            "Epoch 28/100\n",
            "6332/6332 [==============================] - 185s 29ms/step - d_loss: 0.6599 - g_loss: 0.9267\n",
            "Epoch 29/100\n",
            "6332/6332 [==============================] - 185s 29ms/step - d_loss: 0.6524 - g_loss: 0.9198\n",
            "Epoch 30/100\n",
            "6332/6332 [==============================] - 185s 29ms/step - d_loss: 0.6548 - g_loss: 0.9217\n",
            "Epoch 31/100\n",
            "6332/6332 [==============================] - 185s 29ms/step - d_loss: 0.6552 - g_loss: 0.9238\n",
            "Epoch 32/100\n",
            "6332/6332 [==============================] - 185s 29ms/step - d_loss: 0.6471 - g_loss: 0.9262\n",
            "Epoch 33/100\n",
            "6332/6332 [==============================] - 185s 29ms/step - d_loss: 0.6452 - g_loss: 0.9490\n",
            "Epoch 34/100\n",
            "6332/6332 [==============================] - 185s 29ms/step - d_loss: 0.6421 - g_loss: 0.9450\n",
            "Epoch 35/100\n",
            "6332/6332 [==============================] - 185s 29ms/step - d_loss: 0.6402 - g_loss: 0.9530\n",
            "Epoch 36/100\n",
            "6332/6332 [==============================] - 185s 29ms/step - d_loss: 0.6390 - g_loss: 0.9554\n",
            "Epoch 37/100\n",
            "6332/6332 [==============================] - 185s 29ms/step - d_loss: 0.6382 - g_loss: 0.9570\n",
            "Epoch 38/100\n",
            "6332/6332 [==============================] - 185s 29ms/step - d_loss: 0.6371 - g_loss: 0.9607\n",
            "Epoch 39/100\n",
            "6332/6332 [==============================] - 185s 29ms/step - d_loss: 0.6373 - g_loss: 0.9603\n",
            "Epoch 40/100\n",
            "6332/6332 [==============================] - 185s 29ms/step - d_loss: 0.6372 - g_loss: 0.9567\n",
            "Epoch 41/100\n",
            "6332/6332 [==============================] - 185s 29ms/step - d_loss: 0.6371 - g_loss: 0.9620\n",
            "Epoch 42/100\n",
            "6332/6332 [==============================] - 185s 29ms/step - d_loss: 0.6388 - g_loss: 0.9531\n",
            "Epoch 43/100\n",
            "6332/6332 [==============================] - 185s 29ms/step - d_loss: 0.6396 - g_loss: 0.9547\n",
            "Epoch 44/100\n",
            "6332/6332 [==============================] - 185s 29ms/step - d_loss: 0.6392 - g_loss: 0.9533\n",
            "Epoch 45/100\n",
            "6332/6332 [==============================] - 185s 29ms/step - d_loss: 0.6402 - g_loss: 0.9558\n",
            "Epoch 46/100\n",
            "6332/6332 [==============================] - 185s 29ms/step - d_loss: 0.6381 - g_loss: 0.9569\n",
            "Epoch 47/100\n",
            "6332/6332 [==============================] - 185s 29ms/step - d_loss: 0.6394 - g_loss: 0.9537\n",
            "Epoch 48/100\n",
            "6332/6332 [==============================] - 185s 29ms/step - d_loss: 0.6394 - g_loss: 0.9551\n",
            "Epoch 49/100\n",
            "6332/6332 [==============================] - 185s 29ms/step - d_loss: 0.6349 - g_loss: 0.9627\n",
            "Epoch 50/100\n",
            "6332/6332 [==============================] - 185s 29ms/step - d_loss: 0.6343 - g_loss: 0.9714\n",
            "Epoch 51/100\n",
            "6332/6332 [==============================] - 185s 29ms/step - d_loss: 0.6341 - g_loss: 0.9724\n",
            "Epoch 52/100\n",
            "6332/6332 [==============================] - 185s 29ms/step - d_loss: 0.6324 - g_loss: 0.9642\n",
            "Epoch 53/100\n",
            "6332/6332 [==============================] - 185s 29ms/step - d_loss: 0.6320 - g_loss: 0.9780\n",
            "Epoch 54/100\n",
            "6332/6332 [==============================] - 185s 29ms/step - d_loss: 0.6308 - g_loss: 0.9719\n",
            "Epoch 55/100\n",
            "6332/6332 [==============================] - 185s 29ms/step - d_loss: 0.6305 - g_loss: 0.9760\n",
            "Epoch 56/100\n",
            "6332/6332 [==============================] - 185s 29ms/step - d_loss: 0.6287 - g_loss: 0.9816\n",
            "Epoch 57/100\n",
            "6332/6332 [==============================] - 185s 29ms/step - d_loss: 0.6300 - g_loss: 0.9797\n",
            "Epoch 58/100\n",
            "6332/6332 [==============================] - 185s 29ms/step - d_loss: 0.6268 - g_loss: 0.9915\n",
            "Epoch 59/100\n",
            "6332/6332 [==============================] - 185s 29ms/step - d_loss: 0.6260 - g_loss: 0.9884\n",
            "Epoch 60/100\n",
            "6332/6332 [==============================] - 185s 29ms/step - d_loss: 0.6236 - g_loss: 1.0002\n",
            "Epoch 61/100\n",
            "6332/6332 [==============================] - 185s 29ms/step - d_loss: 0.6222 - g_loss: 1.0085\n",
            "Epoch 62/100\n",
            "6332/6332 [==============================] - 185s 29ms/step - d_loss: 0.6208 - g_loss: 1.0030\n",
            "Epoch 63/100\n",
            "6332/6332 [==============================] - 185s 29ms/step - d_loss: 0.6192 - g_loss: 1.0194\n",
            "Epoch 64/100\n",
            "6332/6332 [==============================] - 185s 29ms/step - d_loss: 0.6189 - g_loss: 1.0062\n",
            "Epoch 65/100\n",
            "6332/6332 [==============================] - 185s 29ms/step - d_loss: 0.6156 - g_loss: 1.0116\n",
            "Epoch 66/100\n",
            "6332/6332 [==============================] - 185s 29ms/step - d_loss: 0.6142 - g_loss: 1.0262\n",
            "Epoch 67/100\n",
            "6332/6332 [==============================] - 185s 29ms/step - d_loss: 0.6134 - g_loss: 1.0309\n",
            "Epoch 68/100\n",
            "6332/6332 [==============================] - 185s 29ms/step - d_loss: 0.6129 - g_loss: 1.0352\n",
            "Epoch 69/100\n",
            "6332/6332 [==============================] - 185s 29ms/step - d_loss: 0.6136 - g_loss: 1.0228\n",
            "Epoch 70/100\n",
            "6332/6332 [==============================] - 185s 29ms/step - d_loss: 0.6113 - g_loss: 1.0314\n",
            "Epoch 71/100\n",
            "6332/6332 [==============================] - 185s 29ms/step - d_loss: 0.6092 - g_loss: 1.0377\n",
            "Epoch 72/100\n",
            "6332/6332 [==============================] - 185s 29ms/step - d_loss: 0.6085 - g_loss: 1.0433\n",
            "Epoch 73/100\n",
            "6332/6332 [==============================] - 185s 29ms/step - d_loss: 0.6068 - g_loss: 1.0403\n",
            "Epoch 74/100\n",
            "6332/6332 [==============================] - 185s 29ms/step - d_loss: 0.6062 - g_loss: 1.0443\n",
            "Epoch 75/100\n",
            "6332/6332 [==============================] - 185s 29ms/step - d_loss: 0.6028 - g_loss: 1.0567\n",
            "Epoch 76/100\n",
            "6332/6332 [==============================] - 185s 29ms/step - d_loss: 0.6018 - g_loss: 1.0585\n",
            "Epoch 77/100\n",
            "6332/6332 [==============================] - 185s 29ms/step - d_loss: 0.6007 - g_loss: 1.0655\n",
            "Epoch 78/100\n",
            "6332/6332 [==============================] - 185s 29ms/step - d_loss: 0.5987 - g_loss: 1.0841\n",
            "Epoch 79/100\n",
            "6332/6332 [==============================] - 185s 29ms/step - d_loss: 0.5995 - g_loss: 1.0623\n",
            "Epoch 80/100\n",
            "6332/6332 [==============================] - 185s 29ms/step - d_loss: 0.5989 - g_loss: 1.0662\n",
            "Epoch 81/100\n",
            "6332/6332 [==============================] - 185s 29ms/step - d_loss: 0.5975 - g_loss: 1.0707\n",
            "Epoch 82/100\n",
            "6332/6332 [==============================] - 185s 29ms/step - d_loss: 0.5953 - g_loss: 1.0729\n",
            "Epoch 83/100\n",
            "6332/6332 [==============================] - 185s 29ms/step - d_loss: 0.5965 - g_loss: 1.0749\n",
            "Epoch 84/100\n",
            "6332/6332 [==============================] - 185s 29ms/step - d_loss: 0.5958 - g_loss: 1.0864\n",
            "Epoch 85/100\n",
            "6332/6332 [==============================] - 185s 29ms/step - d_loss: 0.5935 - g_loss: 1.0886\n",
            "Epoch 86/100\n",
            "6332/6332 [==============================] - 185s 29ms/step - d_loss: 0.5895 - g_loss: 1.1058\n",
            "Epoch 87/100\n",
            "6332/6332 [==============================] - 185s 29ms/step - d_loss: 0.5894 - g_loss: 1.0947\n",
            "Epoch 88/100\n",
            "6332/6332 [==============================] - 185s 29ms/step - d_loss: 0.5875 - g_loss: 1.0980\n",
            "Epoch 89/100\n",
            "6332/6332 [==============================] - 185s 29ms/step - d_loss: 0.5870 - g_loss: 1.1043\n",
            "Epoch 90/100\n",
            "6332/6332 [==============================] - 185s 29ms/step - d_loss: 0.5842 - g_loss: 1.0996\n",
            "Epoch 91/100\n",
            "6332/6332 [==============================] - 185s 29ms/step - d_loss: 0.5827 - g_loss: 1.1157\n",
            "Epoch 92/100\n",
            "6332/6332 [==============================] - 185s 29ms/step - d_loss: 0.5827 - g_loss: 1.1158\n",
            "Epoch 93/100\n",
            "6332/6332 [==============================] - 185s 29ms/step - d_loss: 0.5816 - g_loss: 1.1179\n",
            "Epoch 94/100\n",
            "6332/6332 [==============================] - 185s 29ms/step - d_loss: 0.5781 - g_loss: 1.1229\n",
            "Epoch 95/100\n",
            "6332/6332 [==============================] - 185s 29ms/step - d_loss: 0.5783 - g_loss: 1.1290\n",
            "Epoch 96/100\n",
            "6332/6332 [==============================] - 185s 29ms/step - d_loss: 0.5759 - g_loss: 1.1402\n",
            "Epoch 97/100\n",
            "6332/6332 [==============================] - 185s 29ms/step - d_loss: 0.5744 - g_loss: 1.1457\n",
            "Epoch 98/100\n",
            "6332/6332 [==============================] - 185s 29ms/step - d_loss: 0.5744 - g_loss: 1.1455\n",
            "Epoch 99/100\n",
            "6332/6332 [==============================] - 185s 29ms/step - d_loss: 0.5724 - g_loss: 1.1482\n",
            "Epoch 100/100\n",
            "6332/6332 [==============================] - 185s 29ms/step - d_loss: 0.5708 - g_loss: 1.1529\n"
          ]
        },
        {
          "output_type": "execute_result",
          "data": {
            "text/plain": [
              "<keras.callbacks.History at 0x7ffa26bdc890>"
            ]
          },
          "metadata": {},
          "execution_count": 11
        }
      ],
      "source": [
        "epochs = 100\n",
        "\n",
        "gan = GAN(discriminator=discriminator, generator=generator, latent_dim=latent_dim)\n",
        "gan.compile(\n",
        "    d_optimizer=keras.optimizers.Adam(learning_rate=0.0001),\n",
        "    g_optimizer=keras.optimizers.Adam(learning_rate=0.0001),\n",
        "    loss_fn=keras.losses.BinaryCrossentropy(),\n",
        ")\n",
        "\n",
        "gan.fit(\n",
        "    dataset, epochs=epochs, callbacks=[GANMonitor(num_img=10, latent_dim=latent_dim)]\n",
        ")"
      ]
    },
    {
      "cell_type": "markdown",
      "metadata": {
        "id": "RIAF-5u_k_5k"
      },
      "source": [
        "### 정리"
      ]
    },
    {
      "cell_type": "markdown",
      "metadata": {
        "id": "YhQ9GDfJk_5k"
      },
      "source": [
        "## 요약"
      ]
    }
  ],
  "metadata": {
    "colab": {
      "name": "chapter12_part05_gans.i",
      "provenance": []
    },
    "kernelspec": {
      "display_name": "default:Python",
      "language": "python",
      "name": "conda-env-default-py"
    },
    "language_info": {
      "codemirror_mode": {
        "name": "ipython",
        "version": 3
      },
      "file_extension": ".py",
      "mimetype": "text/x-python",
      "name": "python",
      "nbconvert_exporter": "python",
      "pygments_lexer": "ipython3",
      "version": "3.9.10"
    },
    "accelerator": "GPU",
    "gpuClass": "premium"
  },
  "nbformat": 4,
  "nbformat_minor": 0
}