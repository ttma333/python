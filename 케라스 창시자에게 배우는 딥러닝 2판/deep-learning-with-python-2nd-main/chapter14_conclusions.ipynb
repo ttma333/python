{
  "cells": [
    {
      "cell_type": "markdown",
      "metadata": {
        "id": "xyarfnCIly3c"
      },
      "source": [
        "이 노트북은 [케라스 창시자에게 배우는 딥러닝 2판](https://tensorflow.blog/kerasdl2/)의 예제 코드를 담고 있습니다.\n",
        "\n",
        "<table align=\"left\">\n",
        "    <tr>\n",
        "        <td>\n",
        "            <a href=\"https://colab.research.google.com/github/rickiepark/deep-learning-with-python-2nd/blob/main/chapter14_conclusions.ipynb\" target=\"_parent\"><img src=\"https://colab.research.google.com/assets/colab-badge.svg\" alt=\"Open In Colab\"/></a>\n",
        "        </td>\n",
        "    </tr>\n",
        "</table>"
      ]
    },
    {
      "cell_type": "markdown",
      "metadata": {
        "id": "tdKEg1Lmly3e"
      },
      "source": [
        "# 결론"
      ]
    },
    {
      "cell_type": "markdown",
      "metadata": {
        "id": "vzkAvixmly3f"
      },
      "source": [
        "## 핵심 개념 리뷰"
      ]
    },
    {
      "cell_type": "markdown",
      "metadata": {
        "id": "RO5tp2_yly3f"
      },
      "source": [
        "### AI를 위한 여러 방법"
      ]
    },
    {
      "cell_type": "markdown",
      "metadata": {
        "id": "k8ZIQfIkly3f"
      },
      "source": [
        "### 머신 러닝 분야에서 딥러닝이 특별한 이유"
      ]
    },
    {
      "cell_type": "markdown",
      "metadata": {
        "id": "hr12T6Sply3g"
      },
      "source": [
        "### 딥러닝에 대하여"
      ]
    },
    {
      "cell_type": "markdown",
      "metadata": {
        "id": "iPyU5mw3ly3g"
      },
      "source": [
        "### 핵심 기술"
      ]
    },
    {
      "cell_type": "markdown",
      "metadata": {
        "id": "L_koVg0ely3g"
      },
      "source": [
        "### 일반적인 머신 러닝 워크플로"
      ]
    },
    {
      "cell_type": "markdown",
      "metadata": {
        "id": "f-2mPY25ly3h"
      },
      "source": [
        "### 주요 네트워크 구조"
      ]
    },
    {
      "cell_type": "markdown",
      "metadata": {
        "id": "hOCYeRHLly3h"
      },
      "source": [
        "#### 밀집 연결 네트워크"
      ]
    },
    {
      "cell_type": "markdown",
      "source": [
        "```python\n",
        "from tensorflow import keras\n",
        "from tensorflow.keras import layers\n",
        "inputs = keras.Input(shape=(num_input_features,))\n",
        "x = layers.Dense(32, activation=\"relu\")(inputs)\n",
        "x = layers.Dense(32, activation=\"relu\")(x)\n",
        "outputs = layers.Dense(1, activation=\"sigmoid\")(x)\n",
        "model = keras.Model(inputs, outputs)\n",
        "model.compile(optimizer=\"rmsprop\", loss=\"binary_crossentropy\")\n",
        "```"
      ],
      "metadata": {
        "id": "g6Jbp5Z-ly3i"
      }
    },
    {
      "cell_type": "markdown",
      "source": [
        "```python\n",
        "inputs = keras.Input(shape=(num_input_features,))\n",
        "x = layers.Dense(32, activation=\"relu\")(inputs)\n",
        "x = layers.Dense(32, activation=\"relu\")(x)\n",
        "outputs = layers.Dense(num_classes, activation=\"softmax\")(x)\n",
        "model = keras.Model(inputs, outputs)\n",
        "model.compile(optimizer=\"rmsprop\", loss=\"categorical_crossentropy\")\n",
        "```"
      ],
      "metadata": {
        "id": "CFhMBwdply3j"
      }
    },
    {
      "cell_type": "markdown",
      "source": [
        "```python\n",
        "inputs = keras.Input(shape=(num_input_features,))\n",
        "x = layers.Dense(32, activation=\"relu\")(inputs)\n",
        "x = layers.Dense(32, activation=\"relu\")(x)\n",
        "outputs = layers.Dense(num_classes, activation=\"sigmoid\")(x)\n",
        "model = keras.Model(inputs, outputs)\n",
        "model.compile(optimizer=\"rmsprop\", loss=\"binary_crossentropy\")\n",
        "```"
      ],
      "metadata": {
        "id": "ocPttucPly3j"
      }
    },
    {
      "cell_type": "markdown",
      "source": [
        "```python\n",
        "inputs = keras.Input(shape=(num_input_features,))\n",
        "x = layers.Dense(32, activation=\"relu\")(inputs)\n",
        "x = layers.Dense(32, activation=\"relu\")(x)\n",
        "outputs layers.Dense(num_values)(x)\n",
        "model = keras.Model(inputs, outputs)\n",
        "model.compile(optimizer=\"rmsprop\", loss=\"mse\")\n",
        "```"
      ],
      "metadata": {
        "id": "BfRT3gTJly3j"
      }
    },
    {
      "cell_type": "markdown",
      "metadata": {
        "id": "2alRGaoNly3k"
      },
      "source": [
        "#### 컨브넷"
      ]
    },
    {
      "cell_type": "markdown",
      "source": [
        "```python\n",
        "inputs = keras.Input(shape=(height, width, channels))\n",
        "x = layers.SeparableConv2D(32, 3, activation=\"relu\")(inputs)\n",
        "x = layers.SeparableConv2D(64, 3, activation=\"relu\")(x)\n",
        "x = layers.MaxPooling2D(2)(x)\n",
        "x = layers.SeparableConv2D(64, 3, activation=\"relu\")(x)\n",
        "x = layers.SeparableConv2D(128, 3, activation=\"relu\")(x)\n",
        "x = layers.MaxPooling2D(2)(x)\n",
        "x = layers.SeparableConv2D(64, 3, activation=\"relu\")(x)\n",
        "x = layers.SeparableConv2D(128, 3, activation=\"relu\")(x)\n",
        "x = layers.GlobalAveragePooling2D()(x)\n",
        "x = layers.Dense(32, activation=\"relu\")(x)\n",
        "outputs = layers.Dense(num_classes, activation=\"softmax\")(x)\n",
        "model = keras.Model(inputs, outputs)\n",
        "model.compile(optimizer=\"rmsprop\", loss=\"categorical_crossentropy\")\n",
        "````"
      ],
      "metadata": {
        "id": "k8U0dTbely3k"
      }
    },
    {
      "cell_type": "markdown",
      "metadata": {
        "id": "LXEyApUoly3k"
      },
      "source": [
        "#### RNN"
      ]
    },
    {
      "cell_type": "markdown",
      "source": [
        "```python\n",
        "inputs = keras.Input(shape=(num_timesteps, num_features))\n",
        "x = layers.LSTM(32)(inputs)\n",
        "outputs = layers.Dense(num_classes, activation=\"sigmoid\")(x)\n",
        "model = keras.Model(inputs, outputs)\n",
        "model.compile(optimizer=\"rmsprop\", loss=\"binary_crossentropy\")\n",
        "```"
      ],
      "metadata": {
        "id": "BVKUbNO2ly3k"
      }
    },
    {
      "cell_type": "markdown",
      "source": [
        "```python\n",
        "inputs = keras.Input(shape=(num_timesteps, num_features))\n",
        "x = layers.LSTM(32, return_sequences=True)(inputs)\n",
        "x = layers.LSTM(32, return_sequences=True)(x)\n",
        "x = layers.LSTM(32)(x)\n",
        "outputs = layers.Dense(num_classes, activation=\"sigmoid\")(x)\n",
        "model = keras.Model(inputs, outputs)\n",
        "model.compile(optimizer=\"rmsprop\", loss=\"binary_crossentropy\")\n",
        "```"
      ],
      "metadata": {
        "id": "exvZ34pkly3l"
      }
    },
    {
      "cell_type": "markdown",
      "metadata": {
        "id": "_rTM6Ee-ly3l"
      },
      "source": [
        "#### 트랜스포머"
      ]
    },
    {
      "cell_type": "markdown",
      "source": [
        "```python\n",
        "encoder_inputs = keras.Input(shape=(sequence_length,), dtype=\"int64\")\n",
        "x = PositionalEmbedding(sequence_length, vocab_size, embed_dim)(encoder_inputs)\n",
        "encoder_outputs = TransformerEncoder(embed_dim, dense_dim, num_heads)(x)\n",
        "decoder_inputs = keras.Input(shape=(None,), dtype=\"int64\")\n",
        "x = PositionalEmbedding(sequence_length, vocab_size, embed_dim)(decoder_inputs)\n",
        "x = TransformerDecoder(embed_dim, dense_dim, num_heads)(x, encoder_outputs)\n",
        "decoder_outputs = layers.Dense(vocab_size, activation=\"softmax\")(x)\n",
        "transformer = keras.Model([encoder_inputs, decoder_inputs], decoder_outputs)\n",
        "transformer.compile(optimizer=\"rmsprop\", loss=\"categorical_crossentropy\")\n",
        "```"
      ],
      "metadata": {
        "id": "8kasHWwUly3l"
      }
    },
    {
      "cell_type": "markdown",
      "source": [
        "```python\n",
        "inputs = keras.Input(shape=(sequence_length,), dtype=\"int64\")\n",
        "x = PositionalEmbedding(sequence_length, vocab_size, embed_dim)(inputs)\n",
        "x = TransformerEncoder(embed_dim, dense_dim, num_heads)(x)\n",
        "x = layers.GlobalMaxPooling1D()(x)\n",
        "outputs = layers.Dense(1, activation=\"sigmoid\")(x)\n",
        "model = keras.Model(inputs, outputs)\n",
        "model.compile(optimizer=\"rmsprop\", loss=\"binary_crossentropy\")\n",
        "```"
      ],
      "metadata": {
        "id": "LSBPriPCly3l"
      }
    },
    {
      "cell_type": "markdown",
      "metadata": {
        "tags": [],
        "id": "hyUvTcrNly3m"
      },
      "source": [
        "### 딥러닝의 가능성"
      ]
    },
    {
      "cell_type": "markdown",
      "metadata": {
        "id": "_J_do_aMly3m"
      },
      "source": [
        "## 딥러닝의 한계"
      ]
    },
    {
      "cell_type": "markdown",
      "metadata": {
        "id": "oDs-9QHTly3m"
      },
      "source": [
        "### 머신 러닝 모델의 의인화 위험"
      ]
    },
    {
      "cell_type": "markdown",
      "metadata": {
        "id": "EqvKXvk4ly3m"
      },
      "source": [
        "### 자동기계 vs. 지능 에이전트"
      ]
    },
    {
      "cell_type": "markdown",
      "metadata": {
        "id": "1m5M06ugly3m"
      },
      "source": [
        "### 지역 일반화 vs. 궁극 일반화"
      ]
    },
    {
      "cell_type": "markdown",
      "metadata": {
        "id": "z1rwtb8ply3m"
      },
      "source": [
        "### 지능의 목적"
      ]
    },
    {
      "cell_type": "markdown",
      "metadata": {
        "id": "RS9AWYI8ly3m"
      },
      "source": [
        "### 일반화의 스펙트럼"
      ]
    },
    {
      "cell_type": "markdown",
      "metadata": {
        "id": "Wi3wWmX-ly3m"
      },
      "source": [
        "## AI에서 일반화를 높이기 위한 방법"
      ]
    },
    {
      "cell_type": "markdown",
      "metadata": {
        "id": "1v9CrSsIly3m"
      },
      "source": [
        "### 올바른 목표 설정의 중요성: 지름길 규칙"
      ]
    },
    {
      "cell_type": "markdown",
      "metadata": {
        "id": "j83zRWSwly3n"
      },
      "source": [
        "### 새로운 목표"
      ]
    },
    {
      "cell_type": "markdown",
      "metadata": {
        "id": "4HEJOaXDly3n"
      },
      "source": [
        "## 지능 구현: 누락된 구성 요소"
      ]
    },
    {
      "cell_type": "markdown",
      "metadata": {
        "id": "Q3gTXesHly3n"
      },
      "source": [
        "### 추상적 비유에 뛰어난 지능"
      ]
    },
    {
      "cell_type": "markdown",
      "metadata": {
        "id": "HX6JolMrly3n"
      },
      "source": [
        "### 두 종류의 추상화"
      ]
    },
    {
      "cell_type": "markdown",
      "metadata": {
        "id": "mqDus78cly3n"
      },
      "source": [
        "#### 가치 중심 비유"
      ]
    },
    {
      "cell_type": "markdown",
      "metadata": {
        "id": "pUCz7Vldly3n"
      },
      "source": [
        "#### 프로그램 중심 비유"
      ]
    },
    {
      "cell_type": "markdown",
      "metadata": {
        "id": "DOqu8gwlly3n"
      },
      "source": [
        "#### 두 종류의 추상화를 조합한 인지"
      ]
    },
    {
      "cell_type": "markdown",
      "metadata": {
        "id": "QH4ZXjbYly3n"
      },
      "source": [
        "### 누락된 절반의 그림"
      ]
    },
    {
      "cell_type": "markdown",
      "metadata": {
        "id": "h59oIiWWly3n"
      },
      "source": [
        "## 딥러닝의 미래"
      ]
    },
    {
      "cell_type": "markdown",
      "metadata": {
        "id": "nD5K2aloly3n"
      },
      "source": [
        "### 프로그램 같은 모델"
      ]
    },
    {
      "cell_type": "markdown",
      "metadata": {
        "id": "ajYfOiWvly3o"
      },
      "source": [
        "### 딥러닝과 프로그램 합성을 혼합하기"
      ]
    },
    {
      "cell_type": "markdown",
      "metadata": {
        "id": "XQTiAbwwly3o"
      },
      "source": [
        "#### 딥러닝 모듈과 알고리즘 모듈을 하이브리드 시스템으로 통합하기"
      ]
    },
    {
      "cell_type": "markdown",
      "metadata": {
        "id": "mtg-1wDuly3o"
      },
      "source": [
        "#### 프로그램 탐색을 위해 딥러닝을 사용하기"
      ]
    },
    {
      "cell_type": "markdown",
      "metadata": {
        "id": "kaZtEM9hly3o"
      },
      "source": [
        "### 영구 학습과 모듈화된 서브루틴 재사용"
      ]
    },
    {
      "cell_type": "markdown",
      "metadata": {
        "id": "jH0Rwvemly3o"
      },
      "source": [
        "### 장기 비전"
      ]
    },
    {
      "cell_type": "markdown",
      "metadata": {
        "id": "vp_WvGr4ly3o"
      },
      "source": [
        "## 빠른 변화에 뒤처지지 않기"
      ]
    },
    {
      "cell_type": "markdown",
      "metadata": {
        "id": "wYX5Jt7Cly3o"
      },
      "source": [
        "### 캐글의 실전 문제로 연습하기"
      ]
    },
    {
      "cell_type": "markdown",
      "metadata": {
        "id": "whEVnlaTly3o"
      },
      "source": [
        "### 아카이브(arXiv)를 통해 최신 논문 읽기"
      ]
    },
    {
      "cell_type": "markdown",
      "metadata": {
        "id": "AggiNUnzly3o"
      },
      "source": [
        "### 케라스 생태계 탐험하기"
      ]
    },
    {
      "cell_type": "markdown",
      "metadata": {
        "id": "OeoLV-xRly3o"
      },
      "source": [
        "## 맺음말"
      ]
    }
  ],
  "metadata": {
    "colab": {
      "collapsed_sections": [],
      "name": "chapter14_conclusions.i",
      "provenance": []
    },
    "kernelspec": {
      "display_name": "default:Python",
      "language": "python",
      "name": "conda-env-default-py"
    },
    "language_info": {
      "codemirror_mode": {
        "name": "ipython",
        "version": 3
      },
      "file_extension": ".py",
      "mimetype": "text/x-python",
      "name": "python",
      "nbconvert_exporter": "python",
      "pygments_lexer": "ipython3",
      "version": "3.9.10"
    }
  },
  "nbformat": 4,
  "nbformat_minor": 0
}