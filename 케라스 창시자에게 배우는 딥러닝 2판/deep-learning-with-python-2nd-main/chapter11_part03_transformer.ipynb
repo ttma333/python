{
  "cells": [
    {
      "cell_type": "markdown",
      "metadata": {
        "id": "5PUseM_N42in"
      },
      "source": [
        "이 노트북은 [케라스 창시자에게 배우는 딥러닝 2판](https://tensorflow.blog/kerasdl2/)의 예제 코드를 담고 있습니다.\n",
        "\n",
        "<table align=\"left\">\n",
        "    <tr>\n",
        "        <td>\n",
        "            <a href=\"https://colab.research.google.com/github/rickiepark/deep-learning-with-python-2nd/blob/main/chapter11_part03_transformer.ipynb\" target=\"_parent\"><img src=\"https://colab.research.google.com/assets/colab-badge.svg\" alt=\"Open In Colab\"/></a>\n",
        "        </td>\n",
        "    </tr>\n",
        "</table>"
      ]
    },
    {
      "cell_type": "markdown",
      "metadata": {
        "id": "NhOmioaR42iq"
      },
      "source": [
        "## 트랜스포머 아키텍처"
      ]
    },
    {
      "cell_type": "markdown",
      "metadata": {
        "id": "xWSmzK5142ir"
      },
      "source": [
        "### 셀프 어텐션 이해하기"
      ]
    },
    {
      "cell_type": "markdown",
      "metadata": {
        "id": "2XdzrCS-42ir"
      },
      "source": [
        "#### 일반화된 셀프 어텐션: 쿼리-키-값 모델"
      ]
    },
    {
      "cell_type": "markdown",
      "metadata": {
        "id": "Qo8cK-c_42ir"
      },
      "source": [
        "### 멀티 헤드 어텐션"
      ]
    },
    {
      "cell_type": "markdown",
      "metadata": {
        "id": "F0HqiH6C42ir"
      },
      "source": [
        "### 트랜스포머 인코더"
      ]
    },
    {
      "cell_type": "markdown",
      "metadata": {
        "id": "LjYMcwAl42is"
      },
      "source": [
        "**데이터 가져오기**"
      ]
    },
    {
      "cell_type": "code",
      "execution_count": 1,
      "metadata": {
        "colab": {
          "base_uri": "https://localhost:8080/"
        },
        "id": "i7VVn1yl42is",
        "outputId": "f9e9e33a-89f1-4329-e41a-b1e64df2da7d"
      },
      "outputs": [
        {
          "output_type": "stream",
          "name": "stdout",
          "text": [
            "rm: cannot remove 'aclImdb': No such file or directory\n",
            "  % Total    % Received % Xferd  Average Speed   Time    Time     Time  Current\n",
            "                                 Dload  Upload   Total   Spent    Left  Speed\n",
            "100 80.2M  100 80.2M    0     0   9.8M      0  0:00:08  0:00:08 --:--:-- 16.1M\n"
          ]
        }
      ],
      "source": [
        "!rm -r aclImdb\n",
        "!curl -O https://ai.stanford.edu/~amaas/data/sentiment/aclImdb_v1.tar.gz\n",
        "!tar -xf aclImdb_v1.tar.gz\n",
        "!rm -r aclImdb/train/unsup"
      ]
    },
    {
      "cell_type": "markdown",
      "metadata": {
        "id": "D8aiOAjJ42iu"
      },
      "source": [
        "**데이터 준비**"
      ]
    },
    {
      "cell_type": "code",
      "execution_count": 2,
      "metadata": {
        "colab": {
          "base_uri": "https://localhost:8080/"
        },
        "id": "7C8nBL2242iu",
        "outputId": "d596ddb2-1609-46d7-d59e-67731e04358d"
      },
      "outputs": [
        {
          "output_type": "stream",
          "name": "stdout",
          "text": [
            "Found 20000 files belonging to 2 classes.\n",
            "Found 5000 files belonging to 2 classes.\n",
            "Found 25000 files belonging to 2 classes.\n"
          ]
        }
      ],
      "source": [
        "import os, pathlib, shutil, random\n",
        "from tensorflow import keras\n",
        "batch_size = 32\n",
        "base_dir = pathlib.Path(\"aclImdb\")\n",
        "val_dir = base_dir / \"val\"\n",
        "train_dir = base_dir / \"train\"\n",
        "for category in (\"neg\", \"pos\"):\n",
        "    os.makedirs(val_dir / category)\n",
        "    files = os.listdir(train_dir / category)\n",
        "    random.Random(1337).shuffle(files)\n",
        "    num_val_samples = int(0.2 * len(files))\n",
        "    val_files = files[-num_val_samples:]\n",
        "    for fname in val_files:\n",
        "        shutil.move(train_dir / category / fname,\n",
        "                    val_dir / category / fname)\n",
        "\n",
        "train_ds = keras.utils.text_dataset_from_directory(\n",
        "    \"aclImdb/train\", batch_size=batch_size\n",
        ")\n",
        "val_ds = keras.utils.text_dataset_from_directory(\n",
        "    \"aclImdb/val\", batch_size=batch_size\n",
        ")\n",
        "test_ds = keras.utils.text_dataset_from_directory(\n",
        "    \"aclImdb/test\", batch_size=batch_size\n",
        ")\n",
        "text_only_train_ds = train_ds.map(lambda x, y: x)"
      ]
    },
    {
      "cell_type": "markdown",
      "metadata": {
        "id": "e0MsIvhr42iv"
      },
      "source": [
        "**데이터 벡터화**"
      ]
    },
    {
      "cell_type": "code",
      "execution_count": 3,
      "metadata": {
        "id": "--rJ5PYw42iv"
      },
      "outputs": [],
      "source": [
        "from tensorflow.keras import layers\n",
        "\n",
        "max_length = 600\n",
        "max_tokens = 20000\n",
        "text_vectorization = layers.TextVectorization(\n",
        "    max_tokens=max_tokens,\n",
        "    output_mode=\"int\",\n",
        "    output_sequence_length=max_length,\n",
        ")\n",
        "text_vectorization.adapt(text_only_train_ds)\n",
        "\n",
        "int_train_ds = train_ds.map(\n",
        "    lambda x, y: (text_vectorization(x), y),\n",
        "    num_parallel_calls=4)\n",
        "int_val_ds = val_ds.map(\n",
        "    lambda x, y: (text_vectorization(x), y),\n",
        "    num_parallel_calls=4)\n",
        "int_test_ds = test_ds.map(\n",
        "    lambda x, y: (text_vectorization(x), y),\n",
        "    num_parallel_calls=4)"
      ]
    },
    {
      "cell_type": "markdown",
      "metadata": {
        "id": "uZrJUai142iv"
      },
      "source": [
        "**`Layer` 층을 상속하여 구현한 트랜스포머 인코더**"
      ]
    },
    {
      "cell_type": "code",
      "execution_count": 4,
      "metadata": {
        "id": "924jztFe42iv"
      },
      "outputs": [],
      "source": [
        "import tensorflow as tf\n",
        "from tensorflow import keras\n",
        "from tensorflow.keras import layers\n",
        "\n",
        "class TransformerEncoder(layers.Layer):\n",
        "    def __init__(self, embed_dim, dense_dim, num_heads, **kwargs):\n",
        "        super().__init__(**kwargs)\n",
        "        self.embed_dim = embed_dim\n",
        "        self.dense_dim = dense_dim\n",
        "        self.num_heads = num_heads\n",
        "        self.attention = layers.MultiHeadAttention(\n",
        "            num_heads=num_heads, key_dim=embed_dim)\n",
        "        self.dense_proj = keras.Sequential(\n",
        "            [layers.Dense(dense_dim, activation=\"relu\"),\n",
        "             layers.Dense(embed_dim),]\n",
        "        )\n",
        "        self.layernorm_1 = layers.LayerNormalization()\n",
        "        self.layernorm_2 = layers.LayerNormalization()\n",
        "\n",
        "    def call(self, inputs, mask=None):\n",
        "        if mask is not None:\n",
        "            mask = mask[:, tf.newaxis, :]\n",
        "        attention_output = self.attention(\n",
        "            inputs, inputs, attention_mask=mask)\n",
        "        proj_input = self.layernorm_1(inputs + attention_output)\n",
        "        proj_output = self.dense_proj(proj_input)\n",
        "        return self.layernorm_2(proj_input + proj_output)\n",
        "\n",
        "    def get_config(self):\n",
        "        config = super().get_config()\n",
        "        config.update({\n",
        "            \"embed_dim\": self.embed_dim,\n",
        "            \"num_heads\": self.num_heads,\n",
        "            \"dense_dim\": self.dense_dim,\n",
        "        })\n",
        "        return config"
      ]
    },
    {
      "cell_type": "markdown",
      "metadata": {
        "id": "8yaSXFTO42iw"
      },
      "source": [
        "**트랜스포머 인코더를 사용하여 텍스트 분류하기**"
      ]
    },
    {
      "cell_type": "code",
      "execution_count": 5,
      "metadata": {
        "colab": {
          "base_uri": "https://localhost:8080/"
        },
        "id": "-Nk9lx8A42iw",
        "outputId": "a0d29e8c-b21a-4139-a2ff-00e6c03fb1b7"
      },
      "outputs": [
        {
          "output_type": "stream",
          "name": "stdout",
          "text": [
            "Model: \"model\"\n",
            "_________________________________________________________________\n",
            " Layer (type)                Output Shape              Param #   \n",
            "=================================================================\n",
            " input_1 (InputLayer)        [(None, None)]            0         \n",
            "                                                                 \n",
            " embedding (Embedding)       (None, None, 256)         5120000   \n",
            "                                                                 \n",
            " transformer_encoder (Transf  (None, None, 256)        543776    \n",
            " ormerEncoder)                                                   \n",
            "                                                                 \n",
            " global_max_pooling1d (Globa  (None, 256)              0         \n",
            " lMaxPooling1D)                                                  \n",
            "                                                                 \n",
            " dropout (Dropout)           (None, 256)               0         \n",
            "                                                                 \n",
            " dense_2 (Dense)             (None, 1)                 257       \n",
            "                                                                 \n",
            "=================================================================\n",
            "Total params: 5,664,033\n",
            "Trainable params: 5,664,033\n",
            "Non-trainable params: 0\n",
            "_________________________________________________________________\n"
          ]
        }
      ],
      "source": [
        "vocab_size = 20000\n",
        "embed_dim = 256\n",
        "num_heads = 2\n",
        "dense_dim = 32\n",
        "\n",
        "inputs = keras.Input(shape=(None,), dtype=\"int64\")\n",
        "x = layers.Embedding(vocab_size, embed_dim)(inputs)\n",
        "x = TransformerEncoder(embed_dim, dense_dim, num_heads)(x)\n",
        "x = layers.GlobalMaxPooling1D()(x)\n",
        "x = layers.Dropout(0.5)(x)\n",
        "outputs = layers.Dense(1, activation=\"sigmoid\")(x)\n",
        "model = keras.Model(inputs, outputs)\n",
        "model.compile(optimizer=\"rmsprop\",\n",
        "              loss=\"binary_crossentropy\",\n",
        "              metrics=[\"accuracy\"])\n",
        "model.summary()"
      ]
    },
    {
      "cell_type": "markdown",
      "metadata": {
        "id": "7nXp84h_42iw"
      },
      "source": [
        "**트랜스포머 인코더 기반 모델 훈련하고 평가하기**"
      ]
    },
    {
      "cell_type": "code",
      "execution_count": 6,
      "metadata": {
        "colab": {
          "base_uri": "https://localhost:8080/"
        },
        "id": "E3H26gQC42ix",
        "outputId": "7570856c-1009-49bf-84d5-235b477c52a1"
      },
      "outputs": [
        {
          "output_type": "stream",
          "name": "stdout",
          "text": [
            "Epoch 1/20\n",
            "625/625 [==============================] - 45s 63ms/step - loss: 0.4759 - accuracy: 0.7742 - val_loss: 0.3358 - val_accuracy: 0.8582\n",
            "Epoch 2/20\n",
            "625/625 [==============================] - 40s 64ms/step - loss: 0.3128 - accuracy: 0.8675 - val_loss: 0.2905 - val_accuracy: 0.8796\n",
            "Epoch 3/20\n",
            "625/625 [==============================] - 41s 65ms/step - loss: 0.2428 - accuracy: 0.9009 - val_loss: 0.2768 - val_accuracy: 0.8874\n",
            "Epoch 4/20\n",
            "625/625 [==============================] - 42s 66ms/step - loss: 0.1935 - accuracy: 0.9252 - val_loss: 0.2777 - val_accuracy: 0.8906\n",
            "Epoch 5/20\n",
            "625/625 [==============================] - 42s 66ms/step - loss: 0.1538 - accuracy: 0.9416 - val_loss: 0.2862 - val_accuracy: 0.8948\n",
            "Epoch 6/20\n",
            "625/625 [==============================] - 41s 65ms/step - loss: 0.1289 - accuracy: 0.9523 - val_loss: 0.3030 - val_accuracy: 0.8852\n",
            "Epoch 7/20\n",
            "625/625 [==============================] - 41s 66ms/step - loss: 0.1093 - accuracy: 0.9589 - val_loss: 0.3418 - val_accuracy: 0.8874\n",
            "Epoch 8/20\n",
            "625/625 [==============================] - 41s 66ms/step - loss: 0.0957 - accuracy: 0.9653 - val_loss: 0.4081 - val_accuracy: 0.8754\n",
            "Epoch 9/20\n",
            "625/625 [==============================] - 41s 65ms/step - loss: 0.0813 - accuracy: 0.9712 - val_loss: 0.4589 - val_accuracy: 0.8746\n",
            "Epoch 10/20\n",
            "625/625 [==============================] - 41s 66ms/step - loss: 0.0706 - accuracy: 0.9758 - val_loss: 0.6643 - val_accuracy: 0.8584\n",
            "Epoch 11/20\n",
            "625/625 [==============================] - 41s 65ms/step - loss: 0.0622 - accuracy: 0.9790 - val_loss: 0.5812 - val_accuracy: 0.8668\n",
            "Epoch 12/20\n",
            "625/625 [==============================] - 42s 66ms/step - loss: 0.0503 - accuracy: 0.9828 - val_loss: 0.7318 - val_accuracy: 0.8546\n",
            "Epoch 13/20\n",
            "625/625 [==============================] - 41s 65ms/step - loss: 0.0402 - accuracy: 0.9870 - val_loss: 0.7936 - val_accuracy: 0.8434\n",
            "Epoch 14/20\n",
            "625/625 [==============================] - 40s 65ms/step - loss: 0.0366 - accuracy: 0.9883 - val_loss: 0.8799 - val_accuracy: 0.8554\n",
            "Epoch 15/20\n",
            "625/625 [==============================] - 42s 66ms/step - loss: 0.0296 - accuracy: 0.9898 - val_loss: 0.8550 - val_accuracy: 0.8410\n",
            "Epoch 16/20\n",
            "625/625 [==============================] - 41s 65ms/step - loss: 0.0225 - accuracy: 0.9930 - val_loss: 0.8013 - val_accuracy: 0.8530\n",
            "Epoch 17/20\n",
            "625/625 [==============================] - 42s 66ms/step - loss: 0.0212 - accuracy: 0.9929 - val_loss: 0.9202 - val_accuracy: 0.8640\n",
            "Epoch 18/20\n",
            "625/625 [==============================] - 41s 65ms/step - loss: 0.0173 - accuracy: 0.9945 - val_loss: 0.9175 - val_accuracy: 0.8508\n",
            "Epoch 19/20\n",
            "625/625 [==============================] - 42s 66ms/step - loss: 0.0138 - accuracy: 0.9959 - val_loss: 1.0007 - val_accuracy: 0.8642\n",
            "Epoch 20/20\n",
            "625/625 [==============================] - 40s 64ms/step - loss: 0.0139 - accuracy: 0.9965 - val_loss: 1.1976 - val_accuracy: 0.8554\n",
            "782/782 [==============================] - 22s 27ms/step - loss: 0.2754 - accuracy: 0.8869\n",
            "테스트 정확도: 0.887\n"
          ]
        }
      ],
      "source": [
        "callbacks = [\n",
        "    keras.callbacks.ModelCheckpoint(\"transformer_encoder.keras\",\n",
        "                                    save_best_only=True)\n",
        "]\n",
        "model.fit(int_train_ds, validation_data=int_val_ds, epochs=20, callbacks=callbacks)\n",
        "model = keras.models.load_model(\n",
        "    \"transformer_encoder.keras\",\n",
        "    custom_objects={\"TransformerEncoder\": TransformerEncoder})\n",
        "print(f\"테스트 정확도: {model.evaluate(int_test_ds)[1]:.3f}\")"
      ]
    },
    {
      "cell_type": "markdown",
      "metadata": {
        "id": "Ffb0_42j42ix"
      },
      "source": [
        "#### 위치 인코딩을 사용해 위치 정보 주입하기"
      ]
    },
    {
      "cell_type": "markdown",
      "metadata": {
        "id": "c3eCKYxO42ix"
      },
      "source": [
        "**서브클래싱으로 위치 임베딩 구현하기**"
      ]
    },
    {
      "cell_type": "code",
      "execution_count": 7,
      "metadata": {
        "id": "7ngZXecb42ix"
      },
      "outputs": [],
      "source": [
        "class PositionalEmbedding(layers.Layer):\n",
        "    def __init__(self, sequence_length, input_dim, output_dim, **kwargs):\n",
        "        super().__init__(**kwargs)\n",
        "        self.token_embeddings = layers.Embedding(\n",
        "            input_dim=input_dim, output_dim=output_dim)\n",
        "        self.position_embeddings = layers.Embedding(\n",
        "            input_dim=sequence_length, output_dim=output_dim)\n",
        "        self.sequence_length = sequence_length\n",
        "        self.input_dim = input_dim\n",
        "        self.output_dim = output_dim\n",
        "\n",
        "    def call(self, inputs):\n",
        "        length = tf.shape(inputs)[-1]\n",
        "        positions = tf.range(start=0, limit=length, delta=1)\n",
        "        embedded_tokens = self.token_embeddings(inputs)\n",
        "        embedded_positions = self.position_embeddings(positions)\n",
        "        return embedded_tokens + embedded_positions\n",
        "\n",
        "    def compute_mask(self, inputs, mask=None):\n",
        "        return tf.math.not_equal(inputs, 0)\n",
        "\n",
        "    def get_config(self):\n",
        "        config = super().get_config()\n",
        "        config.update({\n",
        "            \"output_dim\": self.output_dim,\n",
        "            \"sequence_length\": self.sequence_length,\n",
        "            \"input_dim\": self.input_dim,\n",
        "        })\n",
        "        return config"
      ]
    },
    {
      "cell_type": "markdown",
      "metadata": {
        "id": "YAOg6EBF42ix"
      },
      "source": [
        "#### 텍스트 분류 트랜스포머"
      ]
    },
    {
      "cell_type": "markdown",
      "metadata": {
        "id": "9RXcbNDa42iy"
      },
      "source": [
        "**트랜스포머 인코더와 위치 임베딩 합치기**"
      ]
    },
    {
      "cell_type": "code",
      "execution_count": 8,
      "metadata": {
        "colab": {
          "base_uri": "https://localhost:8080/"
        },
        "id": "QmzXmO7042iy",
        "outputId": "f8274129-c171-4206-fcb5-8a757d0daa2c"
      },
      "outputs": [
        {
          "output_type": "stream",
          "name": "stdout",
          "text": [
            "Model: \"model_1\"\n",
            "_________________________________________________________________\n",
            " Layer (type)                Output Shape              Param #   \n",
            "=================================================================\n",
            " input_2 (InputLayer)        [(None, None)]            0         \n",
            "                                                                 \n",
            " positional_embedding (Posit  (None, None, 256)        5273600   \n",
            " ionalEmbedding)                                                 \n",
            "                                                                 \n",
            " transformer_encoder_1 (Tran  (None, None, 256)        543776    \n",
            " sformerEncoder)                                                 \n",
            "                                                                 \n",
            " global_max_pooling1d_1 (Glo  (None, 256)              0         \n",
            " balMaxPooling1D)                                                \n",
            "                                                                 \n",
            " dropout_1 (Dropout)         (None, 256)               0         \n",
            "                                                                 \n",
            " dense_7 (Dense)             (None, 1)                 257       \n",
            "                                                                 \n",
            "=================================================================\n",
            "Total params: 5,817,633\n",
            "Trainable params: 5,817,633\n",
            "Non-trainable params: 0\n",
            "_________________________________________________________________\n",
            "Epoch 1/20\n",
            "625/625 [==============================] - 44s 68ms/step - loss: 0.4744 - accuracy: 0.7806 - val_loss: 0.2907 - val_accuracy: 0.8860\n",
            "Epoch 2/20\n",
            "625/625 [==============================] - 42s 67ms/step - loss: 0.2282 - accuracy: 0.9097 - val_loss: 0.2986 - val_accuracy: 0.8858\n",
            "Epoch 3/20\n",
            "625/625 [==============================] - 42s 67ms/step - loss: 0.1710 - accuracy: 0.9365 - val_loss: 0.3056 - val_accuracy: 0.8858\n",
            "Epoch 4/20\n",
            "625/625 [==============================] - 42s 67ms/step - loss: 0.1382 - accuracy: 0.9494 - val_loss: 0.3525 - val_accuracy: 0.8842\n",
            "Epoch 5/20\n",
            "625/625 [==============================] - 42s 67ms/step - loss: 0.1143 - accuracy: 0.9605 - val_loss: 0.3872 - val_accuracy: 0.8834\n",
            "Epoch 6/20\n",
            "625/625 [==============================] - 42s 67ms/step - loss: 0.0937 - accuracy: 0.9680 - val_loss: 0.4358 - val_accuracy: 0.8664\n",
            "Epoch 7/20\n",
            "625/625 [==============================] - 42s 67ms/step - loss: 0.0825 - accuracy: 0.9719 - val_loss: 0.4799 - val_accuracy: 0.8848\n",
            "Epoch 8/20\n",
            "625/625 [==============================] - 42s 67ms/step - loss: 0.0753 - accuracy: 0.9759 - val_loss: 0.4304 - val_accuracy: 0.8792\n",
            "Epoch 9/20\n",
            "625/625 [==============================] - 42s 68ms/step - loss: 0.0642 - accuracy: 0.9785 - val_loss: 0.5895 - val_accuracy: 0.8780\n",
            "Epoch 10/20\n",
            "625/625 [==============================] - 42s 67ms/step - loss: 0.0588 - accuracy: 0.9815 - val_loss: 0.6139 - val_accuracy: 0.8750\n",
            "Epoch 11/20\n",
            "625/625 [==============================] - 43s 69ms/step - loss: 0.0530 - accuracy: 0.9833 - val_loss: 0.5440 - val_accuracy: 0.8760\n",
            "Epoch 12/20\n",
            "625/625 [==============================] - 42s 67ms/step - loss: 0.0475 - accuracy: 0.9848 - val_loss: 0.5335 - val_accuracy: 0.8692\n",
            "Epoch 13/20\n",
            "625/625 [==============================] - 42s 68ms/step - loss: 0.0395 - accuracy: 0.9880 - val_loss: 0.6094 - val_accuracy: 0.8744\n",
            "Epoch 14/20\n",
            "625/625 [==============================] - 42s 67ms/step - loss: 0.0382 - accuracy: 0.9881 - val_loss: 0.6731 - val_accuracy: 0.8714\n",
            "Epoch 15/20\n",
            "625/625 [==============================] - 42s 67ms/step - loss: 0.0331 - accuracy: 0.9901 - val_loss: 0.8113 - val_accuracy: 0.8634\n",
            "Epoch 16/20\n",
            "625/625 [==============================] - 42s 67ms/step - loss: 0.0336 - accuracy: 0.9904 - val_loss: 0.6600 - val_accuracy: 0.8702\n",
            "Epoch 17/20\n",
            "625/625 [==============================] - 42s 67ms/step - loss: 0.0274 - accuracy: 0.9925 - val_loss: 0.8205 - val_accuracy: 0.8634\n",
            "Epoch 18/20\n",
            "625/625 [==============================] - 42s 67ms/step - loss: 0.0256 - accuracy: 0.9930 - val_loss: 0.7874 - val_accuracy: 0.8682\n",
            "Epoch 19/20\n",
            "625/625 [==============================] - 42s 67ms/step - loss: 0.0239 - accuracy: 0.9936 - val_loss: 0.8704 - val_accuracy: 0.8568\n",
            "Epoch 20/20\n",
            "625/625 [==============================] - 42s 67ms/step - loss: 0.0205 - accuracy: 0.9948 - val_loss: 0.8604 - val_accuracy: 0.8680\n",
            "782/782 [==============================] - 20s 25ms/step - loss: 0.2910 - accuracy: 0.8816\n",
            "테스트 정확도: 0.882\n"
          ]
        }
      ],
      "source": [
        "vocab_size = 20000\n",
        "sequence_length = 600\n",
        "embed_dim = 256\n",
        "num_heads = 2\n",
        "dense_dim = 32\n",
        "\n",
        "inputs = keras.Input(shape=(None,), dtype=\"int64\")\n",
        "x = PositionalEmbedding(sequence_length, vocab_size, embed_dim)(inputs)\n",
        "x = TransformerEncoder(embed_dim, dense_dim, num_heads)(x)\n",
        "x = layers.GlobalMaxPooling1D()(x)\n",
        "x = layers.Dropout(0.5)(x)\n",
        "outputs = layers.Dense(1, activation=\"sigmoid\")(x)\n",
        "model = keras.Model(inputs, outputs)\n",
        "model.compile(optimizer=\"rmsprop\",\n",
        "              loss=\"binary_crossentropy\",\n",
        "              metrics=[\"accuracy\"])\n",
        "model.summary()\n",
        "\n",
        "callbacks = [\n",
        "    keras.callbacks.ModelCheckpoint(\"full_transformer_encoder.keras\",\n",
        "                                    save_best_only=True)\n",
        "]\n",
        "model.fit(int_train_ds, validation_data=int_val_ds, epochs=20, callbacks=callbacks)\n",
        "model = keras.models.load_model(\n",
        "    \"full_transformer_encoder.keras\",\n",
        "    custom_objects={\"TransformerEncoder\": TransformerEncoder,\n",
        "                    \"PositionalEmbedding\": PositionalEmbedding})\n",
        "print(f\"테스트 정확도: {model.evaluate(int_test_ds)[1]:.3f}\")"
      ]
    },
    {
      "cell_type": "markdown",
      "metadata": {
        "id": "T17kNue242iy"
      },
      "source": [
        "### BoW 모델 대신 언제 시퀀스 모델을 사용하나요?"
      ]
    }
  ],
  "metadata": {
    "accelerator": "GPU",
    "colab": {
      "name": "chapter11_part03_transformer.i",
      "provenance": []
    },
    "kernelspec": {
      "display_name": "default:Python",
      "language": "python",
      "name": "conda-env-default-py"
    },
    "language_info": {
      "codemirror_mode": {
        "name": "ipython",
        "version": 3
      },
      "file_extension": ".py",
      "mimetype": "text/x-python",
      "name": "python",
      "nbconvert_exporter": "python",
      "pygments_lexer": "ipython3",
      "version": "3.9.10"
    }
  },
  "nbformat": 4,
  "nbformat_minor": 0
}