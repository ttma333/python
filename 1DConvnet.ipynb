{
  "nbformat": 4,
  "nbformat_minor": 0,
  "metadata": {
    "colab": {
      "provenance": [],
      "mount_file_id": "1zjNH4mPRobPo3hj1NJ-n9sJcaTqUHixG",
      "authorship_tag": "ABX9TyOHQekJ8A/T8a2dewGyKTfD",
      "include_colab_link": true
    },
    "kernelspec": {
      "name": "python3",
      "display_name": "Python 3"
    },
    "language_info": {
      "name": "python"
    },
    "gpuClass": "standard",
    "accelerator": "GPU"
  },
  "cells": [
    {
      "cell_type": "markdown",
      "metadata": {
        "id": "view-in-github",
        "colab_type": "text"
      },
      "source": [
        "<a href=\"https://colab.research.google.com/github/ttma333/python/blob/main/1DConvnet.ipynb\" target=\"_parent\"><img src=\"https://colab.research.google.com/assets/colab-badge.svg\" alt=\"Open In Colab\"/></a>"
      ]
    },
    {
      "cell_type": "markdown",
      "source": [
        "#### 1D 컨브넷\n",
        "- Conv1D 층을 사용하여 구현, Conv2D와 인터페이스가 비슷함(samples,time,feature) 크기의 3D 텐서를 입력받고 비슷한 형태의 3D 텐서를 반환\n",
        "- 합성곱 윈도우는 시간 축의 1D 윈도우이며 입력텐서의 두번쨰 축임 "
      ],
      "metadata": {
        "id": "uZehq7bJR1ye"
      }
    },
    {
      "cell_type": "code",
      "source": [
        "from keras.datasets import imdb\n",
        "from tensorflow.keras.preprocessing import sequence\n",
        "\n",
        "max_feautures = 10000\n",
        "max_len=500\n",
        "\n",
        "(x_train,y_train),(x_test,y_test) = imdb.load_data(num_words=max_feautures)\n",
        "print(len(x_train),len(x_test))"
      ],
      "metadata": {
        "colab": {
          "base_uri": "https://localhost:8080/"
        },
        "id": "NwC_atifTBKC",
        "outputId": "b1ad4420-b26d-4cb8-c7c0-3e453411972a"
      },
      "execution_count": 28,
      "outputs": [
        {
          "output_type": "stream",
          "name": "stdout",
          "text": [
            "25000 25000\n"
          ]
        }
      ]
    },
    {
      "cell_type": "code",
      "source": [
        "x_train = sequence.pad_sequences(x_train,maxlen=max_len)\n",
        "x_test = sequence.pad_sequences(x_test,maxlen=max_len)\n",
        "print(x_train.shape,x_test.shape)"
      ],
      "metadata": {
        "colab": {
          "base_uri": "https://localhost:8080/"
        },
        "id": "A_PRxHTGUhyv",
        "outputId": "40e120d3-984f-411f-ee71-03200bb2a54a"
      },
      "execution_count": 29,
      "outputs": [
        {
          "output_type": "stream",
          "name": "stdout",
          "text": [
            "(25000, 500) (25000, 500)\n"
          ]
        }
      ]
    },
    {
      "cell_type": "code",
      "source": [
        "from keras.models import Sequential\n",
        "from keras import layers\n",
        "from keras.optimizers import RMSprop\n",
        "\n",
        "model = Sequential()\n",
        "model.add(layers.Embedding(max_feautures,128,input_length=max_len))\n",
        "model.add(layers.Conv1D(32,7,activation='relu'))\n",
        "model.add(layers.MaxPool1D(5))\n",
        "model.add(layers.Conv1D(32,7,activation='relu'))\n",
        "model.add(layers.GlobalMaxPool1D())\n",
        "model.add(layers.Dense(1))\n",
        "\n",
        "model.summary()"
      ],
      "metadata": {
        "colab": {
          "base_uri": "https://localhost:8080/"
        },
        "id": "mH5EMibKUxm_",
        "outputId": "8c8c66db-9276-4a48-b7a8-98514de03b04"
      },
      "execution_count": 30,
      "outputs": [
        {
          "output_type": "stream",
          "name": "stdout",
          "text": [
            "Model: \"sequential_4\"\n",
            "_________________________________________________________________\n",
            " Layer (type)                Output Shape              Param #   \n",
            "=================================================================\n",
            " embedding_4 (Embedding)     (None, 500, 128)          1280000   \n",
            "                                                                 \n",
            " conv1d_8 (Conv1D)           (None, 494, 32)           28704     \n",
            "                                                                 \n",
            " max_pooling1d_4 (MaxPooling  (None, 98, 32)           0         \n",
            " 1D)                                                             \n",
            "                                                                 \n",
            " conv1d_9 (Conv1D)           (None, 92, 32)            7200      \n",
            "                                                                 \n",
            " global_max_pooling1d_1 (Glo  (None, 32)               0         \n",
            " balMaxPooling1D)                                                \n",
            "                                                                 \n",
            " dense_2 (Dense)             (None, 1)                 33        \n",
            "                                                                 \n",
            "=================================================================\n",
            "Total params: 1,315,937\n",
            "Trainable params: 1,315,937\n",
            "Non-trainable params: 0\n",
            "_________________________________________________________________\n"
          ]
        }
      ]
    },
    {
      "cell_type": "code",
      "source": [
        "model.compile(optimizer=RMSprop(learning_rate=1e-4),\n",
        "              loss = 'binary_crossentropy',\n",
        "              metrics=['accuracy'])\n",
        "history=model.fit(x_train,y_train,epochs=10,batch_size=128,validation_split=0.2)"
      ],
      "metadata": {
        "colab": {
          "base_uri": "https://localhost:8080/"
        },
        "id": "kduqOoYqXP9z",
        "outputId": "0faff9a1-40de-442f-e2f1-ef13e247cbc1"
      },
      "execution_count": 31,
      "outputs": [
        {
          "output_type": "stream",
          "name": "stdout",
          "text": [
            "Epoch 1/10\n",
            "157/157 [==============================] - 2s 11ms/step - loss: 0.9043 - accuracy: 0.5081 - val_loss: 0.6881 - val_accuracy: 0.5448\n",
            "Epoch 2/10\n",
            "157/157 [==============================] - 2s 10ms/step - loss: 0.6728 - accuracy: 0.6413 - val_loss: 0.6664 - val_accuracy: 0.6596\n",
            "Epoch 3/10\n",
            "157/157 [==============================] - 2s 10ms/step - loss: 0.6298 - accuracy: 0.7545 - val_loss: 0.6182 - val_accuracy: 0.7354\n",
            "Epoch 4/10\n",
            "157/157 [==============================] - 2s 10ms/step - loss: 0.5455 - accuracy: 0.8137 - val_loss: 0.5051 - val_accuracy: 0.8062\n",
            "Epoch 5/10\n",
            "157/157 [==============================] - 2s 10ms/step - loss: 0.4202 - accuracy: 0.8497 - val_loss: 0.4192 - val_accuracy: 0.8366\n",
            "Epoch 6/10\n",
            "157/157 [==============================] - 2s 10ms/step - loss: 0.3445 - accuracy: 0.8763 - val_loss: 0.4136 - val_accuracy: 0.8516\n",
            "Epoch 7/10\n",
            "157/157 [==============================] - 2s 10ms/step - loss: 0.3020 - accuracy: 0.8943 - val_loss: 0.4071 - val_accuracy: 0.8588\n",
            "Epoch 8/10\n",
            "157/157 [==============================] - 1s 10ms/step - loss: 0.2705 - accuracy: 0.9069 - val_loss: 0.4144 - val_accuracy: 0.8684\n",
            "Epoch 9/10\n",
            "157/157 [==============================] - 2s 10ms/step - loss: 0.2441 - accuracy: 0.9172 - val_loss: 0.4438 - val_accuracy: 0.8672\n",
            "Epoch 10/10\n",
            "157/157 [==============================] - 2s 10ms/step - loss: 0.2216 - accuracy: 0.9261 - val_loss: 0.4482 - val_accuracy: 0.8706\n"
          ]
        }
      ]
    },
    {
      "cell_type": "code",
      "source": [
        "from keraspp import skeras"
      ],
      "metadata": {
        "id": "_GBJn799Z-tF"
      },
      "execution_count": 25,
      "outputs": []
    },
    {
      "cell_type": "code",
      "source": [
        "skeras.plot_acc_loss(history)"
      ],
      "metadata": {
        "colab": {
          "base_uri": "https://localhost:8080/",
          "height": 573
        },
        "id": "Iuw21pLXaZoS",
        "outputId": "9d74d08c-3dab-46e4-ddfb-638ed46b445b"
      },
      "execution_count": 32,
      "outputs": [
        {
          "output_type": "display_data",
          "data": {
            "text/plain": [
              "<Figure size 432x288 with 1 Axes>"
            ],
            "image/png": "[encoded data removed]"
          },
          "metadata": {
            "needs_background": "light"
          }
        },
        {
          "output_type": "display_data",
          "data": {
            "text/plain": [
              "<Figure size 432x288 with 1 Axes>"
            ],
            "image/png": "[encoded data removed]"
          },
          "metadata": {
            "needs_background": "light"
          }
        }
      ]
    },
    {
      "cell_type": "code",
      "source": [],
      "metadata": {
        "id": "S0Q3XlLcabvr"
      },
      "execution_count": null,
      "outputs": []
    }
  ]
}