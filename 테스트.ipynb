{
  "nbformat": 4,
  "nbformat_minor": 0,
  "metadata": {
    "colab": {
      "provenance": [],
      "mount_file_id": "17ilYa5o1ASjxZUOFdiMA2cCuLLgSVjia",
      "authorship_tag": "ABX9TyOhI52M6MqaR6NT6Bm2eJUl",
      "include_colab_link": true
    },
    "kernelspec": {
      "name": "python3",
      "display_name": "Python 3"
    },
    "language_info": {
      "name": "python"
    }
  },
  "cells": [
    {
      "cell_type": "markdown",
      "metadata": {
        "id": "view-in-github",
        "colab_type": "text"
      },
      "source": [
        "<a href=\"https://colab.research.google.com/github/ttma333/python/blob/main/%ED%85%8C%EC%8A%A4%ED%8A%B8.ipynb\" target=\"_parent\"><img src=\"https://colab.research.google.com/assets/colab-badge.svg\" alt=\"Open In Colab\"/></a>"
      ]
    },
    {
      "cell_type": "markdown",
      "source": [
        "테스트\n",
        "\n"
      ],
      "metadata": {
        "id": "l7DXj99CYdIR"
      }
    },
    {
      "cell_type": "code",
      "source": [
        "cd/content/drive/MyDrive/중앙정보처리학원 수업"
      ],
      "metadata": {
        "colab": {
          "base_uri": "https://localhost:8080/"
        },
        "id": "KthVKvI-YfwN",
        "outputId": "7ab3fceb-7429-4114-d57a-7c3a4a3861db"
      },
      "execution_count": 2,
      "outputs": [
        {
          "output_type": "stream",
          "name": "stdout",
          "text": [
            "/content/drive/MyDrive/중앙정보처리학원 수업\n"
          ]
        }
      ]
    },
    {
      "cell_type": "code",
      "source": [
        "pwd"
      ],
      "metadata": {
        "colab": {
          "base_uri": "https://localhost:8080/",
          "height": 35
        },
        "id": "y5hGWI3mYm6w",
        "outputId": "c3246d98-8f6a-4784-942e-abfa5657a309"
      },
      "execution_count": 3,
      "outputs": [
        {
          "output_type": "execute_result",
          "data": {
            "text/plain": [
              "'/content/drive/MyDrive/중앙정보처리학원 수업'"
            ],
            "application/vnd.google.colaboratory.intrinsic+json": {
              "type": "string"
            }
          },
          "metadata": {},
          "execution_count": 3
        }
      ]
    },
    {
      "cell_type": "code",
      "source": [],
      "metadata": {
        "id": "LSrEZcJjYr4V"
      },
      "execution_count": null,
      "outputs": []
    }
  ]
}