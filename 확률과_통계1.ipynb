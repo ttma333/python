{
  "nbformat": 4,
  "nbformat_minor": 0,
  "metadata": {
    "colab": {
      "provenance": [],
      "mount_file_id": "1ScwWRcdf1OPCt_XmIZ03NYCqnVeHR9ib",
      "authorship_tag": "ABX9TyOIG7Ee2z9ZHUa0s1buXNjP",
      "include_colab_link": true
    },
    "kernelspec": {
      "name": "python3",
      "display_name": "Python 3"
    },
    "language_info": {
      "name": "python"
    },
    "gpuClass": "standard"
  },
  "cells": [
    {
      "cell_type": "markdown",
      "metadata": {
        "id": "view-in-github",
        "colab_type": "text"
      },
      "source": [
        "<a href=\"https://colab.research.google.com/github/ttma333/python/blob/main/%ED%99%95%EB%A5%A0%EA%B3%BC_%ED%86%B5%EA%B3%841.ipynb\" target=\"_parent\"><img src=\"https://colab.research.google.com/assets/colab-badge.svg\" alt=\"Open In Colab\"/></a>"
      ]
    },
    {
      "cell_type": "markdown",
      "source": [
        "집합과 원소\n",
        "- 구별 가능한 객체의 모임을 집합이라고 하고 집합에 포함된 구별 가능한 객체를 그집합의 원소라고 한다.\n",
        "- 파이썬에서 set과 frozenset 자료형으로 집합을 나타낸다.\n",
        "  - set:내용 변경할수 있는 mutable 자료형\n",
        "  - frozenset: 내용 변경할수 없는 immutable 자료형"
      ],
      "metadata": {
        "id": "wWxD3B3SBnYu"
      }
    },
    {
      "cell_type": "markdown",
      "source": [
        "확률의 수학적 정의와 의미\n",
        "- 표본공간 과 확률표본\n",
        " * 확률표본 또는 표본은 풀고자 하는 문제에서 발생할 수 있는 하나의 현상 혹은 선택될 수 있는 하나의 경우를 말한다.\n",
        " * 표본공간은 가능한 모든 표본의 집합을 말하며 고려하는 범위에서 어떤 표본(경우, 현상)이 가능하고 어떤 표본이 가능하지 않은가를 정의하는 작업. 표본공간 = {H,T}, (표본 : H(동전의 앞면), T(동전의 뒷면))\n",
        " * 사건은 표본공간의 부분집합, 즉 전체 표본공간 중에서 관심을 가지는 일부 표본의 집합\n",
        " \n",
        "확률\n",
        "- 확률이란 사건(부분집합)을 입력하면 숫자(확률값)가 출력되는 함수\n",
        "- 모든 각각의 사건(부분집합)에 어떤 숫자를 할당하는 함수\n",
        "- 확률은 표본이 아닌 사건을 입력으로 가지는 함수\n",
        "\n",
        "확률의 의미\n",
        "- 빈도주의 관점 : 반복적으로 선택된 표본이 사건(부분집합) A의 원소가 될 경향. 동전을 던져 앞면이 나오는 사건의 확률값은 0.5\n",
        "- 베이지안 관점 : 선택된 표본이 특정한 사건(부분집합)에 속한다는 가설,명제 혹은 주장의 신뢰도로 반복이라는 개념은 사용되지 않음. 새가 날수 있는 가능성은 95%. '앞면이 나왔다'는 주장의 신뢰도가 0.5%\n",
        " * 베이지안 확률론에서 사건이 일어났다 혹은 발생했다하는 말은 그 사건의 원소 중에 정말로 선택된 표본이 있다는 사실을 알게 되었다는 것을 말한다.\n",
        " \n",
        "확률의 성질\n",
        "- 공집합의 확률 : 공집합인 사건의 합은 0이다. P(0) = 0\n",
        "- 여집합의 확률 : 어떤 사건의 여집합인 사건의 확률은 1 - 원래 사건의 확률 과 같다.\n",
        "- 포함-배제 원리 : 두 사건의 합집합의 확률은 각 사건의 확률의 합에서 두 사건의 교집합의 확률을 뺀 것과 같다.\n",
        "- 전체 확률의 법칙 : 생일이 1월인 남자라는 사건의 확률과 생일이 2월인 남자라는 사건의 확률, 이외에도 각각의 월을 생일로 가지는 남자라는 사건들의 확률을 모두 합하면 남자라는 사건의 확률이 된다. 각각의 월에 있는 남자의 생일이 서로 공통 원소가 없음\n"
      ],
      "metadata": {
        "id": "eUWI3DmTDdus"
      }
    },
    {
      "cell_type": "markdown",
      "source": [
        "확률분포함수\n",
        "- 확률이 어디에 어느 정도 분포되어 있는지를 수학적으로 명시하고 전달하는 도구\n",
        "- 만약 표본의 개수가 무한하다면 현실적으로 모든 사건을 하나 하나 기술하는 것은 불가능하며 확률분포함수를 이용하여 이 문제를 해결\n",
        " * 확률질량함수 : 유한 개의 사건이 존재하는 경우 각 단수사건에 대한 확률만 정의하는 함수\n",
        " * 누적분포함수 : 시작점을 모두 똑같이 음의 무한대로 통일한 특수한 구간을 사용하는 사건의 확률분포를 묘사하는 함수\n",
        " * 확률밀도함수 : 누적분포함수를 미분하여 구한 도함수를 의미하며 특정한 구간의 확률이 다른 구간에 비해 상대적으로 얼마난 높은가를 나타내는 것이며 그 값 자체가 확률은 아니다.\n",
        "\n",
        "확률변수\n",
        " - 확률적인 숫자 값을 출력하는 변수\n"
      ],
      "metadata": {
        "id": "TWeTBzZ5EUQk"
      }
    },
    {
      "cell_type": "markdown",
      "source": [
        "#### 추측통계\n",
        "확률을 사용하여 모집단의 통계적 성질을 추측하는 기법\n",
        "\n",
        "[모집단 분포와 표본분포]  \n",
        "\n",
        "- 모집단: 어떤 통계적 실험의 대상이 되는 모든 대상물. ex. 대한민국 모든 남성의 키 데이터, 2018 수능점수 데이터\n",
        "- 모집단 분포: 모집단은 데이터 집단이므로 어떠한 분포를 이루며 이 데이터가 이루는 확률 분포가 모집단 분포\n",
        "- 모수: 모집단의 특성을 나타내는 수치로 모평균,모분산,모표준편차,모비율,모상관관계 등  \n",
        "  수능점수 전체데이터를 알고 싶은 것이 아니라 전체 수능점수 평균, 표준편차를 알고 싶어한다.\n",
        "  수능점수와 달리 일반적으로 대부분의 모집단 분포는 완전하게 알려진 것이 없으며 전수조사는 경제적, 공간적, 시간적 제약으로 인해 거의 불가능\n",
        "- 표본: 모집단의 모수(특성)을 알기 위하여 표본을 추출해서 모집단의 모수를 추정\n",
        "- 확률표본:  모집단을 구성하는 모든 구성원이 표본으로 뽑힐 확률을 동일하게 하여 추출한 표본. Random이란 무작위라는 의미로, 어떠한 의도를 가지지 않는다는 것을 의미하며, 모든 구성원이 뽑힐 확률이 동일하다는 개념. \n",
        "- 통계량: 확률표본의 특성을 설명하는 값으로 표본평균, 표본분산, 표본표준편차, 표본비율, 표본상관관계 등  \n",
        "  모수는 모집단이 변하지 않기 때문에 그 값이 변하지 않으나 통계량은 표본을 어떻게 추출하느냐에 따라서 그 값이 다르게 나타난다.\n",
        "- 확률변수: 무작위 실험을 했을 때 특정 확률로 발생하는 각각의 결과를 수치값으로 표현한 변수. 동전의 앞과 뒤\n"
      ],
      "metadata": {
        "id": "O0L-icFWEXsi"
      }
    },
    {
      "cell_type": "markdown",
      "source": [
        "- 확률분포: 확률변수 X의 모든 값과 그 에 대응하는 확률값들의 분포. 동전의 앞 0.5, 뒤 0.5 \n",
        "- 무작위로 표본 30개씩 반복해서 100번 추출하면 100번 추출한 표본 30개의 평균값들을 100개 구할 수 있다. 추출된 표본들의 각 평균값들에 대한 발생 분포를 그려보면 특정 확률변수에 대응하는 확률을 가진 확률 분포를 그릴 수 있다. 이것을 통계량의 확률분포라고 할 수 있고 이를 표본분포라고 부른다. \n",
        "- 통계량이 확률 변수라는 의미: 확률변수의 확률분포가 수학적으로 설명가능한 분포(예, 정규분포)를 따른다고 하면 특정 확률변수와 확률함수를 알고 있다면 특정 사건이 일어날 확률을 계산할 수 있으며 더 나아가 모수와 통계량의 관계를 알고 있다면 그것을 통해 모수에 대한 통계적인 추정을 할 수 있다. 즉 통계량의 확률 함수 또는 표본 분포를 안다고 가정하면 이를 이용해 모수를 추정할 수 있다.\n"
      ],
      "metadata": {
        "id": "_pYU5x7TJpDT"
      }
    },
    {
      "cell_type": "markdown",
      "source": [
        "[표본통계량 성질]\n",
        "\n",
        "- 샘플사이즈가 크면 표본평균은 모평균에 가까워진다.\n",
        "- 샘플사이즈가 커질수록 표본평균의 표준편차가 작아짐. 샘플사이즈를 크게 하면 흩어짐이 적은 신뢰할 수 있는 표본평균을 얻을 수 있다.\n",
        "- 표준오차는이론상 표본평균의 표준편차 크기인데 샘플사이즈가 커지면 표준오차는 작아짐\n",
        "- 모분산은 0.64, 표본분산의 평균값은 0.575로 분산이 과소평가되어짐 -> 불편분산을 사용, 편향을 제거(ddof =1)\n",
        "- 샘플사이즈가 커질수록 불편분산은 모분산(0.64)에 가까워짐\n",
        "- 불편성 : 추정량의 기댓값이 진짜 모수(모집단의 파라미터)가 되는 특성. 편향이 없는 추정량\n",
        "- 일치성 : 샘플사이즈가 커지면 추정량이 진짜 모수에 가까워지는 특성\n",
        "- 표본평균과 불편분산은 둘다 불편성을 가지고 있다고 할 수 있다.\n",
        "- 샘플사이즈를 크게 하면 표본평균은 모평균에 가까워지고 불편분산은 모분산에 가까워지므로 일치성을 가짐\n",
        "- 큰수의 법칙 : 표본의 크기가 커지면 표본평균이 모평균에 가까워지는 방법을 표현한 법칙\n",
        "- 중심극한정리 : 모집단분포가 무엇이든지간에 샘플사이즈가 커지면 표본 평균들이 이루는 분포가 모집단의 평균μ, 표준편차σ/sqrt(n)인 정규분포에 가까워진다는 정리  \n",
        "  https://drhongdatanote.tistory.com/57\n"
      ],
      "metadata": {
        "id": "LzYqqOXFJu1R"
      }
    },
    {
      "cell_type": "markdown",
      "source": [
        "[표본분산이 분산을 과소평가하는 이유]\n",
        "\n",
        "- 분산은 '데이터와 평균값의 간의 거리' 이므로 모평균 간의 거리를 계산 : np.sum((fish_data - mu)**2)/N  \n",
        "호수안에 물고기가 7마리 있다. 몸길이 {1,2,3,4,5,6,7}, 모평균 4,  \n",
        "샘플링 3마리 {1,2,3} 표본평균 2  \n",
        "이때 분산은 모평균을 모르기 때문에 표본평균과의 거리를 계산하며 분산을 과소평가 하게된다.\n",
        "- 표본 분산 보다 조금 더 큰 값이 되도록 보정하기 위하여 N 대신 N-1로 나누어 불편분산을 구할 수 있다.\n",
        "    \n",
        "[통계량 선정시 평가기준]\n",
        "\n",
        "- 불편성: 표본으로부터 구한 통계량의 기대치가 추정하려 하는 모수의 실제 값에 같거나 가까워지는 성질을 의미\n",
        "- 효율성: 모수 추정시 분산이 작을수록 모수를 정확하게 추정할 가능성이 높다.\n",
        "- 일치성: 표본의 크기가 커감에 따라서 표본의 통계량이 모집단의 모수와 일치하는 것을 의미\n",
        "- 충분성: 동일한 표본으로부터 얻은 추정량이 모집단의 모수에 대한 정보를 더 많이 제공하는 것을 의미\n"
      ],
      "metadata": {
        "id": "nXsDIAC9JzL1"
      }
    },
    {
      "cell_type": "markdown",
      "source": [
        "[정규분포]  \n",
        "https://quickdata.tistory.com/26  \n",
        "https://math100.tistory.com/40  \n",
        "정규분포는 연속확률분포로서 가장 자주 쓰이는 확률분포입니다. 모양은 평균을 중심으로 하나의 봉우리형태를 띄며 한 집단의 많은 사람들의 키, 몸무게, 시험성적 등의 데이터에 잘 나타나는 분포\n",
        "\n",
        "- 누적분포함수 : 확률분포에서 얻은 확률변수 3 이하가 되는 확률. Cumulative density function\n",
        " - stats.norm.cdf(loc = 4, scale = 0.8, x = 3)\n",
        "- 정규분포의 확률밀도 계산\n",
        " - 확률변수 3일때의 확률밀도 N(3|4,0.8**2)\n",
        " - stats.norm.pdf(loc = 4, scale = 0.8, x = 3)  Probability density function\n",
        "- 하측확률 : \"확률변수 x가 N보다 낮을 확률은 M퍼센트다\" 에서 N을 고정하고 M을 구하는 경우\n",
        " - 이때의 M이 하측확률이며 M(확률)을 고정하고 N(변수)을 구하는 경우 이때의 N이 퍼센트포인트 하측확률이 2.5%가 되는 퍼센트포인트\n",
        " - stats.norm.ppf(loc = 4, scale = 0.8, q = 0.025) Percent point function\n",
        "- stats.norm.pdf(x=x)로 하여 loc와 scale을 지정하지 않을 경우 표준정규분포가 됨. probability density function\n",
        "- stats.norm.rvs() 함수는 정규확률분포로부터 난수 생성. Random variates\n",
        "- t분포의 의미 : 모분산을 모르는 상황에서도 표본평균의 분포에 대해 애기할 수 있으며\n",
        " - t분포를 만들 때 표본에서 계산한 포준오차로 표본평균을 표준화함\n",
        " - 표본에서 계산한 표준오차로 표본평균을 표준화했을 경우의 결과가 t분포를 따른다는 사실을 이용하면 얻어낸 표본평균에 관한 불확실성을 짐작할 수 있음\n"
      ],
      "metadata": {
        "id": "-wVTgBkFJ2d4"
      }
    },
    {
      "cell_type": "markdown",
      "source": [
        "[t분포의 특성]\n",
        "\n",
        "t분포는 모집단이 정규분포 이더라도 분산 σ²이 알려져 있지 않고 표분의 수가 적은 경우에, 평균 μ에 대한 신뢰구간 추정 및 가설검정에 아주 유용하게 쓰이는 분포\n",
        "1. t분포는 표준정규분포처럼 0을 중심으로 종형의 모습을 가진 대칭 분포이다.\n",
        "2. t분포의 꼬리는 표준정규분포보다 두껍다(fat tail).\n",
        "3. t분포는 자유도 n에 따라 모습이 변하는데, 자유도 n이 커짐에 따라 표준정규분포 N(0,1)에 수렴한다.  \n",
        "통상 모집단의 분산이 알려져 있지 않은 경우, 표분분포를 결정할 때 표본의 크기가 30 이하이면 t분포를, 그 크기가 30 이상이면 표준정규분포를 이용\n"
      ],
      "metadata": {
        "id": "JeqWvOR7J6nX"
      }
    },
    {
      "cell_type": "code",
      "source": [
        "import numpy as np\n",
        "import pandas as pd\n",
        "fish_data = np.array([2,3,3,4,4,4,4,5,5,6])\n",
        "fish_data"
      ],
      "metadata": {
        "colab": {
          "base_uri": "https://localhost:8080/"
        },
        "id": "_nY_C7AxJ9op",
        "outputId": "ed23ceb7-d167-4429-a250-cd67ee4f2573"
      },
      "execution_count": 2,
      "outputs": [
        {
          "output_type": "execute_result",
          "data": {
            "text/plain": [
              "array([2, 3, 3, 4, 4, 4, 4, 5, 5, 6])"
            ]
          },
          "metadata": {},
          "execution_count": 2
        }
      ]
    },
    {
      "cell_type": "code",
      "source": [
        "np.sum(fish_data)"
      ],
      "metadata": {
        "colab": {
          "base_uri": "https://localhost:8080/"
        },
        "id": "ozseOFfIYq_2",
        "outputId": "732fee5d-26a0-4394-d0a0-cb05a02af5ba"
      },
      "execution_count": 3,
      "outputs": [
        {
          "output_type": "execute_result",
          "data": {
            "text/plain": [
              "40"
            ]
          },
          "metadata": {},
          "execution_count": 3
        }
      ]
    },
    {
      "cell_type": "code",
      "source": [
        "len(fish_data)"
      ],
      "metadata": {
        "colab": {
          "base_uri": "https://localhost:8080/"
        },
        "id": "6boYEzhiYuF9",
        "outputId": "f34df05b-90ba-4607-ef7d-843d4a886464"
      },
      "execution_count": 4,
      "outputs": [
        {
          "output_type": "execute_result",
          "data": {
            "text/plain": [
              "10"
            ]
          },
          "metadata": {},
          "execution_count": 4
        }
      ]
    },
    {
      "cell_type": "code",
      "source": [
        "#평균\n",
        "N = len(fish_data)\n",
        "sum_value = np.sum(fish_data)\n",
        "mu = sum_value/N\n",
        "mu"
      ],
      "metadata": {
        "colab": {
          "base_uri": "https://localhost:8080/"
        },
        "id": "cRA4QpjlYvSf",
        "outputId": "cedb1838-d6de-4cb0-9227-5fc12054ea04"
      },
      "execution_count": 5,
      "outputs": [
        {
          "output_type": "execute_result",
          "data": {
            "text/plain": [
              "4.0"
            ]
          },
          "metadata": {},
          "execution_count": 5
        }
      ]
    },
    {
      "cell_type": "code",
      "source": [
        "np.mean(fish_data)"
      ],
      "metadata": {
        "colab": {
          "base_uri": "https://localhost:8080/"
        },
        "id": "fADv8bVJY5id",
        "outputId": "a8cde95a-ac6a-418b-afd0-bf81e6de9e0a"
      },
      "execution_count": 6,
      "outputs": [
        {
          "output_type": "execute_result",
          "data": {
            "text/plain": [
              "4.0"
            ]
          },
          "metadata": {},
          "execution_count": 6
        }
      ]
    },
    {
      "cell_type": "code",
      "source": [
        "# 표본분산\n",
        "sigma_2_sample = np.sum((fish_data-mu)**2)/N\n",
        "sigma_2_sample"
      ],
      "metadata": {
        "colab": {
          "base_uri": "https://localhost:8080/"
        },
        "id": "qe-BY6wPY8nf",
        "outputId": "c728bc30-1fbc-4761-a6cf-7726c2f66515"
      },
      "execution_count": 7,
      "outputs": [
        {
          "output_type": "execute_result",
          "data": {
            "text/plain": [
              "1.2"
            ]
          },
          "metadata": {},
          "execution_count": 7
        }
      ]
    },
    {
      "cell_type": "code",
      "source": [
        "np.var(fish_data)"
      ],
      "metadata": {
        "colab": {
          "base_uri": "https://localhost:8080/"
        },
        "id": "XVvpCLghZGj0",
        "outputId": "4a4a005e-c475-43f5-92e9-276828a6df7d"
      },
      "execution_count": 8,
      "outputs": [
        {
          "output_type": "execute_result",
          "data": {
            "text/plain": [
              "1.2"
            ]
          },
          "metadata": {},
          "execution_count": 8
        }
      ]
    },
    {
      "cell_type": "code",
      "source": [
        "np.std(fish_data)"
      ],
      "metadata": {
        "colab": {
          "base_uri": "https://localhost:8080/"
        },
        "id": "Vqx9gHugZPGh",
        "outputId": "c58462e6-d4b4-465a-a985-7ab076e36cba"
      },
      "execution_count": 9,
      "outputs": [
        {
          "output_type": "execute_result",
          "data": {
            "text/plain": [
              "1.0954451150103321"
            ]
          },
          "metadata": {},
          "execution_count": 9
        }
      ]
    },
    {
      "cell_type": "code",
      "source": [
        "#불편분산\n",
        "np.var(fish_data,ddof=1)"
      ],
      "metadata": {
        "colab": {
          "base_uri": "https://localhost:8080/"
        },
        "id": "wVSoStVtZRoC",
        "outputId": "9c5b3663-7a2a-4c94-9ab9-ac009258a861"
      },
      "execution_count": 10,
      "outputs": [
        {
          "output_type": "execute_result",
          "data": {
            "text/plain": [
              "1.3333333333333333"
            ]
          },
          "metadata": {},
          "execution_count": 10
        }
      ]
    },
    {
      "cell_type": "code",
      "source": [
        "np.std(fish_data,ddof=1).round(2)\n",
        "std2 = np.std(fish_data,ddof=1)\n",
        "np.round(std2,2)"
      ],
      "metadata": {
        "colab": {
          "base_uri": "https://localhost:8080/"
        },
        "id": "MmuvT4RuZZNt",
        "outputId": "e3d5ffcc-2dab-4a55-d399-39332ef89187"
      },
      "execution_count": 12,
      "outputs": [
        {
          "output_type": "execute_result",
          "data": {
            "text/plain": [
              "1.15"
            ]
          },
          "metadata": {},
          "execution_count": 12
        }
      ]
    },
    {
      "cell_type": "code",
      "source": [
        "# Q. a의 평균 분산 표준편차 편차의 평균을 구하세요.\n",
        "# a = np.arange(15)\n",
        "# A.\n",
        "a = np.arange(15)\n",
        "print(a)\n",
        "m =np.mean(a)\n",
        "v = np.var(a,ddof=1)\n",
        "s = np.std(a,ddof=1)\n",
        "print(m)\n",
        "print(v)\n",
        "print(s)\n",
        "np.mean(a-m)"
      ],
      "metadata": {
        "colab": {
          "base_uri": "https://localhost:8080/"
        },
        "id": "PhXmKXG3ZqiZ",
        "outputId": "4d3e8d68-c9f6-4d52-883e-852b9cd93e71"
      },
      "execution_count": 13,
      "outputs": [
        {
          "output_type": "stream",
          "name": "stdout",
          "text": [
            "[ 0  1  2  3  4  5  6  7  8  9 10 11 12 13 14]\n",
            "7.0\n",
            "20.0\n",
            "4.47213595499958\n"
          ]
        },
        {
          "output_type": "execute_result",
          "data": {
            "text/plain": [
              "0.0"
            ]
          },
          "metadata": {},
          "execution_count": 13
        }
      ]
    },
    {
      "cell_type": "code",
      "source": [
        "from scipy import stats\n",
        "stats.scoreatpercentile(fish_data,75)"
      ],
      "metadata": {
        "colab": {
          "base_uri": "https://localhost:8080/"
        },
        "id": "PFcB3eTcaK3_",
        "outputId": "9ae9aef1-9ca7-457b-de44-fb7a2f844623"
      },
      "execution_count": 14,
      "outputs": [
        {
          "output_type": "execute_result",
          "data": {
            "text/plain": [
              "4.75"
            ]
          },
          "metadata": {},
          "execution_count": 14
        }
      ]
    },
    {
      "cell_type": "code",
      "source": [
        "from scipy import stats\n",
        "stats.scoreatpercentile(fish_data,25)"
      ],
      "metadata": {
        "colab": {
          "base_uri": "https://localhost:8080/"
        },
        "id": "bpedFZFqbQL-",
        "outputId": "e5ea7fb8-8248-4baa-dd66-73ab8149481b"
      },
      "execution_count": 17,
      "outputs": [
        {
          "output_type": "execute_result",
          "data": {
            "text/plain": [
              "3.25"
            ]
          },
          "metadata": {},
          "execution_count": 17
        }
      ]
    },
    {
      "cell_type": "code",
      "source": [
        "from scipy import stats\n",
        "stats.scoreatpercentile(fish_data,50)"
      ],
      "metadata": {
        "colab": {
          "base_uri": "https://localhost:8080/"
        },
        "id": "DVwA_svxbQUH",
        "outputId": "1705b4cd-9fd4-4e14-bf1b-c39aff395766"
      },
      "execution_count": 18,
      "outputs": [
        {
          "output_type": "execute_result",
          "data": {
            "text/plain": [
              "4.0"
            ]
          },
          "metadata": {},
          "execution_count": 18
        }
      ]
    },
    {
      "cell_type": "code",
      "source": [
        "fish_data2 = np.array([2,3,3,4,4,4,4,5,5,6,100])"
      ],
      "metadata": {
        "id": "1legxL1baZiL"
      },
      "execution_count": 15,
      "outputs": []
    },
    {
      "cell_type": "code",
      "source": [
        "print(fish_data2)\n",
        "print('평균:',fish_data2.mean().round(2))\n",
        "print('중앙값:',np.median(fish_data2))"
      ],
      "metadata": {
        "colab": {
          "base_uri": "https://localhost:8080/"
        },
        "id": "EsOXuz_Zafqd",
        "outputId": "19e8274d-256b-49b8-bd4a-2ec111e508db"
      },
      "execution_count": 16,
      "outputs": [
        {
          "output_type": "stream",
          "name": "stdout",
          "text": [
            "[  2   3   3   4   4   4   4   5   5   6 100]\n",
            "평균: 12.73\n",
            "중앙값: 4.0\n"
          ]
        }
      ]
    },
    {
      "cell_type": "markdown",
      "source": [
        "![필기2.png](data:image/png;base64,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)"
      ],
      "metadata": {
        "id": "eVR5EEwMa9XO"
      }
    },
    {
      "cell_type": "code",
      "source": [
        "pwd"
      ],
      "metadata": {
        "colab": {
          "base_uri": "https://localhost:8080/",
          "height": 35
        },
        "id": "jo8s6UtqcpaC",
        "outputId": "bd59ee83-0c48-4ce3-94dd-9df58180c4e3"
      },
      "execution_count": 19,
      "outputs": [
        {
          "output_type": "execute_result",
          "data": {
            "text/plain": [
              "'/content'"
            ],
            "application/vnd.google.colaboratory.intrinsic+json": {
              "type": "string"
            }
          },
          "metadata": {},
          "execution_count": 19
        }
      ]
    },
    {
      "cell_type": "code",
      "source": [
        "cd/content/drive/MyDrive/딥러닝 수업"
      ],
      "metadata": {
        "colab": {
          "base_uri": "https://localhost:8080/"
        },
        "id": "-GYF2z5fdkab",
        "outputId": "d2aa6289-624d-4038-bf28-dfe2d9310709"
      },
      "execution_count": 20,
      "outputs": [
        {
          "output_type": "stream",
          "name": "stdout",
          "text": [
            "/content/drive/MyDrive/딥러닝 수업\n"
          ]
        }
      ]
    },
    {
      "cell_type": "code",
      "source": [
        "fish_multi=pd.read_csv('5_2_fm.csv')\n",
        "fish_multi"
      ],
      "metadata": {
        "colab": {
          "base_uri": "https://localhost:8080/",
          "height": 238
        },
        "id": "ajto8HVVdqAx",
        "outputId": "fc9f7c13-3096-4b46-bfa4-c62904865190"
      },
      "execution_count": 21,
      "outputs": [
        {
          "output_type": "execute_result",
          "data": {
            "text/plain": [
              "  species  length\n",
              "0       A       2\n",
              "1       A       3\n",
              "2       A       4\n",
              "3       B       6\n",
              "4       B       8\n",
              "5       B      10"
            ],
            "text/html": [
              "\n",
              "  <div id=\"df-5fad7087-48cd-4aa4-9a0b-4d243f618ff2\">\n",
              "    <div class=\"colab-df-container\">\n",
              "      <div>\n",
              "<style scoped>\n",
              "    .dataframe tbody tr th:only-of-type {\n",
              "        vertical-align: middle;\n",
              "    }\n",
              "\n",
              "    .dataframe tbody tr th {\n",
              "        vertical-align: top;\n",
              "    }\n",
              "\n",
              "    .dataframe thead th {\n",
              "        text-align: right;\n",
              "    }\n",
              "</style>\n",
              "<table border=\"1\" class=\"dataframe\">\n",
              "  <thead>\n",
              "    <tr style=\"text-align: right;\">\n",
              "      <th></th>\n",
              "      <th>species</th>\n",
              "      <th>length</th>\n",
              "    </tr>\n",
              "  </thead>\n",
              "  <tbody>\n",
              "    <tr>\n",
              "      <th>0</th>\n",
              "      <td>A</td>\n",
              "      <td>2</td>\n",
              "    </tr>\n",
              "    <tr>\n",
              "      <th>1</th>\n",
              "      <td>A</td>\n",
              "      <td>3</td>\n",
              "    </tr>\n",
              "    <tr>\n",
              "      <th>2</th>\n",
              "      <td>A</td>\n",
              "      <td>4</td>\n",
              "    </tr>\n",
              "    <tr>\n",
              "      <th>3</th>\n",
              "      <td>B</td>\n",
              "      <td>6</td>\n",
              "    </tr>\n",
              "    <tr>\n",
              "      <th>4</th>\n",
              "      <td>B</td>\n",
              "      <td>8</td>\n",
              "    </tr>\n",
              "    <tr>\n",
              "      <th>5</th>\n",
              "      <td>B</td>\n",
              "      <td>10</td>\n",
              "    </tr>\n",
              "  </tbody>\n",
              "</table>\n",
              "</div>\n",
              "      <button class=\"colab-df-convert\" onclick=\"convertToInteractive('df-5fad7087-48cd-4aa4-9a0b-4d243f618ff2')\"\n",
              "              title=\"Convert this dataframe to an interactive table.\"\n",
              "              style=\"display:none;\">\n",
              "        \n",
              "  <svg xmlns=\"http://www.w3.org/2000/svg\" height=\"24px\"viewBox=\"0 0 24 24\"\n",
              "       width=\"24px\">\n",
              "    <path d=\"M0 0h24v24H0V0z\" fill=\"none\"/>\n",
              "    <path d=\"M18.56 5.44l.94 2.06.94-2.06 2.06-.94-2.06-.94-.94-2.06-.94 2.06-2.06.94zm-11 1L8.5 8.5l.94-2.06 2.06-.94-2.06-.94L8.5 2.5l-.94 2.06-2.06.94zm10 10l.94 2.06.94-2.06 2.06-.94-2.06-.94-.94-2.06-.94 2.06-2.06.94z\"/><path d=\"M17.41 7.96l-1.37-1.37c-.4-.4-.92-.59-1.43-.59-.52 0-1.04.2-1.43.59L10.3 9.45l-7.72 7.72c-.78.78-.78 2.05 0 2.83L4 21.41c.39.39.9.59 1.41.59.51 0 1.02-.2 1.41-.59l7.78-7.78 2.81-2.81c.8-.78.8-2.07 0-2.86zM5.41 20L4 18.59l7.72-7.72 1.47 1.35L5.41 20z\"/>\n",
              "  </svg>\n",
              "      </button>\n",
              "      \n",
              "  <style>\n",
              "    .colab-df-container {\n",
              "      display:flex;\n",
              "      flex-wrap:wrap;\n",
              "      gap: 12px;\n",
              "    }\n",
              "\n",
              "    .colab-df-convert {\n",
              "      background-color: #E8F0FE;\n",
              "      border: none;\n",
              "      border-radius: 50%;\n",
              "      cursor: pointer;\n",
              "      display: none;\n",
              "      fill: #1967D2;\n",
              "      height: 32px;\n",
              "      padding: 0 0 0 0;\n",
              "      width: 32px;\n",
              "    }\n",
              "\n",
              "    .colab-df-convert:hover {\n",
              "      background-color: #E2EBFA;\n",
              "      box-shadow: 0px 1px 2px rgba(60, 64, 67, 0.3), 0px 1px 3px 1px rgba(60, 64, 67, 0.15);\n",
              "      fill: #174EA6;\n",
              "    }\n",
              "\n",
              "    [theme=dark] .colab-df-convert {\n",
              "      background-color: #3B4455;\n",
              "      fill: #D2E3FC;\n",
              "    }\n",
              "\n",
              "    [theme=dark] .colab-df-convert:hover {\n",
              "      background-color: #434B5C;\n",
              "      box-shadow: 0px 1px 3px 1px rgba(0, 0, 0, 0.15);\n",
              "      filter: drop-shadow(0px 1px 2px rgba(0, 0, 0, 0.3));\n",
              "      fill: #FFFFFF;\n",
              "    }\n",
              "  </style>\n",
              "\n",
              "      <script>\n",
              "        const buttonEl =\n",
              "          document.querySelector('#df-5fad7087-48cd-4aa4-9a0b-4d243f618ff2 button.colab-df-convert');\n",
              "        buttonEl.style.display =\n",
              "          google.colab.kernel.accessAllowed ? 'block' : 'none';\n",
              "\n",
              "        async function convertToInteractive(key) {\n",
              "          const element = document.querySelector('#df-5fad7087-48cd-4aa4-9a0b-4d243f618ff2');\n",
              "          const dataTable =\n",
              "            await google.colab.kernel.invokeFunction('convertToInteractive',\n",
              "                                                     [key], {});\n",
              "          if (!dataTable) return;\n",
              "\n",
              "          const docLinkHtml = 'Like what you see? Visit the ' +\n",
              "            '<a target=\"_blank\" href=https://colab.research.google.com/notebooks/data_table.ipynb>data table notebook</a>'\n",
              "            + ' to learn more about interactive tables.';\n",
              "          element.innerHTML = '';\n",
              "          dataTable['output_type'] = 'display_data';\n",
              "          await google.colab.output.renderOutput(dataTable, element);\n",
              "          const docLink = document.createElement('div');\n",
              "          docLink.innerHTML = docLinkHtml;\n",
              "          element.appendChild(docLink);\n",
              "        }\n",
              "      </script>\n",
              "    </div>\n",
              "  </div>\n",
              "  "
            ]
          },
          "metadata": {},
          "execution_count": 21
        }
      ]
    },
    {
      "cell_type": "code",
      "source": [
        "#그룹별 통계량 계산\n",
        "group = fish_multi.groupby('species')\n",
        "print(group.mean())\n",
        "print(group.std(ddof=1))\n",
        "group.describe()"
      ],
      "metadata": {
        "colab": {
          "base_uri": "https://localhost:8080/",
          "height": 322
        },
        "id": "J4QL07nZeEOn",
        "outputId": "ed00a1a4-dd84-4233-e537-cdb859b3f850"
      },
      "execution_count": 23,
      "outputs": [
        {
          "output_type": "stream",
          "name": "stdout",
          "text": [
            "         length\n",
            "species        \n",
            "A           3.0\n",
            "B           8.0\n",
            "         length\n",
            "species        \n",
            "A           1.0\n",
            "B           2.0\n"
          ]
        },
        {
          "output_type": "execute_result",
          "data": {
            "text/plain": [
              "        length                                    \n",
              "         count mean  std  min  25%  50%  75%   max\n",
              "species                                           \n",
              "A          3.0  3.0  1.0  2.0  2.5  3.0  3.5   4.0\n",
              "B          3.0  8.0  2.0  6.0  7.0  8.0  9.0  10.0"
            ],
            "text/html": [
              "\n",
              "  <div id=\"df-004234ff-dfd1-450a-aee4-fc8768e5b29b\">\n",
              "    <div class=\"colab-df-container\">\n",
              "      <div>\n",
              "<style scoped>\n",
              "    .dataframe tbody tr th:only-of-type {\n",
              "        vertical-align: middle;\n",
              "    }\n",
              "\n",
              "    .dataframe tbody tr th {\n",
              "        vertical-align: top;\n",
              "    }\n",
              "\n",
              "    .dataframe thead tr th {\n",
              "        text-align: left;\n",
              "    }\n",
              "\n",
              "    .dataframe thead tr:last-of-type th {\n",
              "        text-align: right;\n",
              "    }\n",
              "</style>\n",
              "<table border=\"1\" class=\"dataframe\">\n",
              "  <thead>\n",
              "    <tr>\n",
              "      <th></th>\n",
              "      <th colspan=\"8\" halign=\"left\">length</th>\n",
              "    </tr>\n",
              "    <tr>\n",
              "      <th></th>\n",
              "      <th>count</th>\n",
              "      <th>mean</th>\n",
              "      <th>std</th>\n",
              "      <th>min</th>\n",
              "      <th>25%</th>\n",
              "      <th>50%</th>\n",
              "      <th>75%</th>\n",
              "      <th>max</th>\n",
              "    </tr>\n",
              "    <tr>\n",
              "      <th>species</th>\n",
              "      <th></th>\n",
              "      <th></th>\n",
              "      <th></th>\n",
              "      <th></th>\n",
              "      <th></th>\n",
              "      <th></th>\n",
              "      <th></th>\n",
              "      <th></th>\n",
              "    </tr>\n",
              "  </thead>\n",
              "  <tbody>\n",
              "    <tr>\n",
              "      <th>A</th>\n",
              "      <td>3.0</td>\n",
              "      <td>3.0</td>\n",
              "      <td>1.0</td>\n",
              "      <td>2.0</td>\n",
              "      <td>2.5</td>\n",
              "      <td>3.0</td>\n",
              "      <td>3.5</td>\n",
              "      <td>4.0</td>\n",
              "    </tr>\n",
              "    <tr>\n",
              "      <th>B</th>\n",
              "      <td>3.0</td>\n",
              "      <td>8.0</td>\n",
              "      <td>2.0</td>\n",
              "      <td>6.0</td>\n",
              "      <td>7.0</td>\n",
              "      <td>8.0</td>\n",
              "      <td>9.0</td>\n",
              "      <td>10.0</td>\n",
              "    </tr>\n",
              "  </tbody>\n",
              "</table>\n",
              "</div>\n",
              "      <button class=\"colab-df-convert\" onclick=\"convertToInteractive('df-004234ff-dfd1-450a-aee4-fc8768e5b29b')\"\n",
              "              title=\"Convert this dataframe to an interactive table.\"\n",
              "              style=\"display:none;\">\n",
              "        \n",
              "  <svg xmlns=\"http://www.w3.org/2000/svg\" height=\"24px\"viewBox=\"0 0 24 24\"\n",
              "       width=\"24px\">\n",
              "    <path d=\"M0 0h24v24H0V0z\" fill=\"none\"/>\n",
              "    <path d=\"M18.56 5.44l.94 2.06.94-2.06 2.06-.94-2.06-.94-.94-2.06-.94 2.06-2.06.94zm-11 1L8.5 8.5l.94-2.06 2.06-.94-2.06-.94L8.5 2.5l-.94 2.06-2.06.94zm10 10l.94 2.06.94-2.06 2.06-.94-2.06-.94-.94-2.06-.94 2.06-2.06.94z\"/><path d=\"M17.41 7.96l-1.37-1.37c-.4-.4-.92-.59-1.43-.59-.52 0-1.04.2-1.43.59L10.3 9.45l-7.72 7.72c-.78.78-.78 2.05 0 2.83L4 21.41c.39.39.9.59 1.41.59.51 0 1.02-.2 1.41-.59l7.78-7.78 2.81-2.81c.8-.78.8-2.07 0-2.86zM5.41 20L4 18.59l7.72-7.72 1.47 1.35L5.41 20z\"/>\n",
              "  </svg>\n",
              "      </button>\n",
              "      \n",
              "  <style>\n",
              "    .colab-df-container {\n",
              "      display:flex;\n",
              "      flex-wrap:wrap;\n",
              "      gap: 12px;\n",
              "    }\n",
              "\n",
              "    .colab-df-convert {\n",
              "      background-color: #E8F0FE;\n",
              "      border: none;\n",
              "      border-radius: 50%;\n",
              "      cursor: pointer;\n",
              "      display: none;\n",
              "      fill: #1967D2;\n",
              "      height: 32px;\n",
              "      padding: 0 0 0 0;\n",
              "      width: 32px;\n",
              "    }\n",
              "\n",
              "    .colab-df-convert:hover {\n",
              "      background-color: #E2EBFA;\n",
              "      box-shadow: 0px 1px 2px rgba(60, 64, 67, 0.3), 0px 1px 3px 1px rgba(60, 64, 67, 0.15);\n",
              "      fill: #174EA6;\n",
              "    }\n",
              "\n",
              "    [theme=dark] .colab-df-convert {\n",
              "      background-color: #3B4455;\n",
              "      fill: #D2E3FC;\n",
              "    }\n",
              "\n",
              "    [theme=dark] .colab-df-convert:hover {\n",
              "      background-color: #434B5C;\n",
              "      box-shadow: 0px 1px 3px 1px rgba(0, 0, 0, 0.15);\n",
              "      filter: drop-shadow(0px 1px 2px rgba(0, 0, 0, 0.3));\n",
              "      fill: #FFFFFF;\n",
              "    }\n",
              "  </style>\n",
              "\n",
              "      <script>\n",
              "        const buttonEl =\n",
              "          document.querySelector('#df-004234ff-dfd1-450a-aee4-fc8768e5b29b button.colab-df-convert');\n",
              "        buttonEl.style.display =\n",
              "          google.colab.kernel.accessAllowed ? 'block' : 'none';\n",
              "\n",
              "        async function convertToInteractive(key) {\n",
              "          const element = document.querySelector('#df-004234ff-dfd1-450a-aee4-fc8768e5b29b');\n",
              "          const dataTable =\n",
              "            await google.colab.kernel.invokeFunction('convertToInteractive',\n",
              "                                                     [key], {});\n",
              "          if (!dataTable) return;\n",
              "\n",
              "          const docLinkHtml = 'Like what you see? Visit the ' +\n",
              "            '<a target=\"_blank\" href=https://colab.research.google.com/notebooks/data_table.ipynb>data table notebook</a>'\n",
              "            + ' to learn more about interactive tables.';\n",
              "          element.innerHTML = '';\n",
              "          dataTable['output_type'] = 'display_data';\n",
              "          await google.colab.output.renderOutput(dataTable, element);\n",
              "          const docLink = document.createElement('div');\n",
              "          docLink.innerHTML = docLinkHtml;\n",
              "          element.appendChild(docLink);\n",
              "        }\n",
              "      </script>\n",
              "    </div>\n",
              "  </div>\n",
              "  "
            ]
          },
          "metadata": {},
          "execution_count": 23
        }
      ]
    },
    {
      "cell_type": "code",
      "source": [
        "from pandas.compat.numpy.function import CompatValidator\n",
        "cov_data = pd.read_csv('4_cov.csv')\n",
        "cov_data"
      ],
      "metadata": {
        "colab": {
          "base_uri": "https://localhost:8080/",
          "height": 363
        },
        "id": "f9RWn8kqeNlV",
        "outputId": "c4f300a4-5ef5-4038-955d-cb86b27e0dc1"
      },
      "execution_count": 24,
      "outputs": [
        {
          "output_type": "execute_result",
          "data": {
            "text/plain": [
              "      x   y\n",
              "0  18.5  34\n",
              "1  18.7  39\n",
              "2  19.1  41\n",
              "3  19.7  38\n",
              "4  21.5  45\n",
              "5  21.7  41\n",
              "6  21.8  52\n",
              "7  22.0  44\n",
              "8  23.4  44\n",
              "9  23.8  49"
            ],
            "text/html": [
              "\n",
              "  <div id=\"df-839b38f7-28e0-4b74-96e3-144fa118f3e3\">\n",
              "    <div class=\"colab-df-container\">\n",
              "      <div>\n",
              "<style scoped>\n",
              "    .dataframe tbody tr th:only-of-type {\n",
              "        vertical-align: middle;\n",
              "    }\n",
              "\n",
              "    .dataframe tbody tr th {\n",
              "        vertical-align: top;\n",
              "    }\n",
              "\n",
              "    .dataframe thead th {\n",
              "        text-align: right;\n",
              "    }\n",
              "</style>\n",
              "<table border=\"1\" class=\"dataframe\">\n",
              "  <thead>\n",
              "    <tr style=\"text-align: right;\">\n",
              "      <th></th>\n",
              "      <th>x</th>\n",
              "      <th>y</th>\n",
              "    </tr>\n",
              "  </thead>\n",
              "  <tbody>\n",
              "    <tr>\n",
              "      <th>0</th>\n",
              "      <td>18.5</td>\n",
              "      <td>34</td>\n",
              "    </tr>\n",
              "    <tr>\n",
              "      <th>1</th>\n",
              "      <td>18.7</td>\n",
              "      <td>39</td>\n",
              "    </tr>\n",
              "    <tr>\n",
              "      <th>2</th>\n",
              "      <td>19.1</td>\n",
              "      <td>41</td>\n",
              "    </tr>\n",
              "    <tr>\n",
              "      <th>3</th>\n",
              "      <td>19.7</td>\n",
              "      <td>38</td>\n",
              "    </tr>\n",
              "    <tr>\n",
              "      <th>4</th>\n",
              "      <td>21.5</td>\n",
              "      <td>45</td>\n",
              "    </tr>\n",
              "    <tr>\n",
              "      <th>5</th>\n",
              "      <td>21.7</td>\n",
              "      <td>41</td>\n",
              "    </tr>\n",
              "    <tr>\n",
              "      <th>6</th>\n",
              "      <td>21.8</td>\n",
              "      <td>52</td>\n",
              "    </tr>\n",
              "    <tr>\n",
              "      <th>7</th>\n",
              "      <td>22.0</td>\n",
              "      <td>44</td>\n",
              "    </tr>\n",
              "    <tr>\n",
              "      <th>8</th>\n",
              "      <td>23.4</td>\n",
              "      <td>44</td>\n",
              "    </tr>\n",
              "    <tr>\n",
              "      <th>9</th>\n",
              "      <td>23.8</td>\n",
              "      <td>49</td>\n",
              "    </tr>\n",
              "  </tbody>\n",
              "</table>\n",
              "</div>\n",
              "      <button class=\"colab-df-convert\" onclick=\"convertToInteractive('df-839b38f7-28e0-4b74-96e3-144fa118f3e3')\"\n",
              "              title=\"Convert this dataframe to an interactive table.\"\n",
              "              style=\"display:none;\">\n",
              "        \n",
              "  <svg xmlns=\"http://www.w3.org/2000/svg\" height=\"24px\"viewBox=\"0 0 24 24\"\n",
              "       width=\"24px\">\n",
              "    <path d=\"M0 0h24v24H0V0z\" fill=\"none\"/>\n",
              "    <path d=\"M18.56 5.44l.94 2.06.94-2.06 2.06-.94-2.06-.94-.94-2.06-.94 2.06-2.06.94zm-11 1L8.5 8.5l.94-2.06 2.06-.94-2.06-.94L8.5 2.5l-.94 2.06-2.06.94zm10 10l.94 2.06.94-2.06 2.06-.94-2.06-.94-.94-2.06-.94 2.06-2.06.94z\"/><path d=\"M17.41 7.96l-1.37-1.37c-.4-.4-.92-.59-1.43-.59-.52 0-1.04.2-1.43.59L10.3 9.45l-7.72 7.72c-.78.78-.78 2.05 0 2.83L4 21.41c.39.39.9.59 1.41.59.51 0 1.02-.2 1.41-.59l7.78-7.78 2.81-2.81c.8-.78.8-2.07 0-2.86zM5.41 20L4 18.59l7.72-7.72 1.47 1.35L5.41 20z\"/>\n",
              "  </svg>\n",
              "      </button>\n",
              "      \n",
              "  <style>\n",
              "    .colab-df-container {\n",
              "      display:flex;\n",
              "      flex-wrap:wrap;\n",
              "      gap: 12px;\n",
              "    }\n",
              "\n",
              "    .colab-df-convert {\n",
              "      background-color: #E8F0FE;\n",
              "      border: none;\n",
              "      border-radius: 50%;\n",
              "      cursor: pointer;\n",
              "      display: none;\n",
              "      fill: #1967D2;\n",
              "      height: 32px;\n",
              "      padding: 0 0 0 0;\n",
              "      width: 32px;\n",
              "    }\n",
              "\n",
              "    .colab-df-convert:hover {\n",
              "      background-color: #E2EBFA;\n",
              "      box-shadow: 0px 1px 2px rgba(60, 64, 67, 0.3), 0px 1px 3px 1px rgba(60, 64, 67, 0.15);\n",
              "      fill: #174EA6;\n",
              "    }\n",
              "\n",
              "    [theme=dark] .colab-df-convert {\n",
              "      background-color: #3B4455;\n",
              "      fill: #D2E3FC;\n",
              "    }\n",
              "\n",
              "    [theme=dark] .colab-df-convert:hover {\n",
              "      background-color: #434B5C;\n",
              "      box-shadow: 0px 1px 3px 1px rgba(0, 0, 0, 0.15);\n",
              "      filter: drop-shadow(0px 1px 2px rgba(0, 0, 0, 0.3));\n",
              "      fill: #FFFFFF;\n",
              "    }\n",
              "  </style>\n",
              "\n",
              "      <script>\n",
              "        const buttonEl =\n",
              "          document.querySelector('#df-839b38f7-28e0-4b74-96e3-144fa118f3e3 button.colab-df-convert');\n",
              "        buttonEl.style.display =\n",
              "          google.colab.kernel.accessAllowed ? 'block' : 'none';\n",
              "\n",
              "        async function convertToInteractive(key) {\n",
              "          const element = document.querySelector('#df-839b38f7-28e0-4b74-96e3-144fa118f3e3');\n",
              "          const dataTable =\n",
              "            await google.colab.kernel.invokeFunction('convertToInteractive',\n",
              "                                                     [key], {});\n",
              "          if (!dataTable) return;\n",
              "\n",
              "          const docLinkHtml = 'Like what you see? Visit the ' +\n",
              "            '<a target=\"_blank\" href=https://colab.research.google.com/notebooks/data_table.ipynb>data table notebook</a>'\n",
              "            + ' to learn more about interactive tables.';\n",
              "          element.innerHTML = '';\n",
              "          dataTable['output_type'] = 'display_data';\n",
              "          await google.colab.output.renderOutput(dataTable, element);\n",
              "          const docLink = document.createElement('div');\n",
              "          docLink.innerHTML = docLinkHtml;\n",
              "          element.appendChild(docLink);\n",
              "        }\n",
              "      </script>\n",
              "    </div>\n",
              "  </div>\n",
              "  "
            ]
          },
          "metadata": {},
          "execution_count": 24
        }
      ]
    },
    {
      "cell_type": "code",
      "source": [
        "#공분산 행렬\n",
        "import scipy as sp\n",
        "import numpy as np\n",
        "np.cov(cov_data.x,cov_data.y,ddof=1)"
      ],
      "metadata": {
        "colab": {
          "base_uri": "https://localhost:8080/"
        },
        "id": "7eskG0MJe-Pt",
        "outputId": "72a8fc2f-2de3-480e-917c-18df3180999f"
      },
      "execution_count": 26,
      "outputs": [
        {
          "output_type": "execute_result",
          "data": {
            "text/plain": [
              "array([[ 3.64622222,  7.67333333],\n",
              "       [ 7.67333333, 28.01111111]])"
            ]
          },
          "metadata": {},
          "execution_count": 26
        }
      ]
    },
    {
      "cell_type": "code",
      "source": [
        "# 상관 행렬\n",
        "np.corrcoef(cov_data.x,cov_data.y)"
      ],
      "metadata": {
        "colab": {
          "base_uri": "https://localhost:8080/"
        },
        "id": "-B2UtBuXfLFC",
        "outputId": "43933f95-7d1e-4202-b337-23d0160260bb"
      },
      "execution_count": 27,
      "outputs": [
        {
          "output_type": "execute_result",
          "data": {
            "text/plain": [
              "array([[1.       , 0.7592719],\n",
              "       [0.7592719, 1.       ]])"
            ]
          },
          "metadata": {},
          "execution_count": 27
        }
      ]
    },
    {
      "cell_type": "code",
      "source": [
        "# 상관계수 : df.corr()\n",
        "cov_data.corr()"
      ],
      "metadata": {
        "colab": {
          "base_uri": "https://localhost:8080/",
          "height": 112
        },
        "id": "gB88AfzLfch1",
        "outputId": "02ac5408-d902-49e7-fecd-a4a7ae831a8a"
      },
      "execution_count": 28,
      "outputs": [
        {
          "output_type": "execute_result",
          "data": {
            "text/plain": [
              "          x         y\n",
              "x  1.000000  0.759272\n",
              "y  0.759272  1.000000"
            ],
            "text/html": [
              "\n",
              "  <div id=\"df-0ffdc8ff-cded-48fc-b8bb-a8233c58cca6\">\n",
              "    <div class=\"colab-df-container\">\n",
              "      <div>\n",
              "<style scoped>\n",
              "    .dataframe tbody tr th:only-of-type {\n",
              "        vertical-align: middle;\n",
              "    }\n",
              "\n",
              "    .dataframe tbody tr th {\n",
              "        vertical-align: top;\n",
              "    }\n",
              "\n",
              "    .dataframe thead th {\n",
              "        text-align: right;\n",
              "    }\n",
              "</style>\n",
              "<table border=\"1\" class=\"dataframe\">\n",
              "  <thead>\n",
              "    <tr style=\"text-align: right;\">\n",
              "      <th></th>\n",
              "      <th>x</th>\n",
              "      <th>y</th>\n",
              "    </tr>\n",
              "  </thead>\n",
              "  <tbody>\n",
              "    <tr>\n",
              "      <th>x</th>\n",
              "      <td>1.000000</td>\n",
              "      <td>0.759272</td>\n",
              "    </tr>\n",
              "    <tr>\n",
              "      <th>y</th>\n",
              "      <td>0.759272</td>\n",
              "      <td>1.000000</td>\n",
              "    </tr>\n",
              "  </tbody>\n",
              "</table>\n",
              "</div>\n",
              "      <button class=\"colab-df-convert\" onclick=\"convertToInteractive('df-0ffdc8ff-cded-48fc-b8bb-a8233c58cca6')\"\n",
              "              title=\"Convert this dataframe to an interactive table.\"\n",
              "              style=\"display:none;\">\n",
              "        \n",
              "  <svg xmlns=\"http://www.w3.org/2000/svg\" height=\"24px\"viewBox=\"0 0 24 24\"\n",
              "       width=\"24px\">\n",
              "    <path d=\"M0 0h24v24H0V0z\" fill=\"none\"/>\n",
              "    <path d=\"M18.56 5.44l.94 2.06.94-2.06 2.06-.94-2.06-.94-.94-2.06-.94 2.06-2.06.94zm-11 1L8.5 8.5l.94-2.06 2.06-.94-2.06-.94L8.5 2.5l-.94 2.06-2.06.94zm10 10l.94 2.06.94-2.06 2.06-.94-2.06-.94-.94-2.06-.94 2.06-2.06.94z\"/><path d=\"M17.41 7.96l-1.37-1.37c-.4-.4-.92-.59-1.43-.59-.52 0-1.04.2-1.43.59L10.3 9.45l-7.72 7.72c-.78.78-.78 2.05 0 2.83L4 21.41c.39.39.9.59 1.41.59.51 0 1.02-.2 1.41-.59l7.78-7.78 2.81-2.81c.8-.78.8-2.07 0-2.86zM5.41 20L4 18.59l7.72-7.72 1.47 1.35L5.41 20z\"/>\n",
              "  </svg>\n",
              "      </button>\n",
              "      \n",
              "  <style>\n",
              "    .colab-df-container {\n",
              "      display:flex;\n",
              "      flex-wrap:wrap;\n",
              "      gap: 12px;\n",
              "    }\n",
              "\n",
              "    .colab-df-convert {\n",
              "      background-color: #E8F0FE;\n",
              "      border: none;\n",
              "      border-radius: 50%;\n",
              "      cursor: pointer;\n",
              "      display: none;\n",
              "      fill: #1967D2;\n",
              "      height: 32px;\n",
              "      padding: 0 0 0 0;\n",
              "      width: 32px;\n",
              "    }\n",
              "\n",
              "    .colab-df-convert:hover {\n",
              "      background-color: #E2EBFA;\n",
              "      box-shadow: 0px 1px 2px rgba(60, 64, 67, 0.3), 0px 1px 3px 1px rgba(60, 64, 67, 0.15);\n",
              "      fill: #174EA6;\n",
              "    }\n",
              "\n",
              "    [theme=dark] .colab-df-convert {\n",
              "      background-color: #3B4455;\n",
              "      fill: #D2E3FC;\n",
              "    }\n",
              "\n",
              "    [theme=dark] .colab-df-convert:hover {\n",
              "      background-color: #434B5C;\n",
              "      box-shadow: 0px 1px 3px 1px rgba(0, 0, 0, 0.15);\n",
              "      filter: drop-shadow(0px 1px 2px rgba(0, 0, 0, 0.3));\n",
              "      fill: #FFFFFF;\n",
              "    }\n",
              "  </style>\n",
              "\n",
              "      <script>\n",
              "        const buttonEl =\n",
              "          document.querySelector('#df-0ffdc8ff-cded-48fc-b8bb-a8233c58cca6 button.colab-df-convert');\n",
              "        buttonEl.style.display =\n",
              "          google.colab.kernel.accessAllowed ? 'block' : 'none';\n",
              "\n",
              "        async function convertToInteractive(key) {\n",
              "          const element = document.querySelector('#df-0ffdc8ff-cded-48fc-b8bb-a8233c58cca6');\n",
              "          const dataTable =\n",
              "            await google.colab.kernel.invokeFunction('convertToInteractive',\n",
              "                                                     [key], {});\n",
              "          if (!dataTable) return;\n",
              "\n",
              "          const docLinkHtml = 'Like what you see? Visit the ' +\n",
              "            '<a target=\"_blank\" href=https://colab.research.google.com/notebooks/data_table.ipynb>data table notebook</a>'\n",
              "            + ' to learn more about interactive tables.';\n",
              "          element.innerHTML = '';\n",
              "          dataTable['output_type'] = 'display_data';\n",
              "          await google.colab.output.renderOutput(dataTable, element);\n",
              "          const docLink = document.createElement('div');\n",
              "          docLink.innerHTML = docLinkHtml;\n",
              "          element.appendChild(docLink);\n",
              "        }\n",
              "      </script>\n",
              "    </div>\n",
              "  </div>\n",
              "  "
            ]
          },
          "metadata": {},
          "execution_count": 28
        }
      ]
    },
    {
      "cell_type": "code",
      "source": [
        "# 평균 4 , 표준편차 0.8인 정규분포에서 10개 샘플 추출\n",
        "from scipy import stats\n",
        "population = stats.norm(loc=4,scale=0.8)\n",
        "population.rvs(size=10)"
      ],
      "metadata": {
        "colab": {
          "base_uri": "https://localhost:8080/"
        },
        "id": "P7tF8ADEfhSW",
        "outputId": "4600d786-441a-451e-d5f9-ab25e70d755d"
      },
      "execution_count": 29,
      "outputs": [
        {
          "output_type": "execute_result",
          "data": {
            "text/plain": [
              "array([3.11388702, 4.23085978, 3.55342435, 4.09696665, 4.08725658,\n",
              "       3.78179379, 4.01376303, 3.9659767 , 3.50594878, 3.39543356])"
            ]
          },
          "metadata": {},
          "execution_count": 29
        }
      ]
    },
    {
      "cell_type": "code",
      "source": [],
      "metadata": {
        "id": "gBTasIAEfyGb"
      },
      "execution_count": null,
      "outputs": []
    }
  ]
}