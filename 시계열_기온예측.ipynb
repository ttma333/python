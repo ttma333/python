{
  "nbformat": 4,
  "nbformat_minor": 0,
  "metadata": {
    "colab": {
      "provenance": [],
      "machine_shape": "hm",
      "mount_file_id": "1zlx8dNhoijSoArQHJVNnKdT08QmTiCN2",
      "authorship_tag": "ABX9TyNw3RpciTWA5C1L9dH/iKiE",
      "include_colab_link": true
    },
    "kernelspec": {
      "name": "python3",
      "display_name": "Python 3"
    },
    "language_info": {
      "name": "python"
    },
    "accelerator": "GPU",
    "gpuClass": "standard"
  },
  "cells": [
    {
      "cell_type": "markdown",
      "metadata": {
        "id": "view-in-github",
        "colab_type": "text"
      },
      "source": [
        "<a href=\"https://colab.research.google.com/github/ttma333/python/blob/main/%EC%8B%9C%EA%B3%84%EC%97%B4_%EA%B8%B0%EC%98%A8%EC%98%88%EC%B8%A1.ipynb\" target=\"_parent\"><img src=\"https://colab.research.google.com/assets/colab-badge.svg\" alt=\"Open In Colab\"/></a>"
      ]
    },
    {
      "cell_type": "code",
      "execution_count": 1,
      "metadata": {
        "colab": {
          "base_uri": "https://localhost:8080/"
        },
        "id": "1a_rUPp_F9Rx",
        "outputId": "3b8207f4-3fa7-47b8-e1c5-c2ed8b4f817c"
      },
      "outputs": [
        {
          "output_type": "stream",
          "name": "stdout",
          "text": [
            "/content/drive/MyDrive/dataset\n"
          ]
        }
      ],
      "source": [
        "cd/content/drive/MyDrive/dataset"
      ]
    },
    {
      "cell_type": "code",
      "source": [
        "!wget https://s3.amazonaws.com/keras-datasets/jena_climate_2009_2016.csv.zip\n",
        "!unzip jena_climate_2009_2016.csv.zip"
      ],
      "metadata": {
        "colab": {
          "base_uri": "https://localhost:8080/"
        },
        "id": "sUIBkRLZHoQl",
        "outputId": "50a224b8-2998-4a14-838c-f91ae5754708"
      },
      "execution_count": null,
      "outputs": [
        {
          "output_type": "stream",
          "name": "stdout",
          "text": [
            "--2022-12-14 05:32:31--  https://s3.amazonaws.com/keras-datasets/jena_climate_2009_2016.csv.zip\n",
            "Resolving s3.amazonaws.com (s3.amazonaws.com)... 52.216.242.22, 52.216.43.160, 52.216.178.85, ...\n",
            "Connecting to s3.amazonaws.com (s3.amazonaws.com)|52.216.242.22|:443... connected.\n",
            "HTTP request sent, awaiting response... 200 OK\n",
            "Length: 13565642 (13M) [application/zip]\n",
            "Saving to: ‘jena_climate_2009_2016.csv.zip’\n",
            "\n",
            "jena_climate_2009_2 100%[===================>]  12.94M  6.37MB/s    in 2.0s    \n",
            "\n",
            "2022-12-14 05:32:34 (6.37 MB/s) - ‘jena_climate_2009_2016.csv.zip’ saved [13565642/13565642]\n",
            "\n",
            "Archive:  jena_climate_2009_2016.csv.zip\n",
            "  inflating: jena_climate_2009_2016.csv  \n",
            "  inflating: __MACOSX/._jena_climate_2009_2016.csv  \n"
          ]
        }
      ]
    },
    {
      "cell_type": "code",
      "source": [
        "import pandas as pd\n",
        "raw_data=pd.read_csv('jena_climate_2009_2016.csv')\n",
        "raw_data=raw_data.iloc[:,1:]\n",
        "raw_data.head()"
      ],
      "metadata": {
        "colab": {
          "base_uri": "https://localhost:8080/",
          "height": 305
        },
        "id": "gh7chRkZHrcx",
        "outputId": "c27b9926-ae94-4456-be96-25cc8e95af07"
      },
      "execution_count": 2,
      "outputs": [
        {
          "output_type": "execute_result",
          "data": {
            "text/plain": [
              "   p (mbar)  T (degC)  Tpot (K)  Tdew (degC)  rh (%)  VPmax (mbar)  \\\n",
              "0    996.52     -8.02    265.40        -8.90    93.3          3.33   \n",
              "1    996.57     -8.41    265.01        -9.28    93.4          3.23   \n",
              "2    996.53     -8.51    264.91        -9.31    93.9          3.21   \n",
              "3    996.51     -8.31    265.12        -9.07    94.2          3.26   \n",
              "4    996.51     -8.27    265.15        -9.04    94.1          3.27   \n",
              "\n",
              "   VPact (mbar)  VPdef (mbar)  sh (g/kg)  H2OC (mmol/mol)  rho (g/m**3)  \\\n",
              "0          3.11          0.22       1.94             3.12       1307.75   \n",
              "1          3.02          0.21       1.89             3.03       1309.80   \n",
              "2          3.01          0.20       1.88             3.02       1310.24   \n",
              "3          3.07          0.19       1.92             3.08       1309.19   \n",
              "4          3.08          0.19       1.92             3.09       1309.00   \n",
              "\n",
              "   wv (m/s)  max. wv (m/s)  wd (deg)  \n",
              "0      1.03           1.75     152.3  \n",
              "1      0.72           1.50     136.1  \n",
              "2      0.19           0.63     171.6  \n",
              "3      0.34           0.50     198.0  \n",
              "4      0.32           0.63     214.3  "
            ],
            "text/html": [
              "\n",
              "  <div id=\"df-e424244d-a8d9-4639-9d21-9e06c0972be1\">\n",
              "    <div class=\"colab-df-container\">\n",
              "      <div>\n",
              "<style scoped>\n",
              "    .dataframe tbody tr th:only-of-type {\n",
              "        vertical-align: middle;\n",
              "    }\n",
              "\n",
              "    .dataframe tbody tr th {\n",
              "        vertical-align: top;\n",
              "    }\n",
              "\n",
              "    .dataframe thead th {\n",
              "        text-align: right;\n",
              "    }\n",
              "</style>\n",
              "<table border=\"1\" class=\"dataframe\">\n",
              "  <thead>\n",
              "    <tr style=\"text-align: right;\">\n",
              "      <th></th>\n",
              "      <th>p (mbar)</th>\n",
              "      <th>T (degC)</th>\n",
              "      <th>Tpot (K)</th>\n",
              "      <th>Tdew (degC)</th>\n",
              "      <th>rh (%)</th>\n",
              "      <th>VPmax (mbar)</th>\n",
              "      <th>VPact (mbar)</th>\n",
              "      <th>VPdef (mbar)</th>\n",
              "      <th>sh (g/kg)</th>\n",
              "      <th>H2OC (mmol/mol)</th>\n",
              "      <th>rho (g/m**3)</th>\n",
              "      <th>wv (m/s)</th>\n",
              "      <th>max. wv (m/s)</th>\n",
              "      <th>wd (deg)</th>\n",
              "    </tr>\n",
              "  </thead>\n",
              "  <tbody>\n",
              "    <tr>\n",
              "      <th>0</th>\n",
              "      <td>996.52</td>\n",
              "      <td>-8.02</td>\n",
              "      <td>265.40</td>\n",
              "      <td>-8.90</td>\n",
              "      <td>93.3</td>\n",
              "      <td>3.33</td>\n",
              "      <td>3.11</td>\n",
              "      <td>0.22</td>\n",
              "      <td>1.94</td>\n",
              "      <td>3.12</td>\n",
              "      <td>1307.75</td>\n",
              "      <td>1.03</td>\n",
              "      <td>1.75</td>\n",
              "      <td>152.3</td>\n",
              "    </tr>\n",
              "    <tr>\n",
              "      <th>1</th>\n",
              "      <td>996.57</td>\n",
              "      <td>-8.41</td>\n",
              "      <td>265.01</td>\n",
              "      <td>-9.28</td>\n",
              "      <td>93.4</td>\n",
              "      <td>3.23</td>\n",
              "      <td>3.02</td>\n",
              "      <td>0.21</td>\n",
              "      <td>1.89</td>\n",
              "      <td>3.03</td>\n",
              "      <td>1309.80</td>\n",
              "      <td>0.72</td>\n",
              "      <td>1.50</td>\n",
              "      <td>136.1</td>\n",
              "    </tr>\n",
              "    <tr>\n",
              "      <th>2</th>\n",
              "      <td>996.53</td>\n",
              "      <td>-8.51</td>\n",
              "      <td>264.91</td>\n",
              "      <td>-9.31</td>\n",
              "      <td>93.9</td>\n",
              "      <td>3.21</td>\n",
              "      <td>3.01</td>\n",
              "      <td>0.20</td>\n",
              "      <td>1.88</td>\n",
              "      <td>3.02</td>\n",
              "      <td>1310.24</td>\n",
              "      <td>0.19</td>\n",
              "      <td>0.63</td>\n",
              "      <td>171.6</td>\n",
              "    </tr>\n",
              "    <tr>\n",
              "      <th>3</th>\n",
              "      <td>996.51</td>\n",
              "      <td>-8.31</td>\n",
              "      <td>265.12</td>\n",
              "      <td>-9.07</td>\n",
              "      <td>94.2</td>\n",
              "      <td>3.26</td>\n",
              "      <td>3.07</td>\n",
              "      <td>0.19</td>\n",
              "      <td>1.92</td>\n",
              "      <td>3.08</td>\n",
              "      <td>1309.19</td>\n",
              "      <td>0.34</td>\n",
              "      <td>0.50</td>\n",
              "      <td>198.0</td>\n",
              "    </tr>\n",
              "    <tr>\n",
              "      <th>4</th>\n",
              "      <td>996.51</td>\n",
              "      <td>-8.27</td>\n",
              "      <td>265.15</td>\n",
              "      <td>-9.04</td>\n",
              "      <td>94.1</td>\n",
              "      <td>3.27</td>\n",
              "      <td>3.08</td>\n",
              "      <td>0.19</td>\n",
              "      <td>1.92</td>\n",
              "      <td>3.09</td>\n",
              "      <td>1309.00</td>\n",
              "      <td>0.32</td>\n",
              "      <td>0.63</td>\n",
              "      <td>214.3</td>\n",
              "    </tr>\n",
              "  </tbody>\n",
              "</table>\n",
              "</div>\n",
              "      <button class=\"colab-df-convert\" onclick=\"convertToInteractive('df-e424244d-a8d9-4639-9d21-9e06c0972be1')\"\n",
              "              title=\"Convert this dataframe to an interactive table.\"\n",
              "              style=\"display:none;\">\n",
              "        \n",
              "  <svg xmlns=\"http://www.w3.org/2000/svg\" height=\"24px\"viewBox=\"0 0 24 24\"\n",
              "       width=\"24px\">\n",
              "    <path d=\"M0 0h24v24H0V0z\" fill=\"none\"/>\n",
              "    <path d=\"M18.56 5.44l.94 2.06.94-2.06 2.06-.94-2.06-.94-.94-2.06-.94 2.06-2.06.94zm-11 1L8.5 8.5l.94-2.06 2.06-.94-2.06-.94L8.5 2.5l-.94 2.06-2.06.94zm10 10l.94 2.06.94-2.06 2.06-.94-2.06-.94-.94-2.06-.94 2.06-2.06.94z\"/><path d=\"M17.41 7.96l-1.37-1.37c-.4-.4-.92-.59-1.43-.59-.52 0-1.04.2-1.43.59L10.3 9.45l-7.72 7.72c-.78.78-.78 2.05 0 2.83L4 21.41c.39.39.9.59 1.41.59.51 0 1.02-.2 1.41-.59l7.78-7.78 2.81-2.81c.8-.78.8-2.07 0-2.86zM5.41 20L4 18.59l7.72-7.72 1.47 1.35L5.41 20z\"/>\n",
              "  </svg>\n",
              "      </button>\n",
              "      \n",
              "  <style>\n",
              "    .colab-df-container {\n",
              "      display:flex;\n",
              "      flex-wrap:wrap;\n",
              "      gap: 12px;\n",
              "    }\n",
              "\n",
              "    .colab-df-convert {\n",
              "      background-color: #E8F0FE;\n",
              "      border: none;\n",
              "      border-radius: 50%;\n",
              "      cursor: pointer;\n",
              "      display: none;\n",
              "      fill: #1967D2;\n",
              "      height: 32px;\n",
              "      padding: 0 0 0 0;\n",
              "      width: 32px;\n",
              "    }\n",
              "\n",
              "    .colab-df-convert:hover {\n",
              "      background-color: #E2EBFA;\n",
              "      box-shadow: 0px 1px 2px rgba(60, 64, 67, 0.3), 0px 1px 3px 1px rgba(60, 64, 67, 0.15);\n",
              "      fill: #174EA6;\n",
              "    }\n",
              "\n",
              "    [theme=dark] .colab-df-convert {\n",
              "      background-color: #3B4455;\n",
              "      fill: #D2E3FC;\n",
              "    }\n",
              "\n",
              "    [theme=dark] .colab-df-convert:hover {\n",
              "      background-color: #434B5C;\n",
              "      box-shadow: 0px 1px 3px 1px rgba(0, 0, 0, 0.15);\n",
              "      filter: drop-shadow(0px 1px 2px rgba(0, 0, 0, 0.3));\n",
              "      fill: #FFFFFF;\n",
              "    }\n",
              "  </style>\n",
              "\n",
              "      <script>\n",
              "        const buttonEl =\n",
              "          document.querySelector('#df-e424244d-a8d9-4639-9d21-9e06c0972be1 button.colab-df-convert');\n",
              "        buttonEl.style.display =\n",
              "          google.colab.kernel.accessAllowed ? 'block' : 'none';\n",
              "\n",
              "        async function convertToInteractive(key) {\n",
              "          const element = document.querySelector('#df-e424244d-a8d9-4639-9d21-9e06c0972be1');\n",
              "          const dataTable =\n",
              "            await google.colab.kernel.invokeFunction('convertToInteractive',\n",
              "                                                     [key], {});\n",
              "          if (!dataTable) return;\n",
              "\n",
              "          const docLinkHtml = 'Like what you see? Visit the ' +\n",
              "            '<a target=\"_blank\" href=https://colab.research.google.com/notebooks/data_table.ipynb>data table notebook</a>'\n",
              "            + ' to learn more about interactive tables.';\n",
              "          element.innerHTML = '';\n",
              "          dataTable['output_type'] = 'display_data';\n",
              "          await google.colab.output.renderOutput(dataTable, element);\n",
              "          const docLink = document.createElement('div');\n",
              "          docLink.innerHTML = docLinkHtml;\n",
              "          element.appendChild(docLink);\n",
              "        }\n",
              "      </script>\n",
              "    </div>\n",
              "  </div>\n",
              "  "
            ]
          },
          "metadata": {},
          "execution_count": 2
        }
      ]
    },
    {
      "cell_type": "code",
      "source": [
        "temperature = pd.DataFrame(raw_data['T (degC)'])"
      ],
      "metadata": {
        "id": "DF1qETEJHtTm"
      },
      "execution_count": 3,
      "outputs": []
    },
    {
      "cell_type": "code",
      "source": [
        "import matplotlib.pyplot as plt\n",
        "\n",
        "plt.plot(range(len(temperature)),temperature)"
      ],
      "metadata": {
        "colab": {
          "base_uri": "https://localhost:8080/",
          "height": 286
        },
        "id": "bVzMWLLNIbuy",
        "outputId": "7913283d-4d5c-4fa9-b1b4-96dbe2c7df17"
      },
      "execution_count": 4,
      "outputs": [
        {
          "output_type": "execute_result",
          "data": {
            "text/plain": [
              "[<matplotlib.lines.Line2D at 0x7fa0f7bcdaf0>]"
            ]
          },
          "metadata": {},
          "execution_count": 4
        },
        {
          "output_type": "display_data",
          "data": {
            "text/plain": [
              "<Figure size 432x288 with 1 Axes>"
            ],
            "image/png": "[encoded data removed]"
          },
          "metadata": {
            "needs_background": "light"
          }
        }
      ]
    },
    {
      "cell_type": "code",
      "source": [
        "plt.plot(range(1440),temperature[:1440])"
      ],
      "metadata": {
        "colab": {
          "base_uri": "https://localhost:8080/",
          "height": 283
        },
        "id": "WcYqp33BIuuj",
        "outputId": "1180e200-8e2f-410f-d194-c0aa2a64070d"
      },
      "execution_count": 5,
      "outputs": [
        {
          "output_type": "execute_result",
          "data": {
            "text/plain": [
              "[<matplotlib.lines.Line2D at 0x7fa0f95938b0>]"
            ]
          },
          "metadata": {},
          "execution_count": 5
        },
        {
          "output_type": "display_data",
          "data": {
            "text/plain": [
              "<Figure size 432x288 with 1 Axes>"
            ],
            "image/png": "[encoded data removed]"
          },
          "metadata": {
            "needs_background": "light"
          }
        }
      ]
    },
    {
      "cell_type": "code",
      "source": [
        "num_train_samples = int(0.5 * len(raw_data))\n",
        "num_val_samples = int(0.25 * len(raw_data))\n",
        "num_test_samples = len(raw_data) - num_train_samples - num_val_samples\n",
        "print(\"num_train_samples:\", num_train_samples)\n",
        "print(\"num_val_samples:\", num_val_samples)\n",
        "print(\"num_test_samples:\", num_test_samples)"
      ],
      "metadata": {
        "colab": {
          "base_uri": "https://localhost:8080/"
        },
        "id": "aJn6_hKJI9up",
        "outputId": "5398d909-831d-41d8-fd0b-89326d120df1"
      },
      "execution_count": 6,
      "outputs": [
        {
          "output_type": "stream",
          "name": "stdout",
          "text": [
            "num_train_samples: 210225\n",
            "num_val_samples: 105112\n",
            "num_test_samples: 105114\n"
          ]
        }
      ]
    },
    {
      "cell_type": "code",
      "source": [
        "# 데이터 정규화\n",
        "mean = raw_data[:num_train_samples].mean(axis=0)\n",
        "raw_data -= mean\n",
        "std = raw_data[:num_train_samples].std(axis=0)\n",
        "raw_data /= std"
      ],
      "metadata": {
        "id": "lRKU_K4JKh42"
      },
      "execution_count": 7,
      "outputs": []
    },
    {
      "cell_type": "code",
      "source": [
        "import keras\n",
        "\n",
        "sampling_rate = 6\n",
        "sequence_length = 120\n",
        "delay = sampling_rate * (sequence_length + 24 - 1)\n",
        "batch_size = 256\n",
        "\n",
        "train_dataset = keras.utils.timeseries_dataset_from_array(\n",
        "    raw_data[:-delay],\n",
        "    targets=temperature[delay:],\n",
        "    sampling_rate=sampling_rate,\n",
        "    sequence_length=sequence_length,\n",
        "    shuffle=True,\n",
        "    batch_size=batch_size,\n",
        "    start_index=0,\n",
        "    end_index=num_train_samples)\n",
        "\n",
        "val_dataset = keras.utils.timeseries_dataset_from_array(\n",
        "    raw_data[:-delay],\n",
        "    targets=temperature[delay:],\n",
        "    sampling_rate=sampling_rate,\n",
        "    sequence_length=sequence_length,\n",
        "    shuffle=True,\n",
        "    batch_size=batch_size,\n",
        "    start_index=num_train_samples,\n",
        "    end_index=num_train_samples + num_val_samples)\n",
        "\n",
        "test_dataset = keras.utils.timeseries_dataset_from_array(\n",
        "    raw_data[:-delay],\n",
        "    targets=temperature[delay:],\n",
        "    sampling_rate=sampling_rate,\n",
        "    sequence_length=sequence_length,\n",
        "    shuffle=True,\n",
        "    batch_size=batch_size,\n",
        "    start_index=num_train_samples + num_val_samples)"
      ],
      "metadata": {
        "id": "DMVP_-suKmOE"
      },
      "execution_count": 8,
      "outputs": []
    },
    {
      "cell_type": "code",
      "source": [
        "for samples, targets in train_dataset:\n",
        "    print(\"샘플 크기:\", samples.shape)\n",
        "    print(\"타깃 크기:\", targets.shape)\n",
        "    break"
      ],
      "metadata": {
        "colab": {
          "base_uri": "https://localhost:8080/"
        },
        "id": "GmwpY66fKrjm",
        "outputId": "ce94c208-ba11-4cab-fa35-fc0d643db838"
      },
      "execution_count": 9,
      "outputs": [
        {
          "output_type": "stream",
          "name": "stdout",
          "text": [
            "샘플 크기: (256, 120, 14)\n",
            "타깃 크기: (256, 1)\n"
          ]
        }
      ]
    },
    {
      "cell_type": "code",
      "source": [
        "raw_data.shape[-1]"
      ],
      "metadata": {
        "colab": {
          "base_uri": "https://localhost:8080/"
        },
        "id": "Z7bN-mVDkm8H",
        "outputId": "df6a92f8-06e7-47b3-db2a-0c35e78d4cc3"
      },
      "execution_count": 10,
      "outputs": [
        {
          "output_type": "execute_result",
          "data": {
            "text/plain": [
              "14"
            ]
          },
          "metadata": {},
          "execution_count": 10
        }
      ]
    },
    {
      "cell_type": "code",
      "source": [
        "sequence_length"
      ],
      "metadata": {
        "colab": {
          "base_uri": "https://localhost:8080/"
        },
        "id": "XmbXP4sam-le",
        "outputId": "939cc6a6-5afa-4746-83e4-b3aebd8092e1"
      },
      "execution_count": 11,
      "outputs": [
        {
          "output_type": "execute_result",
          "data": {
            "text/plain": [
              "120"
            ]
          },
          "metadata": {},
          "execution_count": 11
        }
      ]
    },
    {
      "cell_type": "code",
      "source": [
        "from tensorflow import keras\n",
        "from tensorflow.keras import layers\n",
        "\n",
        "inputs = keras.Input(shape=(sequence_length, raw_data.shape[-1]))\n",
        "x = layers.Flatten()(inputs)\n",
        "x = layers.Dense(16, activation=\"relu\")(x)\n",
        "outputs = layers.Dense(1)(x)\n",
        "model = keras.Model(inputs, outputs)\n",
        "\n",
        "callbacks = [\n",
        "    keras.callbacks.ModelCheckpoint(\"jena_dense.keras\",\n",
        "                                    save_best_only=True)\n",
        "]\n",
        "model.compile(optimizer=\"rmsprop\", loss=\"mse\", metrics=[\"mae\"])\n",
        "history = model.fit(train_dataset,\n",
        "                    epochs=10,\n",
        "                    validation_data=val_dataset,\n",
        "                    callbacks=callbacks)\n",
        "\n",
        "model = keras.models.load_model(\"jena_dense.keras\")\n",
        "print(f\"테스트 MAE: {model.evaluate(test_dataset)[1]:.2f}\")"
      ],
      "metadata": {
        "colab": {
          "base_uri": "https://localhost:8080/"
        },
        "id": "7MUx319oSas8",
        "outputId": "7e10fe70-06b9-4823-ed18-70cb7b97198b"
      },
      "execution_count": 12,
      "outputs": [
        {
          "output_type": "stream",
          "name": "stdout",
          "text": [
            "Epoch 1/10\n",
            "819/819 [==============================] - 26s 29ms/step - loss: 17.9458 - mae: 3.2499 - val_loss: 13.3322 - val_mae: 2.8631\n",
            "Epoch 2/10\n",
            "819/819 [==============================] - 24s 29ms/step - loss: 11.0146 - mae: 2.6096 - val_loss: 11.6899 - val_mae: 2.7134\n",
            "Epoch 3/10\n",
            "819/819 [==============================] - 25s 31ms/step - loss: 9.9736 - mae: 2.4818 - val_loss: 10.7953 - val_mae: 2.6137\n",
            "Epoch 4/10\n",
            "819/819 [==============================] - 24s 29ms/step - loss: 9.3157 - mae: 2.3975 - val_loss: 11.0122 - val_mae: 2.6192\n",
            "Epoch 5/10\n",
            "819/819 [==============================] - 23s 28ms/step - loss: 8.8119 - mae: 2.3335 - val_loss: 11.1991 - val_mae: 2.6400\n",
            "Epoch 6/10\n",
            "819/819 [==============================] - 22s 27ms/step - loss: 8.4399 - mae: 2.2826 - val_loss: 11.8624 - val_mae: 2.7163\n",
            "Epoch 7/10\n",
            "819/819 [==============================] - 23s 27ms/step - loss: 8.1186 - mae: 2.2420 - val_loss: 12.1396 - val_mae: 2.7364\n",
            "Epoch 8/10\n",
            "819/819 [==============================] - 22s 27ms/step - loss: 7.8273 - mae: 2.2028 - val_loss: 10.9941 - val_mae: 2.6053\n",
            "Epoch 9/10\n",
            "819/819 [==============================] - 23s 28ms/step - loss: 7.6088 - mae: 2.1714 - val_loss: 11.3487 - val_mae: 2.6508\n",
            "Epoch 10/10\n",
            "819/819 [==============================] - 24s 29ms/step - loss: 7.4216 - mae: 2.1456 - val_loss: 13.2877 - val_mae: 2.8706\n",
            "405/405 [==============================] - 8s 19ms/step - loss: 11.2655 - mae: 2.6397\n",
            "테스트 MAE: 2.64\n"
          ]
        }
      ]
    },
    {
      "cell_type": "code",
      "source": [
        "import matplotlib.pyplot as plt\n",
        "loss = history.history[\"mae\"]\n",
        "val_loss = history.history[\"val_mae\"]\n",
        "epochs = range(1, len(loss) + 1)\n",
        "plt.figure()\n",
        "plt.plot(epochs, loss, \"bo\", label=\"Training MAE\")\n",
        "plt.plot(epochs, val_loss, \"b\", label=\"Validation MAE\")\n",
        "plt.title(\"Training and validation MAE\")\n",
        "plt.legend()\n",
        "plt.show()"
      ],
      "metadata": {
        "colab": {
          "base_uri": "https://localhost:8080/",
          "height": 281
        },
        "id": "HZFZiMwMNPRR",
        "outputId": "bcd12907-8b29-4dcc-8a5a-46566d8c1709"
      },
      "execution_count": 14,
      "outputs": [
        {
          "output_type": "display_data",
          "data": {
            "text/plain": [
              "<Figure size 432x288 with 1 Axes>"
            ],
            "image/png": "[encoded data removed]"
          },
          "metadata": {
            "needs_background": "light"
          }
        }
      ]
    },
    {
      "cell_type": "markdown",
      "source": [
        "## 스케일링 적용"
      ],
      "metadata": {
        "id": "o9le67y6UrqD"
      }
    },
    {
      "cell_type": "markdown",
      "source": [
        "StandardScaler, MinMaxScaler와 같은 Scaler 객체를 이용해서 데이터의 스케일링 변환 시에는\n",
        "\n",
        "fit(), transform(), fit_transform()을 이용한다. \n",
        "\n",
        "​\n",
        "\n",
        "fit()은 데이터 변환을 위한 기준 정보를 설정을 적용하고\n",
        "\n",
        "transform()은 이렇게 설정된 정보를 이용해서 데이터를 변환한다.\n",
        "\n",
        "fit_transform()은 fit()과 transform()을 한 번에 적용하는 기능을 수행한다."
      ],
      "metadata": {
        "id": "XuMSdzHjV32K"
      }
    },
    {
      "cell_type": "code",
      "source": [
        "from sklearn.preprocessing import MinMaxScaler\n",
        "import numpy as np\n",
        "\n",
        "train_array = np.arange(0,11).reshape(-1,1)\n",
        "test_array = np.arange(0,6).reshape(-1,1)\n",
        "\n",
        "scaler = MinMaxScaler()\n",
        "scaler.fit(train_array)\n",
        "train_scaled = scaler.transform(train_array)\n",
        "\n",
        "print('원본 train_array 데이터 : ',np.round(train_array.reshape(-1),2))\n",
        "print('Scaled train_array 데이터 : ',np.round(train_scaled.reshape(-1),2))"
      ],
      "metadata": {
        "colab": {
          "base_uri": "https://localhost:8080/"
        },
        "id": "db8NYa2USlnl",
        "outputId": "73d58d60-1292-4827-dac0-f2e51b6fea35"
      },
      "execution_count": null,
      "outputs": [
        {
          "output_type": "stream",
          "name": "stdout",
          "text": [
            "원본 train_array 데이터 :  [ 0  1  2  3  4  5  6  7  8  9 10]\n",
            "Scaled train_array 데이터 :  [0.  0.1 0.2 0.3 0.4 0.5 0.6 0.7 0.8 0.9 1. ]\n"
          ]
        }
      ]
    },
    {
      "cell_type": "markdown",
      "source": [
        "학습 데이터는 0~10까지 가지는 이차원 데이터이다.\n",
        "\n",
        "scaler의 fit, transform은 2차원 이상 데이터에만 가능하기에 reshape(-1,1)로 해줘야 한다.\n",
        "\n",
        "​\n",
        "\n",
        "학습 데이터에 MinMaxScaler를 적용하면 최솟값 0, 최댓값 10이기에 1/10 Scale이 적용된다."
      ],
      "metadata": {
        "id": "319nPlogVhwz"
      }
    },
    {
      "cell_type": "code",
      "source": [
        "scaler.fit(test_array)\n",
        "test_scaled = scaler.transform(test_array)\n",
        "\n",
        "print('원본 test_array 데이터 : ',np.round(test_array.reshape(-1),2))\n",
        "print('Scaled test_array 데이터 : ',np.round(test_scaled.reshape(-1),2))"
      ],
      "metadata": {
        "colab": {
          "base_uri": "https://localhost:8080/"
        },
        "id": "k_JvZJHFTxbZ",
        "outputId": "ed1a343f-343e-4d7c-c9be-13d44dbe308b"
      },
      "execution_count": null,
      "outputs": [
        {
          "output_type": "stream",
          "name": "stdout",
          "text": [
            "원본 test_array 데이터 :  [0 1 2 3 4 5]\n",
            "Scaled test_array 데이터 :  [0.  0.2 0.4 0.6 0.8 1. ]\n"
          ]
        }
      ]
    },
    {
      "cell_type": "markdown",
      "source": [
        "이번엔 testdata로 fit을 하고 transform 한 결과를 본다. 테스트 데이터는 최솟값 0 최댓값 5이기에 1/5 스케일이 적용된다.\n",
        "\n",
        "​\n",
        "\n",
        "이렇게 되면 학습 데이터와 테스트 데이터의 서로 다른 원본 값이 동일한 값으로 변환되는 결과를 초래한다.\n",
        "\n",
        "머신러닝 모델은 학습 데이터를 기반으로 학습되기 때문에 반드시 테스트 데이터는 학습 데이터의 스케일링 기준에 따라야 한다. 따라서 테스트 데이터에 다시 fit을 적용해서는 안 되고 학습 데이터로 이미 fit()이 적용된 Scaler 객체를 이용해 transform()으로 변환해야 한다."
      ],
      "metadata": {
        "id": "FTjL8UswVmaa"
      }
    },
    {
      "cell_type": "code",
      "source": [
        "train_array = np.arange(0,11).reshape(-1,1)\n",
        "test_array = np.arange(0,6).reshape(-1,1)\n",
        "\n",
        "scaler = MinMaxScaler()\n",
        "scaler.fit(train_array)\n",
        "test_scaled = scaler.transform(test_array)\n",
        "\n",
        "print('원본 test_array 데이터 : ',np.round(test_array.reshape(-1),2))\n",
        "print('Scaled test_array 데이터 : ',np.round(test_scaled.reshape(-1),2))"
      ],
      "metadata": {
        "colab": {
          "base_uri": "https://localhost:8080/"
        },
        "id": "Hj1Pli0HT4Xi",
        "outputId": "71e583d8-6b85-4921-8095-b0c76548e7d0"
      },
      "execution_count": null,
      "outputs": [
        {
          "output_type": "stream",
          "name": "stdout",
          "text": [
            "원본 test_array 데이터 :  [0 1 2 3 4 5]\n",
            "Scaled test_array 데이터 :  [0.  0.1 0.2 0.3 0.4 0.5]\n"
          ]
        }
      ]
    },
    {
      "cell_type": "markdown",
      "source": [
        "test 데이터도 1/10 스케일이 적용된 걸 볼 수 있다.\n",
        "\n",
        "​\n",
        "\n",
        "fit_transform()을 적용할 때도 주의해야 한다. fit(), transform()을 순차적으로 수행하기에 학습 데이터에는 상관없지만 테스트 데이터에는 절대로 사용해서는 안 된다. 테스트 데이터에는 transform()만 적용하면 된다.\n",
        "\n",
        "​"
      ],
      "metadata": {
        "id": "GN65lUrSVrqZ"
      }
    },
    {
      "cell_type": "markdown",
      "source": [
        "정리\n",
        "\n",
        "학습 데이터와 테스트 데이터에 fit()과 transform()을 적용할 때 주의 사항이 발생하기에\n",
        "\n",
        "학습과 테스트 데이터 세트로 분리하기 전에 먼저 전체 데이터 세트에 스케일링을 적용한 뒤 학습과 테스트 데이터 세트로 분리하는 것이 더 좋다.\n",
        "\n",
        "​\n",
        "\n",
        "1. 가능하다면 전체 데이터에 스케일링 변환을 적용한 뒤 학습과 테스트 데이터로 분리\n",
        "\n",
        "2. 1이 안 되면 테스트 변환 시에는 fit()이나 fit_transform()을 적용하지 않고 학습 데이터로 이미 fit() 된 Scaler 객체를 이용해 transform()으로 변환한다."
      ],
      "metadata": {
        "id": "ZryqPtC-VuWB"
      }
    },
    {
      "cell_type": "markdown",
      "source": [
        "[과제] 1D 합성곱 모델\n",
        "\n"
      ],
      "metadata": {
        "id": "-UPzY7blT_KS"
      }
    },
    {
      "cell_type": "code",
      "source": [
        "inputs = keras.Input(shape=(sequence_length, raw_data.shape[-1]))\n",
        "x = layers.Conv1D(8, 24, activation=\"relu\")(inputs)\n",
        "x = layers.MaxPooling1D(2)(x)\n",
        "x = layers.Conv1D(8, 12, activation=\"relu\")(x)\n",
        "x = layers.MaxPooling1D(2)(x)\n",
        "x = layers.Conv1D(8, 6, activation=\"relu\")(x)\n",
        "x = layers.GlobalAveragePooling1D()(x)\n",
        "outputs = layers.Dense(1)(x)\n",
        "model = keras.Model(inputs, outputs)\n",
        "\n",
        "callbacks = [\n",
        "    keras.callbacks.ModelCheckpoint(\"jena_conv.keras\",\n",
        "                                    save_best_only=True)\n",
        "]\n",
        "model.compile(optimizer=\"rmsprop\", loss=\"mse\", metrics=[\"mae\"])\n",
        "history = model.fit(train_dataset,\n",
        "                    epochs=10,\n",
        "                    validation_data=val_dataset,\n",
        "                    callbacks=callbacks)\n",
        "\n",
        "model = keras.models.load_model(\"jena_conv.keras\")\n",
        "print(f\"테스트 MAE: {model.evaluate(test_dataset)[1]:.2f}\")"
      ],
      "metadata": {
        "colab": {
          "base_uri": "https://localhost:8080/"
        },
        "id": "veu7rTm-MR0g",
        "outputId": "6c433729-a855-41bf-bb1a-63517da5545e"
      },
      "execution_count": 13,
      "outputs": [
        {
          "output_type": "stream",
          "name": "stdout",
          "text": [
            "Epoch 1/10\n",
            "819/819 [==============================] - 30s 28ms/step - loss: 20.3251 - mae: 3.5267 - val_loss: 15.6389 - val_mae: 3.1092\n",
            "Epoch 2/10\n",
            "819/819 [==============================] - 24s 29ms/step - loss: 14.7657 - mae: 3.0559 - val_loss: 14.5200 - val_mae: 3.0147\n",
            "Epoch 3/10\n",
            "819/819 [==============================] - 24s 29ms/step - loss: 13.7079 - mae: 2.9421 - val_loss: 21.8335 - val_mae: 3.7509\n",
            "Epoch 4/10\n",
            "819/819 [==============================] - 23s 28ms/step - loss: 13.0461 - mae: 2.8673 - val_loss: 17.3900 - val_mae: 3.2930\n",
            "Epoch 5/10\n",
            "819/819 [==============================] - 24s 29ms/step - loss: 12.5509 - mae: 2.8111 - val_loss: 16.6219 - val_mae: 3.1831\n",
            "Epoch 6/10\n",
            "819/819 [==============================] - 22s 27ms/step - loss: 12.1624 - mae: 2.7663 - val_loss: 15.5699 - val_mae: 3.0846\n",
            "Epoch 7/10\n",
            "819/819 [==============================] - 24s 30ms/step - loss: 11.8115 - mae: 2.7223 - val_loss: 17.2182 - val_mae: 3.3076\n",
            "Epoch 8/10\n",
            "819/819 [==============================] - 22s 27ms/step - loss: 11.4880 - mae: 2.6853 - val_loss: 16.6264 - val_mae: 3.1797\n",
            "Epoch 9/10\n",
            "819/819 [==============================] - 22s 27ms/step - loss: 11.1541 - mae: 2.6460 - val_loss: 14.9225 - val_mae: 3.0376\n",
            "Epoch 10/10\n",
            "819/819 [==============================] - 23s 28ms/step - loss: 10.8993 - mae: 2.6143 - val_loss: 16.4295 - val_mae: 3.1543\n",
            "405/405 [==============================] - 7s 18ms/step - loss: 16.3509 - mae: 3.2263\n",
            "테스트 MAE: 3.23\n"
          ]
        }
      ]
    },
    {
      "cell_type": "code",
      "source": [
        "loss = history.history[\"mae\"]\n",
        "val_loss = history.history[\"val_mae\"]\n",
        "epochs = range(1, len(loss) + 1)\n",
        "plt.figure()\n",
        "plt.plot(epochs, loss, \"bo\", label=\"Training MAE\")\n",
        "plt.plot(epochs, val_loss, \"b\", label=\"Validation MAE\")\n",
        "plt.title(\"Training and validation MAE\")\n",
        "plt.legend()\n",
        "plt.show()"
      ],
      "metadata": {
        "colab": {
          "base_uri": "https://localhost:8080/",
          "height": 281
        },
        "id": "BIlbt1GHMeiP",
        "outputId": "c781289f-3f62-491f-c54a-d17e3e83e911"
      },
      "execution_count": 15,
      "outputs": [
        {
          "output_type": "display_data",
          "data": {
            "text/plain": [
              "<Figure size 432x288 with 1 Axes>"
            ],
            "image/png": "[encoded data removed]"
          },
          "metadata": {
            "needs_background": "light"
          }
        }
      ]
    },
    {
      "cell_type": "markdown",
      "source": [
        "[과제] LSTM 기반 모델"
      ],
      "metadata": {
        "id": "lLOVr1HeV1L2"
      }
    },
    {
      "cell_type": "code",
      "source": [
        "inputs = keras.Input(shape=(sequence_length, raw_data.shape[-1]))\n",
        "x = layers.LSTM(16)(inputs)\n",
        "outputs = layers.Dense(1)(x)\n",
        "model = keras.Model(inputs, outputs)\n",
        "\n",
        "callbacks = [\n",
        "    keras.callbacks.ModelCheckpoint(\"jena_lstm.keras\",\n",
        "                                    save_best_only=True)\n",
        "]\n",
        "model.compile(optimizer=\"rmsprop\", loss=\"mse\", metrics=[\"mae\"])\n",
        "history = model.fit(train_dataset,\n",
        "                    epochs=10,\n",
        "                    validation_data=val_dataset,\n",
        "                    callbacks=callbacks)\n",
        "\n",
        "model = keras.models.load_model(\"jena_lstm.keras\")\n",
        "print(f\"테스트 MAE: {model.evaluate(test_dataset)[1]:.2f}\")"
      ],
      "metadata": {
        "colab": {
          "base_uri": "https://localhost:8080/"
        },
        "id": "EYMlqh0BMfjY",
        "outputId": "cc8880b9-3171-44b1-cfd1-301a19fd5589"
      },
      "execution_count": 16,
      "outputs": [
        {
          "output_type": "stream",
          "name": "stdout",
          "text": [
            "Epoch 1/10\n",
            "819/819 [==============================] - 27s 30ms/step - loss: 45.5234 - mae: 4.9380 - val_loss: 13.4359 - val_mae: 2.7736\n",
            "Epoch 2/10\n",
            "819/819 [==============================] - 24s 29ms/step - loss: 11.3830 - mae: 2.6220 - val_loss: 9.6779 - val_mae: 2.4315\n",
            "Epoch 3/10\n",
            "819/819 [==============================] - 24s 29ms/step - loss: 10.1129 - mae: 2.4864 - val_loss: 9.7633 - val_mae: 2.4407\n",
            "Epoch 4/10\n",
            "819/819 [==============================] - 24s 29ms/step - loss: 9.5780 - mae: 2.4174 - val_loss: 10.1924 - val_mae: 2.4615\n",
            "Epoch 5/10\n",
            "819/819 [==============================] - 25s 30ms/step - loss: 9.2753 - mae: 2.3751 - val_loss: 9.6530 - val_mae: 2.4219\n",
            "Epoch 6/10\n",
            "819/819 [==============================] - 24s 29ms/step - loss: 9.0690 - mae: 2.3493 - val_loss: 9.7492 - val_mae: 2.4294\n",
            "Epoch 7/10\n",
            "819/819 [==============================] - 24s 29ms/step - loss: 8.9386 - mae: 2.3294 - val_loss: 9.7263 - val_mae: 2.4255\n",
            "Epoch 8/10\n",
            "819/819 [==============================] - 24s 29ms/step - loss: 8.7883 - mae: 2.3083 - val_loss: 9.6647 - val_mae: 2.4118\n",
            "Epoch 9/10\n",
            "819/819 [==============================] - 24s 29ms/step - loss: 8.6793 - mae: 2.2928 - val_loss: 9.8839 - val_mae: 2.4336\n",
            "Epoch 10/10\n",
            "819/819 [==============================] - 24s 29ms/step - loss: 8.5530 - mae: 2.2740 - val_loss: 9.9143 - val_mae: 2.4431\n",
            "405/405 [==============================] - 8s 18ms/step - loss: 10.8964 - mae: 2.5966\n",
            "테스트 MAE: 2.60\n"
          ]
        }
      ]
    },
    {
      "cell_type": "code",
      "source": [
        "loss = history.history[\"mae\"]\n",
        "val_loss = history.history[\"val_mae\"]\n",
        "epochs = range(1, len(loss) + 1)\n",
        "plt.figure()\n",
        "plt.plot(epochs, loss, \"bo\", label=\"Training MAE\")\n",
        "plt.plot(epochs, val_loss, \"b\", label=\"Validation MAE\")\n",
        "plt.title(\"Training and validation MAE\")\n",
        "plt.legend()\n",
        "plt.show()"
      ],
      "metadata": {
        "colab": {
          "base_uri": "https://localhost:8080/",
          "height": 281
        },
        "id": "unfe3wsnMfm_",
        "outputId": "ccfb7346-990b-4ae8-ea4f-f45059eb85fd"
      },
      "execution_count": 17,
      "outputs": [
        {
          "output_type": "display_data",
          "data": {
            "text/plain": [
              "<Figure size 432x288 with 1 Axes>"
            ],
            "image/png": "[encoded data removed]"
          },
          "metadata": {
            "needs_background": "light"
          }
        }
      ]
    },
    {
      "cell_type": "markdown",
      "source": [
        "[과제] RNN 기반 모델(스태킹)"
      ],
      "metadata": {
        "id": "nJQ_RMz_L8Zv"
      }
    },
    {
      "cell_type": "code",
      "source": [
        "inputs = keras.Input(shape=(sequence_length, raw_data.shape[-1]))\n",
        "x = layers.SimpleRNN(16, return_sequences=True)(inputs)\n",
        "x = layers.SimpleRNN(16, return_sequences=True)(x)\n",
        "x = layers.SimpleRNN(16)(x)\n",
        "outputs = layers.Dense(1)(x)\n",
        "model = keras.Model(inputs,outputs)\n",
        "\n",
        "callbacks = [\n",
        "    keras.callbacks.ModelCheckpoint(\"jena_lstm.keras\",\n",
        "                                    save_best_only=True)\n",
        "]\n",
        "model.compile(optimizer=\"rmsprop\", loss=\"mse\", metrics=[\"mae\"])\n",
        "history = model.fit(train_dataset,\n",
        "                    epochs=50,\n",
        "                    validation_data=val_dataset,\n",
        "                    callbacks=callbacks)\n",
        "\n",
        "model = keras.models.load_model(\"jena_lstm.keras\")\n",
        "print(f\"테스트 MAE: {model.evaluate(test_dataset)[1]:.2f}\")"
      ],
      "metadata": {
        "id": "_ImSMCjVQTlf"
      },
      "execution_count": null,
      "outputs": []
    },
    {
      "cell_type": "markdown",
      "source": [
        "[과제] 드롭아웃 규제를 적용한 LSTM 모델"
      ],
      "metadata": {
        "id": "Xx8KeviyL8kH"
      }
    },
    {
      "cell_type": "code",
      "source": [
        "inputs = keras.Input(shape=(sequence_length, raw_data.shape[-1]))\n",
        "# 훈련 속도를 놓이기 위해 순환 드롭아웃을 제외합니다.\n",
        "#x = layers.LSTM(32, recurrent_dropout=0.25)(inputs)\n",
        "x = layers.LSTM(32)(inputs)\n",
        "x = layers.Dropout(0.5)(x)\n",
        "outputs = layers.Dense(1)(x)\n",
        "model = keras.Model(inputs, outputs)\n",
        "\n",
        "callbacks = [\n",
        "    keras.callbacks.ModelCheckpoint(\"jena_lstm_dropout.keras\",\n",
        "                                    save_best_only=True)\n",
        "]\n",
        "model.compile(optimizer=\"rmsprop\", loss=\"mse\", metrics=[\"mae\"])\n",
        "history = model.fit(train_dataset,\n",
        "                    epochs=50,\n",
        "                    validation_data=val_dataset,\n",
        "                    callbacks=callbacks)"
      ],
      "metadata": {
        "colab": {
          "base_uri": "https://localhost:8080/"
        },
        "id": "wRH3azEEMgrx",
        "outputId": "d610cdec-58c9-47ab-8850-f7d16fd87d42"
      },
      "execution_count": 24,
      "outputs": [
        {
          "output_type": "stream",
          "name": "stdout",
          "text": [
            "Epoch 1/50\n",
            "819/819 [==============================] - 26s 30ms/step - loss: 28.0783 - mae: 3.9041 - val_loss: 9.8727 - val_mae: 2.4256\n",
            "Epoch 2/50\n",
            "819/819 [==============================] - 25s 30ms/step - loss: 14.3081 - mae: 2.9296 - val_loss: 9.5773 - val_mae: 2.3882\n",
            "Epoch 3/50\n",
            "819/819 [==============================] - 24s 30ms/step - loss: 13.3836 - mae: 2.8291 - val_loss: 9.7254 - val_mae: 2.4215\n",
            "Epoch 4/50\n",
            "819/819 [==============================] - 26s 31ms/step - loss: 12.6561 - mae: 2.7548 - val_loss: 9.4286 - val_mae: 2.3969\n",
            "Epoch 5/50\n",
            "819/819 [==============================] - 25s 30ms/step - loss: 12.1966 - mae: 2.7002 - val_loss: 9.5601 - val_mae: 2.4194\n",
            "Epoch 6/50\n",
            "819/819 [==============================] - 25s 30ms/step - loss: 11.7881 - mae: 2.6540 - val_loss: 9.7833 - val_mae: 2.4453\n",
            "Epoch 7/50\n",
            "819/819 [==============================] - 25s 30ms/step - loss: 11.3548 - mae: 2.6017 - val_loss: 9.7081 - val_mae: 2.4341\n",
            "Epoch 8/50\n",
            "819/819 [==============================] - 24s 30ms/step - loss: 11.1023 - mae: 2.5754 - val_loss: 9.4754 - val_mae: 2.3977\n",
            "Epoch 9/50\n",
            "819/819 [==============================] - 24s 30ms/step - loss: 10.8081 - mae: 2.5381 - val_loss: 9.5961 - val_mae: 2.4179\n",
            "Epoch 10/50\n",
            "819/819 [==============================] - 24s 30ms/step - loss: 10.6275 - mae: 2.5153 - val_loss: 9.4757 - val_mae: 2.3973\n",
            "Epoch 11/50\n",
            "819/819 [==============================] - 25s 31ms/step - loss: 10.4089 - mae: 2.4918 - val_loss: 9.4016 - val_mae: 2.3912\n",
            "Epoch 12/50\n",
            "819/819 [==============================] - 24s 29ms/step - loss: 10.1968 - mae: 2.4650 - val_loss: 9.7750 - val_mae: 2.4259\n",
            "Epoch 13/50\n",
            "819/819 [==============================] - 24s 29ms/step - loss: 10.0272 - mae: 2.4433 - val_loss: 9.9501 - val_mae: 2.4735\n",
            "Epoch 14/50\n",
            "819/819 [==============================] - 25s 30ms/step - loss: 9.8631 - mae: 2.4198 - val_loss: 9.5967 - val_mae: 2.4084\n",
            "Epoch 15/50\n",
            "819/819 [==============================] - 24s 29ms/step - loss: 9.7377 - mae: 2.4095 - val_loss: 9.6311 - val_mae: 2.4237\n",
            "Epoch 16/50\n",
            "819/819 [==============================] - 25s 30ms/step - loss: 9.5976 - mae: 2.3877 - val_loss: 10.0619 - val_mae: 2.4776\n",
            "Epoch 17/50\n",
            "819/819 [==============================] - 25s 30ms/step - loss: 9.3818 - mae: 2.3680 - val_loss: 9.9276 - val_mae: 2.4579\n",
            "Epoch 18/50\n",
            "819/819 [==============================] - 25s 30ms/step - loss: 9.2640 - mae: 2.3512 - val_loss: 9.9897 - val_mae: 2.4706\n",
            "Epoch 19/50\n",
            "819/819 [==============================] - 24s 30ms/step - loss: 9.1825 - mae: 2.3366 - val_loss: 10.2793 - val_mae: 2.5068\n",
            "Epoch 20/50\n",
            "819/819 [==============================] - 24s 30ms/step - loss: 9.0486 - mae: 2.3217 - val_loss: 10.8782 - val_mae: 2.5784\n",
            "Epoch 21/50\n",
            "819/819 [==============================] - 25s 30ms/step - loss: 8.9553 - mae: 2.3091 - val_loss: 11.2546 - val_mae: 2.6321\n",
            "Epoch 22/50\n",
            "819/819 [==============================] - 24s 29ms/step - loss: 8.8909 - mae: 2.2972 - val_loss: 10.1729 - val_mae: 2.5051\n",
            "Epoch 23/50\n",
            "819/819 [==============================] - 24s 29ms/step - loss: 8.7395 - mae: 2.2798 - val_loss: 11.1141 - val_mae: 2.6070\n",
            "Epoch 24/50\n",
            "819/819 [==============================] - 25s 30ms/step - loss: 8.6261 - mae: 2.2673 - val_loss: 10.4524 - val_mae: 2.5331\n",
            "Epoch 25/50\n",
            "819/819 [==============================] - 24s 29ms/step - loss: 8.6001 - mae: 2.2636 - val_loss: 10.6046 - val_mae: 2.5591\n",
            "Epoch 26/50\n",
            "819/819 [==============================] - 24s 30ms/step - loss: 8.5530 - mae: 2.2557 - val_loss: 10.9145 - val_mae: 2.5858\n",
            "Epoch 27/50\n",
            "819/819 [==============================] - 24s 30ms/step - loss: 8.4172 - mae: 2.2382 - val_loss: 10.4750 - val_mae: 2.5350\n",
            "Epoch 28/50\n",
            "819/819 [==============================] - 24s 30ms/step - loss: 8.3709 - mae: 2.2324 - val_loss: 11.0651 - val_mae: 2.6055\n",
            "Epoch 29/50\n",
            "819/819 [==============================] - 24s 29ms/step - loss: 8.2330 - mae: 2.2146 - val_loss: 10.9527 - val_mae: 2.5986\n",
            "Epoch 30/50\n",
            "819/819 [==============================] - 25s 30ms/step - loss: 8.2073 - mae: 2.2119 - val_loss: 11.5773 - val_mae: 2.6633\n",
            "Epoch 31/50\n",
            "819/819 [==============================] - 25s 30ms/step - loss: 8.1690 - mae: 2.2015 - val_loss: 11.6567 - val_mae: 2.6734\n",
            "Epoch 32/50\n",
            "819/819 [==============================] - 24s 29ms/step - loss: 8.1216 - mae: 2.1993 - val_loss: 11.6228 - val_mae: 2.6674\n",
            "Epoch 33/50\n",
            "819/819 [==============================] - 24s 30ms/step - loss: 8.0157 - mae: 2.1851 - val_loss: 12.2030 - val_mae: 2.7213\n",
            "Epoch 34/50\n",
            "819/819 [==============================] - 24s 30ms/step - loss: 8.0047 - mae: 2.1827 - val_loss: 11.3153 - val_mae: 2.6307\n",
            "Epoch 35/50\n",
            "819/819 [==============================] - 24s 29ms/step - loss: 7.8902 - mae: 2.1685 - val_loss: 11.6873 - val_mae: 2.6764\n",
            "Epoch 36/50\n",
            "819/819 [==============================] - 24s 30ms/step - loss: 7.8215 - mae: 2.1585 - val_loss: 11.8457 - val_mae: 2.6979\n",
            "Epoch 37/50\n",
            "819/819 [==============================] - 24s 30ms/step - loss: 7.8032 - mae: 2.1550 - val_loss: 12.0345 - val_mae: 2.7090\n",
            "Epoch 38/50\n",
            "819/819 [==============================] - 25s 30ms/step - loss: 7.8080 - mae: 2.1563 - val_loss: 11.8049 - val_mae: 2.6792\n",
            "Epoch 39/50\n",
            "819/819 [==============================] - 24s 29ms/step - loss: 7.7795 - mae: 2.1513 - val_loss: 12.1143 - val_mae: 2.7120\n",
            "Epoch 40/50\n",
            "819/819 [==============================] - 25s 31ms/step - loss: 7.6586 - mae: 2.1345 - val_loss: 11.6439 - val_mae: 2.6624\n",
            "Epoch 41/50\n",
            "819/819 [==============================] - 29s 35ms/step - loss: 7.6432 - mae: 2.1328 - val_loss: 11.3346 - val_mae: 2.6426\n",
            "Epoch 42/50\n",
            "819/819 [==============================] - 26s 32ms/step - loss: 7.6355 - mae: 2.1319 - val_loss: 11.7024 - val_mae: 2.6836\n",
            "Epoch 43/50\n",
            "819/819 [==============================] - 26s 32ms/step - loss: 7.5408 - mae: 2.1208 - val_loss: 11.5500 - val_mae: 2.6429\n",
            "Epoch 44/50\n",
            "819/819 [==============================] - 25s 30ms/step - loss: 7.5305 - mae: 2.1154 - val_loss: 12.1725 - val_mae: 2.7134\n",
            "Epoch 45/50\n",
            "819/819 [==============================] - 24s 29ms/step - loss: 7.4773 - mae: 2.1105 - val_loss: 12.1316 - val_mae: 2.7140\n",
            "Epoch 46/50\n",
            "819/819 [==============================] - 24s 30ms/step - loss: 7.4836 - mae: 2.1137 - val_loss: 11.5880 - val_mae: 2.6530\n",
            "Epoch 47/50\n",
            "819/819 [==============================] - 25s 30ms/step - loss: 7.4689 - mae: 2.1053 - val_loss: 12.1839 - val_mae: 2.7374\n",
            "Epoch 48/50\n",
            "819/819 [==============================] - 24s 29ms/step - loss: 7.3893 - mae: 2.0968 - val_loss: 12.6829 - val_mae: 2.7756\n",
            "Epoch 49/50\n",
            "819/819 [==============================] - 25s 30ms/step - loss: 7.2768 - mae: 2.0826 - val_loss: 12.4507 - val_mae: 2.7470\n",
            "Epoch 50/50\n",
            "819/819 [==============================] - 24s 30ms/step - loss: 7.3270 - mae: 2.0900 - val_loss: 11.8702 - val_mae: 2.6905\n"
          ]
        }
      ]
    },
    {
      "cell_type": "code",
      "source": [
        "loss = history.history[\"mae\"]\n",
        "val_loss = history.history[\"val_mae\"]\n",
        "epochs = range(1, len(loss) + 1)\n",
        "plt.figure()\n",
        "plt.plot(epochs, loss, \"bo\", label=\"Training MAE\")\n",
        "plt.plot(epochs, val_loss, \"b\", label=\"Validation MAE\")\n",
        "plt.title(\"Training and validation MAE\")\n",
        "plt.legend()\n",
        "plt.show()"
      ],
      "metadata": {
        "id": "iLjim9exMguv"
      },
      "execution_count": null,
      "outputs": []
    },
    {
      "cell_type": "markdown",
      "source": [
        "[과제] 드롭아웃 규제와 스태킹을 적용한 GRU 모델\n",
        "GRU모델은 LSTM을 개선한 모델이다. LSTM보다 파라미터가 더욱적어 연산비용도 적고,모델도 간단해 학습속도가 더빠르지만 비슷한 성능을 내는 모델이다"
      ],
      "metadata": {
        "id": "qCNaPGwAL8vX"
      }
    },
    {
      "cell_type": "code",
      "source": [
        "inputs = keras.Input(shape=(sequence_length, raw_data.shape[-1]))\n",
        "# 훈련 속도를 놓이기 위해 순환 드롭아웃을 제외합니다.\n",
        "# x = layers.GRU(32, recurrent_dropout=0.5, return_sequences=True)(inputs)\n",
        "# x = layers.GRU(32, recurrent_dropout=0.5)(x)\n",
        "x = layers.GRU(32, return_sequences=True)(inputs)\n",
        "x = layers.GRU(32)(x)\n",
        "x = layers.Dropout(0.5)(x)\n",
        "outputs = layers.Dense(1)(x)\n",
        "model = keras.Model(inputs, outputs)\n",
        "\n",
        "callbacks = [\n",
        "    keras.callbacks.ModelCheckpoint(\"jena_stacked_gru_dropout.keras\",\n",
        "                                    save_best_only=True)\n",
        "]\n",
        "model.compile(optimizer=\"rmsprop\", loss=\"mse\", metrics=[\"mae\"])\n",
        "history = model.fit(train_dataset,\n",
        "                    epochs=50,\n",
        "                    validation_data=val_dataset,\n",
        "                    callbacks=callbacks)\n",
        "model = keras.models.load_model(\"jena_stacked_gru_dropout.keras\")\n",
        "print(f\"테스트 MAE: {model.evaluate(test_dataset)[1]:.2f}\")"
      ],
      "metadata": {
        "id": "84Cd8rayMhQ3"
      },
      "execution_count": null,
      "outputs": []
    },
    {
      "cell_type": "code",
      "source": [
        "loss = history.history[\"mae\"]\n",
        "val_loss = history.history[\"val_mae\"]\n",
        "epochs = range(1, len(loss) + 1)\n",
        "plt.figure()\n",
        "plt.plot(epochs, loss, \"bo\", label=\"Training MAE\")\n",
        "plt.plot(epochs, val_loss, \"b\", label=\"Validation MAE\")\n",
        "plt.title(\"Training and validation MAE\")\n",
        "plt.legend()\n",
        "plt.show()"
      ],
      "metadata": {
        "id": "KGxsN8WnMHci"
      },
      "execution_count": null,
      "outputs": []
    }
  ]
}